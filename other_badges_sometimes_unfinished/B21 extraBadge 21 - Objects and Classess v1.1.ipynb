{
 "cells": [
  {
   "cell_type": "markdown",
   "metadata": {},
   "source": [
    "# Objects hold data and do stuff, Classes are just specifications/templates\n",
    "\n",
    "B21 extraBadge 21 - Objects do and know stuff - Classes define objects"
   ]
  },
  {
   "cell_type": "markdown",
   "metadata": {},
   "source": [
    "This week we will start lookng at Classes and Objects. This will be a beginning of a long and beautiful friendship, so do not worry if you do not get it at first.\n",
    "\n",
    "Hint: Change code, and see what happens. Create hypothesis in yoru head and try to test them!\n",
    "\n",
    "Overall this notebook will:\n",
    "\n",
    "- explain the reason why we need classes\n",
    "- show you examples of some classes\n",
    "- highlight the difference between class and object\n",
    "- show you a very complicated piece of code, which you might not yet fully understand, but which you can slowly start untangling."
   ]
  },
  {
   "cell_type": "markdown",
   "metadata": {},
   "source": [
    "## Before Objects"
   ]
  },
  {
   "cell_type": "markdown",
   "metadata": {},
   "source": [
    "### Repeated code"
   ]
  },
  {
   "cell_type": "markdown",
   "metadata": {},
   "source": [
    "Quite often so far we created a lot of simmilar data elements (cities, cards). We used dictionaries to do it, and each of them represented one individual element (a city, a card). We had to describe detail about each element by hand, specify key and value attribute in a dictionary."
   ]
  },
  {
   "cell_type": "code",
   "execution_count": 1,
   "metadata": {},
   "outputs": [
    {
     "name": "stdout",
     "output_type": "stream",
     "text": [
      "[{'name': 'Edinburgh', 'population': 500000, 'area': 264}, {'name': 'Glasgow', 'population': 600000, 'area': 175}, {'name': 'Inverness', 'population': 50000, 'area': 20}]\n"
     ]
    }
   ],
   "source": [
    "cities = [  {\"name\":\"Edinburgh\",  \"population\":500000, \"area\":264},\n",
    "            {\"name\":\"Glasgow\",  \"population\":600000, \"area\":175},\n",
    "            {\"name\":\"Inverness\", \"population\":50000, \"area\":20}\n",
    "         ]\n",
    "print(cities)"
   ]
  },
  {
   "cell_type": "code",
   "execution_count": 2,
   "metadata": {},
   "outputs": [
    {
     "name": "stdout",
     "output_type": "stream",
     "text": [
      "[{'suit': 'Heart', 'rank': '7'}, {'suit': 'Heart', 'rank': '2'}, {'suit': 'Club', 'rank': 'Q'}, {'suit': 'Diamond', 'rank': '7'}, {'suit': 'Diamond', 'rank': '8'}, {'suit': 'Diamond', 'rank': '2'}]\n"
     ]
    }
   ],
   "source": [
    "cards = [{\"suit\":\"Heart\", \"rank\":\"7\"},\n",
    "         {\"suit\":\"Heart\", \"rank\":\"2\"},\n",
    "         {\"suit\":\"Club\", \"rank\":\"Q\"},\n",
    "         {\"suit\":\"Diamond\", \"rank\":\"7\"},\n",
    "         {\"suit\":\"Diamond\", \"rank\":\"8\"},\n",
    "         {\"suit\":\"Diamond\", \"rank\":\"2\"}\n",
    "        ]\n",
    "print(cards)"
   ]
  },
  {
   "cell_type": "markdown",
   "metadata": {},
   "source": [
    "Unfortunately when the number of items increased that led to a lot of:\n",
    "\n",
    "- typing, which leads to typos, missing brackets, comas and syntax erros\n",
    "- copy-paste-and-replace, which leads often to missing a small detail, or forgetting to replace something"
   ]
  },
  {
   "cell_type": "markdown",
   "metadata": {},
   "source": [
    "Remember how we want to keep our code DRY (Don't Repeat Yourself) which means that we do not want to repeat any code without need. And one of the manin benefits of DRY code is that it is **FUTURE PROOF** - it is easy to adjust the code when client requirements change.\n",
    "\n",
    "In the above example, imagine that client requested to rename key ```\"population\"``` with  ```\"people\"``` - we would have to change every key in the definition. In the example above that is 3 times, but in a larger dataset it could be hundreds."
   ]
  },
  {
   "cell_type": "markdown",
   "metadata": {},
   "source": [
    "### (as always) Functions to the rescue"
   ]
  },
  {
   "cell_type": "markdown",
   "metadata": {},
   "source": [
    "But we already know that **FUNCTIONS** are parts of code that we want to reuse. They are capable of taking some variables in (as arguments) and returning a value based on these variables.\n",
    "\n",
    "Imagine we had a function that takes three pieces of data about a city and returns us a dictionary for that city. That function would figure out how to exactly express each city as a data set. In this example it would take values for ```name, population and area``` and return a dictionary with these values and appropriate keys."
   ]
  },
  {
   "cell_type": "code",
   "execution_count": 4,
   "metadata": {},
   "outputs": [
    {
     "name": "stdout",
     "output_type": "stream",
     "text": [
      "{'name': 'Edinburgh', 'population': 500000, 'area': 264}\n"
     ]
    }
   ],
   "source": [
    "def new_city(name, population, area):\n",
    "    return {\"name\":name,  \"population\":population, \"area\":area}\n",
    "\n",
    "city1 = new_city(\"Edinburgh\", 500000, 264)\n",
    "print(city1)\n",
    "\n",
    "# Note: as always, you can call such creator function WHATEVER you want. it could be \n",
    "# def city(name, population, area):\n",
    "# def new_city(name, population, area):\n",
    "# def create_city(name, population, area):\n",
    "# def banana(name, population, area):\n",
    "# but make sure the name is the most meaningful you can (so... maybe not banana())"
   ]
  },
  {
   "cell_type": "markdown",
   "metadata": {},
   "source": [
    "Looking at the above code, what would be the impact of renaming key ```\"population\"``` to  ```\"people\"```? It would require a change in only one place.\n",
    "\n",
    "We can **REFACTOR** (adjust and make better, but without changing what it does) our previous code."
   ]
  },
  {
   "cell_type": "code",
   "execution_count": null,
   "metadata": {},
   "outputs": [],
   "source": [
    "# OLD CODE:\n",
    "# cities = [  {\"name\":\"Edinburgh\",  \"population\":500000, \"area\":264},\n",
    "#                  {\"name\":\"Glasgow\",  \"population\":600000, \"area\":175},\n",
    "#                  {\"name\":\"Inverness\", \"population\":50000, \"area\":20}]\n",
    "\n",
    "\n",
    "def new_city(name, population, area):\n",
    "    return {\n",
    "        \"name\":name, \n",
    "        \"population\":population,\n",
    "        \"area\":area\n",
    "    }\n",
    "\n",
    "cities = [ \n",
    "    new_city(\"Edinburgh\", 500000, 264),\n",
    "    new_city(\"Glasgow\", 600000, 175),\n",
    "    new_city(\"Inverness\", 50000, 20)\n",
    "]\n",
    "\n",
    "print(cities)"
   ]
  },
  {
   "cell_type": "code",
   "execution_count": null,
   "metadata": {},
   "outputs": [],
   "source": [
    "# OLD CODE:\n",
    "# cards = [\n",
    "#          {\"suit\":\"Heart\", \"rank\":\"7\"},\n",
    "#          {\"suit\":\"Heart\", \"rank\":\"2\"},\n",
    "#          {\"suit\":\"Club\", \"rank\":\"Q\"},\n",
    "#          {\"suit\":\"Diamond\", \"rank\":\"7\"},\n",
    "#          {\"suit\":\"Diamond\", \"rank\":\"8\"},\n",
    "#          {\"suit\":\"Diamond\", \"rank\":\"2\"}\n",
    "# ]\n",
    "\n",
    "def new_card(suit,rank):\n",
    "    return {\n",
    "        \"suit\":suit,\n",
    "        \"rank\":rank\n",
    "    }\n",
    "\n",
    "cards = [\n",
    "    new_card(\"Heart\",\"7\"),\n",
    "    new_card(\"Heart\",\"2\"),\n",
    "    new_card(\"Club\",\"Q\"),\n",
    "    new_card(\"Diamond\",\"7\"),\n",
    "    new_card(\"Diamond\",\"8\"),\n",
    "    new_card(\"Diamond\",\"2\")\n",
    "]\n",
    "\n",
    "print(cards)"
   ]
  },
  {
   "cell_type": "markdown",
   "metadata": {},
   "source": [
    "Additional benefit of creating data elements in a function is that we can do some processing. This means that you can use what you know, to calculate extra information. Eg. If you are given person's first and last name, you can deduce their innitials, without the need to also be given those initials separately."
   ]
  },
  {
   "cell_type": "code",
   "execution_count": 7,
   "metadata": {},
   "outputs": [
    {
     "name": "stdout",
     "output_type": "stream",
     "text": [
      "{'name': 'Lucia', 'surname': 'Rodrigues', 'initials': 'LR'}\n"
     ]
    }
   ],
   "source": [
    "def person(name, surname):\n",
    "    initials = f\"{name[0].upper()}{surname[0].upper()}\"\n",
    "    return {\"name\":name,  \"surname\":surname, \"initials\":initials}\n",
    "\n",
    "lucia = person('Lucia', 'Rodrigues')\n",
    "print(lucia)\n",
    "# notice that initials did not have to be explicitly given. They were deduced during creation of the Dict."
   ]
  },
  {
   "cell_type": "markdown",
   "metadata": {},
   "source": [
    "Following on our examples of cities and cards: we could perform some calculation and add an extra item to the dictionary:"
   ]
  },
  {
   "cell_type": "code",
   "execution_count": 8,
   "metadata": {},
   "outputs": [
    {
     "data": {
      "text/plain": [
       "{'name': 'Glasgow', 'population': 600000, 'area': 175, 'density': 3429}"
      ]
     },
     "execution_count": 8,
     "metadata": {},
     "output_type": "execute_result"
    }
   ],
   "source": [
    "def new_city(name, population, area):\n",
    "    density = round(population/area)\n",
    "    return {\"name\":name,  \"population\":population, \"area\":area, \"density\": density}\n",
    "\n",
    "new_city(\"Glasgow\", 600000, 175)"
   ]
  },
  {
   "cell_type": "code",
   "execution_count": 11,
   "metadata": {},
   "outputs": [
    {
     "data": {
      "text/plain": [
       "{'suit': 'Heart', 'rank': '7', 'as_string': '7 of Hearts'}"
      ]
     },
     "execution_count": 11,
     "metadata": {},
     "output_type": "execute_result"
    }
   ],
   "source": [
    "def new_card(suit,rank):\n",
    "    as_string = f\"{rank} of {suit}s\"\n",
    "    \n",
    "    return {\n",
    "        \"suit\":suit,\n",
    "        \"rank\":rank,\n",
    "        \"as_string\":as_string\n",
    "    }\n",
    "\n",
    "new_card(\"Heart\",\"7\")"
   ]
  },
  {
   "cell_type": "markdown",
   "metadata": {},
   "source": [
    "For the curious: **PROGRAMMING PATTERNS** are common programming tricks and practices. They are a collective wisdom that emerged over the history of programming and often agreed good ways to write good code. They are shared between most languages.\n",
    "\n",
    "What you are witnessin above is a simplified verion of a **Factory Pattern** where you write a cuntion that will produce items on demand, given some attributes."
   ]
  },
  {
   "cell_type": "markdown",
   "metadata": {},
   "source": [
    "### Tradeoff: Pre-calculating vs Keeping data up to date"
   ]
  },
  {
   "cell_type": "markdown",
   "metadata": {},
   "source": [
    "Notice that in above examples specifying ```density``` or ```as_string``` will save us having to generate them later on, when we will need these measures/data. But they also come with a negative side-effect:\n",
    "\n",
    "When we change some core data like ```population```, the derived data like ```density``` will have to be updated by hand. What it more we will have to remember to update them (and you cannot trust programmer who comes after you to 'remember' anything like that)."
   ]
  },
  {
   "cell_type": "code",
   "execution_count": null,
   "metadata": {},
   "outputs": [],
   "source": [
    "# if the extra calculations are performed when we create the doctionary...\n",
    "def new_city(name, population, area):\n",
    "    density = round(population/area)\n",
    "    return {\"name\":name,  \"population\":population, \"area\":area, \"density\": density}\n",
    "\n",
    "# density gets calculated when I call the function\n",
    "glasgow = new_city(\"Glasgow\", 600000, 175)\n",
    "print(glasgow[\"density\"])\n",
    "\n",
    "glasgow[\"population\"] = 700000 \n",
    "print(glasgow[\"density\"])\n",
    "# but density DOED NOT GET RE-CALCULATED when we change source data.\n",
    "# notice that density stayed the same- it did not get re-calculated to reflect the new source data"
   ]
  },
  {
   "cell_type": "markdown",
   "metadata": {},
   "source": [
    "In other words: it would be best if we could on-request get derived data (such as density above), so that they reflect the most up-to-date state of original source data."
   ]
  },
  {
   "cell_type": "code",
   "execution_count": null,
   "metadata": {},
   "outputs": [],
   "source": [
    "def new_city(name, population, area):\n",
    "    return {\"name\":name,  \"population\":population, \"area\":area}\n",
    "\n",
    "def city_density(city):\n",
    "    return round(city[\"population\"]/city[\"area\"])\n",
    "\n",
    "glasgow = new_city(\"Glasgow\", 600000, 175)\n",
    "print(city_density(glasgow))\n",
    "\n",
    "glasgow[\"population\"] = 700000 \n",
    "print(city_density(glasgow))\n",
    "# here, because density gets calculated every time it is requested, it always reflects most up to date data"
   ]
  },
  {
   "cell_type": "markdown",
   "metadata": {},
   "source": [
    "### Grouping functionality: values (variables) and behaviours (functions)"
   ]
  },
  {
   "cell_type": "markdown",
   "metadata": {},
   "source": [
    "More and more we will be creating groups of meaningful functionality around a certain thing or concept."
   ]
  },
  {
   "cell_type": "code",
   "execution_count": null,
   "metadata": {},
   "outputs": [],
   "source": [
    "def new_city(name, population, area):\n",
    "    return {\"name\":name,  \"population\":population, \"area\":area}\n",
    "    \n",
    "def city_density(city):\n",
    "    return round(city[\"population\"]/city[\"area\"])\n",
    "    \n",
    "def city_is_large(city):\n",
    "    return city[\"area\"] > 100\n",
    "\n",
    "def city_has_more_people_than(city, min_people):\n",
    "    return city[\"population\"] > min_people"
   ]
  },
  {
   "cell_type": "code",
   "execution_count": 12,
   "metadata": {},
   "outputs": [],
   "source": [
    "def new_card(suit,rank):\n",
    "    return {\n",
    "        \"suit\":suit,\n",
    "        \"rank\":rank\n",
    "    }\n",
    "\n",
    "def card_as_string(card):\n",
    "    return f\"{card['rank']} of {card['suit']}s\"\n",
    "\n",
    "\n",
    "def card_is_of_suit(card, suit_to_check):\n",
    "    return card['suit'] == suit_to_check"
   ]
  },
  {
   "cell_type": "markdown",
   "metadata": {},
   "source": [
    "Above we group **three core concepts**:\n",
    "\n",
    "- **CREATING** a new city (with ```new_city(name, population, area)```\n",
    "- **STORING DATA** about a city (in a list like ```{'area': 175, 'name': 'Glasgow', 'population': 600000}```\n",
    "- **BEHAVIOURS** of a city (like ability to return calculation ```city_density(city)``` and  ```city_is_large(city)``` or to answer a question  ```city_has_more_people_than(city, min_people)```"
   ]
  },
  {
   "cell_type": "markdown",
   "metadata": {},
   "source": [
    "**THE TRADE OFF** is that we are separately doing these three above things. Separetely creating dictionary, separately storing data in a dictionary variable and separately using behaviours.\n",
    "\n",
    "Once the thing we are modeling (describing with code) becomes large and complex, the code will be messy and hard to read."
   ]
  },
  {
   "cell_type": "markdown",
   "metadata": {},
   "source": [
    "## Classes - code describing a TYPE OF THINGS: their Creation, Data and Behaviours"
   ]
  },
  {
   "cell_type": "markdown",
   "metadata": {},
   "source": [
    "As we use programming to represent real life entities, we will need to provide these three functional elements (creating, storing and behaviours) for every thing we want to describe.\n",
    "\n",
    "**VARIABLE**\n",
    "\n",
    "- **value** in our code (numbers, strings, lists, etc) that we want to easilly reuse later.\n",
    "- does not have a value when your code is written,\n",
    "- values are added to variables as a result of you running your code.\n",
    "\n",
    "**FUNCTION** \n",
    "\n",
    "- **bahaviours** in our code (lines of code) that we wanted to easilly reuse later\n",
    "- do not do anything until they are called\n",
    "- variables passed in as parameters do not have values, until functions are called"
   ]
  },
  {
   "cell_type": "markdown",
   "metadata": {},
   "source": [
    "When representing one real-world entity (e.g. City, Card) these can be combined into:\n",
    "\n",
    "**CLASS** (TEMPLATE DESCRIBING/SHAPING A TYPE OF OBJECT) \n",
    "\n",
    "```\n",
    "Class is a template that we'll use to make many many objects. Like a cookie cutter used to make many many cookies, or a rubber stamp that you'll use to make many many imprints. Or a car design used to produce many cars in a factory. It is useful to shape something, but once you shape it, you care more about the cookie, not the cookie cutter.\n",
    "```\n",
    "\n",
    "```\n",
    "Class is a bit like a *def* of a function. You only use it (call it) when someone asks you to, and gives you some values.\n",
    "\n",
    "You've used a lot of classes already: eg. String, List, Dictionary. \n",
    "```\n",
    "\n",
    "\n",
    "Examples: \n",
    "\n",
    "Class Fruit will hold values for a name, size and colour of a fruit. It will also define behaviours / functions it will have: e.g. get_ripe() and slice( cm_thickness ).\n",
    "\n",
    "Class City will hold values for a name, population and area. It will have **DEFINITIONS** of behaviours get_density() and is_larger_than( min_size )"
   ]
  },
  {
   "cell_type": "markdown",
   "metadata": {},
   "source": [
    "**OBJECT** (A THING SHAPED BY A CLASS, ONE EXAMPLE (INSTANCE) OF A CLASS)\n",
    "\n",
    "```\n",
    "Object is one *THING* created from a template. There will be a lot of objects created from each class. For example each cookie created with a cookie cutter has all the attributes and behaviours that this cookie cutter gave it (shape, size). Rubber stamp object would have a shape and colour of its 'stamp class'. Car object would have all the features that its 'car design class' gave it. Basically each object created with a *class definition* will have variables and behaviours that its 'parent' class gave it. Just like each time you call a function, it can do everything that its function definition gave it. \n",
    "```\n",
    "\n",
    "```\n",
    "Object is basically a *variable* that can do things. Like when you create a number of instances/objects of class String eg. \"Apple\", \"Banana\", \"Kiwi\". All of these store some values (i.e. the letters in some order) and some behaviours (e.g.  .reverse(), .split( separator )). So while \"Apple\", \"Banana\", \"Kiwi\" are objects of the class 'String', the actual definition of class 'String' tells us what each of those objects can know (variables) and do (functions). Definition of 'String' is already in there in Python, we do not need to write it. \n",
    "```\n",
    "\n",
    "Examples: \n",
    "\n",
    "A particular green apple is an instance of a class Fruit. Its colour is green, name is apple and the size is 2 inches. You can get rippened, and be sliced. It's an apple you can interact with and put in a variable.\n",
    "\n",
    "A particular city, e.g. Edinburgh is an instance of a City class, it has actual values for a name (\"Edinburgh\"), population (500000) and area (264). It will be able to **PERFORM** behaviours like get_density() which will return 1894, and is_larger_than( 300 ) which will return False\n"
   ]
  },
  {
   "cell_type": "markdown",
   "metadata": {},
   "source": [
    "### In slightly more technical terms:\n",
    "\n",
    "**Class**:\n",
    "\n",
    "- **combined variables and functions that represent ONE TYPE OF THINGS FROM REAL WORLD** (their data and behaviours). \n",
    "- does not exist and cannot be interacted by itself, until new object/instance is created/constructed\n",
    "- does not have values yet, but describes what values will be there once an object of this class is created.\n",
    "- you can think of it as a: blueprint of a building, design of a car, overall description, form to fill.\n",
    "- there are usually very FEW classes\n",
    "\n",
    "- class is basically a TYPE of a variable, like string, list or dictionary. It cannot do anything, until you create an instance (example) of that type \"Banana\", [1,2,3], {\"name\":\"Wendy\"}\n",
    "\n",
    "**Object**:\n",
    "\n",
    "\n",
    "- **one item belonging to a class, AN ACTUAL THING FROM REAL WORLD** - it has to have values for all class's variables and can use all class's functions\n",
    "- can be created with a **CONSTRUCTOR FUNCTION OF A CLASS** which will create a new instance (example) of that class's type\n",
    "- once created, it has values, behaviours. Can be stored in a variable, passed to a function etc.\n",
    "- you can think of it as a: a building on a street, a car, detailed item, filled-in form.\n",
    "- there are usually very MANY objects"
   ]
  },
  {
   "cell_type": "markdown",
   "metadata": {},
   "source": [
    "| Class         | Object        |\n",
    "| :------------- |:-------------|\n",
    "| City          | Edinburgh with size 500000 and area 264 |\n",
    "| Card          | Queen of Spades with Rank being Queen and Suit being Spades |\n",
    "| Shoe          | my old Green Nike shoe size 7  |\n",
    "| Car           | this Blue Toyota Yarris with plates abc1234| \n",
    "| Building      | the old Edinburgh building with address 7 Chambers st| \n"
   ]
  },
  {
   "cell_type": "markdown",
   "metadata": {},
   "source": [
    "### Class syntax: __init__ method ( Initialiser / Constructor)  a class function we will use to create a new objects \n",
    "\n",
    "#### It's like a Factory of objects."
   ]
  },
  {
   "cell_type": "code",
   "execution_count": 23,
   "metadata": {},
   "outputs": [
    {
     "name": "stdout",
     "output_type": "stream",
     "text": [
      "<__main__.Fruit object at 0x7fa561b59d00>\n",
      "Banana\n",
      "Sweet\n",
      "<__main__.Fruit object at 0x7fa58021ffd0>\n",
      "Apple\n",
      "Juicy\n",
      "<__main__.Fruit object at 0x7fa58021f760>\n",
      "Plum\n",
      "Sour\n"
     ]
    }
   ],
   "source": [
    "# example class syntax:\n",
    "\n",
    "class Fruit:\n",
    "    \n",
    "    # CONSTRUCTOR METHOD - will be called like this: \n",
    "    # Fruit(\"banana\", \"Sweet\")\n",
    "    # note that the first argument SELF will refer to the object being created when the function is run\n",
    "    # constructor most often will save variables given as arguments in the self.\n",
    "    # so the new thing for you might be: self is there in the def - but NOT when you call a function\n",
    "    \n",
    "    def __init__(self,  name, flavour):\n",
    "        self.name = name\n",
    "        self.flavour = flavour\n",
    "\n",
    "\n",
    "# CREATING OBJECTS OF THIS CLASS:\n",
    "\n",
    "fruit1 = Fruit(\"Banana\", \"Sweet\")\n",
    "fruit2 = Fruit(\"Apple\", \"Juicy\")\n",
    "fruit3 = Fruit(\"Plum\", \"Sour\")\n",
    "\n",
    "# GETTING INFORMATION AND CALLING METHODS:\n",
    "\n",
    "print( fruit1 ) \n",
    "print( fruit1.name )\n",
    "print( fruit1.flavour )\n",
    "\n",
    "print( fruit2 ) \n",
    "print( fruit2.name )\n",
    "print( fruit2.flavour )\n",
    "\n",
    "print( fruit3 ) \n",
    "print( fruit3.name )\n",
    "print( fruit3.flavour )"
   ]
  },
  {
   "cell_type": "code",
   "execution_count": 24,
   "metadata": {},
   "outputs": [
    {
     "name": "stdout",
     "output_type": "stream",
     "text": [
      "<__main__.Fruit object at 0x7fa561b59d00>\n",
      "<__main__.Fruit object at 0x7fa58021ffd0>\n",
      "<__main__.Fruit object at 0x7fa58021f760>\n"
     ]
    }
   ],
   "source": [
    "# note that printing an object just like that will print what Class this object originated from, \n",
    "# and where it is stored in the memory like <__main__.Fruit object at 0x7f57bd55e790>\n",
    "print( fruit1 ) \n",
    "print( fruit2 ) \n",
    "print( fruit3 ) \n",
    "# each of these shares Fruit qualities, but is a different object,\n",
    "# and is stored elsewhere in computer memory (eg. 0x7fa561b599d0 is a memory location)"
   ]
  },
  {
   "cell_type": "code",
   "execution_count": 25,
   "metadata": {},
   "outputs": [
    {
     "name": "stdout",
     "output_type": "stream",
     "text": [
      "Sweet\n",
      "Juicy\n",
      "Sour\n",
      "bitter\n",
      "Juicy\n",
      "Sour\n"
     ]
    }
   ],
   "source": [
    "# so when you chance one object, other ones are not changed!\n",
    "\n",
    "print( fruit1.flavour ) # changed\n",
    "print( fruit2.flavour ) # not changed\n",
    "print( fruit3.flavour ) # not changed\n",
    "\n",
    "fruit1.flavour = \"bitter\"\n",
    "print( fruit1.flavour ) # changed\n",
    "print( fruit2.flavour ) # not changed\n",
    "print( fruit3.flavour ) # not changed"
   ]
  },
  {
   "cell_type": "markdown",
   "metadata": {},
   "source": [
    "#### That's because objects are SEPARATE and don't even know about each other. There is no way to ask fruit1 abotu the flavour of fruit2!"
   ]
  },
  {
   "cell_type": "markdown",
   "metadata": {},
   "source": [
    "### Class syntax: class functions (usually called class 'methods' )"
   ]
  },
  {
   "cell_type": "code",
   "execution_count": null,
   "metadata": {},
   "outputs": [],
   "source": [
    "# example class syntax:\n",
    "\n",
    "class Fruit:\n",
    "   \n",
    "    def __init__(self,  name, flavour):\n",
    "        self.name = name\n",
    "        self.flavour = flavour\n",
    "\n",
    "    # object methods, will be called like:\n",
    "    # some_object.tell_me_about_it() or another_object.tell_me_about_it()\n",
    "    # only in definition you specify first argument \"self\", but you do not pass it when you call a method\n",
    "    \n",
    "    def tell_me_about_it(self): \n",
    "        return f\"{self.name} is {self.flavour}\"\n",
    "    \n",
    "    # object methods taking arguments, will be called like:\n",
    "    # some_object.is_it_this_flavour(\"sweet\") or some_object.is_it_this_flavour(\"sour\")\n",
    "    # It can take many arguments, like any function, but the first one *in definition only* has to be self\n",
    "    \n",
    "    def is_it_this_flavour(self, a_flavour):\n",
    "        return self.flavour == a_flavour\n",
    "\n",
    "\n",
    "fruit1 = Fruit(\"Banana\", \"Sweet\")\n",
    "fruit2 = Fruit(\"Apple\", \"Juicy\")\n",
    "fruit3 = Fruit(\"Plum\", \"Sour\")\n",
    "\n",
    "# CALLING METHODS: (notice you don't need to pass in SELF as the first argument. It will happen automatically)\n",
    "\n",
    "print( fruit1.tell_me_about_it())\n",
    "print( fruit2.tell_me_about_it())"
   ]
  },
  {
   "cell_type": "code",
   "execution_count": 28,
   "metadata": {},
   "outputs": [
    {
     "name": "stdout",
     "output_type": "stream",
     "text": [
      "False\n",
      "True\n"
     ]
    }
   ],
   "source": [
    "print( fruit1.is_it_this_flavour(\"Juicy\"))\n",
    "print( fruit2.is_it_this_flavour(\"Juicy\"))"
   ]
  },
  {
   "cell_type": "markdown",
   "metadata": {},
   "source": [
    "### More examples. \n",
    "\n",
    "Feel free  to change the code and experiment with calling, creating or changing objects:"
   ]
  },
  {
   "cell_type": "code",
   "execution_count": 29,
   "metadata": {},
   "outputs": [],
   "source": [
    "# below code describes a generic, made up, type of an object called Rectangle ▭\n",
    "\n",
    "class Rectangle:\n",
    "    \n",
    "    def __init__(self, color, width, height):\n",
    "        self.color = color\n",
    "        self.width = width\n",
    "        self.height = height\n",
    "\n",
    "    def size(self):\n",
    "        return self.width * self.height\n",
    "    \n",
    "    def is_a_square(self):\n",
    "        return self.width == self.height\n",
    "    \n",
    "    def is_of_color(self, color):\n",
    "        return self.color == color\n",
    "    \n",
    "    def is_wider_and_higher_than(self, min_width, min_height):\n",
    "        return self.height > min_height and self.width > min_width"
   ]
  },
  {
   "cell_type": "code",
   "execution_count": 20,
   "metadata": {},
   "outputs": [
    {
     "name": "stdout",
     "output_type": "stream",
     "text": [
      "<__main__.Rectangle object at 0x7fa58021fb80>\n",
      "<__main__.Rectangle object at 0x7fa58021f040>\n",
      "10\n",
      "blue\n"
     ]
    }
   ],
   "source": [
    "# CREATING OBJECTS OF THIS CLASS:\n",
    "\n",
    "square = Rectangle(\"blue\", 5, 5)\n",
    "rectangle = Rectangle(\"green\", 10, 20)\n",
    "\n",
    "# GETTING INFORMATION AND CALLING METHODS:    \n",
    "\n",
    "print( rectangle )\n",
    "print( square )\n",
    "print( rectangle.width )\n",
    "print( square.color )"
   ]
  },
  {
   "cell_type": "code",
   "execution_count": 21,
   "metadata": {},
   "outputs": [
    {
     "name": "stdout",
     "output_type": "stream",
     "text": [
      "200\n",
      "False\n",
      "True\n",
      "\n",
      "False\n",
      "True\n"
     ]
    }
   ],
   "source": [
    "print( rectangle.size())\n",
    "print( rectangle.is_of_color(\"red\"))\n",
    "print( rectangle.is_wider_and_higher_than(2,2))\n",
    "\n",
    "print()\n",
    "print( rectangle.is_a_square())\n",
    "print( square.is_a_square())"
   ]
  },
  {
   "cell_type": "markdown",
   "metadata": {},
   "source": [
    "### Creating Classes for things we already know: Card and City\n",
    "\n",
    "Do you remember this code from before in this notebook? This was before we knew classes and stored things in dictionaries, with loosely attached functions.\n"
   ]
  },
  {
   "cell_type": "code",
   "execution_count": 30,
   "metadata": {},
   "outputs": [
    {
     "name": "stdout",
     "output_type": "stream",
     "text": [
      "Heart\n",
      "7 of Hearts\n",
      "False\n"
     ]
    }
   ],
   "source": [
    "# old functions describing a playing card\n",
    "\n",
    "def new_card(suit,rank):\n",
    "    return {\n",
    "        \"suit\":suit,\n",
    "        \"rank\":rank\n",
    "    }\n",
    "\n",
    "def card_as_string(card):\n",
    "    return f\"{card['rank']} of {card['suit']}s\"\n",
    "\n",
    "def card_is_of_suit(card, suit_to_check):\n",
    "    return card['suit'] == suit_to_check\n",
    "\n",
    "card1 = new_card(\"Heart\",\"7\")\n",
    "card2 = new_card(\"Spade\",\"A\")\n",
    "print(card1[\"suit\"])\n",
    "print(card_as_string( card1 ))\n",
    "print(card_is_of_suit( card2, \"Diamond\"))"
   ]
  },
  {
   "cell_type": "code",
   "execution_count": 33,
   "metadata": {},
   "outputs": [
    {
     "name": "stdout",
     "output_type": "stream",
     "text": [
      "Heart\n",
      "7 of Hearts\n",
      "False\n"
     ]
    }
   ],
   "source": [
    "# new: Class describing a universal, generic Card\n",
    "\n",
    "class Card:\n",
    "    def __init__(self, suit, rank):\n",
    "        self.suit = suit\n",
    "        self.rank = rank\n",
    "\n",
    "    def as_string(self):\n",
    "        return f\"{self.rank} of {self.suit}s\"\n",
    "\n",
    "    \n",
    "    def is_of_suit(self, suit_to_check):\n",
    "        return self.suit == suit_to_check\n",
    "\n",
    "# creating Objects representing INDIVIDUAL CARDS\n",
    "\n",
    "card1 = Card(\"Heart\", \"7\")\n",
    "card2 = Card(\"Spade\", \"A\")\n",
    "\n",
    "print( card1.suit )\n",
    "print( card1.as_string())\n",
    "print(card2.is_of_suit(\"Diamond\"))"
   ]
  },
  {
   "cell_type": "markdown",
   "metadata": {},
   "source": [
    "Take a minute to compare two above examples. Notice that the code does not differ that much, but the Class syntaxt at least allows you to keep it all in one place, and treat it **as one thing/one object**. \n",
    "\n",
    "Thinking about yoru code and the world in these terms (eg. what belongs together, what is a part of something else) is called **OBJECT ORIENTED DESIGN**."
   ]
  },
  {
   "cell_type": "code",
   "execution_count": 34,
   "metadata": {},
   "outputs": [
    {
     "name": "stdout",
     "output_type": "stream",
     "text": [
      "False\n",
      "False\n"
     ]
    }
   ],
   "source": [
    "# a useful note, you can get the objects to interact with each other:\n",
    "\n",
    "print(card1.suit ==  card2.suit )\n",
    "\n",
    "#or even better:\n",
    "\n",
    "print(card1.is_of_suit( card2.suit ))"
   ]
  },
  {
   "cell_type": "markdown",
   "metadata": {},
   "source": [
    "### Object orientation pillars: Encapsulation ( like a 'capsule') try to enclose things, and don't poke them too much\n",
    "\n",
    "If you can help it, try not to 'dip' into the objects too much. \n",
    "\n",
    "It is much better to use\n",
    "\n",
    "\n",
    "`card1.is_of_suit( \"Heart\" )`\n",
    "\n",
    "than just \n",
    "\n",
    "`card1.suit == \"Heart\"`\n",
    "\n",
    "Why? because:\n",
    "\n",
    "1. Objects should be 'jealous' and not share too much, for security. So that you don't by accident change the values when you don't mean to (eg. by accident writing `card1.suit = \"Heart\"`   instead of    `card1.suit == \"Heart\"`\n",
    "2. if you control the comparison (with your 'is_of_suit()' method) you can make it more flexible and useful. (eg. you could print some things for debugging, or do some extra checks). See example below:\n",
    "\n",
    "Imagine that later on in your project, yoru client changed their minds and wants to be forgiving about small and large letters. So \"Heart\" should be treated as the same suit as \"heart\". If you wrote `card1.suit == \"Heart\"` everywhere in your code (say in 10 different places), you would need to change it in 10 places into `card1.suit.lower() == \"heart\"`. This would comlicate things. But if you used `card1.is_of_suit( \"Heart\" )` everywhere, you need to change only 1 line of code: your definition of is_of_suit function.\n",
    "(and later you could even implement emojis ❤️). "
   ]
  },
  {
   "cell_type": "code",
   "execution_count": 36,
   "metadata": {},
   "outputs": [],
   "source": [
    "\n",
    "class Card:\n",
    "    # so the old function like this\n",
    "    def is_of_suit(self, suit_to_check):\n",
    "        return self.suit == suit_to_check\n",
    "    \n",
    "    # could be deleted and replaced with a new function like this:\n",
    "\n",
    "    def is_of_suit(self, suit_to_check):\n",
    "        return self.suit.lower() == suit_to_check.lower()\n",
    "\n",
    "# and because in your other code you used card1.is_of_suit( \"Heart\" ) instead of card1.suit == \"Heart\""
   ]
  },
  {
   "cell_type": "markdown",
   "metadata": {},
   "source": [
    "### City example:"
   ]
  },
  {
   "cell_type": "code",
   "execution_count": 37,
   "metadata": {},
   "outputs": [
    {
     "name": "stdout",
     "output_type": "stream",
     "text": [
      "500000\n",
      "1894\n",
      "True\n",
      "True\n"
     ]
    }
   ],
   "source": [
    "# old functions describing a city\n",
    "\n",
    "def new_city(name, population, area):\n",
    "    return {\"name\":name,  \"population\":population, \"area\":area}\n",
    "    \n",
    "def city_density(city):\n",
    "    return round(city[\"population\"]/city[\"area\"])\n",
    "    \n",
    "def city_is_large(city):\n",
    "    return city[\"area\"] > 100\n",
    "\n",
    "def city_has_more_people_than(city, min_people):\n",
    "    return city[\"population\"] > min_people\n",
    "\n",
    "city1 = new_city(\"Edinburgh\", 500000, 264)\n",
    "city2 = new_city(\"Glasgow\", 600000, 175)\n",
    "city3 = new_city(\"Inverness\", 50000, 20)\n",
    "\n",
    "print(city1[\"population\"])\n",
    "print(city_density( city1 ))\n",
    "print(city_is_large( city1 ))\n",
    "print(city_has_more_people_than( city2, 10000))"
   ]
  },
  {
   "cell_type": "code",
   "execution_count": null,
   "metadata": {},
   "outputs": [],
   "source": [
    "# new: Class describing a universal, generic City\n",
    "\n",
    "class City:\n",
    "    def __init__(self, name, population, area):\n",
    "        self.name = name\n",
    "        self.population = population\n",
    "        self.area = area\n",
    "\n",
    "    def density(self):\n",
    "        return round( self.population / self.area )\n",
    "    \n",
    "    def is_large(self):\n",
    "        return self.area > 100\n",
    "\n",
    "    def has_more_people_than(self, min_people):\n",
    "        return self.population > min_people\n",
    "    \n",
    "city1 = City(\"Edinburgh\", 500000, 264)\n",
    "city2 = City(\"Glasgow\", 600000, 175)\n",
    "city3 = City(\"Inverness\", 50000, 20)\n",
    "\n",
    "print( city1.population )\n",
    "print( city1.density())\n",
    "print( city1.is_large())\n",
    "print( city2.has_more_people_than(10000))"
   ]
  },
  {
   "cell_type": "markdown",
   "metadata": {},
   "source": [
    "## Classes are Generic Descriptions - Objects are Concrete Examples"
   ]
  },
  {
   "cell_type": "markdown",
   "metadata": {},
   "source": [
    "**Class** describse generic design of something. We don't know any values at this stage.\n",
    "\n",
    "| City CLASS         | What it will be, or what it will do        |\n",
    "| :----------- |:-------------|\n",
    "| name                | this will be a variable |\n",
    "| population          | this will be a variable  |\n",
    "| area                | this will be a variable  |\n",
    "| | |\n",
    "| density                     | description of what method will do| \n",
    "| is_large                    | description of what method will do|\n",
    "| has_more_people_than(value1)| description of what method will do|\n",
    "\n",
    "**Each Object** represents actual item belonging to a class:\n",
    "\n",
    "| some OBJECT of Card class         | What is it        |\n",
    "| :----------- |:-------------|\n",
    "| name                | has actual value, like \"Edinburgh\"|\n",
    "| population          | has actual value, like 500000 |\n",
    "| area                | has actual value, like 264  |\n",
    "| | |\n",
    "| density                     | method, can be called and will do something| \n",
    "| is_large                    | method, can be called and will do something|\n",
    "| has_more_people_than(value1)| method, can be called and will do something|"
   ]
  },
  {
   "cell_type": "markdown",
   "metadata": {},
   "source": [
    "### OBJECT VARIABLES"
   ]
  },
  {
   "cell_type": "markdown",
   "metadata": {},
   "source": [
    "All variables created assigned with ```self.``` are object-specific - they are unknown at the level of the class.\n",
    "\n",
    "Object variables only get values when we create objects.\n",
    "\n",
    "This means that you can create a Class we decide how many variables  each object will contain and their names.\n",
    "\n",
    "e.g. House CLASS will promise that all its objects will have: \n",
    "\n",
    "- a color,\n",
    "- number of windows\n",
    "- monthly rent\n",
    "- address\n",
    "- postcode\n",
    "- eco energy rating.\n",
    "\n",
    "e.g. my_home OBJECT of that class will have values in above-mentioned variables:\n",
    "\n",
    "- \"grey\"\n",
    "- 5\n",
    "- 850\n",
    "- \"123 Lothian Street\"\n",
    "- \"EH1 2AB\"\n",
    "- \"B+\""
   ]
  },
  {
   "cell_type": "markdown",
   "metadata": {},
   "source": [
    "### Default values\n",
    "\n",
    "Sometimes you do not want to pass in a value to the constructor, because it is defaulting to something.\n",
    "\n",
    "If default value never changes, you can either specify default value in the body of the constructor/initialiser (see FruitBAsket example below)"
   ]
  },
  {
   "cell_type": "code",
   "execution_count": null,
   "metadata": {},
   "outputs": [],
   "source": [
    "class FruitBasket:\n",
    "    def __init__(self, capacity):\n",
    "        self.capacity = capacity\n",
    "        self.fruits = []\n",
    "        \n",
    "basket1 = FruitBasket(5)\n",
    "print(basket1.fruits)\n",
    "# notice variable fruits is not passed into the constructor, but instead simply always starts as empty list [] "
   ]
  },
  {
   "cell_type": "code",
   "execution_count": 40,
   "metadata": {},
   "outputs": [
    {
     "name": "stdout",
     "output_type": "stream",
     "text": [
      "0\n"
     ]
    }
   ],
   "source": [
    "class Account:\n",
    "    def __init__(self, account_type):\n",
    "        self.account_type = account_type\n",
    "        self.current_amount = 0\n",
    "        \n",
    "account1 = Account('personal')\n",
    "print(account1.current_amount)\n",
    "# same here, current_account has a default value 0"
   ]
  },
  {
   "cell_type": "markdown",
   "metadata": {},
   "source": [
    "Or you can specify a default value **which gets used only if nothing else was specified** (like in every other function) see example Account below\n",
    "eg:"
   ]
  },
  {
   "cell_type": "code",
   "execution_count": 41,
   "metadata": {},
   "outputs": [
    {
     "name": "stdout",
     "output_type": "stream",
     "text": [
      "[]\n",
      "['kiwi', 'plum']\n"
     ]
    }
   ],
   "source": [
    "class FruitBasket:\n",
    "    def __init__(self, capacity, initial_fruits = []): # here default value is specified with = []\n",
    "        self.capacity = capacity\n",
    "        self.fruits = initial_fruits\n",
    "        \n",
    "basket1 = FruitBasket(5)\n",
    "print(basket1.fruits)\n",
    "# notice if variable initial_fruits is not passed into the constructor, it starts as empty list [] \n",
    "basket2 = FruitBasket(5, [\"kiwi\", \"plum\"])\n",
    "print(basket2.fruits)"
   ]
  },
  {
   "cell_type": "code",
   "execution_count": 43,
   "metadata": {},
   "outputs": [
    {
     "name": "stdout",
     "output_type": "stream",
     "text": [
      "0\n",
      "300\n"
     ]
    }
   ],
   "source": [
    "class Account:\n",
    "    def __init__(self, account_type, current_amount = 0): # here default value is specified with = 0\n",
    "        self.account_type = account_type\n",
    "        self.current_amount = current_amount\n",
    "        \n",
    "account1 = Account('personal')\n",
    "print(account1.current_amount)\n",
    "\n",
    "account2 = Account('business', 300)\n",
    "print(account2.current_amount)\n",
    "# same here, current_account has a default value 0, if nothing is specified, current_amount starts equal to 0"
   ]
  },
  {
   "cell_type": "markdown",
   "metadata": {},
   "source": [
    "### CLASS VARIABLES  ( in opposite to the usual Object Variables)\n",
    "\n",
    "### for that rare moment when you want all objects of a class to share a value. Often because it is never changed - it's sort of like a 'shared knowledge' of all classes.\n",
    "\n",
    "These are called Class variables, because they are not defined in the Initialiser and also because they are not assigned to self. See example below"
   ]
  },
  {
   "cell_type": "markdown",
   "metadata": {},
   "source": [
    "It is possible to have variables that are attached to the class itself (not to individual objects). These are called Class Variables and are not very frequently used.\n",
    "\n",
    "Class variables are great for storing 'shared knowledge that never changes'."
   ]
  },
  {
   "cell_type": "code",
   "execution_count": null,
   "metadata": {},
   "outputs": [],
   "source": [
    "class Card:\n",
    "    material = \"Paper\" # All cards are made of Paper\n",
    "    def __init__(self, suit, rank):\n",
    "        self.suit = suit\n",
    "        self.rank = rank\n",
    "    \n",
    "card1 = Card(\"Spade\", \"A\")\n",
    "card2 = Card(\"Spade\", \"Q\")\n",
    "print(card1.suit)\n",
    "print(card1.material) # each object can see them "
   ]
  },
  {
   "cell_type": "code",
   "execution_count": null,
   "metadata": {},
   "outputs": [],
   "source": [
    "# here business logic that rarely changes is stored as a Class variable\n",
    "class Account:\n",
    "    monthly_fees = {'business': 100, 'personal': 20}\n",
    "    def __init__(self, account_type):\n",
    "        self.account_type = account_type\n",
    "        self.current_amount = 0\n",
    "        \n",
    "    def charge_monthly_fee(self):\n",
    "        self.current_amount -= self.monthly_fees[ self.account_type ]\n",
    "            \n",
    "account_business = Account('business')\n",
    "print(account_business.current_amount)\n",
    "account_business.charge_monthly_fee()\n",
    "print(account_business.current_amount)\n",
    "\n",
    "print()\n",
    "account_personal= Account('personal')\n",
    "print(account_personal.current_amount)\n",
    "account_personal.charge_monthly_fee()\n",
    "print(account_personal.current_amount)"
   ]
  },
  {
   "cell_type": "markdown",
   "metadata": {},
   "source": [
    "### String representation of classes: the __repr__ method\n",
    "\n",
    "As you've seen before, when you print an object, the result is not very meaningful. Print will tell us what type/class of an object it is, and where it is stored in the memory."
   ]
  },
  {
   "cell_type": "code",
   "execution_count": null,
   "metadata": {},
   "outputs": [],
   "source": [
    "# - Card has a suit and rank\n",
    "class Card:\n",
    "    def __init__(self, suit, rank):\n",
    "        self.suit = suit\n",
    "        self.rank = rank\n",
    "\n",
    "card_3s = Card(\"Spade\", \"3\")\n",
    "print(card_3s)\n",
    "# this will print something like <__main__.Card object at 0x7fefc1661e90>"
   ]
  },
  {
   "cell_type": "markdown",
   "metadata": {},
   "source": [
    "But before print() function uses this meaningless jibberish, it will first check if your class has a `__repr__` function specified. Function `__repr__` (which stands for 'String Representation') can return a string, which will be used when printing an object. "
   ]
  },
  {
   "cell_type": "code",
   "execution_count": null,
   "metadata": {},
   "outputs": [],
   "source": [
    "# - Card has a suit and rank\n",
    "class Card:\n",
    "    def __init__(self, suit, rank):\n",
    "        self.suit = suit\n",
    "        self.rank = rank\n",
    "    \n",
    "    def __repr__(self):\n",
    "        return self.rank + \" of \" + self.suit + \"s\"\n",
    "    \n",
    "card_3s = Card(\"Spade\", \"3\")\n",
    "print(card_3s)\n",
    "# this will print something like 3 of Spades"
   ]
  },
  {
   "cell_type": "markdown",
   "metadata": {},
   "source": [
    "# Complicated, but fun example of what classes are good for: Building complicated data formats\n",
    "\n",
    "# 1) A card game: TRY TO UNDERSTAND WHAT'S GOING ON, but if you don't it's fine. Just move to the exercise at the end."
   ]
  },
  {
   "cell_type": "markdown",
   "metadata": {},
   "source": [
    "Remember, variables can hold any values. That includes objects.\n",
    "\n",
    "Let's imagine we have a following setup:\n",
    "\n",
    "- Card has a suit and rank\n",
    "- Deck has a List of 52 cards. When it is innitiated, it creates new 52 cards. It can give me the top card.\n",
    "- Player has a name and List of cards. They start with no cards, but can be given cards.\n",
    "- Table has a Deck and a list of Players. It can deal some cards and knows the rules of the game"
   ]
  },
  {
   "cell_type": "code",
   "execution_count": null,
   "metadata": {},
   "outputs": [],
   "source": [
    "# - Card has a suit and rank\n",
    "class Card:\n",
    "    def __init__(self, suit, rank):\n",
    "        self.suit = suit\n",
    "        self.rank = rank\n",
    "    \n",
    "    def __repr__(self):\n",
    "        return self.rank + \" of \" + self.suit + \"s\"\n",
    "    \n",
    "test_card = Card(\"Club\", \"A\")\n",
    "print(test_card)"
   ]
  },
  {
   "cell_type": "code",
   "execution_count": null,
   "metadata": {},
   "outputs": [],
   "source": [
    "# - Deck has a List of 52 cards. When it is innitiated, it creates a new deck of cards\n",
    "class Deck:\n",
    "    suits = [\"Diamond\", \"Club\", \"Heart\", \"Spade\"]\n",
    "    ranks  = [\"2\",\"3\",\"4\",\"5\",\"6\",\"7\",\"8\",\"9\",\"10\",\"J\",\"Q\",\"K\",\"A\"]\n",
    "\n",
    "    def __init__(self):\n",
    "        self.cards = self.create_new_cards()\n",
    "        # you've already seen making something an empty list [] in the constructor.\n",
    "        # here we go further and call a function \n",
    "    \n",
    "    def create_new_cards(self):\n",
    "        new_cards = []\n",
    "        for suit in self.suits:\n",
    "            for rank in self.ranks:\n",
    "                new_cards.append( Card(suit, rank) )\n",
    "        return new_cards\n",
    "    \n",
    "    def give_a_card(self):\n",
    "        return self.cards.pop()\n",
    "    \n",
    "    def __repr__(self):\n",
    "        return f\"Deck with {len(self.cards)} cards\"\n",
    "\n",
    "test_deck = Deck()\n",
    "print(test_deck)\n",
    "a_card = test_deck.give_a_card()\n",
    "print(a_card)\n",
    "print(test_deck)"
   ]
  },
  {
   "cell_type": "code",
   "execution_count": null,
   "metadata": {},
   "outputs": [],
   "source": [
    "# - Player has a name and List of 5 cards\n",
    "class Player:\n",
    "    def __init__(self, name):\n",
    "        self.name = name\n",
    "        self.cards = []\n",
    "        \n",
    "    def recieve_a_card(self, card):\n",
    "        self.cards.append(card)\n",
    "\n",
    "    def __repr__(self):\n",
    "        return f\"Player {self.name} has {len(self.cards)} cards\"\n",
    "\n",
    "test_player = Player(\"Mia\")\n",
    "print(test_player)\n",
    "test_player.recieve_a_card(a_card)\n",
    "print(test_player)\n"
   ]
  },
  {
   "cell_type": "code",
   "execution_count": null,
   "metadata": {},
   "outputs": [],
   "source": [
    "# - Table has a Deck and two Players. It can deal some cards and knows the rules of the game\n",
    "class Table:\n",
    "    def __init__(self, players_names ):\n",
    "        self.players = self.create_players_from_names(players_names)\n",
    "        self.deck = Deck()\n",
    "    \n",
    "    def create_players_from_names(self, names):\n",
    "        new_players = []\n",
    "        for name in names:\n",
    "            new_players.append( Player(name) ) \n",
    "        return new_players\n",
    "    \n",
    "    def deal_everyone_a_card(self):\n",
    "        for player in self.players:\n",
    "            a_card = self.deck.give_a_card()\n",
    "            player.recieve_a_card(a_card)\n",
    "        \n",
    "    def who_has_the_highest_first_card(self): #simplified rules, just check their first card\n",
    "        winner = self.players[0]\n",
    "        for player in self.players:\n",
    "            if self.which_card_is_higher(winner.cards[0], player.cards[0]) == player.cards[0]:\n",
    "                winner = player\n",
    "        return winner\n",
    "    \n",
    "    def play_the_game(self):\n",
    "        self.deal_everyone_a_card()\n",
    "        winner = self.who_has_the_highest_first_card()\n",
    "        print(f\"winner is {winner.name} with first card {winner.cards[0]}\")\n",
    "    \n",
    "    def which_card_is_higher(self, card1, card2):\n",
    "        if Deck.ranks.index(card1.rank) > Deck.ranks.index(card2.rank):\n",
    "            return card1\n",
    "        elif Deck.ranks.index(card1.rank) < Deck.ranks.index(card2.rank):\n",
    "            return card2\n",
    "        else:\n",
    "            if Deck.suits.index(card1.suit) >= Deck.suits.index(card2.suit):\n",
    "                return card1\n",
    "            else:\n",
    "                return card2\n",
    "            \n",
    "a_table = Table([\"Mia\", \"Jessica\", \"Fran\"])\n",
    "a_table.play_the_game()\n",
    "\n",
    "# note the first player should always win, because we are not shuffling the cards, so they always get the first card\n",
    "# which is highest"
   ]
  },
  {
   "cell_type": "markdown",
   "metadata": {},
   "source": [
    "## ⭐️⭐️⭐️💥 What you learned in this session: Three stars and a wish \n",
    "**In your own words** write in your Learn diary:\n",
    "\n",
    "- 3 things you yould like to remember from this badge\n",
    "- 1 thing you wish to understand better in the future or a question you'd like to ask"
   ]
  },
  {
   "cell_type": "markdown",
   "metadata": {},
   "source": [
    "# ⛏  Minitasks: Create objects for these familiar scenarios:\n",
    "\n",
    "### Task 1: Ordering coffee:\n",
    "\n",
    "Create an class called Coffee_order that will hold coffee_type, size, milk, sugar variables. It will also have a `__repr__` function that will return a well formatted string describing a coffee order. Give some of the variables some meaningful default values (eg sugar = 0) and feel free to expland this example. Then create a 3 different objects of that class and print them.\n",
    "\n",
    "### Task 2: Cities:\n",
    "\n",
    "Create a City class that will hold values name, population and size. Add to it a function get_density() which will return a the population density of this town. Also add to it a function called is_larger_than( some_size ) that will tell us if the city is larger than the value passed in (eg. you'd call it as `city1.is_larger_than(200)` ). Also add a meningful `__repr__`. Then create objects for 3 Scottish cities (you'll find data in this notebook) and use the functions you created on these objects.\n",
    "\n",
    "### Task 3: Weather Forecast ( harder )\n",
    "\n",
    "Create two classes: Day_forecast and Weekly_forecast. Day_forecast having values: weekday, temperature, and likelyhood_of_rain and a meaningful `__repr__`. And the class Weekly_forecast will have a list called `days`. Days will hold 3 objects of Day_forecast. (create then outside and pass them into the Weekly_forecast initialiser, as a list). Weekly_forecast will have functions name_of_the_warmest_day() and name_of_the_day_most_likely_to_rain().\n"
   ]
  }
 ],
 "metadata": {
  "kernelspec": {
   "display_name": "Python 3 (ipykernel)",
   "language": "python",
   "name": "python3"
  },
  "language_info": {
   "codemirror_mode": {
    "name": "ipython",
    "version": 3
   },
   "file_extension": ".py",
   "mimetype": "text/x-python",
   "name": "python",
   "nbconvert_exporter": "python",
   "pygments_lexer": "ipython3",
   "version": "3.9.7"
  }
 },
 "nbformat": 4,
 "nbformat_minor": 2
}
