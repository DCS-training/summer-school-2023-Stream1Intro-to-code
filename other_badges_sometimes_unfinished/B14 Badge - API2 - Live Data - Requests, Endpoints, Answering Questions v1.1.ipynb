{
 "cells": [
  {
   "cell_type": "markdown",
   "metadata": {},
   "source": [
    "# Using APIs - (Application Programing Interfaces)\n",
    "\n",
    "In this badge you will see a number of available online data sources and try to extract some meaningful information from them.\n",
    "\n",
    "1. We will talk about the steps to using the API:\n",
    "\n",
    "- create a request\n",
    "- perfom/make the request ('make an API call')\n",
    "- filter and understand the data\n",
    "- do something with the data\n",
    "\n",
    "Then we will look at examples of a few APIs that might be already familiar to you. For some of them you will need to get yoru own `API key or token` and for some you will not need one or will be given one.\n",
    "\n",
    "2. We will see how to simplify the data you are given - Bank of Scotland Cash Machine (ATM) API\n",
    "\n",
    "3. We will see how to make yoru own specific requests - OMDB Movie knowledge database"
   ]
  },
  {
   "cell_type": "markdown",
   "metadata": {},
   "source": [
    "# 1. Abotu APIs\n",
    "\n",
    "## Creating the Request for data\n",
    "\n",
    "For example if you are using a weather api, and care about weather for Edinburgh next week, you will likely do something like this (depending on the design of the api):\n",
    "\n",
    "`www.weatherapi.com/city=Edinburgh&days=7` or \n",
    "\n",
    "`www.weatherapi.com/city/Edinburgh/days/7` or\n",
    "\n",
    "`www.weatherapi.com/Edinburgh/7` or\n",
    "\n",
    "`www.weatherapi.com/Edinburgh/week`\n",
    "\n",
    "The format will depend on the design of the API which you will always be able to find in the documentation on the website of the API provider.\n",
    "\n",
    "**Why API, not just a big download of a file?**\n",
    "\n",
    "The idea of API is that the data cannot just be downloded as a file. It is often either too large (eg. financial history of all companies in UK , via Company House) or to constantly changing (eg. most recent tweets via twitter API). That's why we can request a specific information, or even specific detail level.\n",
    "\n",
    "In general you should try to ask only for the information you care about. This way you will have less processing to do and also your calls will be faster (you'll wait for a shorter time).\n",
    "\n",
    "- `www.weatherapi.com?city=Edinburgh` - to get daily weather for Edinburgh\n",
    "- `www.weatherapi.com?city=Edinburgh&level=detailed&units=kelvin` - same but hourly data and in Kelvin\n",
    "\n",
    "This way **outsource as much work as you can** to the data provider, so that you do not have to download, analyse or transform data you revieve.\n",
    "\n",
    "Each API will have a different format of creating a request"
   ]
  },
  {
   "cell_type": "markdown",
   "metadata": {},
   "source": [
    "## Making the request / fetching the response\n",
    "\n",
    "In general you will make a call to the web address, that you prepared above (which clarifiues what is it that you want to ask). The **response** to your call/request will be \n",
    "data. This data can come in a number of formats, comma separated, JSON, Text or even binary.\n"
   ]
  },
  {
   "cell_type": "markdown",
   "metadata": {},
   "source": [
    "#### Common Response Formats"
   ]
  },
  {
   "cell_type": "markdown",
   "metadata": {},
   "source": [
    "**Comma separated:**\n",
    "\n",
    "It's a bit like simplified excel spreadsheet. Usially the first line is the name of columns, and each line afterwards in one data point. Commas separate the columns, but there also exist formats where it is a Tab character, or semicolon which  separates data.\n",
    "\n",
    "`\n",
    "day,temperature,humidity\n",
    "monday,21,72\n",
    "tuesday,23,68\n",
    "wednesday,24,66\n",
    "`"
   ]
  },
  {
   "cell_type": "markdown",
   "metadata": {},
   "source": [
    "**JSON:**\n",
    "\n",
    "JSON (JavaScript Object Notation) has NOTHING to do with JavaSctipt language (name was a marketting ploy to make it more popular). But for you it will be very familiar - JSON is basically **Exactly identical to Python Dictionaries and lists** \n",
    "\n",
    "`\n",
    "[\n",
    "{'day':'monday','temperature':21,'humidity':72},\n",
    "{'day':'tuesday','temperature':23,'humidity':68},\n",
    "{'day':'wednesday','temperature':24,'humidity':66},\n",
    "`"
   ]
  },
  {
   "cell_type": "markdown",
   "metadata": {},
   "source": [
    "# 2. Cleaning up the data\n",
    "\n",
    "Often the api response will contain extra information that you do not need. It will be your task to identify the information you need and discarding everything else.\n",
    "\n",
    "Typical data that comes with the request, would be:\n",
    "\n",
    "- version of the API\n",
    "- time request was made\n",
    "- details of the request (repeating again what you asked for)\n",
    "\n",
    "We will have a look at the example of Bank of Scotland ATMS to illustrate this:"
   ]
  },
  {
   "cell_type": "markdown",
   "metadata": {},
   "source": [
    "### Bank of Scotland Cash Machine (ATM) API\n",
    "\n",
    "https://api.bankofscotland.co.uk/open-banking/v2.2/atms\n",
    "\n",
    "This API is not limited and has no key. Yay! You can use it as much as you'd like,\n",
    "\n",
    "Below is an example response of this API\n",
    "\n",
    "When you try to read it, ask how would you print the TownName of the first ATM?"
   ]
  },
  {
   "cell_type": "code",
   "execution_count": null,
   "metadata": {},
   "outputs": [],
   "source": [
    "# reading hint: when you click on a bracket, it becomes green and its closing-opening counterpart also\n",
    "# becomes green\n",
    "\n",
    "example_api_response = {'meta': {'LastUpdated': '2020-11-20T11:59:10.095Z',\n",
    "                                  'TotalResults': 422,\n",
    "                                  'Agreement': 'Use of the APIs and any related data ...',\n",
    "                                  'TermsOfUse': 'https://www.openbanking.org.uk/terms'},\n",
    "                        'data': [{'Brand': \n",
    "                                     [ { 'BrandName': 'Bank Of Scotland',\n",
    "                                         'ATM': \n",
    "                                              [{'Identification': 'BFF7BC11',\n",
    "                                              'SupportedLanguages': ['eng', 'spa', 'ger', 'fre'],\n",
    "                                              'ATMServices': ['PINUnblock',\n",
    "                                               'Balance',\n",
    "                                               'BillPayments',\n",
    "                                               'CashWithdrawal',\n",
    "                                               'FastCash',\n",
    "                                               'MobilePhoneTopUp',\n",
    "                                               'PINChange',\n",
    "                                               'MiniStatement'],\n",
    "                                              'Accessibility': ['WheelchairAccess'],\n",
    "                                              'SupportedCurrencies': ['GBP'],\n",
    "                                              'MinimumPossibleAmount': '10',\n",
    "                                              'Branch': {'Identification': '80453100'},\n",
    "                                              'Location': {'LocationCategory': ['BranchExternal'],\n",
    "                                               'Site': {'Identification': '80453100'},\n",
    "                                               'PostalAddress': {'AddressLine': ['136 BUCHANAN STREET; BALFRON'],\n",
    "                                                'BuildingNumber': 'BOS BRANCH',\n",
    "                                                'StreetName': '136 BUCHANAN STREET',\n",
    "                                                'TownName': 'GLASGOW',\n",
    "                                                'CountrySubDivision': ['GLASGOW'],\n",
    "                                                'Country': 'GB',\n",
    "                                                'PostCode': 'G63 0TG',\n",
    "                                                'GeoLocation': {'GeographicCoordinates': {\n",
    "                                                    'Latitude': '56.071629',\n",
    "                                                  'Longitude': '-4.336911'}\n",
    "                                                               }\n",
    "                                                                }\n",
    "                                                          }\n",
    "                                                 },\n",
    "                                                {},\n",
    "                                                {}\n",
    "                                              ]\n",
    "                                       }\n",
    "                                     ]\n",
    "                                 }\n",
    "                                ]\n",
    "                       }"
   ]
  },
  {
   "cell_type": "markdown",
   "metadata": {},
   "source": [
    "When you try to read it, ask how would you print the TownName of the first ATM?\n",
    "\n",
    "it would look like this:\n",
    "\n",
    "```\n",
    "print(example_api_response[\"data\"][0][\"Brand\"][0][\"ATM\"][0]['Location']['PostalAddress']['TownName'])\n",
    "```\n",
    "\n",
    "That's quite a handful, but do not worry - we will simplify it a bit. Basically you could say that the data that we care abotu is just the list of ATMs. So we could pull it out into a variable and just reference that variable, like this:\n",
    "\n",
    "```\n",
    "all_atms = example_api_response[\"data\"][0][\"Brand\"][0][\"ATM\"]\n",
    "print(all_atms[0]['Location']['PostalAddress']['TownName'])\n",
    "\n",
    "```"
   ]
  },
  {
   "cell_type": "code",
   "execution_count": null,
   "metadata": {},
   "outputs": [],
   "source": [
    "# print TownName of first atm\n",
    "print(example_api_response[\"data\"][0][\"Brand\"][0][\"ATM\"][0]['Location']['PostalAddress']['TownName'])\n",
    "\n",
    "# or a bit moore DRY, doing the initial cleaning up of the data first. \n",
    "# This will be even more dry when we do this many times in a row\n",
    "\n",
    "all_atms = example_api_response[\"data\"][0][\"Brand\"][0][\"ATM\"]\n",
    "print(all_atms[0]['Location']['PostalAddress']['TownName'])"
   ]
  },
  {
   "cell_type": "markdown",
   "metadata": {},
   "source": [
    "### Requesting the actual live data:"
   ]
  },
  {
   "cell_type": "code",
   "execution_count": null,
   "metadata": {},
   "outputs": [],
   "source": [
    "# this function is already written for you. \n",
    "# It will make an API request: get_bankofscotland_api_result()\n",
    "# and then simplify it to just keep the relevant data: get_list_of_atms()\n",
    "\n",
    "import requests\n",
    "import json \n",
    "import pprint as pp\n",
    "\n",
    "def get_bankofscotland_api_result():\n",
    "        response = requests.request(\"GET\",\"https://api.bankofscotland.co.uk/open-banking/v2.2/atms\")\n",
    "        return response.json()\n",
    "    \n",
    "def get_list_of_atms():\n",
    "    complete_response_from_api = get_bankofscotland_api_result()\n",
    "    list_of_atms = complete_response_from_api[\"data\"][0][\"Brand\"][0][\"ATM\"]\n",
    "    return list_of_atms"
   ]
  },
  {
   "cell_type": "code",
   "execution_count": null,
   "metadata": {},
   "outputs": [],
   "source": [
    "# first the unprocessed raw data:\n",
    "unprocessed_api_result = get_bankofscotland_api_result()\n",
    "pp.pprint(unprocessed_api_result)"
   ]
  },
  {
   "cell_type": "code",
   "execution_count": null,
   "metadata": {},
   "outputs": [],
   "source": [
    "# or a cleaner version: function that just gives us what we need: a list of atms\n",
    "all_atms = get_list_of_atms()\n",
    "pp.pprint(all_atms)"
   ]
  },
  {
   "cell_type": "code",
   "execution_count": null,
   "metadata": {},
   "outputs": [],
   "source": [
    "# when testing APIs, we usually ask quite generic questions.\n",
    "assert  type( all_atms) is list # check if result is a list\n",
    "assert  len( all_atms) > 0 # check if there are any items\n",
    "assert 'GBP' in all_atms[0]['SupportedCurrencies'] # check if first ATM has english as a language\n",
    "print(\"tests passed\")"
   ]
  },
  {
   "cell_type": "markdown",
   "metadata": {},
   "source": [
    "### See it in action:"
   ]
  },
  {
   "cell_type": "code",
   "execution_count": null,
   "metadata": {},
   "outputs": [],
   "source": [
    "# this function you will need to finish\n",
    "\n",
    "def get_number_of_atms_in_this_town(all_atms, town):\n",
    "    return -1 # TODO, here write your answer, it will return a number\n",
    "\n",
    "demo_data = [{'Identification': 'BFF7BC11', \n",
    "              'Location': { 'PostalAddress': {'StreetName': 'THE CROSS', 'TownName': 'PAISLEY'}}},\n",
    "             {'Identification': 'BFF7BC12', \n",
    "              'Location': { 'PostalAddress': {'StreetName': 'TOWN SQUARE', 'TownName': 'FALKIRK'}}}]\n",
    "\n",
    "assert get_number_of_atms_in_this_town(demo_data, 'FALKIRK') == 1\n",
    "assert get_number_of_atms_in_this_town(demo_data, 'GLASGOW') == 0\n",
    "print(\"tests passed\")"
   ]
  },
  {
   "cell_type": "markdown",
   "metadata": {},
   "source": [
    "<details><summary style='color:blue'>CLICK HERE TO SEE THE HINT. BUT REALLY TRY TO DO IT YOURSELF FIRST!</summary>\n",
    "    \n",
    "    ### BEGIN SOLUTION\n",
    "    return len([atm \n",
    "                for atm in all_atms \n",
    "                if atm['Location']['PostalAddress']['TownName'] == town])\n",
    "    ### END SOLUTION\n",
    "</details>"
   ]
  },
  {
   "cell_type": "code",
   "execution_count": null,
   "metadata": {},
   "outputs": [],
   "source": [
    "# this function you will need to finish\n",
    "\n",
    "def number_of_atms_as_sentence(count_of_atms, town):\n",
    "     return f\"TODO: here write your answer\"\n",
    "\n",
    "assert number_of_atms_as_sentence(20, 'Glasgow') == \"There are 20 ATMs of Bank Of Scotland in Glasgow\"\n",
    "assert number_of_atms_as_sentence(20, 'GLASGOW') == \"There are 20 ATMs of Bank Of Scotland in Glasgow\"\n",
    "assert number_of_atms_as_sentence(2, 'Falkirk') == \"There are 2 ATMs of Bank Of Scotland in Falkirk\"\n",
    "print(\"tests passed\")"
   ]
  },
  {
   "cell_type": "markdown",
   "metadata": {},
   "source": [
    "<details><summary style='color:blue'>CLICK HERE TO SEE THE HINT. BUT REALLY TRY TO DO IT YOURSELF FIRST!</summary>\n",
    "    \n",
    "    ### BEGIN SOLUTION\n",
    "     return f\"There are {count_of_atms} ATMs of Bank Of Scotland in {town.title()}\"\n",
    "    ### END SOLUTION\n",
    "</details>"
   ]
  },
  {
   "cell_type": "code",
   "execution_count": null,
   "metadata": {},
   "outputs": [],
   "source": [
    "# this function is already written for you, but will only work once you complete above functions\n",
    "\n",
    "def answer_demo_question_1():\n",
    "    a_town = 'Glasgow'\n",
    "    all_atms = get_list_of_atms() \n",
    "    number_of_atms_in_town = get_number_of_atms_in_this_town( all_atms, a_town)\n",
    "    sentence_with_findings =  number_of_atms_as_sentence(number_of_atms_in_town, a_town) \n",
    "    return sentence_with_findings\n",
    "    # if you were creating a graph, this is where you would create and show it\n",
    "    \n",
    "# no need to test top-most function, because you tested all of it's components. Just call it for now \n",
    "print( answer_demo_question_1()) "
   ]
  },
  {
   "cell_type": "markdown",
   "metadata": {},
   "source": [
    "# 3. Making your own specific requests:\n",
    "\n",
    "The real power of APIs is visible when datasets are too large, or sensitive, to gavce them all on your own machine. That's where you will make your own requests, a bit like usign quesry languages like SQL.\n",
    "\n",
    "In SQL you will say something like \n",
    "\n",
    "`SELECT * FROM Movies WHERE Title LIKE '%pokemon%' AND Year = 1999 AND Type = 'Movie';`\n",
    "\n",
    "but in an api we will clarify this in the api call's url:\n",
    "\n",
    "`http://www.omdbapi.com/?s=pokemon&y=1999&type=movie&apikey={api_key}`"
   ]
  },
  {
   "cell_type": "code",
   "execution_count": null,
   "metadata": {},
   "outputs": [],
   "source": [
    "import requests\n",
    "import math\n",
    "import pprint as pp"
   ]
  },
  {
   "cell_type": "code",
   "execution_count": null,
   "metadata": {},
   "outputs": [],
   "source": [
    "# Here's a 'quick and dirty' way to do it. It works, but just below you will see th eproper way.\n",
    "\n",
    "url = \"http://www.omdbapi.com/?s=pokemon&y=1999&type=movie&apikey=dd14dc5f\"\n",
    "pp.pprint(requests.request(\"GET\", url).json())"
   ]
  },
  {
   "cell_type": "markdown",
   "metadata": {},
   "source": [
    "### Let's do it properly: function that takes variables:\n",
    "\n",
    "Some parts of the request will always be the same (as in: they are not 'variable/changable'). Everything else should come into the function as a variable:"
   ]
  },
  {
   "cell_type": "code",
   "execution_count": null,
   "metadata": {},
   "outputs": [],
   "source": [
    "def get_basic_list_of_movies_for_title(movie_title, year_from = \"\"): \n",
    "    '''get basic info of movies. Optionally also specify year'''\n",
    "    \n",
    "    api_key = \"dd14dc5f\" \n",
    "    query = movie_title\n",
    "    result_type=\"movie\"\n",
    "    year = year_from\n",
    "    page = 1\n",
    "    \n",
    "    url = f\"http://www.omdbapi.com/?s={query}&type={result_type}&y={year}&page={page}&apikey={api_key}\"\n",
    "    result_dict = requests.request(\"GET\", url).json()\n",
    "    cleaned_up_result = result_dict['Search'] \n",
    "    return cleaned_up_result"
   ]
  },
  {
   "cell_type": "code",
   "execution_count": null,
   "metadata": {},
   "outputs": [],
   "source": [
    "pokemon_movies = get_basic_list_of_movies_for_title(\"Pokemon\")\n",
    "print('number of results: ', len(pokemon_movies))\n",
    "pp.pprint(pokemon_movies)"
   ]
  },
  {
   "cell_type": "markdown",
   "metadata": {},
   "source": [
    "### But... Why are there just 10 results? and where are all the details? \n",
    "\n",
    "Notice that this information is not very detailed! For each request you only get first 10 results. And even then you only get year, title and ID! There is not much we can do with that, can we?\n",
    "\n",
    "We will solve it in two steps:\n",
    "\n",
    "1. To get more items, we will use paging.\n",
    "\n",
    "Like in a book, something can be on page 1, and then page 2, 3 and so on. you can ask the API for the 'Next PAge', or even \"Page 15\".\n",
    "\n",
    "2. To get more details, we will make a further API call.\n",
    "\n",
    "We will explore another API call (different URL on the same API) which can give us more detaile, but only for 1 movie id. And where are we going to get a movie id from? Oh, luckilly, the first 'simple' API call gave us Title, Yerar and ID of each movie. So we will 'reuse' the response of the first API to get more details from the second one."
   ]
  },
  {
   "cell_type": "markdown",
   "metadata": {},
   "source": [
    "### Paging\n",
    "\n",
    "We will modify the function to be able to request more than 10 movies. What we will do, is to say: \n",
    "\n",
    "- request 10 movies, then increase the page \n",
    "- request the next 10 movies, and so on...\n",
    "\n",
    "Important note: \n",
    "\n",
    "PLEASE DO NOT REQUEST MORE THAN 10 PAGES - if we keep attaching the API a lot of time, it will end up thinking that it is under a cyber attack and will block our school IP address, which will make it impossible to use it for a while. So please be considerable and only make API requests you need. In general, during a lab, you should be fine by making 500ish requests."
   ]
  },
  {
   "cell_type": "code",
   "execution_count": null,
   "metadata": {},
   "outputs": [],
   "source": [
    "def get_basic_list_of_paged_movies_for_title(movie_title, year_from = \"\", number_of_pages = 1): \n",
    "    '''get basic info of movies. Optionally also specify year'''\n",
    "    \n",
    "    api_key = \"dd14dc5f\" \n",
    "    query = movie_title\n",
    "    result_type=\"movie\"\n",
    "    year = year_from\n",
    "    \n",
    "    movies_basic_info = []\n",
    "    for page in range(1, number_of_pages + 1): \n",
    "        # range is non-inclusive, so to have a range 1,2,3 use range(1,4)\n",
    "        \n",
    "        url = f\"http://www.omdbapi.com/?s={query}&page={page}&apikey={api_key}&type={result_type}&y={year}\"\n",
    "        result_dict = requests.request(\"GET\", url).json()\n",
    "        # add new results to the final list\n",
    "        movies_basic_info.extend( result_dict['Search'] ) \n",
    "        \n",
    "        # just in case if there are NO MORE PAGES TO SEE \n",
    "        #(eg. there are 33 movies, and you just requested 4th page, so you have them all)\n",
    "        totalResults = int(result_dict['totalResults']) \n",
    "        number_of_pages = math.ceil(totalResults / 10) # 10 movies per page. ceil means round UP\n",
    "        if  number_of_pages <= page:\n",
    "            break # if reached last page, stop looping\n",
    "\n",
    "    return movies_basic_info"
   ]
  },
  {
   "cell_type": "code",
   "execution_count": null,
   "metadata": {},
   "outputs": [],
   "source": [
    "pokemon_movies = get_basic_list_of_paged_movies_for_title(\"Pokemon\", number_of_pages = 3)\n",
    "print('number of results: ', len(pokemon_movies))\n",
    "pp.pprint(pokemon_movies)"
   ]
  },
  {
   "cell_type": "code",
   "execution_count": null,
   "metadata": {},
   "outputs": [],
   "source": [
    "# but notice that in the year 1999 there were only 14 pokemon movies (only??? WOW!)\n",
    "pokemon_movies = get_basic_list_of_paged_movies_for_title(\"Pokemon\", year_from='1999', number_of_pages = 3)\n",
    "print('number of results: ', len(pokemon_movies))\n",
    "pp.pprint(pokemon_movies)"
   ]
  },
  {
   "cell_type": "markdown",
   "metadata": {},
   "source": [
    "### And Finally: Where are all the details?\n",
    "\n",
    "Once we know movie ID, we can use it to make an API call to a DIFFERENT ENDPOINT of the same API\n",
    "\n",
    "**ENDPOINT** is one type of question we can ask the API. You can think of it as a cable socket on your laptop: you might have a USB plug, monitor plug, charger plug, earphones plug. Each of them is used to communicate different information in a different format. Each API endpoint will allow you to ask a slightly differernt question, if a slightly different format, and might give you the answer in a slightly different way.\n",
    "\n",
    "### Search API endpoint:\n",
    "\n",
    "We already know this **Search** endpoint that enables us to get very 'basic' info of a number of movies:\n",
    "\n",
    "`http://www.omdbapi.com/?s=`\n",
    "\n",
    "which you would use like this:\n",
    "\n",
    "`http://www.omdbapi.com/?s=pokemon&y=1999&type=movie&apikey=dd14dc5f`\n",
    "\n",
    "### Details API endpoint:\n",
    "\n",
    "`http://www.omdbapi.com/?i=`\n",
    "\n",
    "which you would use like this:\n",
    "\n",
    "`http://www.omdbapi.com/?i=tt5884052&apikey=dd14dc5f`\n"
   ]
  },
  {
   "cell_type": "code",
   "execution_count": null,
   "metadata": {},
   "outputs": [],
   "source": [
    "# again, quick and dirty first:\n",
    "movie_id = \"tt5884052\"\n",
    "url = f\"http://www.omdbapi.com/?i={movie_id}&apikey=dd14dc5f\"\n",
    "pp.pprint(requests.request(\"GET\", url).json())"
   ]
  },
  {
   "cell_type": "code",
   "execution_count": null,
   "metadata": {},
   "outputs": [],
   "source": [
    "# but if id is incorrect:\n",
    "# again, quick and dirty first:\n",
    "movie_id = \"banana\"\n",
    "url = f\"http://www.omdbapi.com/?i={movie_id}&apikey=dd14dc5f\"\n",
    "pp.pprint(requests.request(\"GET\", url).json())"
   ]
  },
  {
   "cell_type": "code",
   "execution_count": null,
   "metadata": {},
   "outputs": [],
   "source": [
    "# Now let's go for the proper usage with a function:\n",
    "\n",
    "def get_details_of_movie_with_id(movie_id): \n",
    "    api_key = \"dd14dc5f\" \n",
    "    url = f\"http://www.omdbapi.com/?i={movie_id}&apikey={api_key}\"\n",
    "    result_dict = requests.request(\"GET\", url).json()\n",
    "    \n",
    "    return result_dict if result_dict['Response'] == \"True\" else None \n",
    "    # above is a ternary (simplified if) value_if_true if condition else value_if_false\n",
    "    # if movie does not exist, return None"
   ]
  },
  {
   "cell_type": "code",
   "execution_count": null,
   "metadata": {},
   "outputs": [],
   "source": [
    "detective_pikatchu = get_details_of_movie_with_id(\"tt5884052\")\n",
    "pp.pprint(detective_pikatchu)"
   ]
  },
  {
   "cell_type": "code",
   "execution_count": null,
   "metadata": {},
   "outputs": [],
   "source": [
    "#also try these movie ids:\n",
    "\"tt0086190\"\n",
    "\"tt0451279\""
   ]
  },
  {
   "cell_type": "markdown",
   "metadata": {},
   "source": [
    "# Bringing it all together:\n",
    "\n",
    "Below code will:\n",
    "\n",
    "- ask for all movie ids for a particular title (it will ask for 20 movies)\n",
    "- then in a loop, it will use those movie ids to ask for the details of each movie\n",
    "- then it will sort movies by their length in minutes, and show the titles of 5 longest ones"
   ]
  },
  {
   "cell_type": "code",
   "execution_count": null,
   "metadata": {},
   "outputs": [],
   "source": [
    "# notice I added prints so that you see what is happening 'inside' the function when it runs\n",
    "\n",
    "def movie_length_as_number(movie):\n",
    "    # turn '104 min' into 104\n",
    "    return int(movie['Runtime'].rstrip(\" min\"))\n",
    "\n",
    "def titles_of_5_longest_movies_with_title(title):\n",
    "    simple_movie_infos = get_basic_list_of_paged_movies_for_title(title, number_of_pages = 2)\n",
    "    print(f\"found {len(simple_movie_infos)} movies\")\n",
    "    movie_details = []\n",
    "    for one_info in simple_movie_infos:\n",
    "        print(f\"ask for details of {one_info['Title']}\")\n",
    "        movie_details.append( get_details_of_movie_with_id(one_info['imdbID']))\n",
    "    movie_details.sort(key=movie_length_as_number, reverse=True)\n",
    "    return [\n",
    "        f\"{movie['Title']} is {movie['Runtime']} long\" \n",
    "        for movie in movie_details[0:5]\n",
    "           ]\n"
   ]
  },
  {
   "cell_type": "code",
   "execution_count": null,
   "metadata": {},
   "outputs": [],
   "source": [
    "longest = titles_of_5_longest_movies_with_title(\"star wars\")"
   ]
  },
  {
   "cell_type": "code",
   "execution_count": null,
   "metadata": {},
   "outputs": [],
   "source": [
    "pp.pprint(longest)"
   ]
  },
  {
   "cell_type": "markdown",
   "metadata": {},
   "source": [
    "# Now it's your turn: Here are some other APIs\n",
    "\n",
    "Try to get some data from these APIs (you might need to get the API key to access some of them):\n",
    "\n",
    "Remember the steps:\n",
    "\n",
    "- create a url with which you can ask a question\n",
    "- write a function which will fill this url with your variables\n",
    "- call that function and do something with the data"
   ]
  },
  {
   "cell_type": "markdown",
   "metadata": {},
   "source": [
    "Here are two APIs to start with:\n",
    "\n",
    "## API: weatherapi.com\n",
    "\n",
    "Below is an example of taking an hourly weather for next 3 days and "
   ]
  },
  {
   "cell_type": "code",
   "execution_count": null,
   "metadata": {},
   "outputs": [],
   "source": [
    "import requests\n",
    "import pprint as pp\n",
    "\n",
    "def get_weather_for_city(city):\n",
    "    api_key = \"to get an API key sign up to a free acount at https://www.weatherapi.com/\"\n",
    "\n",
    "    api_url_current_weather = f\"http://api.weatherapi.com/v1/forecast.json?key={api_key}&q={city}&days=3\"\n",
    "    \n",
    "    response = requests.request(\"GET\", api_url_current_weather)\n",
    "    return response.json()"
   ]
  },
  {
   "cell_type": "code",
   "execution_count": null,
   "metadata": {},
   "outputs": [],
   "source": [
    "forecast_edinburgh = get_weather_for_city(\"edinburgh\")"
   ]
  },
  {
   "cell_type": "code",
   "execution_count": null,
   "metadata": {},
   "outputs": [],
   "source": [
    "def condition_to_emoji(condition_text):\n",
    "    weathers = {\n",
    "        'Patchy rain possible':'🌧',\n",
    "        'Cloudy':'☁️',\n",
    "        'Overcast':'🌦',\n",
    "        'Partly cloudy':'🌥',\n",
    "        'Mist':'💨',\n",
    "        'Sunny':'☀️',\n",
    "        'Clear': '🌤',\n",
    "        'Light drizzle':'🌧',\n",
    "        'Light rain shower':'🌧'\n",
    "        \n",
    "    }\n",
    "    return weathers.get(condition_text, '❓')\n",
    "\n",
    "def forecast_to_emoji(full_forecast):\n",
    "    all_hours_as_emoji = [\n",
    "     condition_to_emoji(one_hour['condition']['text'])\n",
    "     for one_day in full_forecast['forecast']['forecastday']\n",
    "     for one_hour in one_day['hour']\n",
    "    ]\n",
    "    # above is an example of using double-deep list comprehension\n",
    "    return \"\".join(all_hours_as_emoji) \n",
    "    # \"\".join(some_list)  <--- this will join a list into a long string\n",
    "\n",
    "print(forecast_to_emoji(forecast_edinburgh))"
   ]
  },
  {
   "cell_type": "markdown",
   "metadata": {},
   "source": [
    "### Your turn:\n",
    "\n",
    "Formulate a question, and then answer it with data:\n",
    "\n",
    "for example:\n",
    "- Which of these three cities will be warmer tomorrow? Edinburgh, Glasgow, Inverness\n",
    "- On average which of the next 3 days will be least likely to rain in Edinburgh?\n",
    "- Any other question that comes to yoru mind..."
   ]
  },
  {
   "cell_type": "code",
   "execution_count": null,
   "metadata": {},
   "outputs": [],
   "source": [
    "# here you can write your code"
   ]
  },
  {
   "cell_type": "code",
   "execution_count": null,
   "metadata": {},
   "outputs": [],
   "source": []
  },
  {
   "cell_type": "code",
   "execution_count": null,
   "metadata": {},
   "outputs": [],
   "source": []
  },
  {
   "cell_type": "markdown",
   "metadata": {},
   "source": [
    "## API: Airplane departures - aviationstack.com\n",
    "\n",
    "You will need to create an account on their website. Free account only allows you to make 100 requests! That is not very many! (They unhelpfully do not specify if it is 100 per hour, day or month :( )\n",
    "\n"
   ]
  },
  {
   "cell_type": "code",
   "execution_count": null,
   "metadata": {},
   "outputs": [],
   "source": [
    "def planes_departures(city):\n",
    "    api_key = \"get a key at aviationstack.com\" \n",
    "    url = f\"http://api.aviationstack.com/v1/flights?access_key={api_key}&dep_icao={city}\"\n",
    "    response = requests.request(\"GET\", url)\n",
    "    return response.json()"
   ]
  },
  {
   "cell_type": "code",
   "execution_count": null,
   "metadata": {},
   "outputs": [],
   "source": [
    "# edinburgh = EGPH\n",
    "# glasgow = EGPK\n",
    "edinburgh_flights = planes_departures(\"EGPH\")\n",
    "# since your number of requests is limited, ask once, and then use the data many times, \n",
    "# in other cells"
   ]
  },
  {
   "cell_type": "code",
   "execution_count": null,
   "metadata": {},
   "outputs": [],
   "source": [
    "from datetime import datetime\n",
    "\n",
    "def flight_as_sentence(flight):\n",
    "    dep_loc = flight['departure']['airport']\n",
    "    arr_loc = flight['arrival']['airport']\n",
    "    dep_time = datetime.fromisoformat(flight['departure']['scheduled'])\n",
    "    arr_time = datetime.fromisoformat(flight['arrival']['scheduled'])\n",
    "    \n",
    "    duration_minutes = (arr_time - dep_time).total_seconds() // (60)\n",
    "    kg_of_co2_per_minute_whole_plane = 1.5\n",
    "    average_passengers = 150\n",
    "    kg_of_co2_per_minute_per_passenger = kg_of_co2_per_minute_whole_plane/ average_passengers\n",
    "    kg_of_co2 = duration_minutes*kg_of_co2_per_minute_per_passenger\n",
    "    \n",
    "    kg_of_co2_in_a_burger = 4.5\n",
    "    burgers_quivalent = round(kg_of_co2 / kg_of_co2_in_a_burger, 2)\n",
    "    \n",
    "    return f\"flight {dep_loc} to {arr_loc} uses {kg_of_co2} kg CO2, same as {burgers_quivalent} burgers 🍔\"\n",
    "\n",
    "def departure_board(all_flights):\n",
    "    return [\n",
    "        flight_as_sentence(flight)\n",
    "        for flight in all_flights['data']\n",
    "    ]"
   ]
  },
  {
   "cell_type": "code",
   "execution_count": null,
   "metadata": {},
   "outputs": [],
   "source": [
    "departure_board(edinburgh_flights)"
   ]
  },
  {
   "cell_type": "markdown",
   "metadata": {},
   "source": [
    "### Your turn:\n",
    "\n",
    "Formulate a question, and then answer it with data:\n",
    "\n",
    "for example:\n",
    "- Which of these three cities will be warmer tomorrow? Edinburgh, Glasgow, Inverness\n",
    "- On average which of the next 3 days will be least likely to rain in Edinburgh?\n",
    "- Any other question that comes to yoru mind..."
   ]
  },
  {
   "cell_type": "code",
   "execution_count": null,
   "metadata": {},
   "outputs": [],
   "source": [
    "# here you can write your code"
   ]
  },
  {
   "cell_type": "code",
   "execution_count": null,
   "metadata": {},
   "outputs": [],
   "source": []
  }
 ],
 "metadata": {
  "kernelspec": {
   "display_name": "Python 3 (ipykernel)",
   "language": "python",
   "name": "python3"
  },
  "language_info": {
   "codemirror_mode": {
    "name": "ipython",
    "version": 3
   },
   "file_extension": ".py",
   "mimetype": "text/x-python",
   "name": "python",
   "nbconvert_exporter": "python",
   "pygments_lexer": "ipython3",
   "version": "3.9.7"
  }
 },
 "nbformat": 4,
 "nbformat_minor": 2
}
