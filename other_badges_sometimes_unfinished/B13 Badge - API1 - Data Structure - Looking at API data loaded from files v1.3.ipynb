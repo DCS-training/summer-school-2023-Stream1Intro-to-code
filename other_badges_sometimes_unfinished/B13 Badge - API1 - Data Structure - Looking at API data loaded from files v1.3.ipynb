{
 "cells": [
  {
   "cell_type": "markdown",
   "id": "7f3c1580",
   "metadata": {},
   "source": [
    "This notebook shows you data of 4 APIs which we will look at in the future. This time the data si not 'live' but rather loaded from a JSON file.\n",
    "\n",
    "Your task is to look at the data and try to answer the example questions given below."
   ]
  },
  {
   "cell_type": "code",
   "execution_count": null,
   "id": "5339f05f",
   "metadata": {},
   "outputs": [],
   "source": [
    "# already done for you: run this to get the libraries\n",
    "import json\n",
    "import pprint as pp"
   ]
  },
  {
   "cell_type": "code",
   "execution_count": null,
   "id": "589805f0",
   "metadata": {},
   "outputs": [],
   "source": [
    "# already done for you: \n",
    "# you need to do this just once, to doad the data into variables. \n",
    "# Data is not live, but rather loaded from files, to remove unpleasant surprises\n",
    "\n",
    "def load_file_named(filename):\n",
    "    file = open(f'data/{filename}')\n",
    "    loaded_data =  json.load(file)\n",
    "    file.close()\n",
    "    return loaded_data"
   ]
  },
  {
   "cell_type": "code",
   "execution_count": null,
   "id": "e53334f9",
   "metadata": {},
   "outputs": [],
   "source": [
    "# already done for you: \n",
    "\n",
    "# Bank of Scotland list of ATMs: https://developer.bankofscotland.co.uk/opendata-v2.2#get-atms-2.2\n",
    "\n",
    "bankofscotland_atms = load_file_named('bankofscotland_atms.json')\n",
    "\n",
    "\n",
    "# Open Movie Database: http://www.omdbapi.com/\n",
    "\n",
    "starwars_movies = load_file_named('starwars_movies.json')\n",
    "\n",
    "# weather for 3 cities from from https://www.weatherapi.com/docs/#apis-forecast\n",
    "\n",
    "weather_edinburgh = load_file_named('weather_edinburgh.json')\n",
    "weather_london = load_file_named('weather_london.json')\n",
    "weather_glasgow = load_file_named('weather_glasgow.json')\n",
    "# if you choose to use dates, this is weather for time: datetime.fromisoformat(\"2021-11-05 14:18:05\")\n",
    "\n",
    "\n",
    "# Plane departures and arrivals from https://aviationstack.com/documentation\n",
    "\n",
    "planes_edinburgh_arrivals = load_file_named('planes_edinburgh_arrivals.json')\n",
    "planes_edinburgh_departures = load_file_named('planes_edinburgh_departures.json')\n",
    "planes_glasgow_arrivals = load_file_named('planes_glasgow_arrivals.json')\n",
    "planes_glasgow_departures = load_file_named('planes_glasgow_departures.json')\n",
    "\n",
    "print('all files loaded')"
   ]
  },
  {
   "cell_type": "markdown",
   "id": "6872591e",
   "metadata": {},
   "source": [
    "# Part 1: ATMS - Bank of Scotland list of ATMs: \n",
    "\n",
    "https://developer.bankofscotland.co.uk/opendata-v2.2#get-atms-2.2\n",
    " \n",
    "Investigate the data you are given (in a variable bankofscotland_atms) and write functions that will satisfy below tests.\n",
    "\n",
    "But first, here are some lines of code to get you started."
   ]
  },
  {
   "cell_type": "code",
   "execution_count": null,
   "id": "7f7aa476",
   "metadata": {},
   "outputs": [],
   "source": [
    "# some notes/starters\n",
    "\n",
    "print(\"first atm town\")\n",
    "print(bankofscotland_atms[0]['Location']['PostalAddress']['TownName'] )"
   ]
  },
  {
   "cell_type": "code",
   "execution_count": null,
   "id": "967ce3a4",
   "metadata": {},
   "outputs": [],
   "source": [
    "cities_all = [atm['Location']['PostalAddress']['TownName'] for atm in bankofscotland_atms]\n",
    "cities_unique = set(cities_all)\n",
    "cities_with_one_atm = [city \n",
    "                       for city in cities_unique \n",
    "                       if cities_all.count(city) == 1]\n",
    "print(\"\\ntowns with one atm\")\n",
    "print(cities_with_one_atm)"
   ]
  },
  {
   "cell_type": "code",
   "execution_count": null,
   "id": "c94e6bbb",
   "metadata": {},
   "outputs": [],
   "source": [
    "glasgowLon = -4.251433\n",
    "all_atm_towns_west_from_glasgow = [ \n",
    "    atm['Location']['PostalAddress']['TownName']\n",
    "    for atm in bankofscotland_atms \n",
    "    if float(atm['Location']['PostalAddress']['GeoLocation']['GeographicCoordinates']['Longitude']) < glasgowLon\n",
    "]\n",
    "unique_towns_west_from_glasgow = set(all_atm_towns_west_from_glasgow)\n",
    "print(\"\\nunique towns west from glasgow\")\n",
    "print(unique_towns_west_from_glasgow)"
   ]
  },
  {
   "cell_type": "code",
   "execution_count": null,
   "id": "b8458161",
   "metadata": {},
   "outputs": [],
   "source": [
    "# example function:\n",
    "# return the postcode of the first atm with a given Identification.\n",
    "# if there is no atm with this Identification, just return None\n",
    "# first atm just happens to have an id 'BFF7BC11'\n",
    "\n",
    "def postcode_of_atm_with_id(some_atms, atm_id):\n",
    "    postcodes_of_atms_with_this_id = [atm['Location']['PostalAddress']['PostCode']\n",
    "                                    for atm in some_atms\n",
    "                                    if atm['Identification'] == atm_id]\n",
    "    \n",
    "    if len(postcodes_of_atms_with_this_id) > 0:\n",
    "        return postcodes_of_atms_with_this_id[0] # return first one\n",
    "    else:\n",
    "        return None\n",
    "    \n",
    "# calling the function:\n",
    "\n",
    "print(postcode_of_atm_with_id(bankofscotland_atms, 'BFF7BC11'))\n",
    "print(postcode_of_atm_with_id(bankofscotland_atms, 'banana'))"
   ]
  },
  {
   "cell_type": "markdown",
   "id": "d9021592",
   "metadata": {},
   "source": [
    "### Some things you could look at:\n",
    " \n",
    "- number of atms\n",
    "- data of atm with given id eg. 'BFF7BC11'\n",
    "- townname of the postal address of the first ATM\n",
    "- townname of the postal address of the ATM with given id eg. 'BFF7BC11'\n",
    "- number of ATMS in a given townname of the postal address  eg. Glasgow\n",
    "- street name of all ATMs for a TownName of the postal address eg. Glasgow\n",
    "- unique list of all TownNames in the dataset\n",
    "- unique list of all TownNames in the dataset, but only towns that have more than 5 atms\n",
    "- each Location has info about LocationCategory (BranchInternal/BranchExternal/Lobby/Other), get percent of 'BranchExternal' ATMS in a given townname of the postal address  eg. Glasgow. (number of external ones in that town, divided by number of all in that town)\n",
    "- address of the first atm in the format \\\"Glasgow, 136 Buchanan Street, G63 0TG\\\" if the data about the branch are: 'StreetName': '136 BUCHANAN STREET', 'PostCode': 'G63 0TG', 'TownName': 'GLASGOW'"
   ]
  },
  {
   "cell_type": "code",
   "execution_count": null,
   "id": "a8315a26",
   "metadata": {},
   "outputs": [],
   "source": []
  },
  {
   "cell_type": "code",
   "execution_count": null,
   "id": "2ef12d9a",
   "metadata": {},
   "outputs": [],
   "source": []
  },
  {
   "cell_type": "code",
   "execution_count": null,
   "id": "fa94d468",
   "metadata": {},
   "outputs": [],
   "source": []
  },
  {
   "cell_type": "markdown",
   "id": "5ca0695e",
   "metadata": {},
   "source": [
    "# Part 2: Movies\n",
    "\n",
    "Try these things:\n",
    "\n",
    "- how many movies aree there in the list?\n",
    "- what years were the movies made in?\n",
    "- which movie was made first? (you might have to do it in a few steps)\n",
    "- ??datetime: what is the average time distance between cinema release and dvd release\n",
    "- get a unique list of individual actors, use split for individual names \"a--b--c\".split(\"--\")\n",
    "- what is the average Metascore of a movie?\n",
    "- what is the average runtime of a movie?\n",
    "- is total lengths of movies made before a particular year (eg.2000) longer than total length of moview made after?\n",
    "- what's the title of the most expensive movie?\n",
    "- describe movie in a particular format\n",
    "- what's the most common word appearing in the plot descriptions?"
   ]
  },
  {
   "cell_type": "code",
   "execution_count": null,
   "id": "e89e8e2f",
   "metadata": {},
   "outputs": [],
   "source": [
    "# hints strings into lists, and back:\n",
    "print(\"a--b--c\".split(\"--\"))\n",
    "print(\"--\".join([\"z\",\"x\",\"y\"]))\n",
    "print(\"34 hours\".rstrip(\" hours\"))"
   ]
  },
  {
   "cell_type": "code",
   "execution_count": null,
   "id": "6bc78e55",
   "metadata": {},
   "outputs": [],
   "source": [
    "from statistics import mean \n",
    "\n",
    "print(mean([-6,1,2,3]))\n",
    "\n",
    "some_numbers = [-20,-10,-3,4,5,9,10]\n",
    "print(len(some_numbers), \"length\")\n",
    "print(sum(some_numbers),\"sum\")\n",
    "print(sum(some_numbers)/len(some_numbers), \"mean\")\n",
    "print(max(some_numbers), \"max\")\n",
    "print(min(some_numbers), \"min\")\n",
    "\n",
    "print(mean(some_numbers), \"mean, but a different way to get it, imported from statistics library\")\n",
    "\n",
    "average_of_positive_numbers = mean([number for number in some_numbers if number > 0])\n",
    "print(average_of_positive_numbers, \"average of positive numbers\")"
   ]
  },
  {
   "cell_type": "code",
   "execution_count": null,
   "id": "e6dee886",
   "metadata": {},
   "outputs": [],
   "source": []
  },
  {
   "cell_type": "code",
   "execution_count": null,
   "id": "22a7a3d1",
   "metadata": {},
   "outputs": [],
   "source": []
  },
  {
   "cell_type": "code",
   "execution_count": null,
   "id": "f8ef6537",
   "metadata": {},
   "outputs": [],
   "source": []
  },
  {
   "cell_type": "markdown",
   "id": "7c92c7ff",
   "metadata": {},
   "source": [
    "# Part 3: Weather\n",
    "\n",
    "Have a look at the data format and try to answer a simple question eg. today, which of the cities will be warmest? And which will be most likely to rain?  You have these variables at your disposal: weather_edinburgh, weather_london and weather_glasgow. Feel free to pick any other question, if you prefer it.\n"
   ]
  },
  {
   "cell_type": "code",
   "execution_count": null,
   "id": "a639353f",
   "metadata": {},
   "outputs": [],
   "source": [
    "print(len(weather_edinburgh['forecast']['forecastday']))\n",
    "\n",
    "print(\"\\nfirst day midnight temperature\")\n",
    "print(weather_edinburgh['forecast']['forecastday'][0]['hour'][0]['time'])\n",
    "print(weather_edinburgh['forecast']['forecastday'][0]['hour'][0]['temp_c'])\n",
    "\n",
    "print(\"\\ninfo about each hour:\")\n",
    "print(weather_edinburgh['forecast']['forecastday'][0]['hour'][0].keys())"
   ]
  },
  {
   "cell_type": "code",
   "execution_count": null,
   "id": "7e99ca13",
   "metadata": {},
   "outputs": [],
   "source": [
    "def which_city_is_warmest_tomorrow():\n",
    "    # look into the variables, find out the answer and return the name of the city"
   ]
  },
  {
   "cell_type": "code",
   "execution_count": null,
   "id": "bbf5513f",
   "metadata": {},
   "outputs": [],
   "source": [
    "def which_city_is_most_likely_to_rain_tomorrow():\n",
    "    # look into the variables, find out the answer and return the name of the city"
   ]
  },
  {
   "cell_type": "markdown",
   "id": "00661fcf",
   "metadata": {},
   "source": [
    "# Part 4: Flights\n",
    "\n",
    "Have a look at the data format and try to answer a simple question eg. What is the name of three most popular airlines arriving at each airport? You have these variables at your disposal: planes_edinburgh_arrivals, planes_edinburgh_departures, planes_glasgow_arrivals, planes_glasgow_departures. Feel free to pick any other question, if you prefer it."
   ]
  },
  {
   "cell_type": "code",
   "execution_count": null,
   "id": "651b2540",
   "metadata": {},
   "outputs": [],
   "source": [
    "planes_edinburgh_arrivals[0]['departure']['airport']"
   ]
  },
  {
   "cell_type": "code",
   "execution_count": null,
   "id": "edb77a25",
   "metadata": {},
   "outputs": [],
   "source": [
    "def plane_description(plane_info):\n",
    "    dep_place = plane_info['departure']['airport']\n",
    "    arr_place = plane_info['arrival']['airport']\n",
    "    arr_time = plane_info['arrival']['scheduled']\n",
    "    return f\"from {dep_place} to {arr_place} expected at {arr_time}\"\n",
    "    \n",
    "\n",
    "all_planes_info = [\n",
    "    plane_description(plane)\n",
    "    for plane in planes_edinburgh_arrivals\n",
    "]\n",
    "\n",
    "pp.pprint(all_planes_info)"
   ]
  },
  {
   "cell_type": "code",
   "execution_count": null,
   "id": "9494d70a",
   "metadata": {},
   "outputs": [],
   "source": []
  },
  {
   "cell_type": "code",
   "execution_count": 1,
   "id": "f8c4e87f",
   "metadata": {},
   "outputs": [
    {
     "name": "stdout",
     "output_type": "stream",
     "text": [
      "2\n",
      "3\n"
     ]
    }
   ],
   "source": [
    "for x in [2,3]:\n",
    "    print(x)"
   ]
  },
  {
   "cell_type": "code",
   "execution_count": 6,
   "id": "d8aa4055",
   "metadata": {},
   "outputs": [],
   "source": [
    "def eat(d):\n",
    "    print(d)\n",
    "    \n",
    "    \n",
    "    "
   ]
  },
  {
   "cell_type": "code",
   "execution_count": 9,
   "id": "df122665",
   "metadata": {},
   "outputs": [
    {
     "name": "stdout",
     "output_type": "stream",
     "text": [
      "🍎 mmm!\n",
      "🍌 mmm!\n",
      "🍐 mmm!\n"
     ]
    }
   ],
   "source": [
    "fruits = [\"🍎\",\"🍌\",\"🍐\"]\n",
    "for fruit in fruits:\n",
    "    print(f\"{fruit} YAY!\")"
   ]
  },
  {
   "cell_type": "code",
   "execution_count": null,
   "id": "195e26a4",
   "metadata": {},
   "outputs": [],
   "source": []
  }
 ],
 "metadata": {
  "kernelspec": {
   "display_name": "Python 3 (ipykernel)",
   "language": "python",
   "name": "python3"
  },
  "language_info": {
   "codemirror_mode": {
    "name": "ipython",
    "version": 3
   },
   "file_extension": ".py",
   "mimetype": "text/x-python",
   "name": "python",
   "nbconvert_exporter": "python",
   "pygments_lexer": "ipython3",
   "version": "3.9.7"
  }
 },
 "nbformat": 4,
 "nbformat_minor": 5
}
