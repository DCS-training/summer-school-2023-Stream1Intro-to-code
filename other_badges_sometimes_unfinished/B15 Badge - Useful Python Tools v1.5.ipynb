{
 "cells": [
  {
   "cell_type": "markdown",
   "metadata": {},
   "source": [
    "Before we start, two useful tools, that you might know already:\n",
    "\n",
    "- Ternary operator\n",
    "- Sorting lists\n",
    "- Nested List Comp\n",
    "- saving things in files, loading things from files"
   ]
  },
  {
   "cell_type": "markdown",
   "metadata": {},
   "source": [
    "### **Ternary** operator is a simplified, one-line, version of if-else statement.\n",
    "\n",
    "Syntax is:\n",
    "\n",
    "`value_if_true if condition else value_if_false`\n",
    "\n",
    "So instead of saying\n",
    "\n",
    "`\n",
    "if len(cities) > 0:\n",
    "    answer = cities[0]\n",
    "else:\n",
    "    answer = None\n",
    "`\n",
    "\n",
    "you could say\n",
    "\n",
    "`answer = cities[0] if len(cities) > 0 else None `\n",
    "\n",
    "this is especially useful during returning, so that you can say:\n",
    "\n",
    "`return cities[0] if len(cities) > 0 else None `"
   ]
  },
  {
   "cell_type": "code",
   "execution_count": null,
   "metadata": {},
   "outputs": [],
   "source": [
    "spaces_left = 7\n",
    "print(f\"There are {spaces_left} spaces left\" if spaces_left > 0 else \"Bus is full\")\n",
    "spaces_left = 0\n",
    "print(f\"There are {spaces_left} spaces left\" if spaces_left > 0 else \"Bus is full\")"
   ]
  },
  {
   "cell_type": "markdown",
   "metadata": {},
   "source": [
    "### **Sorting of lists** requires you to specify what you would like to sort them by\n",
    "\n",
    "For the simplest scenarios we can just use the `my_list.sort()` method.\n",
    "\n",
    "Notice sort does not return anything!!! it sorts the ACTUAL LIST you gave it"
   ]
  },
  {
   "cell_type": "code",
   "execution_count": null,
   "metadata": {},
   "outputs": [],
   "source": [
    "fruits = [\"banana\", \"apple\", \"kiwi\"]\n",
    "fruits.sort() # notice sort does not return anything!!! it sorts the ACTUAL LIST you gave it\n",
    "print(fruits)"
   ]
  },
  {
   "cell_type": "code",
   "execution_count": null,
   "metadata": {},
   "outputs": [],
   "source": [
    "numbers = [10,31,100,12]\n",
    "numbers.sort() \n",
    "print(numbers)"
   ]
  },
  {
   "cell_type": "code",
   "execution_count": null,
   "metadata": {},
   "outputs": [],
   "source": [
    "# you can also sort backwards with reverse=True:\n",
    "numbers = [10,31,110,12]\n",
    "numbers.sort(reverse=True) \n",
    "print(numbers)"
   ]
  },
  {
   "cell_type": "code",
   "execution_count": null,
   "metadata": {},
   "outputs": [],
   "source": [
    "# but things becomes difficult, when we try to sort things in a specific way...\n",
    "numbers = ['10','31','110','12'] \n",
    "numbers.sort() # this will sort it aphabetically, not as numbers, so 100 is before 12.\n",
    "print(numbers)"
   ]
  },
  {
   "cell_type": "markdown",
   "metadata": {},
   "source": [
    "But the real power of sort comes from the fact that we can specify our own sorting criteria. To do that we will pass in the **NAME OF THE FUNCTION** that should be used to specify **value to sort by**."
   ]
  },
  {
   "cell_type": "code",
   "execution_count": null,
   "metadata": {},
   "outputs": [],
   "source": [
    "# so what we really want to do is this, sort of like this... \n",
    "\n",
    "numbers = [int('10'),int('31'),int('110'),int('12')] \n",
    "numbers.sort() \n",
    "print(numbers)\n",
    "\n",
    "#but..."
   ]
  },
  {
   "cell_type": "markdown",
   "metadata": {},
   "source": [
    "But notice that we actually had to CHANGE OUR VALUES to sort them. (from stirngs to numbers). It would be nicer if we could sort them without changing them."
   ]
  },
  {
   "cell_type": "code",
   "execution_count": null,
   "metadata": {},
   "outputs": [],
   "source": [
    "# sort allows us to give it a function, and say: DO THIS TO EACH ELEMENT to find out the order\n",
    "# note: it will not change the actual data (they are still strings) and that's good.\n",
    "\n",
    "numbers = ['10','31','110','12'] \n",
    "numbers.sort(key=int) \n",
    "print(numbers)"
   ]
  },
  {
   "cell_type": "markdown",
   "metadata": {},
   "source": [
    "And again: it will be the **name** of the function only. For example **len** and definitely not **len( )**"
   ]
  },
  {
   "cell_type": "code",
   "execution_count": null,
   "metadata": {},
   "outputs": [],
   "source": [
    "fruits = [\"banana\", \"apple\", \"kiwi\"]\n",
    "fruits.sort(key=len) # sort by length\n",
    "print(fruits)"
   ]
  },
  {
   "cell_type": "code",
   "execution_count": null,
   "metadata": {},
   "outputs": [],
   "source": [
    "numbers_lists = [[1,2,3], [2,4],[0,3,6], [0,0,0,1]]\n",
    "\n",
    "numbers_lists.sort(key=len) #sort by length (in order of original it would be [3,2,3,4] )\n",
    "print(numbers_lists)\n",
    "print()\n",
    "numbers_lists.sort(key=max) #sort by highest number in each list (in order of original it would be [3,4,6,1] )\n",
    "print(numbers_lists)\n",
    "print()\n",
    "numbers_lists.sort(key=min) #sort by lowest number in each list(in order of original it would be [1,2,0,0] )\n",
    "print(numbers_lists)\n",
    "print()"
   ]
  },
  {
   "cell_type": "code",
   "execution_count": null,
   "metadata": {},
   "outputs": [],
   "source": [
    "# Again, sbove examples are a bit like saying\n",
    "numbers_lists = [len([1,2,3]), len([2,4]),len([0,3,6]), len([0,0,0,1])]\n",
    "print(numbers_lists)\n",
    "numbers_lists.sort() \n",
    "print(numbers_lists)\n",
    "# but notice that this way we loose detail of individual sub-lists and that's not perfect\n",
    "#that's why we say to sort() - use this function to find the order, but do not change original data"
   ]
  },
  {
   "cell_type": "code",
   "execution_count": null,
   "metadata": {},
   "outputs": [],
   "source": [
    "# this example is really silly, so go with it :)\n",
    "# sort words by their MOST EXTREME (max==highest, min==lowest) character\n",
    "# (just their alphabetically first or last character)\n",
    "# ignore all other characters\n",
    "\n",
    "fruits = [\"banana\", \"applez\", \"zzz\", \"kiwi\", \"plum\"]\n",
    "fruits.sort(key=max) # sort by the highest (maximum) letter\n",
    "print(fruits)\n",
    "# so here we sort them by values [\"n\",\"z\", \"z\", \"w\", \"u\"]\n",
    "\n",
    "\n",
    "fruits.sort(key=min) # sort by the lowest (maximum) letter\n",
    "print(fruits)\n",
    "# so here we sort them just byt their 'lowest' letter, so values [\"a\",\"a\", \"z\", \"i\", \"l\"]"
   ]
  },
  {
   "cell_type": "code",
   "execution_count": null,
   "metadata": {},
   "outputs": [],
   "source": [
    "# now imagine this coule be YOUR OWN FUNCTION as long as it returns a value\n",
    "def lenght_of_word(word):\n",
    "    return len(word)\n",
    "\n",
    "fruits = [\"banana\", \"apple\", \"aaaa\", \"kiwi\"]\n",
    "fruits.sort(key=lenght_of_word) # sort by length\n",
    "print(fruits)"
   ]
  },
  {
   "cell_type": "code",
   "execution_count": null,
   "metadata": {},
   "outputs": [],
   "source": [
    "def number_of_letter_a(word):\n",
    "    return word.count('a')\n",
    "\n",
    "fruits = [\"banana\", \"apple\", \"aaaa\", \"kiwi\"]\n",
    "fruits.sort(key=number_of_letter_a) # sort by number of letter 'a'\n",
    "print(fruits)"
   ]
  },
  {
   "cell_type": "code",
   "execution_count": null,
   "metadata": {},
   "outputs": [],
   "source": [
    "def price_to_number(price):\n",
    "    return float(price.lstrip('£'))\n",
    "\n",
    "prices = [ \"£10.10\", \"£2.10\", \"£5.10\"]\n",
    "prices.sort(key=price_to_number) # sort by number of letter 'a'\n",
    "print(prices)\n",
    "# notice that the prices are unchanged! It only transformed them into numbers for purposes of sorting."
   ]
  },
  {
   "cell_type": "code",
   "execution_count": null,
   "metadata": {},
   "outputs": [],
   "source": [
    "# this becomes increadibly useful for sorting lists of more complex objects\n",
    "\n",
    "\n",
    "def city_area(city):\n",
    "    return  city['area']\n",
    "\n",
    "def city_population(city):\n",
    "    return  city['population']\n",
    "\n",
    "def city_density(city):\n",
    "    return city['population'] / city['area']"
   ]
  },
  {
   "cell_type": "code",
   "execution_count": null,
   "metadata": {},
   "outputs": [],
   "source": [
    "import pprint as pp\n",
    "\n",
    "cities = [  {\"name\":\"Edinburgh\",  \"population\":500000, \"area\":264},\n",
    "                 {\"name\":\"Glasgow\",  \"population\":600000, \"area\":175},\n",
    "                 {\"name\":\"Inverness\", \"population\":50000, \"area\":20}]\n",
    "\n",
    "cities.sort(key=city_area) \n",
    "pp.pprint(cities)\n",
    "print()\n",
    "\n",
    "cities.sort(key=city_population) \n",
    "pp.pprint(cities)\n",
    "print()\n",
    "\n",
    "cities.sort(key=city_density) \n",
    "pp.pprint(cities)"
   ]
  },
  {
   "cell_type": "markdown",
   "metadata": {},
   "source": [
    "### Fast string (f-string) - the simplest way to put variables into strings\n",
    "\n",
    "Look at the below examples. What is going on? Pay attention to colours!"
   ]
  },
  {
   "cell_type": "code",
   "execution_count": null,
   "metadata": {},
   "outputs": [],
   "source": [
    "# we want to say this\n",
    "print(\"my name is Jannice\")"
   ]
  },
  {
   "cell_type": "code",
   "execution_count": null,
   "metadata": {},
   "outputs": [],
   "source": [
    "# but in a more modular way. Let's add the variable:\n",
    "name = \"Jannice\"\n",
    "print(\"my name is name\")\n",
    "# oh no! what went wrong?"
   ]
  },
  {
   "cell_type": "code",
   "execution_count": null,
   "metadata": {},
   "outputs": [],
   "source": [
    "# maybe we can add these two string, simply with a + \n",
    "name = \"Jannice\"\n",
    "print(\"my name is\"+name)\n",
    "# ...ooft it went wrong. It always does! We so often forget spaces, \n",
    "# and the syntaxt is a mess of + \" \" +"
   ]
  },
  {
   "cell_type": "code",
   "execution_count": null,
   "metadata": {},
   "outputs": [],
   "source": [
    "# maybe there is a way to tell python that when we say 'name' we mean the variable?\n",
    "name = \"Jannice\"\n",
    "print(\"my name is name\")\n",
    "# but also, we do nto want to end up with a \"my Jannice is Jannice\"..."
   ]
  },
  {
   "cell_type": "code",
   "execution_count": null,
   "metadata": {},
   "outputs": [],
   "source": [
    "# f string means that anything inside, that is in {} will be 'interpreted'. Is it a variable??\n",
    "name = \"Jannice\"\n",
    "print(f\"my name is {name}\")\n",
    "# you need the f before the quotes. and {} around the variable"
   ]
  },
  {
   "cell_type": "code",
   "execution_count": null,
   "metadata": {},
   "outputs": [],
   "source": [
    "# Indeed, inside of {} you can perform operations\n",
    "number1 = 7\n",
    "number2 = 3\n",
    "print(f\"When you multiply {number1} and {number2} you will get {number1 * number2}\")"
   ]
  },
  {
   "cell_type": "code",
   "execution_count": null,
   "metadata": {},
   "outputs": [],
   "source": [
    "# ... or even call functions\n",
    "def multiply(a,b):\n",
    "    return a * b\n",
    "\n",
    "number1 = 7\n",
    "number2 = 3\n",
    "print(f\"When you multiply {number1} and {number2} you will get {multiply(number1, number2)}\")"
   ]
  },
  {
   "cell_type": "markdown",
   "metadata": {},
   "source": [
    "### Nested List Comprehension, or double-deep loops\n",
    "\n",
    "This is quite an advanced technique, but it comes really handy when deeling with deep data. You will see it at the end of this notebook when looking at weather API.\n",
    "\n",
    "Inside of the List Comp you can dive deeper into your data structure, by adding more `for X in Xs` lines. Have a look at the examples below"
   ]
  },
  {
   "cell_type": "code",
   "execution_count": null,
   "metadata": {},
   "outputs": [],
   "source": [
    "[\n",
    "    letter\n",
    "    for word in ['aaax','bxbbb','cxcxc']\n",
    "    for letter in word\n",
    "]"
   ]
  },
  {
   "cell_type": "code",
   "execution_count": null,
   "metadata": {},
   "outputs": [],
   "source": [
    "[\n",
    "    letter\n",
    "    for word in ['aaax','bxbbb','cxcxc']\n",
    "    for letter in word\n",
    "    if len(word) > 4 and letter != \"x\"\n",
    "]"
   ]
  },
  {
   "cell_type": "code",
   "execution_count": null,
   "metadata": {},
   "outputs": [],
   "source": [
    "children = [{'name': 'Pim', 'lunch':['apple', 'crisps']},\n",
    "            {'name': 'Pat', 'lunch':['pear', 'sandwich']},\n",
    "            {'name': 'Lin', 'lunch':['banana']},\n",
    "           ]\n",
    "\n",
    "[\n",
    "    food_item\n",
    "    for child in children\n",
    "    for food_item in child['lunch']\n",
    "]"
   ]
  },
  {
   "cell_type": "markdown",
   "metadata": {},
   "source": [
    "These deep for loops can be very handy if you do not want to split your code into more lines. It's good to know this technique.\n",
    "\n",
    "Here are some fun things you could do with it:"
   ]
  },
  {
   "cell_type": "code",
   "execution_count": null,
   "metadata": {},
   "outputs": [],
   "source": [
    "def multiplication_table(numbers1, numbers2):\n",
    "    all_items = [\n",
    "        f\"{first_number} times {second_number} is {first_number * second_number}\" # see f-string examples above\n",
    "        for first_number in numbers1\n",
    "        for second_number in numbers2\n",
    "    ]\n",
    "    return \"\\n\".join(all_items)\n",
    "\n",
    "print(multiplication_table( [10,100,1000],[1,2,3,4]))\n",
    "\n",
    "# once you know what is going on here, swap the lines \"for ... in ...\" with each other. What happened?"
   ]
  },
  {
   "cell_type": "code",
   "execution_count": null,
   "metadata": {},
   "outputs": [],
   "source": [
    "# top tip for the next example: a % b    means 'remainder from dividing a over b'\n",
    "print(0 % 3)\n",
    "print(1 % 3)\n",
    "print(2 % 3)\n",
    "print(3 % 3)\n",
    "print(4 % 3)\n",
    "print(5 % 3)"
   ]
  },
  {
   "cell_type": "markdown",
   "metadata": {},
   "source": [
    "So code `x % 2 == z % 2` means if remainder of dividing x over 2, is equal to remander of dividing x over 2. In other words, if they are both odd, or both even.\n",
    "\n",
    "That's how you decide the colours on chessboard - if row and column are BOTH ODD or BOTH even make it one colour, else make it another colour."
   ]
  },
  {
   "cell_type": "code",
   "execution_count": null,
   "metadata": {},
   "outputs": [],
   "source": [
    "# you can also use normal for loops for the same purpose\n",
    "\n",
    "def create_chess_board(width, height):\n",
    "    result = \"\\n\"\n",
    "    for row in range(height):\n",
    "        for column in range(width):\n",
    "            result += \"#\" if row % 2 == column % 2 else \".\"\n",
    "        result += \"\\n\"\n",
    "    return result     "
   ]
  },
  {
   "cell_type": "code",
   "execution_count": null,
   "metadata": {},
   "outputs": [],
   "source": [
    "print(create_chess_board(4,6))"
   ]
  },
  {
   "cell_type": "code",
   "execution_count": null,
   "metadata": {},
   "outputs": [],
   "source": [
    "print(create_chess_board(8,8))"
   ]
  },
  {
   "cell_type": "markdown",
   "metadata": {},
   "source": [
    "let's see a more complete example of creating a chessboard that looks like this:\n",
    "\n",
    "```\n",
    "\n",
    "  012345678\n",
    "0 #.#.#.#.#\n",
    "1 .#.#.#.#.\n",
    "2 #.#.#.#.#\n",
    "3 .#.#.#.#.\n",
    "4 #.#.#.#.#\n",
    "5 .#.#.#.#.\n",
    "6 #.#.#.#.#\n",
    "7 .#.#.#.#.\n",
    "8 #.#.#.#.#\n",
    "```"
   ]
  },
  {
   "cell_type": "code",
   "execution_count": null,
   "metadata": {},
   "outputs": [],
   "source": [
    "# first we create the top like. Remember '\\n' means 'new line' - sort of like pressing Enter key\n",
    "\n",
    "def create_chess_board_with_markings(width, height):\n",
    "    result = \"\\n  \"\n",
    "    \n",
    "    # top line indexes\n",
    "    for column in range(width):\n",
    "        result += f\"{column}\"\n",
    "    return result     \n",
    "\n",
    "print(create_chess_board_with_markings(8,8))"
   ]
  },
  {
   "cell_type": "code",
   "execution_count": null,
   "metadata": {},
   "outputs": [],
   "source": [
    "# now let's add the left line of indexes\n",
    "def create_chess_board_with_markings(width, height):\n",
    "    result = \"\\n  \"\n",
    "    \n",
    "    # top line indexes\n",
    "    for column in range(width):\n",
    "        result += f\"{column}\"\n",
    "    result += \"\\n\"\n",
    "\n",
    "    for row in range(height):\n",
    "        result += f\"{row} \" # left indexes\n",
    "       \n",
    "        result += \"\\n\"\n",
    "    return result     \n",
    "\n",
    "print(create_chess_board_with_markings(9,9))"
   ]
  },
  {
   "cell_type": "code",
   "execution_count": null,
   "metadata": {},
   "outputs": [],
   "source": [
    "# finally, let's fill in the chessboard\n",
    "def create_chess_board_with_markings(width, height):\n",
    "    result = \"\\n  \"\n",
    "    \n",
    "    # top line indexes\n",
    "    for column in range(width):\n",
    "        result += f\"{column}\"\n",
    "    result += \"\\n\"\n",
    "\n",
    "    for row in range(height):\n",
    "        result += f\"{row} \" # left indexes\n",
    "        for column in range(width):\n",
    "            result += \"#\" if row % 2 == column % 2 else \".\"\n",
    "        result += \"\\n\"\n",
    "    return result     \n",
    "\n",
    "print(create_chess_board_with_markings(9,9))"
   ]
  },
  {
   "cell_type": "markdown",
   "metadata": {},
   "source": [
    "### Loading data from files, saving things from files:\n",
    "\n",
    "The benefit of files over variables is that files stay unchanged, even thwne you log-out and close your server.\n",
    "\n",
    "One good example of using files is: many APIs are limited, i.e. allow you to only make only 100 requests per hour. That's when you would do something like this:\n",
    "\n",
    "- make your 100 requests and add them to your data so far\n",
    "- save results in a file... \n",
    "- and then come back an hour later...\n",
    "- load the data from the file you gathered previously\n",
    "\n",
    "Then repeat the whole process until you are happy. After one cycle you will have 100 results, after 5 you will have 500 results... etc."
   ]
  },
  {
   "cell_type": "code",
   "execution_count": null,
   "metadata": {},
   "outputs": [],
   "source": [
    "# functions for saving and loading json files\n",
    "# yoou do not need to understand them, but you can try to read and guess what they do\n",
    "\n",
    "import json\n",
    "def save_data_as_file(data, filename):\n",
    "    with open(filename, 'w') as outfile: # 'w' means open for writing. \n",
    "        # 'with x as y:' means try to do x and if it works, save it in variable y'\n",
    "        json.dump(data, outfile)\n",
    "        \n",
    "def load_file_named(filename):\n",
    "    file = open(filename)\n",
    "    loaded_data =  json.load(file)\n",
    "    file.close()\n",
    "    return loaded_data"
   ]
  },
  {
   "cell_type": "code",
   "execution_count": null,
   "metadata": {},
   "outputs": [],
   "source": [
    "# we'll use two functions: one to create file at the beginning, one to add data to it\n",
    "\n",
    "def create_empty_file():\n",
    "    filename = 'shopping_list.json'\n",
    "    # put something in the file to start it\n",
    "    shopping_list = {'fruits': [ ], 'vegetables':[ ] }\n",
    "    save_data_as_file(shopping_list, filename)\n",
    "    \n",
    "def ask_user_for_new_shoppinglist_items():\n",
    "    filename = 'shopping_list.json'\n",
    "    data_so_far = load_file_named(filename)\n",
    "    \n",
    "    new_fruit = input(\"What fruit would you like to add? \")\n",
    "    new_veg = input(\"What vegetable would you like to add? \")\n",
    "    data_so_far['fruits'].append(new_fruit)\n",
    "    data_so_far['vegetables'].append(new_veg)\n",
    "    \n",
    "    save_data_as_file(data_so_far, filename)\n",
    "    \n",
    "def what_is_in_shoppinglist():\n",
    "    filename = 'shopping_list.json'\n",
    "    data_so_far = load_file_named(filename)\n",
    "    return data_so_far\n",
    "    "
   ]
  },
  {
   "cell_type": "code",
   "execution_count": null,
   "metadata": {},
   "outputs": [],
   "source": [
    "create_empty_file()\n",
    "print(what_is_in_shoppinglist())\n",
    "ask_user_for_new_shoppinglist_items()\n",
    "print(what_is_in_shoppinglist())\n",
    "ask_user_for_new_shoppinglist_items()\n",
    "print(what_is_in_shoppinglist())\n",
    "\n",
    "print()\n",
    "print(\"and now go into the tab of your browser where you usually see the list of files/notebooks\")\n",
    "print(\"That's where you will see a new file: shopping_list.json\")"
   ]
  },
  {
   "cell_type": "markdown",
   "metadata": {},
   "source": [
    "### Strings and lists\n",
    "\n",
    "Sometimes you get a string that you wish you had as a list, or a list that you had as a string. \n",
    "\n",
    "To join/split them, you will have to specify what is the separating sybmol. eg:"
   ]
  },
  {
   "cell_type": "code",
   "execution_count": null,
   "metadata": {},
   "outputs": [],
   "source": [
    "# string to list\n",
    "words_together = \"aa, bb, cc\"\n",
    "separator = \", \"\n",
    "list_of_words =  words_together.split(separator)\n",
    "print(list_of_words)\n",
    "\n",
    "# and list to string\n",
    "words = ['xx', 'yy', 'zz']\n",
    "together = \"---\".join(words)\n",
    "print(together)\n"
   ]
  },
  {
   "cell_type": "markdown",
   "metadata": {},
   "source": [
    "### Adding things to a list and 'flattening' lists"
   ]
  },
  {
   "cell_type": "code",
   "execution_count": null,
   "metadata": {},
   "outputs": [],
   "source": [
    "numbers = [1,2,3]\n",
    "one_number = 4\n",
    "numbers.append(one_number)\n",
    "print(numbers)"
   ]
  },
  {
   "cell_type": "code",
   "execution_count": null,
   "metadata": {},
   "outputs": [],
   "source": [
    "numbers = [1,2,3]\n",
    "more_numbers = [4,5]\n",
    "numbers.append(more_numbers)\n",
    "print(numbers)\n",
    "# look at the result, what is wrong?"
   ]
  },
  {
   "cell_type": "code",
   "execution_count": null,
   "metadata": {},
   "outputs": [],
   "source": [
    "# to add many numbers you would use EXTEND() \n",
    "# notice, it does not return anything, rather, it changes the list it was called on.\n",
    "# so you would not call:      result = x.extend(y)   but just    x.extend(y)\n",
    "numbers = [1,2,3]\n",
    "more_numbers = [4,5]\n",
    "numbers.extend(more_numbers)\n",
    "print(numbers)\n"
   ]
  },
  {
   "cell_type": "code",
   "execution_count": null,
   "metadata": {},
   "outputs": [],
   "source": [
    "# and if you have a list within a list and you'd like to 'flatten' them to one dimention:\n",
    "list_of_lists = [[1,2,3], [4,5,6], [7,8]]\n",
    "flat_list = [item \n",
    "             for inner_list in list_of_lists\n",
    "             for item in inner_list\n",
    "            ]\n",
    "print(flat_list)"
   ]
  },
  {
   "cell_type": "code",
   "execution_count": null,
   "metadata": {},
   "outputs": [],
   "source": [
    "# or with loops\n",
    "\n",
    "# and if you have a list within a list and you'd like to 'flatten' them to one dimention:\n",
    "list_of_lists = [[1,2,3], [4,5,6], [7,8]]\n",
    "flat_list = []\n",
    "for inner_list in list_of_lists:\n",
    "    flat_list.extend(inner_list)\n",
    "print(flat_list)"
   ]
  },
  {
   "cell_type": "markdown",
   "metadata": {},
   "source": [
    "## ⭐️⭐️⭐️💥 What you learned in this session: Three stars and a wish \n",
    "**In yoru own words** write in your Learn diary:\n",
    "\n",
    "- 3 things you yould like to remember from this badge\n",
    "- 1 thing you wish to understand better in the future or a question you'd like to ask\n"
   ]
  },
  {
   "cell_type": "markdown",
   "metadata": {},
   "source": [
    "# ⛏ Minitask: Write a simple app: 'SHOP INVENTORY'\n",
    "\n",
    "```\n",
    "# example file contents (you decide file name):\n",
    "\n",
    "     [\n",
    "      {'name':'banana', 'price: 1.29'},\n",
    "      {'name':'kiwi', 'price: 0.79'}\n",
    "     ]\n",
    "```\n",
    "\n",
    "Write a simple 'app', as in a number of functions, which will perform the following tasks:\n",
    "\n",
    "- create_empty_list(), will create empty list and save it to the file\n",
    "- load_from_file(), will load shop items from file\n",
    "- save_to_file( all_items ), will save shop items into a file\n",
    "\n",
    "- add_new_item( name, price ), will add new item (with given details) to the file (as a dictionary in a list in a json, see example below for a hint)\n",
    "- list_saved_items() will return all the items pereviously saved in the file. LIST SHOULD BE SORTED BY PRICE.\n",
    "- delete_all_items() will remove all items form the file\n",
    "- (advanced) delete_one_item( item_index ) will remove from the file just the item with the given index\n",
    "- total_value() will return a sum of all prices of items\n",
    "\n",
    "\n",
    "And using the 'app' could look like this:\n",
    "\n",
    "```\n",
    "create_empty_list()\n",
    "print(list_saved_items())\n",
    "add_new_item( 'banana', 1.29 )\n",
    "add_new_item( 'kiwi', 0.79 )\n",
    "add_new_item( 'apple', 0.40 )\n",
    "print(list_saved_items())\n",
    "print(total_value())  # prints 2.48\n",
    "print(list_saved_items()) # prints some version of \"banana 1.29; kiwi 0.79; apple 0.40;\" you decide\n",
    "delete_all_items()\n",
    "print(total_value())  # prints 0\n",
    "```\n"
   ]
  },
  {
   "cell_type": "code",
   "execution_count": null,
   "metadata": {},
   "outputs": [],
   "source": [
    "# your solution here"
   ]
  },
  {
   "cell_type": "code",
   "execution_count": null,
   "metadata": {},
   "outputs": [],
   "source": []
  },
  {
   "cell_type": "markdown",
   "metadata": {},
   "source": [
    "# ⛏ Advanced Minitask (optional): Write a two-player Tic-Tac-Toe / Noughts&Crosses game\n",
    "\n",
    "- It would store the current state of the board in a variable. How would you do that? Would it be a list of lists? or another data format.\n",
    "- it would have a function that prints the board for you. This could use a nexsted loop.\n",
    "- it would have a function that restarts the board/game to the beginning, before moves were made.\n",
    "- it would have a function make_move(x,y,symbol) which you would use like this:\n",
    "`make_move(2,0,'O')` to add 'O' in top right corner or like `make_move(1,1,'X')` to add an 'X' in the middle\n",
    "- additionally can your game check if someone won, and who? (warning, this can be very complicated)\n",
    "\n",
    "- (optional) you could write it in a while loop that asks the next player (with input()) for their move, until someone wins.\n",
    "\n",
    "And using the 'app' could look like this:\n",
    "\n",
    "```\n",
    "restart_game()\n",
    "print_board()\n",
    "# would print something like\n",
    ". . .\n",
    ". . .\n",
    ". . .\n",
    "make_move(2,0,'O')\n",
    "make_move(1,1,'X')\n",
    "print_board()\n",
    "# would print something like\n",
    ". . O\n",
    ". X .\n",
    ". . .\n",
    "```\n",
    "\n",
    "It is often a good idea to first decide on how you will store the intormation abotu your game... you could start with a 'variable called 'board'. It could be a list of lists: main list with each row being an item, and one list for each cell in that row."
   ]
  },
  {
   "cell_type": "code",
   "execution_count": null,
   "metadata": {},
   "outputs": [],
   "source": [
    "# your solution here\n",
    "\n"
   ]
  },
  {
   "cell_type": "code",
   "execution_count": null,
   "metadata": {},
   "outputs": [],
   "source": []
  }
 ],
 "metadata": {
  "kernelspec": {
   "display_name": "Python 3 (ipykernel)",
   "language": "python",
   "name": "python3"
  },
  "language_info": {
   "codemirror_mode": {
    "name": "ipython",
    "version": 3
   },
   "file_extension": ".py",
   "mimetype": "text/x-python",
   "name": "python",
   "nbconvert_exporter": "python",
   "pygments_lexer": "ipython3",
   "version": "3.9.7"
  }
 },
 "nbformat": 4,
 "nbformat_minor": 2
}
