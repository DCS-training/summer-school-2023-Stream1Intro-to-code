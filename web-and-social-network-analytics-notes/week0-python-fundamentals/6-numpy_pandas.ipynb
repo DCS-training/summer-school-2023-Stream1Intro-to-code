{
 "cells": [
  {
   "cell_type": "markdown",
   "metadata": {},
   "source": [
    "In this notebook, some basic procedures that exist in NumPy, pandas, and scikit-learn are covered. This only scratches the surface of the possibilities, and many other functions and code will be used later on. Make sure to search around for the possiblities that exist yourself, and get a grasp of how the modules are called and used. Let's import them in this notebook to start with:"
   ]
  },
  {
   "cell_type": "code",
   "execution_count": 2,
   "metadata": {},
   "outputs": [
    {
     "name": "stdout",
     "output_type": "stream",
     "text": [
      "Collecting sklearn\n",
      "  Downloading https://files.pythonhosted.org/packages/1e/7a/dbb3be0ce9bd5c8b7e3d87328e79063f8b263b2b1bfa4774cb1147bfcd3f/sklearn-0.0.tar.gz\n",
      "Collecting scikit-learn\n",
      "\u001b[?25l  Downloading https://files.pythonhosted.org/packages/82/d9/69769d4f79f3b719cc1255f9bd2b6928c72f43e6f74084e3c67db86c4d2b/scikit_learn-0.22.1-cp37-cp37m-macosx_10_6_intel.whl (11.0MB)\n",
      "\u001b[K     |████████████████████████████████| 11.0MB 9.2MB/s eta 0:00:01\n",
      "\u001b[?25hRequirement already satisfied: numpy>=1.11.0 in /Users/pawel/opt/anaconda3/envs/simple/lib/python3.7/site-packages (from scikit-learn->sklearn) (1.17.4)\n",
      "Collecting joblib>=0.11\n",
      "\u001b[?25l  Downloading https://files.pythonhosted.org/packages/28/5c/cf6a2b65a321c4a209efcdf64c2689efae2cb62661f8f6f4bb28547cf1bf/joblib-0.14.1-py2.py3-none-any.whl (294kB)\n",
      "\u001b[K     |████████████████████████████████| 296kB 8.4MB/s eta 0:00:01\n",
      "\u001b[?25hCollecting scipy>=0.17.0\n",
      "\u001b[?25l  Downloading https://files.pythonhosted.org/packages/85/7a/ae480be23b768910a9327c33517ced4623ba88dc035f9ce0206657c353a9/scipy-1.4.1-cp37-cp37m-macosx_10_6_intel.whl (28.4MB)\n",
      "\u001b[K     |████████████████████████████████| 28.4MB 620kB/s  eta 0:00:01    |██████████████████              | 16.0MB 8.4MB/s eta 0:00:02     |██████████████████████████████▌ | 27.1MB 21.7MB/s eta 0:00:01\n",
      "\u001b[?25hBuilding wheels for collected packages: sklearn\n",
      "  Building wheel for sklearn (setup.py) ... \u001b[?25ldone\n",
      "\u001b[?25h  Created wheel for sklearn: filename=sklearn-0.0-py2.py3-none-any.whl size=1316 sha256=a5d26d163a2367f7be87e130f70b68ead0d805fe5b6b295c622f0e78224850c9\n",
      "  Stored in directory: /Users/pawel/Library/Caches/pip/wheels/76/03/bb/589d421d27431bcd2c6da284d5f2286c8e3b2ea3cf1594c074\n",
      "Successfully built sklearn\n",
      "Installing collected packages: joblib, scipy, scikit-learn, sklearn\n",
      "Successfully installed joblib-0.14.1 scikit-learn-0.22.1 scipy-1.4.1 sklearn-0.0\n"
     ]
    }
   ],
   "source": [
    "!pip install sklearn\n",
    "\n",
    "import numpy as np\n",
    "import pandas as pd\n",
    "import sklearn\n",
    "\n"
   ]
  },
  {
   "cell_type": "markdown",
   "metadata": {},
   "source": [
    "# NumPy"
   ]
  },
  {
   "cell_type": "markdown",
   "metadata": {},
   "source": [
    "NumPy can be used for many different things, most notably for manipulating arrays and performing mathematical operations:"
   ]
  },
  {
   "cell_type": "code",
   "execution_count": 2,
   "metadata": {},
   "outputs": [
    {
     "name": "stdout",
     "output_type": "stream",
     "text": [
      "Empty array: \n",
      " [0. 0. 0. 0. 0.]\n",
      "Empty matrix: \n",
      " [[0. 0.]\n",
      " [0. 0.]\n",
      " [0. 0.]\n",
      " [0. 0.]\n",
      " [0. 0.]]\n"
     ]
    }
   ],
   "source": [
    "# Create empty arrays/matrices\n",
    "empty_array = np.zeros(5)\n",
    "\n",
    "empty_matrix = np.zeros((5,2))\n",
    "\n",
    "print('Empty array: \\n',empty_array)\n",
    "print('Empty matrix: \\n',empty_matrix)"
   ]
  },
  {
   "cell_type": "code",
   "execution_count": 4,
   "metadata": {},
   "outputs": [
    {
     "name": "stdout",
     "output_type": "stream",
     "text": [
      "Matrix: \n",
      " [[1 2 3]\n",
      " [4 5 6]]\n",
      "Transpose: \n",
      " [[1 4]\n",
      " [2 5]\n",
      " [3 6]]\n",
      "Item 2,2:  5\n",
      "Item 2,3:  6\n",
      "rows and columns:  (2, 3)\n",
      "Sum total matrix:  21\n",
      "Sum row 1:  6\n",
      "Sum row 2:  15\n",
      "Sum column 2:  9\n"
     ]
    }
   ],
   "source": [
    "# Create matrices\n",
    "mat = np.array([[1,2,3],[4,5,6]])\n",
    "print('Matrix: \\n', mat)\n",
    "print('Transpose: \\n', mat.T)\n",
    "print('Item 2,2: ', mat[1,1])\n",
    "print('Item 2,3: ', mat[1,2])\n",
    "print('rows and columns: ', np.shape(mat))\n",
    "print('Sum total matrix: ', np.sum(mat))\n",
    "print('Sum row 1: ' , np.sum(mat[0]))\n",
    "print('Sum row 2: ', np.sum(mat[1]))\n",
    "print('Sum column 2: ', np.sum(mat,axis=0)[2])"
   ]
  },
  {
   "cell_type": "markdown",
   "metadata": {},
   "source": [
    "# pandas"
   ]
  },
  {
   "cell_type": "markdown",
   "metadata": {},
   "source": [
    "### Creating dataframes"
   ]
  },
  {
   "cell_type": "markdown",
   "metadata": {},
   "source": [
    "pandas is great for reading and creating datasets, as well as performing basic operations on them."
   ]
  },
  {
   "cell_type": "code",
   "execution_count": 41,
   "metadata": {},
   "outputs": [
    {
     "name": "stdout",
     "output_type": "stream",
     "text": [
      "          0   1\n",
      "0  johannes  10\n",
      "1  giovanni   2\n",
      "2      john   3\n"
     ]
    }
   ],
   "source": [
    "# Creating a matrix with three rows of data\n",
    "data = [['johannes',10], ['giovanni',2], ['john',3]]\n",
    "\n",
    "# Creating and printing a pandas DataFrame object from the matrix\n",
    "df = pd.DataFrame(data)\n",
    "print(df)"
   ]
  },
  {
   "cell_type": "code",
   "execution_count": 42,
   "metadata": {},
   "outputs": [
    {
     "name": "stdout",
     "output_type": "stream",
     "text": [
      "      names  years\n",
      "0  johannes     10\n",
      "1  giovanni      2\n",
      "2      john      3\n"
     ]
    }
   ],
   "source": [
    "# Adding columns to the DataFrame object\n",
    "df.columns = ['names', 'years']\n",
    "print(df)"
   ]
  },
  {
   "cell_type": "markdown",
   "metadata": {},
   "source": [
    "Alternative:"
   ]
  },
  {
   "cell_type": "code",
   "execution_count": 43,
   "metadata": {},
   "outputs": [
    {
     "name": "stdout",
     "output_type": "stream",
     "text": [
      "      names  years\n",
      "0  johannes     10\n",
      "1  giovanni      2\n",
      "2      john      3\n"
     ]
    }
   ],
   "source": [
    "df_2 = pd.DataFrame(data = data, columns = ['names', 'years'])\n",
    "print(df_2)"
   ]
  },
  {
   "cell_type": "code",
   "execution_count": 44,
   "metadata": {},
   "outputs": [
    {
     "name": "stdout",
     "output_type": "stream",
     "text": [
      "0    10\n",
      "1     2\n",
      "2     3\n",
      "Name: years, dtype: int64\n",
      "Sum of all values in column:  15\n"
     ]
    }
   ],
   "source": [
    "# Taking out a single column and calculating its sum\n",
    "# This also shows the type of the variable: a 64 bit integer (array)\n",
    "print(df['years'])\n",
    "print('Sum of all values in column: ', df['years'].sum())"
   ]
  },
  {
   "cell_type": "code",
   "execution_count": 45,
   "metadata": {},
   "outputs": [
    {
     "name": "stdout",
     "output_type": "stream",
     "text": [
      "      names  years\n",
      "0  johannes     10\n",
      "1  giovanni      2\n",
      "2      john      3\n",
      "3  giovanni      2\n",
      "4      john      3\n",
      "\n",
      "\n",
      "      names  years\n",
      "5  giovanni      2\n",
      "6      john      3\n",
      "7  giovanni      2\n",
      "8      john      3\n",
      "9  johannes     10\n"
     ]
    }
   ],
   "source": [
    "# Creating a larger matrix\n",
    "data = [['johannes',10], ['giovanni',2], ['john',3], ['giovanni',2], ['john',3], ['giovanni',2], ['john',3], ['giovanni',2], ['john',3], ['johannes',10]]\n",
    "\n",
    "# Again, creating a DataFrame object, now with columns\n",
    "df = pd.DataFrame(data, columns = ['names','years'])\n",
    "\n",
    "# Print the 5 first (head) and 5 last (tail) observations\n",
    "print(df.head())\n",
    "print('\\n')\n",
    "print(df.tail())"
   ]
  },
  {
   "cell_type": "markdown",
   "metadata": {},
   "source": [
    "### Reading files"
   ]
  },
  {
   "cell_type": "markdown",
   "metadata": {},
   "source": [
    "You can read files:"
   ]
  },
  {
   "cell_type": "code",
   "execution_count": 55,
   "metadata": {},
   "outputs": [
    {
     "name": "stdout",
     "output_type": "stream",
     "text": [
      "    Odilia Ellerbee  F  1962\n",
      "0    Rosia    Babst  F  1721\n",
      "1  Zackary    Ellis  M  1589\n",
      "2      Leo  Brescia  M  1248\n",
      "3   Santos  Falcone  M  1743\n",
      "4       Ta     Burr  F  1704\n"
     ]
    }
   ],
   "source": [
    "dataset = pd.read_csv('amounts.csv')\n",
    "print(dataset.head())"
   ]
  },
  {
   "cell_type": "code",
   "execution_count": 56,
   "metadata": {
    "scrolled": true
   },
   "outputs": [
    {
     "name": "stdout",
     "output_type": "stream",
     "text": [
      "        first_name last_name  amount\n",
      "Odilia    Ellerbee         F    1962\n",
      "Rosia        Babst         F    1721\n",
      "Zackary      Ellis         M    1589\n",
      "Leo        Brescia         M    1248\n",
      "Santos     Falcone         M    1743\n"
     ]
    }
   ],
   "source": [
    "dataset = pd.read_csv('amounts.csv', names = ['first_name', 'last_name', 'amount'])\n",
    "print(dataset.head())"
   ]
  },
  {
   "cell_type": "markdown",
   "metadata": {},
   "source": [
    "### Using dataframes"
   ]
  },
  {
   "cell_type": "code",
   "execution_count": 60,
   "metadata": {},
   "outputs": [
    {
     "name": "stdout",
     "output_type": "stream",
     "text": [
      "['johannes' 'giovanni' 'john']\n"
     ]
    }
   ],
   "source": [
    "# Print all unique values of the column names\n",
    "print(df['names'].unique())"
   ]
  },
  {
   "cell_type": "code",
   "execution_count": 61,
   "metadata": {},
   "outputs": [
    {
     "name": "stdout",
     "output_type": "stream",
     "text": [
      "john        4\n",
      "giovanni    4\n",
      "johannes    2\n",
      "Name: names, dtype: int64\n",
      "3     4\n",
      "2     4\n",
      "10    2\n",
      "Name: years, dtype: int64\n"
     ]
    }
   ],
   "source": [
    "# Print all values and their frequency:\n",
    "print(df['names'].value_counts())\n",
    "print(df['years'].value_counts())"
   ]
  },
  {
   "cell_type": "code",
   "execution_count": 62,
   "metadata": {},
   "outputs": [
    {
     "name": "stdout",
     "output_type": "stream",
     "text": [
      "      names  years  code\n",
      "0  johannes     10   0.0\n",
      "1  giovanni      2   0.0\n",
      "2      john      3   0.0\n",
      "3  giovanni      2   0.0\n",
      "4      john      3   0.0\n",
      "5  giovanni      2   0.0\n",
      "6      john      3   0.0\n",
      "7  giovanni      2   0.0\n",
      "8      john      3   0.0\n",
      "9  johannes     10   0.0\n"
     ]
    }
   ],
   "source": [
    "# Add a column names 'code' with all zeros\n",
    "df['code'] = np.zeros(10)\n",
    "print(df)"
   ]
  },
  {
   "cell_type": "markdown",
   "metadata": {},
   "source": [
    "You can also easily find things in a DataFrame use ```.loc```:"
   ]
  },
  {
   "cell_type": "code",
   "execution_count": 63,
   "metadata": {},
   "outputs": [
    {
     "name": "stdout",
     "output_type": "stream",
     "text": [
      "      names  years  code\n",
      "2      john      3   0.0\n",
      "3  giovanni      2   0.0\n",
      "4      john      3   0.0\n",
      "5  giovanni      2   0.0\n"
     ]
    }
   ],
   "source": [
    "# Rows 2 to 5 and all columns:\n",
    "print(df.loc[2:5, :])"
   ]
  },
  {
   "cell_type": "code",
   "execution_count": 64,
   "metadata": {},
   "outputs": [
    {
     "name": "stdout",
     "output_type": "stream",
     "text": [
      "0    johannes\n",
      "1    giovanni\n",
      "2        john\n",
      "3    giovanni\n",
      "4        john\n",
      "5    giovanni\n",
      "6        john\n",
      "7    giovanni\n",
      "8        john\n",
      "9    johannes\n",
      "Name: names, dtype: object\n",
      "0    10\n",
      "1     2\n",
      "2     3\n",
      "3     2\n",
      "4     3\n",
      "5     2\n",
      "6     3\n",
      "7     2\n",
      "8     3\n",
      "9    10\n",
      "Name: years, dtype: int64\n",
      "0    0.0\n",
      "1    0.0\n",
      "2    0.0\n",
      "3    0.0\n",
      "4    0.0\n",
      "5    0.0\n",
      "6    0.0\n",
      "7    0.0\n",
      "8    0.0\n",
      "9    0.0\n",
      "Name: code, dtype: float64\n"
     ]
    }
   ],
   "source": [
    "# Looping columns\n",
    "for variable in df.columns:\n",
    "    print(df[variable])"
   ]
  },
  {
   "cell_type": "code",
   "execution_count": 65,
   "metadata": {},
   "outputs": [
    {
     "name": "stdout",
     "output_type": "stream",
     "text": [
      "['johannes' 'giovanni' 'john' 'giovanni' 'john' 'giovanni' 'john'\n",
      " 'giovanni' 'john' 'johannes']\n",
      "[10  2  3  2  3  2  3  2  3 10]\n",
      "[0. 0. 0. 0. 0. 0. 0. 0. 0. 0.]\n"
     ]
    }
   ],
   "source": [
    "# Looping columns and obtaining the values (which returns an array)\n",
    "for variable in df.columns:\n",
    "    print(df[variable].values)"
   ]
  }
 ],
 "metadata": {
  "kernelspec": {
   "display_name": "Python 3",
   "language": "python",
   "name": "python3"
  },
  "language_info": {
   "codemirror_mode": {
    "name": "ipython",
    "version": 3
   },
   "file_extension": ".py",
   "mimetype": "text/x-python",
   "name": "python",
   "nbconvert_exporter": "python",
   "pygments_lexer": "ipython3",
   "version": "3.7.5"
  }
 },
 "nbformat": 4,
 "nbformat_minor": 2
}
