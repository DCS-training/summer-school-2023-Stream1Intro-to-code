{
 "cells": [
  {
   "cell_type": "markdown",
   "metadata": {},
   "source": [
    "## Lists"
   ]
  },
  {
   "cell_type": "markdown",
   "metadata": {},
   "source": [
    "Lists are great for collecting anything. They can contain objects of different types. For example:"
   ]
  },
  {
   "cell_type": "code",
   "execution_count": 17,
   "metadata": {},
   "outputs": [],
   "source": [
    "names = [5, \"Giovanni\", \"Rose\", \"Yongzhe\", \"Luciana\", \"Imani\"]"
   ]
  },
  {
   "cell_type": "markdown",
   "metadata": {},
   "source": [
    "Although that is not best practice. Let's start with a list of names:"
   ]
  },
  {
   "cell_type": "code",
   "execution_count": 18,
   "metadata": {},
   "outputs": [],
   "source": [
    "names = [\"Johannes\", \"Giovanni\", \"Rose\", \"Yongzhe\", \"Luciana\", \"Imani\"]"
   ]
  },
  {
   "cell_type": "code",
   "execution_count": 19,
   "metadata": {},
   "outputs": [
    {
     "name": "stdout",
     "output_type": "stream",
     "text": [
      "Name: Johannes\n",
      "Name: Giovanni\n",
      "Name: Rose\n",
      "Name: Yongzhe\n",
      "Name: Luciana\n",
      "Name: Imani\n",
      "GIOVANNI\n",
      "IMANI\n",
      "LUCIANA\n",
      "First three: ['Johannes', 'Giovanni', 'Rose']\n",
      "First four: ['Johannes', 'Giovanni', 'Rose', 'Yongzhe']\n",
      "Up until the second to last one: ['Johannes', 'Giovanni', 'Rose', 'Yongzhe']\n",
      "Last two: ['Luciana', 'Imani']\n"
     ]
    }
   ],
   "source": [
    "# Loop names\n",
    "for name in names:\n",
    "    print('Name: '+name)\n",
    "\n",
    "# Get 'Giovanni' from list\n",
    "# Lists start counting at 0\n",
    "giovanni = names[1]\n",
    "print(giovanni.upper())\n",
    "\n",
    "# Get last item\n",
    "name = names[-1]\n",
    "print(name.upper())\n",
    "\n",
    "# Get second to last item\n",
    "name = names[-2]\n",
    "print(name.upper())\n",
    "\n",
    "print(\"First three: \"+str(names[0:3]))\n",
    "print(\"First four: \"+str(names[:4]))\n",
    "print(\"Up until the second to last one: \"+str(names[:-2]))\n",
    "print(\"Last two: \"+str(names[-2:]))"
   ]
  },
  {
   "cell_type": "markdown",
   "metadata": {},
   "source": [
    "## Enumeration"
   ]
  },
  {
   "cell_type": "markdown",
   "metadata": {},
   "source": [
    "We can enumerate collections/lists that adds an index to every element:"
   ]
  },
  {
   "cell_type": "code",
   "execution_count": 20,
   "metadata": {},
   "outputs": [
    {
     "name": "stdout",
     "output_type": "stream",
     "text": [
      "0   Johannes  is in the list.\n",
      "1   Giovanni  is in the list.\n",
      "2   Rose  is in the list.\n",
      "3   Yongzhe  is in the list.\n",
      "4   Luciana  is in the list.\n",
      "5   Imani  is in the list.\n"
     ]
    }
   ],
   "source": [
    "for index, name in enumerate(names):\n",
    "    print(str(index) , \" \" , name, \" is in the list.\")"
   ]
  },
  {
   "cell_type": "markdown",
   "metadata": {},
   "source": [
    "## Searching and editing"
   ]
  },
  {
   "cell_type": "code",
   "execution_count": 29,
   "metadata": {},
   "outputs": [
    {
     "name": "stdout",
     "output_type": "stream",
     "text": [
      "0\n",
      "['Johannes', 'Giovanni', 'Roberta', 'Rose', 'Yongzhe', 'Luciana', 'Imani', 'Kumiko']\n",
      "Fruits:  ['orange']\n",
      "['Johannes', 'Giovanni', 'Roberta', 'Rose', 'Yongzhe', 'Tom', 'Imani', 'Kumiko']\n",
      "True\n",
      "Length of the list: 8\n"
     ]
    }
   ],
   "source": [
    "names = [\"Johannes\", \"Giovanni\", \"Rose\", \"Yongzhe\", \"Luciana\", \"Imani\"]\n",
    "\n",
    "# Finding an element\n",
    "print(names.index(\"Johannes\"))\n",
    "\n",
    "# Adding an element\n",
    "names.append(\"Kumiko\")\n",
    "\n",
    "# Adding an element at a specific location\n",
    "names.insert(2, \"Roberta\")\n",
    "\n",
    "print(names)\n",
    "\n",
    "#Removal\n",
    "fruits = [\"apple\",\"orange\",\"pear\"]\n",
    "del fruits[0]\n",
    "fruits.remove(\"pear\")\n",
    "print('Fruits: ', fruits)\n",
    "\n",
    "# Modifying an element\n",
    "names[5] = \"Tom\"\n",
    "print(names)\n",
    "\n",
    "# Test whether an item is in the list (best do this before removing to avoid raising errors)\n",
    "print(\"Tom\" in names)\n",
    "\n",
    "# Length of a list\n",
    "print(\"Length of the list: \" + str(len(names)))"
   ]
  },
  {
   "cell_type": "markdown",
   "metadata": {},
   "source": [
    "## Sorting and copying"
   ]
  },
  {
   "cell_type": "code",
   "execution_count": 30,
   "metadata": {},
   "outputs": [
    {
     "name": "stdout",
     "output_type": "stream",
     "text": [
      "['Giovanni', 'Imani', 'Johannes', 'Kumiko', 'Roberta', 'Rose', 'Tom', 'Yongzhe']\n",
      "['Johannes', 'Giovanni', 'Roberta', 'Rose', 'Yongzhe', 'Tom', 'Imani', 'Kumiko']\n",
      "Sorted names: ['Giovanni', 'Imani', 'Johannes', 'Kumiko', 'Roberta', 'Rose', 'Tom', 'Yongzhe']\n",
      "Reverse sorted names: ['Yongzhe', 'Tom', 'Rose', 'Roberta', 'Kumiko', 'Johannes', 'Imani', 'Giovanni']\n"
     ]
    }
   ],
   "source": [
    "# Temporary sorting:\n",
    "print(sorted(names))\n",
    "print(names)\n",
    "\n",
    "# Make changes permanent\n",
    "names.sort()\n",
    "print(\"Sorted names: \" + str(names))\n",
    "names.sort(reverse=True)\n",
    "print(\"Reverse sorted names: \" + str(names))"
   ]
  },
  {
   "cell_type": "code",
   "execution_count": 31,
   "metadata": {},
   "outputs": [
    {
     "name": "stdout",
     "output_type": "stream",
     "text": [
      "['Yongzhe', 'Tom', 'Rose', 'Roberta', 'Kumiko', 'Imani', 'Giovanni']\n",
      "['Yongzhe', 'Tom', 'Rose', 'Roberta', 'Kumiko', 'Imani', 'Giovanni']\n",
      "After deep copy\n",
      "['Yongzhe', 'Tom', 'Rose', 'Roberta', 'Kumiko', 'Imani']\n",
      "['Yongzhe', 'Tom', 'Rose', 'Roberta', 'Kumiko', 'Imani', 'Giovanni']\n",
      "['Yongzhe', 'Tom', 'Rose', 'Roberta', 'Kumiko', 'Imani', 'Giovanni']\n"
     ]
    }
   ],
   "source": [
    "# Copying list (a shallow copy just duplicates the pointer to the memory address)\n",
    "namez = names\n",
    "namez.remove(\"Johannes\")\n",
    "print(namez)\n",
    "print(names)\n",
    "\n",
    "# Now a 'deep' copy\n",
    "print(\"After deep copy\")\n",
    "\n",
    "namez = names.copy()\n",
    "namez.remove(\"Giovanni\")\n",
    "print(namez)\n",
    "print(names)\n",
    "\n",
    "#Alternative\n",
    "namez = names[:]\n",
    "print(namez)"
   ]
  },
  {
   "cell_type": "markdown",
   "metadata": {},
   "source": [
    "## Strings as lists"
   ]
  },
  {
   "cell_type": "markdown",
   "metadata": {},
   "source": [
    "Strings can be manipulated and used just like lists. This is especially handy in text mining:"
   ]
  },
  {
   "cell_type": "code",
   "execution_count": 26,
   "metadata": {},
   "outputs": [
    {
     "name": "stdout",
     "output_type": "stream",
     "text": [
      "Last nine letters: analytics\n",
      "Analytics in course title? True\n",
      "Start location of 'analytics': 11\n",
      "Predictive analysis\n",
      "Word  0 : Predictive\n",
      "Word  1 : analytics\n"
     ]
    }
   ],
   "source": [
    "course = \"Predictive analytics\"\n",
    "print(\"Last nine letters: \"+course[-9:])\n",
    "print(\"Analytics in course title? \" + str(\"analytics\" in course))\n",
    "print(\"Start location of 'analytics': \" + str(course.find(\"analytics\")))\n",
    "print(course.replace(\"analytics\",\"analysis\"))\n",
    "list_of_words = course.split(\" \")\n",
    "for index, word in enumerate(list_of_words):\n",
    "    print(\"Word \", index, \": \"+word)"
   ]
  },
  {
   "cell_type": "markdown",
   "metadata": {},
   "source": [
    "## Sets"
   ]
  },
  {
   "cell_type": "markdown",
   "metadata": {},
   "source": [
    "Sets only contain unique elements. They have to be declared upfront using ```set()``` and allow for operations such as ```intersection()```:"
   ]
  },
  {
   "cell_type": "code",
   "execution_count": 16,
   "metadata": {},
   "outputs": [
    {
     "name": "stdout",
     "output_type": "stream",
     "text": [
      "{'Imani', 'Rose', 'Yongzhe', 'Roberta', 'Kumiko', 'Tom', 'Giovanni'}\n",
      "{'Imani', 'Rose', 'Yongzhe', 'Roberta', 'Kumiko', 'Tom', 'Galina', 'Giovanni'}\n",
      "{'Imani', 'Rose', 'Yongzhe', 'Roberta', 'Kumiko', 'Tom', 'Galina', 'Giovanni'}\n",
      "{'Imani', 'Yongzhe', 'Roberta', 'Kumiko', 'Galina', 'Giovanni'}\n",
      "{'Tom', 'Rose'}\n"
     ]
    }
   ],
   "source": [
    "name_set = set(names)\n",
    "print(name_set)\n",
    "\n",
    "# Add an element\n",
    "name_set.add(\"Galina\")\n",
    "print(name_set)\n",
    "\n",
    "# Discard an element\n",
    "name_set.discard(\"Johannes\")\n",
    "print(name_set)\n",
    "\n",
    "name_set2 = set([\"Rose\", \"Tom\"])\n",
    "# Difference and intersection\n",
    "difference = name_set - name_set2\n",
    "print(difference)\n",
    "intersection = name_set.intersection(name_set2)\n",
    "print(intersection)"
   ]
  }
 ],
 "metadata": {
  "kernelspec": {
   "display_name": "Python 3",
   "language": "python",
   "name": "python3"
  },
  "language_info": {
   "codemirror_mode": {
    "name": "ipython",
    "version": 3
   },
   "file_extension": ".py",
   "mimetype": "text/x-python",
   "name": "python",
   "nbconvert_exporter": "python",
   "pygments_lexer": "ipython3",
   "version": "3.7.5"
  }
 },
 "nbformat": 4,
 "nbformat_minor": 2
}
