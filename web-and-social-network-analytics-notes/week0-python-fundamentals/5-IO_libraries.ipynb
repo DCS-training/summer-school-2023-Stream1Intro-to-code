{
 "cells": [
  {
   "cell_type": "markdown",
   "metadata": {},
   "source": [
    "## Reading files"
   ]
  },
  {
   "cell_type": "markdown",
   "metadata": {},
   "source": [
    "In Python, we can easily open any file type. Naturally, it is most suitable for plainly-structured formats such as .txt., .csv., as so on. You can also open Excel files with appropriate packages, such as pandas (more on this later). Let's read in a .csv file:"
   ]
  },
  {
   "cell_type": "code",
   "execution_count": 4,
   "metadata": {},
   "outputs": [
    {
     "name": "stdout",
     "output_type": "stream",
     "text": [
      "Odilia,Ellerbee,F,1962\n",
      "\n",
      "Rosia,Babst,F,1721\n",
      "\n",
      "Zackary,Ellis,M,1589\n",
      "\n",
      "Leo,Brescia,M,1248\n",
      "\n",
      "Santos,Falcone,M,1743\n",
      "\n",
      "Ta,Burr,F,1704\n",
      "\n",
      "Avis,Finkel,F,1793\n",
      "\n",
      "Darcey,Pizzo,F,1766\n",
      "\n",
      "Ava,Walko,F,1621\n",
      "\n",
      "Emelda,Lembo,F,1382\n",
      "\n",
      "Felix,Schroeter,M,1884\n",
      "\n",
      "Elina,Escalante,F,1826\n",
      "\n",
      "Kasi,Salvato,F,1530\n",
      "\n",
      "Blair,Ferretti,M,1352\n",
      "\n",
      "Muoi,Bowdoin,F,1684\n",
      "\n",
      "Yasmin,Ritzman,F,1955\n",
      "\n",
      "Maida,Beane,F,1482\n",
      "\n",
      "Jillian,Ebner,F,1286\n",
      "\n",
      "Alanna,Prochaska,F,1285\n",
      "\n",
      "Ciara,Heck,F,1737\n",
      "\n"
     ]
    }
   ],
   "source": [
    "# Open a file for reading ('r')\n",
    "file = open('amounts.csv','r')\n",
    "\n",
    "for line in file:\n",
    "    print(line)"
   ]
  },
  {
   "cell_type": "markdown",
   "metadata": {},
   "source": [
    "We can store this information in objects and start using it:"
   ]
  },
  {
   "cell_type": "code",
   "execution_count": 9,
   "metadata": {},
   "outputs": [
    {
     "name": "stdout",
     "output_type": "stream",
     "text": [
      "Ava Walko  has  1621\n",
      "Avis Finkel  has  1793\n",
      "Ciara Heck  has  1737\n",
      "Darcey Pizzo  has  1766\n",
      "Elina Escalante  has  1826\n",
      "Felix Schroeter  has  1884\n",
      "Muoi Bowdoin  has  1684\n",
      "Odilia Ellerbee  has  1962\n",
      "Rosia Babst  has  1721\n",
      "Santos Falcone  has  1743\n",
      "Ta Burr  has  1704\n",
      "Yasmin Ritzman  has  1955\n"
     ]
    }
   ],
   "source": [
    "# File is looped now, hence, reread file\n",
    "file = open('amounts.csv','r')\n",
    "\n",
    "# Store names with amount (i.e. columns 1 & 2)\n",
    "amount_per_person = {}\n",
    "for line in file:\n",
    "    cells = line.split(\",\")\n",
    "    amount_per_person[cells[0] + \" \" + cells[1]] = int(cells[3])\n",
    "\n",
    "for person, amount in sorted(amount_per_person.items()):\n",
    "    if amount > 1600:\n",
    "        print(person , \" has \" , amount)"
   ]
  },
  {
   "cell_type": "markdown",
   "metadata": {},
   "source": [
    "We can also easily write to a file:"
   ]
  },
  {
   "cell_type": "code",
   "execution_count": 10,
   "metadata": {
    "collapsed": true
   },
   "outputs": [],
   "source": [
    "# Now we use 'w' for write   \n",
    "output_file = open('ordered_amounts_per_person.csv','w')\n",
    "\n",
    "for person, amount in sorted(amount_per_person.items()):\n",
    "    output_file.write(person.lower()+\",\"+str(amount))    \n",
    "output_file.close()"
   ]
  },
  {
   "cell_type": "markdown",
   "metadata": {},
   "source": [
    "## Libraries"
   ]
  },
  {
   "cell_type": "markdown",
   "metadata": {},
   "source": [
    "Libraries are imported by using ```import```:"
   ]
  },
  {
   "cell_type": "code",
   "execution_count": 11,
   "metadata": {
    "collapsed": true
   },
   "outputs": [],
   "source": [
    "import numpy\n",
    "import pandas\n",
    "import sklearn"
   ]
  },
  {
   "cell_type": "markdown",
   "metadata": {},
   "source": [
    "We can import just a few bits using ```from```, or create aliases using ```as```:"
   ]
  },
  {
   "cell_type": "code",
   "execution_count": 14,
   "metadata": {
    "collapsed": true
   },
   "outputs": [],
   "source": [
    "import math as m\n",
    "from math import pi"
   ]
  },
  {
   "cell_type": "code",
   "execution_count": 15,
   "metadata": {},
   "outputs": [
    {
     "name": "stdout",
     "output_type": "stream",
     "text": [
      "3\n",
      "3.141592653589793\n",
      "0.8414709848078965\n"
     ]
    }
   ],
   "source": [
    "print(numpy.add(1, 2))\n",
    "print(pi)\n",
    "print(m.sin(1))"
   ]
  }
 ],
 "metadata": {
  "kernelspec": {
   "display_name": "Python 3",
   "language": "python",
   "name": "python3"
  },
  "language_info": {
   "codemirror_mode": {
    "name": "ipython",
    "version": 3
   },
   "file_extension": ".py",
   "mimetype": "text/x-python",
   "name": "python",
   "nbconvert_exporter": "python",
   "pygments_lexer": "ipython3",
   "version": "3.7.5"
  }
 },
 "nbformat": 4,
 "nbformat_minor": 2
}
