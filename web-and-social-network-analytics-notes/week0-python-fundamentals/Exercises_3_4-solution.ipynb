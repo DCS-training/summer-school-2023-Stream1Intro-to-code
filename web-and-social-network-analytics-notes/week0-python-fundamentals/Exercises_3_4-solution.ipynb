{
 "cells": [
  {
   "cell_type": "markdown",
   "metadata": {},
   "source": [
    "## Exercise 3"
   ]
  },
  {
   "cell_type": "markdown",
   "metadata": {},
   "source": [
    "Remove the duplicates from this list:"
   ]
  },
  {
   "cell_type": "code",
   "execution_count": 3,
   "metadata": {},
   "outputs": [],
   "source": [
    "name_list = [\"Johannes\", \"Jamal\", \"Jamal\", \"Johannes\", \"Galina\"]"
   ]
  },
  {
   "cell_type": "code",
   "execution_count": 4,
   "metadata": {},
   "outputs": [],
   "source": [
    "# Simple algorhitmic solution\n",
    "\n",
    "def remove_duplicates(list_with_duplicates):\n",
    "    unique_names = []\n",
    "    for item in list_with_duplicates:\n",
    "        if item not in unique_names:\n",
    "            unique_names.append(item)\n",
    "    return unique_names\n",
    "\n",
    "print(remove_duplicates(name_list))"
   ]
  },
  {
   "cell_type": "code",
   "execution_count": null,
   "metadata": {},
   "outputs": [],
   "source": [
    "# Solution using Python's data structures (the fact that Set can't have repeated values)\n",
    "\n",
    "def remove_duplicates(list_with_duplicates):\n",
    "    unique_names = set(list_with_duplicates)\n",
    "    return list(unique_names)\n",
    "\n",
    "print(remove_duplicates(name_list))"
   ]
  },
  {
   "cell_type": "markdown",
   "metadata": {},
   "source": [
    "## Exercise 4"
   ]
  },
  {
   "cell_type": "markdown",
   "metadata": {},
   "source": [
    "Make a list of all the 4th and 6th letters of a word:"
   ]
  },
  {
   "cell_type": "code",
   "execution_count": null,
   "metadata": {},
   "outputs": [],
   "source": [
    "words = [\"Johannes\", \"Jamal\", \"Jamal\", \"Johannes\", \"Galina\"]\n",
    "new_list = []"
   ]
  },
  {
   "cell_type": "code",
   "execution_count": 23,
   "metadata": {},
   "outputs": [
    {
     "data": {
      "text/plain": [
       "['an', 'an', 'ia']"
      ]
     },
     "execution_count": 23,
     "metadata": {},
     "output_type": "execute_result"
    }
   ],
   "source": [
    "# you could just write a specific function that does what we're asked for.\n",
    "\n",
    "def only_keep_4th_and_6th_letter_from_words(all_words):\n",
    "    return [ f\"{word[3]}{word[5]}\"\n",
    "           for word in all_words\n",
    "           if len(word)>=6]\n",
    "\n",
    "only_keep_4th_and_6th_letter_from_words(words)\n",
    "# notice words shorter than 6 are ignored"
   ]
  },
  {
   "cell_type": "code",
   "execution_count": 22,
   "metadata": {},
   "outputs": [
    {
     "name": "stdout",
     "output_type": "stream",
     "text": [
      "['J', 'J', 'J', 'J', 'G']\n",
      "['n', 'n', 'a']\n",
      "[]\n"
     ]
    }
   ],
   "source": [
    "# we could also explore other ways to solve it\n",
    "\n",
    "# intermediate, generic answer, for one letter would be\n",
    "\n",
    "def get_all_nth_letters(all_words, letter_index):\n",
    "    simplified_words = []\n",
    "    for word in all_words:\n",
    "        if letter_index < len(word):\n",
    "            simplified_words.append( word[letter_index] )\n",
    "    return simplified_words\n",
    "\n",
    "# test it\n",
    "print(get_all_nth_letters(words, 0))\n",
    "print(get_all_nth_letters(words, 5))\n",
    "print(get_all_nth_letters(words, 20))"
   ]
  },
  {
   "cell_type": "code",
   "execution_count": 21,
   "metadata": {},
   "outputs": [
    {
     "data": {
      "text/plain": [
       "['an', 'a', 'a', 'an', 'ia']"
      ]
     },
     "execution_count": 21,
     "metadata": {},
     "output_type": "execute_result"
    }
   ],
   "source": [
    "# for many letters, generic\n",
    "\n",
    "def simplify_words_to_letters_at_indexes(all_words, list_of_indexes):\n",
    "    simplified_words = []\n",
    "    for word in all_words:\n",
    "        simplified_word = \"\"\n",
    "        for index in list_of_indexes:\n",
    "            if len(word) -1 < index:\n",
    "                break\n",
    "            simplified_word += word[index]\n",
    "        \n",
    "        simplified_words.append( simplified_word )\n",
    "    return simplified_words\n",
    "\n",
    "simplify_words_to_letters_at_indexes(words, [3,5])"
   ]
  },
  {
   "cell_type": "code",
   "execution_count": 20,
   "metadata": {},
   "outputs": [
    {
     "data": {
      "text/plain": [
       "['an', 'a', 'a', 'an', 'ia']"
      ]
     },
     "execution_count": 20,
     "metadata": {},
     "output_type": "execute_result"
    }
   ],
   "source": [
    "# and then you can call it in your own simpler function\n",
    "\n",
    "def only_keep_4th_and_6th_letter_from_words(all_words):\n",
    "    return simplify_words_to_letters_at_indexes(all_words, [3,5])\n",
    "\n",
    "only_keep_4th_and_6th_letter_from_words(words)"
   ]
  },
  {
   "cell_type": "code",
   "execution_count": null,
   "metadata": {},
   "outputs": [],
   "source": [
    "# as you can tell, the generic solution is often much more complicated and longer to write.\n",
    "\n",
    "# as a rule of thumb it is worth it when you will use a lot of different variations of that solution. \n",
    "# (eg. if you will require different letters at different indexes of different words many times in your code)"
   ]
  }
 ],
 "metadata": {
  "kernelspec": {
   "display_name": "Python 3",
   "language": "python",
   "name": "python3"
  },
  "language_info": {
   "codemirror_mode": {
    "name": "ipython",
    "version": 3
   },
   "file_extension": ".py",
   "mimetype": "text/x-python",
   "name": "python",
   "nbconvert_exporter": "python",
   "pygments_lexer": "ipython3",
   "version": "3.7.5"
  }
 },
 "nbformat": 4,
 "nbformat_minor": 2
}
