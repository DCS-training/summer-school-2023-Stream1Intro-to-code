{
 "cells": [
  {
   "cell_type": "markdown",
   "metadata": {},
   "source": [
    "## Dictionaries"
   ]
  },
  {
   "cell_type": "markdown",
   "metadata": {},
   "source": [
    "Dictionaries are a great way to store particular data as key-value pairs, which mimics the basic structure of a simple database."
   ]
  },
  {
   "cell_type": "code",
   "execution_count": 8,
   "metadata": {},
   "outputs": [
    {
     "name": "stdout",
     "output_type": "stream",
     "text": [
      "Johannes teaches Predictive analytics\n",
      "Kumiko teaches Prescriptive analytics\n",
      "Luciana teaches Descriptive analytics\n"
     ]
    }
   ],
   "source": [
    "courses = {\"Johannes\" : \"Predictive analytics\", \"Kumiko\" : \"Prescriptive analytics\", \"Luciana\" : \"Descriptive analytics\"}\n",
    "\n",
    "for organizer in courses:\n",
    "    print(organizer + \" teaches \" + courses[organizer])"
   ]
  },
  {
   "cell_type": "markdown",
   "metadata": {},
   "source": [
    "We can also write:"
   ]
  },
  {
   "cell_type": "code",
   "execution_count": 9,
   "metadata": {},
   "outputs": [
    {
     "name": "stdout",
     "output_type": "stream",
     "text": [
      "Johannes teaches Predictive analytics\n",
      "Kumiko teaches Prescriptive analytics\n",
      "Luciana teaches Descriptive analytics\n"
     ]
    }
   ],
   "source": [
    "for organizer, course in courses.items():\n",
    "    print(organizer + \" teaches \" + course)"
   ]
  },
  {
   "cell_type": "code",
   "execution_count": 10,
   "metadata": {},
   "outputs": [
    {
     "name": "stdout",
     "output_type": "stream",
     "text": [
      "{'Johannes': 'Predictive analytics', 'Kumiko': 'Prescriptive analytics', 'Luciana': 'Descriptive analytics', 'Imani': 'Other analytics'}\n",
      "{'Johannes': 'Business analytics', 'Kumiko': 'Prescriptive analytics', 'Luciana': 'Descriptive analytics', 'Imani': 'Other analytics'}\n"
     ]
    }
   ],
   "source": [
    "# Adding items\n",
    "courses[\"Imani\"] = \"Other analytics\"\n",
    "print(courses)\n",
    "\n",
    "# Overwrite\n",
    "courses[\"Johannes\"] = \"Business analytics\"\n",
    "print(courses)"
   ]
  },
  {
   "cell_type": "code",
   "execution_count": 11,
   "metadata": {},
   "outputs": [
    {
     "name": "stdout",
     "output_type": "stream",
     "text": [
      "{'Kumiko': 'Prescriptive analytics', 'Luciana': 'Descriptive analytics', 'Imani': 'Other analytics'}\n"
     ]
    }
   ],
   "source": [
    "# Remove\n",
    "del courses[\"Johannes\"]\n",
    "print(courses)"
   ]
  },
  {
   "cell_type": "code",
   "execution_count": 13,
   "metadata": {},
   "outputs": [
    {
     "name": "stdout",
     "output_type": "stream",
     "text": [
      "Prescriptive analytics\n",
      "Descriptive analytics\n",
      "Other analytics\n"
     ]
    }
   ],
   "source": [
    "# Looping values\n",
    "for course in courses.values():\n",
    "    print(course)"
   ]
  },
  {
   "cell_type": "code",
   "execution_count": 15,
   "metadata": {},
   "outputs": [
    {
     "name": "stdout",
     "output_type": "stream",
     "text": [
      "Imani teaches Other analytics\n",
      "Kumiko teaches Prescriptive analytics\n",
      "Luciana teaches Descriptive analytics\n"
     ]
    }
   ],
   "source": [
    "# Sorted output (on keys)\n",
    "for organizer, course in sorted(courses.items()):\n",
    "    print(organizer +\" teaches \" + course)"
   ]
  },
  {
   "cell_type": "markdown",
   "metadata": {},
   "source": [
    "## Functions"
   ]
  },
  {
   "cell_type": "markdown",
   "metadata": {},
   "source": [
    "Functions form the backbone of all code. You have already used some, like print(). They can be easily defined by yourself as well."
   ]
  },
  {
   "cell_type": "code",
   "execution_count": 17,
   "metadata": {
    "collapsed": true
   },
   "outputs": [],
   "source": [
    "def my_function(a, b):\n",
    "    a = a.title()\n",
    "    b = b.upper()\n",
    "    print(a+ \" \"+b)"
   ]
  },
  {
   "cell_type": "code",
   "execution_count": 18,
   "metadata": {
    "collapsed": true
   },
   "outputs": [],
   "source": [
    "def my_function2(a, b):\n",
    "    a = a.title()\n",
    "    b = b.upper()\n",
    "    return a + \" \" + b"
   ]
  },
  {
   "cell_type": "markdown",
   "metadata": {},
   "source": [
    "Let's see what they produce:"
   ]
  },
  {
   "cell_type": "code",
   "execution_count": 19,
   "metadata": {},
   "outputs": [
    {
     "name": "stdout",
     "output_type": "stream",
     "text": [
      "Johannes DE SMEDT\n",
      "Johannes DE SMEDT\n"
     ]
    }
   ],
   "source": [
    "my_function(\"johannes\",\"de smedt\")\n",
    "output = my_function2(\"johannes\",\"de smedt\")\n",
    "print(output)"
   ]
  },
  {
   "cell_type": "markdown",
   "metadata": {},
   "source": [
    "Notice how the first function already prints, while the second returns a string we have to print ourselves. Python is weakly-typed, so a function can produce different results, like in this example:"
   ]
  },
  {
   "cell_type": "code",
   "execution_count": 20,
   "metadata": {},
   "outputs": [
    {
     "name": "stdout",
     "output_type": "stream",
     "text": [
      "1.5\n",
      "a is negative\n"
     ]
    }
   ],
   "source": [
    "# Different output type\n",
    "def calculate_mean(a, b):\n",
    "    if (a>0):\n",
    "        return (a+b)/2\n",
    "    else:\n",
    "        return \"a is negative\"\n",
    "\n",
    "output = calculate_mean(1,2)\n",
    "print(output)\n",
    "output = calculate_mean(0,1)\n",
    "print(output)"
   ]
  },
  {
   "cell_type": "markdown",
   "metadata": {},
   "source": [
    "## Comprehensions"
   ]
  },
  {
   "cell_type": "markdown",
   "metadata": {},
   "source": [
    "Comprehensions allow you to quickly write lists:"
   ]
  },
  {
   "cell_type": "code",
   "execution_count": 24,
   "metadata": {},
   "outputs": [
    {
     "name": "stdout",
     "output_type": "stream",
     "text": [
      "[2, 4, 6, 8, 10]\n"
     ]
    }
   ],
   "source": [
    "# Finding even numbers\n",
    "evens = [i for i in range(1,11) if i % 2 ==0]\n",
    "print(evens)"
   ]
  },
  {
   "cell_type": "markdown",
   "metadata": {},
   "source": [
    "In Python, you can easily make tuples such as pairs, like here:"
   ]
  },
  {
   "cell_type": "code",
   "execution_count": 25,
   "metadata": {},
   "outputs": [
    {
     "name": "stdout",
     "output_type": "stream",
     "text": [
      "[(6, 5), (7, 5), (7, 6), (8, 5), (8, 6), (8, 7), (9, 5), (9, 6), (9, 7), (9, 8), (10, 5), (10, 6), (10, 7), (10, 8), (10, 9)]\n"
     ]
    }
   ],
   "source": [
    "# Double fun\n",
    "pairs = [(x,y) for x in range(1,11) for y in range(5,11) if x>y]\n",
    "print(pairs)"
   ]
  },
  {
   "cell_type": "markdown",
   "metadata": {},
   "source": [
    "They are also useful to perform some pre-processing, e.g., on strings:"
   ]
  },
  {
   "cell_type": "code",
   "execution_count": 23,
   "metadata": {},
   "outputs": [
    {
     "name": "stdout",
     "output_type": "stream",
     "text": [
      "['Jamal', 'Maurizio', 'Johannes']\n",
      "['Jamal', 'Johannes']\n"
     ]
    }
   ],
   "source": [
    "# Operations\n",
    "names = [\"jamal\", \"maurizio\", \"johannes\"]\n",
    "\n",
    "titled_names = [name.title() for name in names]\n",
    "print(titled_names)\n",
    "\n",
    "j_s = [name.title() for name in names if name.lower()[0] == 'j']\n",
    "print(j_s)"
   ]
  }
 ],
 "metadata": {
  "kernelspec": {
   "display_name": "Python 3",
   "language": "python",
   "name": "python3"
  },
  "language_info": {
   "codemirror_mode": {
    "name": "ipython",
    "version": 3
   },
   "file_extension": ".py",
   "mimetype": "text/x-python",
   "name": "python",
   "nbconvert_exporter": "python",
   "pygments_lexer": "ipython3",
   "version": "3.7.5"
  }
 },
 "nbformat": 4,
 "nbformat_minor": 2
}
