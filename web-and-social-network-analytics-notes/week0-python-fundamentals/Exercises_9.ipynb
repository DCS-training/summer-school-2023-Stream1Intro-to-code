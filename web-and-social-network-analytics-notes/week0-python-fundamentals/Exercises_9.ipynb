{
 "cells": [
  {
   "cell_type": "markdown",
   "metadata": {},
   "source": [
    "## Exercise 9"
   ]
  },
  {
   "cell_type": "markdown",
   "metadata": {},
   "source": [
    "In this exercise we are going to build a decision tree using scikit-learn and pandas. Code some stuff yourself, or find the available modules that can do it for you:"
   ]
  },
  {
   "cell_type": "code",
   "execution_count": 1,
   "metadata": {},
   "outputs": [
    {
     "name": "stdout",
     "output_type": "stream",
     "text": [
      "   Age Attrition     BusinessTravel  DailyRate              Department  \\\n",
      "1   41       Yes      Travel_Rarely       1102                   Sales   \n",
      "2   49        No  Travel_Frequently        279  Research & Development   \n",
      "3   37       Yes      Travel_Rarely       1373  Research & Development   \n",
      "4   33        No  Travel_Frequently       1392  Research & Development   \n",
      "5   27        No      Travel_Rarely        591  Research & Development   \n",
      "\n",
      "   DistanceFromHome  Education EducationField  EmployeeCount  EmployeeNumber  \\\n",
      "1                 1          2  Life Sciences              1               1   \n",
      "2                 8          1  Life Sciences              1               2   \n",
      "3                 2          2          Other              1               4   \n",
      "4                 3          4  Life Sciences              1               5   \n",
      "5                 2          1        Medical              1               7   \n",
      "\n",
      "           ...           RelationshipSatisfaction StandardHours  \\\n",
      "1          ...                                  1            80   \n",
      "2          ...                                  4            80   \n",
      "3          ...                                  2            80   \n",
      "4          ...                                  3            80   \n",
      "5          ...                                  4            80   \n",
      "\n",
      "   StockOptionLevel  TotalWorkingYears  TrainingTimesLastYear WorkLifeBalance  \\\n",
      "1                 0                  8                      0               1   \n",
      "2                 1                 10                      3               3   \n",
      "3                 0                  7                      3               3   \n",
      "4                 0                  8                      3               3   \n",
      "5                 1                  6                      3               3   \n",
      "\n",
      "   YearsAtCompany YearsInCurrentRole  YearsSinceLastPromotion  \\\n",
      "1               6                  4                        0   \n",
      "2              10                  7                        1   \n",
      "3               0                  0                        0   \n",
      "4               8                  7                        3   \n",
      "5               2                  2                        2   \n",
      "\n",
      "   YearsWithCurrManager  \n",
      "1                     5  \n",
      "2                     7  \n",
      "3                     0  \n",
      "4                     0  \n",
      "5                     2  \n",
      "\n",
      "[5 rows x 35 columns]\n"
     ]
    }
   ],
   "source": [
    "import pandas as pd\n",
    "import numpy as np\n",
    "\n",
    "# Read csv with pandas, index indicates whether the first column is an index\n",
    "data = pd.read_csv(\"attrition.csv\", index_col=0)\n",
    "\n",
    "print(data.head())"
   ]
  },
  {
   "cell_type": "markdown",
   "metadata": {},
   "source": [
    "Attrition is our label, so we can split our data into X and y:"
   ]
  },
  {
   "cell_type": "code",
   "execution_count": 6,
   "metadata": {
    "collapsed": true
   },
   "outputs": [],
   "source": [
    "y = data['Attrition']\n",
    "X = data.drop('Attrition', axis=1)"
   ]
  },
  {
   "cell_type": "markdown",
   "metadata": {},
   "source": [
    "Write the pre-processing functions:"
   ]
  },
  {
   "cell_type": "code",
   "execution_count": null,
   "metadata": {
    "collapsed": true
   },
   "outputs": [],
   "source": [
    "# Create training and test set with function\n",
    "def splitDataset(X, y ratio):\n",
    "# ..."
   ]
  },
  {
   "cell_type": "code",
   "execution_count": null,
   "metadata": {
    "collapsed": true
   },
   "outputs": [],
   "source": [
    "# Convert all attributes in data dataframe\n",
    "def convertAttribute(column):\n",
    "# ..."
   ]
  },
  {
   "cell_type": "markdown",
   "metadata": {},
   "source": [
    "The pre-processsing:"
   ]
  },
  {
   "cell_type": "code",
   "execution_count": null,
   "metadata": {
    "collapsed": true
   },
   "outputs": [],
   "source": [
    "# convert all attributes at once      \n",
    "for column in X.columns:\n",
    "    X[column] = convertAttribute(X[column])\n",
    "\n",
    "y = convertAttribute(y)\n",
    "\n",
    "# Use our new function to split according to a certain ratio\n",
    "train_X, test_X, train_y, test_y = splitDataset(X, y, 0.7)"
   ]
  },
  {
   "cell_type": "markdown",
   "metadata": {},
   "source": [
    "Build decision tree and calculate accuracy:"
   ]
  },
  {
   "cell_type": "code",
   "execution_count": null,
   "metadata": {
    "collapsed": true
   },
   "outputs": [],
   "source": [
    "# Build tree\n",
    "#tree = ...\n",
    "tree.fit(train_X, train_y)\n",
    "\n",
    "## Use tree for prediction\n",
    "y_pred = tree.predict(test_X)\n",
    "\n",
    "#accuracy = ...\n",
    "print(accuracy)"
   ]
  }
 ],
 "metadata": {
  "kernelspec": {
   "display_name": "Python 3",
   "language": "python",
   "name": "python3"
  },
  "language_info": {
   "codemirror_mode": {
    "name": "ipython",
    "version": 3
   },
   "file_extension": ".py",
   "mimetype": "text/x-python",
   "name": "python",
   "nbconvert_exporter": "python",
   "pygments_lexer": "ipython3",
   "version": "3.7.5"
  }
 },
 "nbformat": 4,
 "nbformat_minor": 2
}
