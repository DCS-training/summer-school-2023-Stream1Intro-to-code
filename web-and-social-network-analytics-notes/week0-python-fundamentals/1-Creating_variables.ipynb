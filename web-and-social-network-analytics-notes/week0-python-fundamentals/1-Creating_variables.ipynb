{
 "cells": [
  {
   "cell_type": "markdown",
   "metadata": {},
   "source": [
    "In this notebook we will look into the concept of variables."
   ]
  },
  {
   "cell_type": "markdown",
   "metadata": {},
   "source": [
    "Python, like R, is a dynamically-typed language, meaning you can change the class/type of a variable on the go. This is convenient in many places, but dangerous in many other ways. It is impossible to rely on the type of the variable, and you should always retrace your steps throughout the code to see what the variable is currently representing. This is sometimes hard, especially in places like this notebook where we can execute different bits of code in any order."
   ]
  },
  {
   "cell_type": "markdown",
   "metadata": {},
   "source": [
    "## Intro and strings"
   ]
  },
  {
   "cell_type": "markdown",
   "metadata": {},
   "source": [
    "Let's create a variable:"
   ]
  },
  {
   "cell_type": "code",
   "execution_count": 3,
   "metadata": {},
   "outputs": [
    {
     "data": {
      "text/plain": [
       "'Johannes'"
      ]
     },
     "execution_count": 3,
     "metadata": {},
     "output_type": "execute_result"
    }
   ],
   "source": [
    "name = \"Johannes\"\n",
    "name"
   ]
  },
  {
   "cell_type": "markdown",
   "metadata": {},
   "source": [
    "This generates a string variable. They can be easily printed, although it is safer to use the print function:"
   ]
  },
  {
   "cell_type": "code",
   "execution_count": 4,
   "metadata": {},
   "outputs": [
    {
     "name": "stdout",
     "output_type": "stream",
     "text": [
      "Johannes\n"
     ]
    }
   ],
   "source": [
    "print(name)"
   ]
  },
  {
   "cell_type": "markdown",
   "metadata": {},
   "source": [
    "It is also wise to check the type of the variable, in case you are lost:"
   ]
  },
  {
   "cell_type": "code",
   "execution_count": 5,
   "metadata": {},
   "outputs": [
    {
     "data": {
      "text/plain": [
       "str"
      ]
     },
     "execution_count": 5,
     "metadata": {},
     "output_type": "execute_result"
    }
   ],
   "source": [
    "type(name)"
   ]
  },
  {
   "cell_type": "markdown",
   "metadata": {},
   "source": [
    "This confirms that we are dealing with a string. There are a few things we can do with strings (which we can denote by using one or two apostrophes):"
   ]
  },
  {
   "cell_type": "code",
   "execution_count": 6,
   "metadata": {},
   "outputs": [
    {
     "name": "stdout",
     "output_type": "stream",
     "text": [
      "johannes de smedt\n",
      "JOHANNES DE SMEDT\n",
      "Johannes De Smedt\n"
     ]
    }
   ],
   "source": [
    "name = 'johannes de smedt'\n",
    "print(name.lower())\n",
    "print(name.upper())\n",
    "print(name.title())"
   ]
  },
  {
   "cell_type": "markdown",
   "metadata": {},
   "source": [
    "We can concatenate strings easily using +, or using a comma in a print statement:"
   ]
  },
  {
   "cell_type": "code",
   "execution_count": 7,
   "metadata": {},
   "outputs": [
    {
     "name": "stdout",
     "output_type": "stream",
     "text": [
      "johannes de smedt\n",
      "johannes de smedt\n"
     ]
    }
   ],
   "source": [
    "print('johannes', 'de smedt')\n",
    "print('johannes' + ' ' + 'de smedt')"
   ]
  },
  {
   "cell_type": "markdown",
   "metadata": {},
   "source": [
    "Writing print('Johannes is '+ 55) will not work, as the + operator only works for strings, we can convert any object into a string however:"
   ]
  },
  {
   "cell_type": "code",
   "execution_count": 8,
   "metadata": {},
   "outputs": [
    {
     "name": "stdout",
     "output_type": "stream",
     "text": [
      "Johannes is 55\n"
     ]
    }
   ],
   "source": [
    "print('Johannes is '+ str(55))"
   ]
  },
  {
   "cell_type": "markdown",
   "metadata": {},
   "source": [
    "A few other useful tricks:"
   ]
  },
  {
   "cell_type": "code",
   "execution_count": 11,
   "metadata": {},
   "outputs": [
    {
     "name": "stdout",
     "output_type": "stream",
     "text": [
      "|johannes |\n",
      "| johannes|\n",
      "|johannes|\n"
     ]
    }
   ],
   "source": [
    "name = \" johannes \"\n",
    "print(\"|\"+name.lstrip()+\"|\")\n",
    "print(\"|\"+name.rstrip()+\"|\")\n",
    "print(\"|\"+name.strip()+\"|\")"
   ]
  },
  {
   "cell_type": "markdown",
   "metadata": {},
   "source": [
    "You can use control characters as well:"
   ]
  },
  {
   "cell_type": "code",
   "execution_count": 1,
   "metadata": {},
   "outputs": [
    {
     "name": "stdout",
     "output_type": "stream",
     "text": [
      "Johannes\tDe Smedt\n",
      "teaches media & web analytics\n"
     ]
    }
   ],
   "source": [
    "print('Johannes\\tDe Smedt\\nteaches media & web analytics')"
   ]
  },
  {
   "cell_type": "markdown",
   "metadata": {},
   "source": [
    "## Numbers"
   ]
  },
  {
   "cell_type": "code",
   "execution_count": 2,
   "metadata": {},
   "outputs": [
    {
     "name": "stdout",
     "output_type": "stream",
     "text": [
      "a: \t\t\t10\n",
      "b: \t\t\t-10.1023\n",
      "absolute of b: \t\t10.1023\n",
      "rounded b: \t\t-10.102\n",
      "square of a: \t\t100\n",
      "cube of a: \t\t1000\n",
      "integer part of b: \t-10\n"
     ]
    }
   ],
   "source": [
    "a = 10\n",
    "b = -10.1023\n",
    "\n",
    "#Some operations illustrated (\\t stands for a tab)\n",
    "print(\"a: \\t\\t\\t\" + str(a))\n",
    "print(\"b: \\t\\t\\t\" + str(b))\n",
    "print(\"absolute of b: \\t\\t\" + str(abs(b)))\n",
    "print(\"rounded b: \\t\\t\" + str(round(b,3)))\n",
    "print(\"square of a: \\t\\t\" + str(pow(a,2)))\n",
    "print(\"cube of a: \\t\\t\" + str(a**3))\n",
    "print(\"integer part of b: \\t\" + str(int(b)))"
   ]
  },
  {
   "cell_type": "code",
   "execution_count": null,
   "metadata": {},
   "outputs": [],
   "source": []
  },
  {
   "cell_type": "code",
   "execution_count": null,
   "metadata": {},
   "outputs": [],
   "source": []
  }
 ],
 "metadata": {
  "kernelspec": {
   "display_name": "Python 3",
   "language": "python",
   "name": "python3"
  },
  "language_info": {
   "codemirror_mode": {
    "name": "ipython",
    "version": 3
   },
   "file_extension": ".py",
   "mimetype": "text/x-python",
   "name": "python",
   "nbconvert_exporter": "python",
   "pygments_lexer": "ipython3",
   "version": "3.7.5"
  }
 },
 "nbformat": 4,
 "nbformat_minor": 2
}
