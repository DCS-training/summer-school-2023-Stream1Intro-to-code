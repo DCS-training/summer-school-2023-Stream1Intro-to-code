{
 "cells": [
  {
   "cell_type": "markdown",
   "metadata": {},
   "source": [
    "Control flow statements help you to structure the code and direct it towards your convenience and introduce loops and so on."
   ]
  },
  {
   "cell_type": "markdown",
   "metadata": {},
   "source": [
    "## If statements"
   ]
  },
  {
   "cell_type": "code",
   "execution_count": 1,
   "metadata": {},
   "outputs": [
    {
     "name": "stdout",
     "output_type": "stream",
     "text": [
      "Price is negative!\n"
     ]
    }
   ],
   "source": [
    "price = -5;\n",
    "\n",
    "if price <0:\n",
    "    print(\"Price is negative!\")\n",
    "elif price <1:\n",
    "    print(\"Price is too small!\")\n",
    "else:\n",
    "    print(\"Price is suitable.\")"
   ]
  },
  {
   "cell_type": "markdown",
   "metadata": {},
   "source": [
    "Especially in text mining, comparing strings is very important:"
   ]
  },
  {
   "cell_type": "code",
   "execution_count": 2,
   "metadata": {},
   "outputs": [
    {
     "name": "stdout",
     "output_type": "stream",
     "text": [
      "Not equal\n",
      "Equal\n"
     ]
    }
   ],
   "source": [
    "#Comparing strings\n",
    "name1 = \"Johannes\"\n",
    "name2 = \"johannes\"\n",
    "\n",
    "if name1 == name2:\n",
    "    print(\"Equal\")\n",
    "else:\n",
    "    print(\"Not equal\")\n",
    "\n",
    "if name1.lower() == name2.lower():\n",
    "    print(\"Equal\")\n",
    "else:\n",
    "    print(\"Not equal\")"
   ]
  },
  {
   "cell_type": "markdown",
   "metadata": {},
   "source": [
    "Using multiple conditions:"
   ]
  },
  {
   "cell_type": "code",
   "execution_count": 1,
   "metadata": {},
   "outputs": [
    {
     "name": "stdout",
     "output_type": "stream",
     "text": [
      "Number is between 1 and 10\n",
      "Number is lower than 5 or the name contains a 'j'\n"
     ]
    }
   ],
   "source": [
    "number = 9\n",
    "if number > 1 and not number > 9:\n",
    "    print(\"Number is between 1 and 10\")\n",
    "    \n",
    "number = 9\n",
    "name = 'johannes'\n",
    "if number < 5 or 'j' in name:\n",
    "    print(\"Number is lower than 5 or the name contains a 'j'\")"
   ]
  },
  {
   "cell_type": "markdown",
   "metadata": {},
   "source": [
    "## While loops"
   ]
  },
  {
   "cell_type": "code",
   "execution_count": 2,
   "metadata": {},
   "outputs": [
    {
     "name": "stdout",
     "output_type": "stream",
     "text": [
      "4\n",
      "3\n",
      "2\n"
     ]
    }
   ],
   "source": [
    "number = 4\n",
    "while number > 1:\n",
    "    print(number)\n",
    "    number = number -1"
   ]
  },
  {
   "cell_type": "markdown",
   "metadata": {},
   "source": [
    "## For loops"
   ]
  },
  {
   "cell_type": "markdown",
   "metadata": {},
   "source": [
    "For loops allow you to iteratre over elements in a certain collection, for example a list:"
   ]
  },
  {
   "cell_type": "code",
   "execution_count": 3,
   "metadata": {},
   "outputs": [
    {
     "name": "stdout",
     "output_type": "stream",
     "text": [
      "1\n",
      "2\n",
      "3\n",
      "4\n"
     ]
    }
   ],
   "source": [
    "# We'll look into lists in a minute\n",
    "number_list = [1, 2, 3, 4]\n",
    "for item in number_list:\n",
    "    print(item)"
   ]
  },
  {
   "cell_type": "code",
   "execution_count": 4,
   "metadata": {},
   "outputs": [
    {
     "name": "stdout",
     "output_type": "stream",
     "text": [
      "a\n",
      "b\n",
      "c\n"
     ]
    }
   ],
   "source": [
    "list = ['a', 'b', 'c']\n",
    "for item in list:\n",
    "    print(item)"
   ]
  },
  {
   "cell_type": "markdown",
   "metadata": {},
   "source": [
    "Ranges are also useful. Note that the upper element is not included and we can adjust the step size:"
   ]
  },
  {
   "cell_type": "code",
   "execution_count": 5,
   "metadata": {},
   "outputs": [
    {
     "name": "stdout",
     "output_type": "stream",
     "text": [
      "1\n",
      "2\n",
      "3\n"
     ]
    }
   ],
   "source": [
    "for i in range(1,4):\n",
    "    print(i)"
   ]
  },
  {
   "cell_type": "code",
   "execution_count": 2,
   "metadata": {},
   "outputs": [
    {
     "name": "stdout",
     "output_type": "stream",
     "text": [
      "30\n",
      "40\n",
      "50\n",
      "60\n",
      "70\n",
      "80\n",
      "90\n"
     ]
    }
   ],
   "source": [
    "for i in range(30,100, 10):\n",
    "    print(i)"
   ]
  },
  {
   "cell_type": "markdown",
   "metadata": {},
   "source": [
    "## Indentation"
   ]
  },
  {
   "cell_type": "markdown",
   "metadata": {},
   "source": [
    "Be careful with indentation"
   ]
  },
  {
   "cell_type": "code",
   "execution_count": 1,
   "metadata": {},
   "outputs": [
    {
     "name": "stdout",
     "output_type": "stream",
     "text": [
      "No indent (no tabs used)\n",
      "\tNumber 1 higher than 1.\n",
      "\tnumber 2 higher than 5\n",
      "No indent (no tabs used)\n",
      "\tNumber 1 higher than 1.\n",
      "\t\tnumber 2 higher than 5\n",
      "\tnumber 2 higher than 5\n"
     ]
    }
   ],
   "source": [
    "number_1 = 3\n",
    "number_2 = 5\n",
    "\n",
    "print('No indent (no tabs used)')\n",
    "if number_1 > 1:\n",
    "    print('\\tNumber 1 higher than 1.')\n",
    "    if number_2 > 5:\n",
    "        print('\\t\\tnumber 2 higher than 5')\n",
    "    print('\\tnumber 2 higher than 5')\n",
    "\n",
    "number_1 = 3\n",
    "number_2 = 6\n",
    "\n",
    "print('No indent (no tabs used)')\n",
    "if number_1 > 1:\n",
    "    print('\\tNumber 1 higher than 1.')\n",
    "    if number_2 > 5:\n",
    "        print('\\t\\tnumber 2 higher than 5')\n",
    "    print('\\tnumber 2 higher than 5')"
   ]
  }
 ],
 "metadata": {
  "kernelspec": {
   "display_name": "Python 3",
   "language": "python",
   "name": "python3"
  },
  "language_info": {
   "codemirror_mode": {
    "name": "ipython",
    "version": 3
   },
   "file_extension": ".py",
   "mimetype": "text/x-python",
   "name": "python",
   "nbconvert_exporter": "python",
   "pygments_lexer": "ipython3",
   "version": "3.7.5"
  }
 },
 "nbformat": 4,
 "nbformat_minor": 2
}
