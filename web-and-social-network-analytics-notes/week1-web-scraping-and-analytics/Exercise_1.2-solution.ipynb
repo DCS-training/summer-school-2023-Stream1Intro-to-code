{
 "cells": [
  {
   "cell_type": "markdown",
   "metadata": {},
   "source": [
    "## Exercise 2"
   ]
  },
  {
   "cell_type": "markdown",
   "metadata": {},
   "source": [
    "Retrieve all the scores of the iPhone 11 on carphonewarehouse.com:\n",
    "- Search the code for the location of the score (Hint: right click -> inspect when you click on the score)\n",
    "- You might have to streamline the scrolling\n",
    "\n",
    "IMPORTANT NOTE: This will only work on your own machine (not via noteable, I think). Also: You'll need to unzip the chrome driver in the folder where your notebook is."
   ]
  },
  {
   "cell_type": "code",
   "execution_count": 1,
   "metadata": {},
   "outputs": [
    {
     "name": "stdout",
     "output_type": "stream",
     "text": [
      "/bin/sh: /usr/local/bin/pip: /usr/local/opt/python/bin/python3.7: bad interpreter: No such file or directory\r\n"
     ]
    }
   ],
   "source": [
    "!pip install selenium\n",
    "\n",
    "import time\n",
    "from bs4 import BeautifulSoup\n",
    "from selenium import webdriver\n",
    "from selenium.common.exceptions import NoSuchElementException\n",
    "from selenium.webdriver.common.keys import Keys"
   ]
  },
  {
   "cell_type": "code",
   "execution_count": 2,
   "metadata": {},
   "outputs": [],
   "source": [
    "# define method that will create a browser, suitable to your operating system\n",
    "import sys\n",
    "def get_a_browser():\n",
    "    if sys.platform.startswith('win32') or sys.platform.startswith('cygwin'):\n",
    "        return webdriver.Chrome() # windows\n",
    "    else:\n",
    "        return webdriver.Chrome('./chromedriver') # mac"
   ]
  },
  {
   "cell_type": "code",
   "execution_count": 8,
   "metadata": {},
   "outputs": [
    {
     "name": "stdout",
     "output_type": "stream",
     "text": [
      "<selenium.webdriver.remote.webelement.WebElement (session=\"6206987d8b7809c1f905cfaf046b0156\", element=\"133b386a-a778-4bf0-94b1-5e501b0848b4\")>\n",
      "Review Title: Rating Snapshot\n",
      "Review Title: Average Customer Ratings\n",
      "Review Title:     Charger not standard   \n",
      "Review Title:     Quality phone   \n",
      "Review Title:     Great phone   \n",
      "Review Title:     Great phone   \n",
      "\n",
      "Page:  0\n",
      "Review Title: Rating Snapshot\n",
      "Review Title: Average Customer Ratings\n",
      "Review Title:     Great phone   \n",
      "Review Title:     Worst iPhone ever   \n",
      "Review Title:     Absolutely amazing phone   \n",
      "Review Title:     Great phone nice price   \n",
      "Review Title:     Great phone.   \n",
      "Review Title:     Good phone   \n",
      "Review Title:     Great phone !!   \n",
      "Review Title:     Good   \n",
      "Review Title:     Amazing phone xx   \n",
      "Review Title:     Nice   \n",
      "Review Title:  4 Ratings-only reviews \n",
      "\n",
      "Page:  1\n",
      "No next button\n"
     ]
    }
   ],
   "source": [
    "browser = get_a_browser()\n",
    "\n",
    "# the url we want to open\n",
    "# fill in the correct url for the iPhone X\n",
    "url = u'https://www.carphonewarehouse.com/apple/iphone-11.html#!colour=white&capacity=64GB&dealType=pm'\n",
    "\n",
    "# the browser will start and load the webpage\n",
    "browser.get(url)\n",
    "\n",
    "# we wait 1 second to let the page load everything\n",
    "time.sleep(1)\n",
    "\n",
    "# we load the HTML body (the main page content without headers, footers, etc.)\n",
    "body = browser.find_element_by_tag_name('body')\n",
    "\n",
    "# we use seleniums' send_keys() function to physically scroll down where we want to click\n",
    "body.send_keys(Keys.PAGE_DOWN)\n",
    "body.send_keys(Keys.PAGE_DOWN)\n",
    "\n",
    "time.sleep(1)\n",
    "\n",
    "# accept cookies:\n",
    "accept_cookies = browser.find_element_by_id(\"onetrust-accept-btn-handler\")\n",
    "print(accept_cookies)\n",
    "accept_cookies.click();\n",
    "time.sleep(1)\n",
    "\n",
    "\n",
    "\n",
    "# we search for an element that is called 'customer reviews', which is a button\n",
    "# the button can be clicked with the .click() function\n",
    "browser.find_element_by_link_text(\"Reviews\").click();\n",
    "\n",
    "# we need to scroll further down to collect the reviews and especially click the next button\n",
    "body.send_keys(Keys.PAGE_DOWN)\n",
    "\n",
    "# sleep again, let everything load\n",
    "time.sleep(2)\n",
    "\n",
    "def find_review_titles_in_source(html_source):\n",
    "    # see beautifulsoup\n",
    "    soup = BeautifulSoup(html_source, 'html.parser')\n",
    "    # find all the elements of class pros and print them\n",
    "    titles = soup.find_all('h4', attrs={'class': 'bv-content-title'})\n",
    "    for title in titles:\n",
    "        print(\"Review Title: \"+title.text)  \n",
    "\n",
    "find_review_titles_in_source(browser.page_source)      \n",
    "        \n",
    "# loop the following 10 times\n",
    "for which_page in range(10):\n",
    "    print('\\nPage: ', which_page)\n",
    "    # search for the next button to access the next reviews\n",
    "    try:\n",
    "        next_button = browser.find_element_by_css_selector('.bv-content-btn-pages-last.bv-content-btn-pages-active')\n",
    "        next_button.click()\n",
    "    except NoSuchElementException:  #spelling error making this code not work as expected\n",
    "        print(\"No next button\")\n",
    "        break\n",
    "    # scroll down to get the reviews\n",
    "    body.send_keys(Keys.PAGE_DOWN)\n",
    "    time.sleep(1)\n",
    "    # get the page content for beautiful soup\n",
    "    find_scores_in_source(browser.page_source)      "
   ]
  },
  {
   "cell_type": "code",
   "execution_count": null,
   "metadata": {},
   "outputs": [],
   "source": []
  }
 ],
 "metadata": {
  "kernelspec": {
   "display_name": "Python 3",
   "language": "python",
   "name": "python3"
  },
  "language_info": {
   "codemirror_mode": {
    "name": "ipython",
    "version": 3
   },
   "file_extension": ".py",
   "mimetype": "text/x-python",
   "name": "python",
   "nbconvert_exporter": "python",
   "pygments_lexer": "ipython3",
   "version": "3.7.4"
  }
 },
 "nbformat": 4,
 "nbformat_minor": 2
}
