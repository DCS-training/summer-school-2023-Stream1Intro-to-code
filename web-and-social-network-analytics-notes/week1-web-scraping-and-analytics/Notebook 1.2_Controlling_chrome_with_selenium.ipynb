{
 "cells": [
  {
   "cell_type": "markdown",
   "metadata": {},
   "source": [
    "# Scraping reviews using Selenium"
   ]
  },
  {
   "cell_type": "markdown",
   "metadata": {},
   "source": [
    "Here is another example of how Selenium can be used to interact with websites making use of Ajax (Asynchronous JavaScript):\n",
    "\n",
    "### Selenium is a chrome automation framework. \n",
    "\n",
    "It will enable us to tell chrome:\n",
    "\n",
    "- go to page bbc.co.uk/weather\n",
    "- \"click the work 'next'\"\n",
    "- scroll down\n",
    "\n",
    "Selenium will basically open a simplified version of Chrome, for a few seconds, use it and close it afterwards. You might even see it flash on your screen quickly.\n",
    "\n",
    "then we will use beautiful soup to understand the code\n",
    "\n",
    "### BeautifulSoup is an HTML parsing framework.\n",
    "\n",
    "It will enable us to:\n",
    "\n",
    "- copy the html of the tags eg. div, table\n",
    "- extract text from these tags\n",
    "\n"
   ]
  },
  {
   "cell_type": "markdown",
   "metadata": {},
   "source": [
    "# Getting selenium (don't skip this!)\n",
    "\n",
    "1. find out which version of chrome you have, in chrome open page: chrome://settings/help\n",
    "2. Go to the list of selenium versions and find folder with yoru version (eg. \t87.0.4280.88) https://chromedriver.storage.googleapis.com/index.html\n",
    "3. Go into the folder for your version and download the zip file with the version for your operating system (most likely chromedriver_mac64.zip\tor chromedriver_win32.zip ). \n",
    "4. unzip that file on yoru machine and put it in the folder where this notebook is. unzipped file will be called chromedriver or chromedriver.exe"
   ]
  },
  {
   "cell_type": "code",
   "execution_count": null,
   "metadata": {},
   "outputs": [],
   "source": [
    "!pip install selenium\n",
    "\n",
    "import time\n",
    "from bs4 import BeautifulSoup\n",
    "from selenium import webdriver\n",
    "from selenium.webdriver.common.keys import Keys\n",
    "from selenium.common.exceptions import NoSuchElementException\n"
   ]
  },
  {
   "cell_type": "code",
   "execution_count": null,
   "metadata": {},
   "outputs": [],
   "source": [
    "# define method that will create a browser, suitable to your operating system\n",
    "import sys\n",
    "def get_a_browser():\n",
    "    if sys.platform.startswith('win32') or sys.platform.startswith('cygwin'):\n",
    "        return webdriver.Chrome() # windows\n",
    "    else:\n",
    "        return webdriver.Chrome('./chromedriver') # mac"
   ]
  },
  {
   "cell_type": "markdown",
   "metadata": {},
   "source": [
    "### important note: allowing your system to run chromedriver. This needs to be done just once.\n",
    "\n",
    "If you are on a mac, you will need to allow your system to use chromium. Run below cell, and you will likely see a warning the first time, click 'cancel' (don't click 'Delete').\n",
    "\n",
    "After you see the warning, go into Settings > Security&Privacy > General and \"Allow Anyway\"\n",
    "\n",
    "On a pc the process will be simpler. When asked you'll need to allow computer to use the chromedriver.exe file.\n",
    "\n",
    "\n",
    "### Let's try to scrape an interactive website:\n",
    "\n",
    "What will be the weather in Edinburgh in 2 days?"
   ]
  },
  {
   "cell_type": "markdown",
   "metadata": {},
   "source": [
    "# Task (you'll need: a web browser, pen and paper)\n",
    "\n",
    "in this task I will ask you to do something by yourself (using your web browser, mouse and keyboard), and then you will see how you cen program Selenium to do it for you.\n",
    "\n",
    "### Use www.bbc.co.uk/weather to find out what time will be the sunrise in EDINBURGH next Sunday.\n",
    "\n",
    "D o it at least 3 times and observe all the steps you are taking. Make a very detailed list of all the steps, as if you had to describe them to someone over the phone without seeing their screen. See example below.\n",
    "\n",
    "it will look a bit like this:\n",
    "\n",
    "- ok, go to www.bbc.co.uk/weather and wait for it to load\n",
    "- scroll down, do you see a link with words 'Edinburgh' on it? Click it. \n",
    "- Wait a minute for it to load.\n",
    "- ok, now scroll down and ...\n",
    "\n",
    "When you are done with this exercise, we will try to instruct Selenium (Chrome automation tool) to do it for us. Do you think you can try to use Chrome Dev tools to make yoru steps more specific? eg. Instead of saying \"copy text in that bold link next to the word Sunrise\" try to say \"copy text from the html span item with a class 'wr-c-astro-data__time'\" \n",
    "\n",
    "**SERIOUSLY: Take a few minutes to do this. It will make you learn more from the below code!**\n",
    "\n"
   ]
  },
  {
   "cell_type": "markdown",
   "metadata": {},
   "source": [
    "Ok. And now let's get the python to do it for us."
   ]
  },
  {
   "cell_type": "code",
   "execution_count": null,
   "metadata": {},
   "outputs": [],
   "source": [
    "browser = get_a_browser()\n",
    "\n",
    "# the url we want to open\n",
    "url = u'https://www.bbc.co.uk/weather'\n",
    "\n",
    "# the browser will start and load the webpage\n",
    "browser.get(url)\n",
    "\n",
    "# we wait 1 second to let the page load everything\n",
    "time.sleep(1)\n",
    "\n",
    "# we search for an element that is called 'customer reviews', which is a button\n",
    "# the button can be clicked with the .click() function\n",
    "browser.find_element_by_link_text(\"Edinburgh\").click();\n",
    "\n",
    "# sleep again, let everything load\n",
    "time.sleep(1)\n",
    "\n",
    "# we load the HTML body (the main page content without headers, footers, etc.)\n",
    "body = browser.find_element_by_tag_name('body')\n",
    "\n",
    "# we use seleniums' send_keys() function to physically scroll down where we want to click\n",
    "body.send_keys(Keys.PAGE_DOWN)\n",
    "\n",
    "# search for the next button to access the next reviews\n",
    "try:\n",
    "    # link will look like \"Sun 12Dec\" so we use find_element_by_partial_link_text()\n",
    "    next_button = browser.find_element_by_partial_link_text('Sun ') \n",
    "    next_button.click()\n",
    "except NoSuchElementException:  #if such element does not exist, just stop looping\n",
    "    print(\"something went wrong. There was no Sunday link.\")\n",
    "    \n",
    "# load current view of the page into a soup\n",
    "soup = BeautifulSoup(browser.page_source, 'html.parser')\n",
    "\n",
    "# find all the elements of class pros and print them\n",
    "sunrise_tag = soup.find(\"span\", {\"class\" : 'wr-c-astro-data__time'})\n",
    "print(\"Sunrise next Sunday: \", sunrise_tag.text)\n",
    "\n"
   ]
  },
  {
   "cell_type": "markdown",
   "metadata": {},
   "source": [
    "Above you should see something like \"Sunrise next Sunday:  08:40\""
   ]
  },
  {
   "cell_type": "code",
   "execution_count": null,
   "metadata": {},
   "outputs": [],
   "source": []
  }
 ],
 "metadata": {
  "kernelspec": {
   "display_name": "Python 3",
   "language": "python",
   "name": "python3"
  },
  "language_info": {
   "codemirror_mode": {
    "name": "ipython",
    "version": 3
   },
   "file_extension": ".py",
   "mimetype": "text/x-python",
   "name": "python",
   "nbconvert_exporter": "python",
   "pygments_lexer": "ipython3",
   "version": "3.7.4"
  }
 },
 "nbformat": 4,
 "nbformat_minor": 2
}
