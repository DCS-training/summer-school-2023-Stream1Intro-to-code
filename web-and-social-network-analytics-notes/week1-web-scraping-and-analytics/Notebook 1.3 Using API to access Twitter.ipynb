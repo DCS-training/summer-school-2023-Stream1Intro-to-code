{
 "cells": [
  {
   "cell_type": "markdown",
   "metadata": {},
   "source": [
    "# Scraping Tweets with the Twitter API"
   ]
  },
  {
   "cell_type": "markdown",
   "metadata": {},
   "source": [
    "Tweepy is a library that interfaces with the Twitter API:"
   ]
  },
  {
   "cell_type": "code",
   "execution_count": null,
   "metadata": {},
   "outputs": [],
   "source": [
    "!pip install tweepy\n",
    "import tweepy\n",
    "# weeeply is a python library for accessing twitter data via twitter API. \n",
    "# # below I am sharing my demo credenmtials, they will work for testing it,\n",
    "# but for your project you'll need to create  your own credentials.\n",
    "# - create a twitter app with your twitter avound (one per group will do) https://developer.twitter.com/en/apps\n",
    "# - follow the tutorial on tweepy to set it up https://tweepy.readthedocs.io/en/latest/auth_tutorial.html"
   ]
  },
  {
   "cell_type": "code",
   "execution_count": null,
   "metadata": {},
   "outputs": [],
   "source": [
    "\n",
    "# Specify the account credentials in the following variables:\n",
    "consumer_key = '6LH2LIMPGNWMxNE2a6LfILp7i'\n",
    "consumer_secret = '0eWTMNdazgVNCgt1lRCQapeN8O54GeonyGHREyebYQs7dL3upn'\n",
    "access_token = '78610351-PaQIZu59zNjgIX7OeaKlU1Jr9LMqCTxVmGa7vxLZM'\n",
    "access_token_secret = 'J32gDj3Vdi3bjB0IbisO0IoCKWadDogVeGgZSyv510jZ4'\n",
    "\n",
    "\n",
    "# Authenticate\n",
    "auth = tweepy.OAuthHandler(consumer_key, consumer_secret)\n",
    "auth.set_access_token(access_token, access_token_secret)\n",
    "\n",
    "api = tweepy.API(auth)\n",
    "\n",
    "# Find all English tweets related to #iPhone11 since January 10 2020\n",
    "for tweet in tweepy.Cursor(api.search, q={\"#iPhone11\"}, count=5,\n",
    "                           lang=\"en\", since=\"2020-01-10\").items():\n",
    "    print(\"\\n-----\\n\"+str(tweet.created_at), tweet.text+ \"\\n-----\\n\")"
   ]
  },
  {
   "cell_type": "markdown",
   "metadata": {},
   "source": [
    "You can also 'listen in' on Twitter as tweets are posted in real-time: but this is much more buggy and complex. But you might see a few tweets before the whole thing crashes:"
   ]
  },
  {
   "cell_type": "code",
   "execution_count": null,
   "metadata": {},
   "outputs": [],
   "source": [
    "import json\n",
    "\n",
    "# Specify the account credentials in the following variables:\n",
    "consumer_key = '6LH2LIMPGNWMxNE2a6LfILp7i'\n",
    "consumer_secret = '0eWTMNdazgVNCgt1lRCQapeN8O54GeonyGHREyebYQs7dL3upn'\n",
    "access_token = '78610351-PaQIZu59zNjgIX7OeaKlU1Jr9LMqCTxVmGa7vxLZM'\n",
    "access_token_secret = 'J32gDj3Vdi3bjB0IbisO0IoCKWadDogVeGgZSyv510jZ4'\n",
    "\n",
    "\n",
    "# This listener will print out all Tweets it receives\n",
    "class PrintListener(tweepy.StreamListener):\n",
    "    def on_data(self, data):\n",
    "        \n",
    "        # Decode the JSON data\n",
    "        tweet = json.loads(data)\n",
    "\n",
    "        # Print out the Tweet\n",
    "        print(f\"{ tweet['user']['screen_name']}  {tweet['text'].encode('ascii', 'ignore')} \\n\\n\")\n",
    "\n",
    "    def on_error(self, status):\n",
    "        print(\"Error\", status)\n",
    "\n",
    "\n",
    "print(\"about to start\")\n",
    "if __name__ == '__main__':\n",
    "    listener = PrintListener()\n",
    "\n",
    "    keyword = 'Python'\n",
    "\n",
    "    # Show system message\n",
    "    print('I will now print Tweets containing \"' + keyword + '\" As they are posted live ==>')\n",
    "\n",
    "    # Authenticate\n",
    "    auth = tweepy.OAuthHandler(consumer_key, consumer_secret)\n",
    "    auth.set_access_token(access_token, access_token_secret)\n",
    "\n",
    "    # Connect the stream to our listener\n",
    "    stream = tweepy.Stream(auth, listener)\n",
    "    stream.filter(track=[keyword])\n",
    "              \n",
    "# to stop the program (please don't keep it running) use the Stop button on the top of your screen (next to RUN)"
   ]
  },
  {
   "cell_type": "code",
   "execution_count": null,
   "metadata": {},
   "outputs": [],
   "source": []
  }
 ],
 "metadata": {
  "kernelspec": {
   "display_name": "Python 3",
   "language": "python",
   "name": "python3"
  },
  "language_info": {
   "codemirror_mode": {
    "name": "ipython",
    "version": 3
   },
   "file_extension": ".py",
   "mimetype": "text/x-python",
   "name": "python",
   "nbconvert_exporter": "python",
   "pygments_lexer": "ipython3",
   "version": "3.7.4"
  }
 },
 "nbformat": 4,
 "nbformat_minor": 2
}
