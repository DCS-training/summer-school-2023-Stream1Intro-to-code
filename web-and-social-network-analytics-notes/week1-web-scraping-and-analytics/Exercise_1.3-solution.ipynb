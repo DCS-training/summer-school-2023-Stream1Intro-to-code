{
 "cells": [
  {
   "cell_type": "markdown",
   "metadata": {},
   "source": [
    "## Exercise 3"
   ]
  },
  {
   "cell_type": "markdown",
   "metadata": {},
   "source": [
    "Apply the same code you used before to retrieve all Tweets of Taylor Swift, Barack Obama, or any Tweeter you like\n",
    "- Find the number of retweets\n",
    "- Write the scores to a csv file"
   ]
  },
  {
   "cell_type": "code",
   "execution_count": 1,
   "metadata": {},
   "outputs": [],
   "source": [
    "import time\n",
    "from selenium import webdriver\n",
    "from selenium.webdriver.common.keys import Keys"
   ]
  },
  {
   "cell_type": "code",
   "execution_count": 2,
   "metadata": {},
   "outputs": [],
   "source": [
    "# define method that will create a browser, suitable to your operating system\n",
    "import sys\n",
    "def get_a_browser():\n",
    "    if sys.platform.startswith('win32') or sys.platform.startswith('cygwin'):\n",
    "        return webdriver.Chrome() # windows\n",
    "    else:\n",
    "        return webdriver.Chrome('./chromedriver') # mac"
   ]
  },
  {
   "cell_type": "code",
   "execution_count": 11,
   "metadata": {},
   "outputs": [
    {
     "name": "stdout",
     "output_type": "stream",
     "text": [
      "scores [<selenium.webdriver.remote.webelement.WebElement (session=\"2017960f1fe2a48b685e446c8783208a\", element=\"f053d32c-c6bb-4bc7-9589-d7cc59a3df6f\")>, <selenium.webdriver.remote.webelement.WebElement (session=\"2017960f1fe2a48b685e446c8783208a\", element=\"f2566330-a458-4e23-a712-2e6525a40333\")>, <selenium.webdriver.remote.webelement.WebElement (session=\"2017960f1fe2a48b685e446c8783208a\", element=\"8d975851-f133-4a6b-9eae-076a8ae5fbc2\")>, <selenium.webdriver.remote.webelement.WebElement (session=\"2017960f1fe2a48b685e446c8783208a\", element=\"0851ebc8-16f9-4a93-babc-39ed884d4774\")>, <selenium.webdriver.remote.webelement.WebElement (session=\"2017960f1fe2a48b685e446c8783208a\", element=\"efa12b99-ee0d-4375-bc33-1b08258e9ff1\")>, <selenium.webdriver.remote.webelement.WebElement (session=\"2017960f1fe2a48b685e446c8783208a\", element=\"b4165abb-7398-4fe6-9bf3-7e7528bd5fe8\")>, <selenium.webdriver.remote.webelement.WebElement (session=\"2017960f1fe2a48b685e446c8783208a\", element=\"52d65f67-70b6-455f-9b71-29e6d155a832\")>, <selenium.webdriver.remote.webelement.WebElement (session=\"2017960f1fe2a48b685e446c8783208a\", element=\"69b0f351-9f05-4ecf-b8b0-2aadc05ae8d3\")>, <selenium.webdriver.remote.webelement.WebElement (session=\"2017960f1fe2a48b685e446c8783208a\", element=\"404f8aef-4092-42b4-a308-9b96040c97fd\")>, <selenium.webdriver.remote.webelement.WebElement (session=\"2017960f1fe2a48b685e446c8783208a\", element=\"50f62d63-e05a-459e-b5e6-99c7af278c7f\")>]\n",
      "Retweets: 28.1K\n",
      "Retweets: 26.7K\n",
      "Retweets: 98.6K\n",
      "Retweets: 38.8K\n",
      "Retweets: 35.7K\n",
      "Retweets: 17K\n",
      "Retweets: 18.9K\n",
      "Retweets: 9.8K\n",
      "Retweets: 10.7K\n",
      "Retweets: 18.4K\n"
     ]
    }
   ],
   "source": [
    "# launch the browser\n",
    "browser = get_a_browser()\n",
    "\n",
    "# launch the Twitter search page\n",
    "twitter_url = 'https://twitter.com/taylorswift13'\n",
    "\n",
    "# Add the search term\n",
    "query = ''\n",
    "\n",
    "# Create the url\n",
    "url = twitter_url+query\n",
    "\n",
    "# Get the page\n",
    "browser.get(url)\n",
    "\n",
    "# Let the Tweets load\n",
    "time.sleep(1)\n",
    "\n",
    "# Find the body of the page\n",
    "body = browser.find_element_by_tag_name('body')\n",
    "\n",
    "# Keep scrolling down using a simulation of the PAGE_DOWN button\n",
    "for _ in range(5):\n",
    "    body.send_keys(Keys.PAGE_DOWN)\n",
    "    time.sleep(0.2)\n",
    "\n",
    "# Get the tweets by their class (similar to Beautifulsoup's find({'class':'something'}))\n",
    "scores = browser.find_elements_by_xpath(\"//div[@data-testid='retweet']\");\n",
    "\n",
    "output_file = open('twitter_scores.csv','w')\n",
    "\n",
    "# Print Tweets\n",
    "for score in scores:\n",
    "    if score.text!= \"\":\n",
    "        print('Retweets: '+ score.text)\n",
    "        output_file.write(str(score.text)+\"\\n\")\n",
    "\n",
    "output_file.close()    "
   ]
  },
  {
   "cell_type": "code",
   "execution_count": null,
   "metadata": {},
   "outputs": [],
   "source": []
  }
 ],
 "metadata": {
  "kernelspec": {
   "display_name": "Python 3",
   "language": "python",
   "name": "python3"
  },
  "language_info": {
   "codemirror_mode": {
    "name": "ipython",
    "version": 3
   },
   "file_extension": ".py",
   "mimetype": "text/x-python",
   "name": "python",
   "nbconvert_exporter": "python",
   "pygments_lexer": "ipython3",
   "version": "3.7.4"
  }
 },
 "nbformat": 4,
 "nbformat_minor": 2
}
