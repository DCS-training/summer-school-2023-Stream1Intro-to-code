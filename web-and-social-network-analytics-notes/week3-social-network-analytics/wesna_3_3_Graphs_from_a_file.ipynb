{
 "cells": [
  {
   "cell_type": "markdown",
   "metadata": {},
   "source": [
    "# Graph metrics\n",
    "\n",
    "In this notebook we will look at metrics: \n",
    "\n",
    "- degree\n",
    "- betweenness\n",
    "- pagerank\n",
    "- hits"
   ]
  },
  {
   "cell_type": "code",
   "execution_count": null,
   "metadata": {},
   "outputs": [],
   "source": [
    "import networkx as nx\n",
    "import numpy as np\n",
    "import pandas as pd\n",
    "import matplotlib.pyplot as plt\n",
    "import pprint as pp"
   ]
  },
  {
   "cell_type": "code",
   "execution_count": null,
   "metadata": {},
   "outputs": [],
   "source": [
    "\n",
    "\n",
    "\n",
    "df = pd.read_csv('graph_simple.csv', index_col = 0)\n",
    "print(df)"
   ]
  },
  {
   "cell_type": "code",
   "execution_count": null,
   "metadata": {},
   "outputs": [],
   "source": [
    "DG = nx.DiGraph()\n",
    "for row, row_values in df.iterrows():\n",
    "    print('\\nNode: ', row)\n",
    "    for column, value in enumerate(row_values):\n",
    "        if value > 0:\n",
    "            print('Connected to ', df.columns[column], ' with weight: ', value)\n",
    "            DG.add_edge(row, df.columns[column], weight=value)"
   ]
  },
  {
   "cell_type": "code",
   "execution_count": null,
   "metadata": {},
   "outputs": [],
   "source": [
    "pos = nx.spring_layout(DG)\n",
    "\n",
    "nx.draw(DG, pos, with_labels= True, node_size = 1000)\n",
    "plt.show()"
   ]
  },
  {
   "cell_type": "markdown",
   "metadata": {},
   "source": [
    "### Metrics"
   ]
  },
  {
   "cell_type": "code",
   "execution_count": null,
   "metadata": {},
   "outputs": [],
   "source": [
    "degree = nx.degree_centrality(DG)\n",
    "betweenness = nx.betweenness_centrality(DG)\n",
    "pagerank = nx.pagerank_numpy(DG)\n",
    "hits = nx.hits_numpy(DG)"
   ]
  },
  {
   "cell_type": "code",
   "execution_count": null,
   "metadata": {},
   "outputs": [],
   "source": [
    "pp.pprint(degree)\n",
    "\n",
    "pos = nx.spring_layout(DG)\n",
    "\n",
    "size = [value * 1000 for value in degree.values()]\n",
    "\n",
    "nx.draw(DG, pos, with_labels= True, node_size = size)\n",
    "plt.title(\"Size scaled to degree\")\n",
    "plt.show()"
   ]
  },
  {
   "cell_type": "code",
   "execution_count": null,
   "metadata": {},
   "outputs": [],
   "source": [
    "pp.pprint(betweenness)\n",
    "\n",
    "pos = nx.spring_layout(DG)\n",
    "\n",
    "size = [(value) * 10000  for value in betweenness.values()]\n",
    "\n",
    "nx.draw(DG, pos, with_labels= True, node_size = size)\n",
    "plt.title(\"Size scaled to degree\")\n",
    "plt.show()"
   ]
  },
  {
   "cell_type": "code",
   "execution_count": null,
   "metadata": {},
   "outputs": [],
   "source": [
    "pp.pprint(pagerank)\n",
    "\n",
    "pos = nx.spring_layout(DG)\n",
    "\n",
    "size = [value * 10000 for value in pagerank.values()]\n",
    "\n",
    "nx.draw(DG, pos, with_labels= True, node_size = size)\n",
    "plt.title(\"Size scaled to PageRank\")\n",
    "plt.show()"
   ]
  },
  {
   "cell_type": "code",
   "execution_count": null,
   "metadata": {},
   "outputs": [],
   "source": [
    "pp.pprint(hits[0])\n",
    "\n",
    "pos = nx.spring_layout(DG)\n",
    "\n",
    "size = [value * 10000 for value in hits[0].values()]\n",
    "\n",
    "nx.draw(DG, pos, with_labels= True, node_size = size)\n",
    "plt.title(\"Size scaled to hub scores\")\n",
    "plt.show()"
   ]
  },
  {
   "cell_type": "code",
   "execution_count": null,
   "metadata": {},
   "outputs": [],
   "source": [
    "print(hits[1])\n",
    "\n",
    "pos = nx.spring_layout(DG)\n",
    "\n",
    "size = [value * 10000 for value in hits[1].values()]\n",
    "\n",
    "nx.draw(DG, pos, with_labels= True, node_size = size)\n",
    "plt.title(\"Size scaled to authority scores\")\n",
    "plt.show()"
   ]
  },
  {
   "cell_type": "code",
   "execution_count": null,
   "metadata": {},
   "outputs": [],
   "source": []
  }
 ],
 "metadata": {
  "kernelspec": {
   "display_name": "Python 3",
   "language": "python",
   "name": "python3"
  },
  "language_info": {
   "codemirror_mode": {
    "name": "ipython",
    "version": 3
   },
   "file_extension": ".py",
   "mimetype": "text/x-python",
   "name": "python",
   "nbconvert_exporter": "python",
   "pygments_lexer": "ipython3",
   "version": "3.7.4"
  }
 },
 "nbformat": 4,
 "nbformat_minor": 2
}
