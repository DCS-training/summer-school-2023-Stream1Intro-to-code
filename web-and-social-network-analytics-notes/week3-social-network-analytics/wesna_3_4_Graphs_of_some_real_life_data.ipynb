{
 "cells": [
  {
   "cell_type": "markdown",
   "metadata": {},
   "source": [
    "This notebook is an exploration of data where an anonymised group of people have answered a number of questions about:\n",
    "\n",
    "- how well they know each other student (scale from 1 = don't know them, to 5 = we're best friends)\n",
    "- their student experiences (scale from 1 = I didn't think about doing it, to 5 = I do it almost every day)\n",
    "- their personality traits (scale from 1 = Not like me at all, to 7 = A lot like me)\n",
    "\n",
    "Data in the file looks like this: unique name, personality questions, experience qiestions, familiarity with other students\n",
    "\n",
    "```\n",
    "What is your name?,\"Anxious, easily upset\",\"Calm, emotionally stable\",\"Conventional, uncreative\",\"Critical, quarrelsome\",\"Dependable, self-disciplined\",\"Open to new experiences, complex\",\"Disorganized, careless\",\"Extraverted, enthusiastic\",\"Sympathetic, warm\",\"Reserved, quiet\",\n",
    "\n",
    "Cooked a meal with others,Climbed Arthur's Seat,Cycled,Danced to the music with others,Go to Commonwealth Swimming pool,Go to the university gym (pleasance),Learned some words in a completely new language,Made new friends for life,Performed in a team sports,Read a fiction book,Saw a long-haired ginger Scottish cow,Spoke to a person born in Edinburgh,Tried eating haggis,Visited Botanic Gardens,Visited Castle,Walk around the meadows,Went out for a meal with friends,Went to the cinema,Went to the Student Union,Went to the university library,\n",
    "\n",
    "p0,p1,p10,p11,p12,p13,p14,p15,p16,p17,p18,p19,p2,p20,p21,p22,p23,p24,p25,p26,p27,p28,p29,p3,p4,p5,p6,p7,p8,p9\n",
    "```\n",
    "then each row of data will look like this:\n",
    "\n",
    "```\n",
    "p0,6,5,2,2,5,7,2,5,5,4,1,1,1,1,0,0,1,1,1,1,1,1,0,1,0,1,1,1,1,1,5,4,3,2,3,3,3,3,3,4,3,4,3,5,3,3,3,3,3,3,1,4,3,4,4,3,3,4,4,1\n",
    "p1,5,2,5,5,7,7,5,7,7,1,1,1,0,1,0,1,1,1,1,0,0,1,0,0,1,1,1,0,0,1,5,1,5,2,1,2,2,4,5,5,1,4,5,5,5,2,5,1,3,5,5,5,5,5,2,4,4,4,5,5\n",
    "```\n",
    "\n",
    "We will draw some graphs and look at some simple connections between things."
   ]
  },
  {
   "cell_type": "code",
   "execution_count": null,
   "metadata": {},
   "outputs": [],
   "source": [
    "import networkx as nx\n",
    "import numpy as np\n",
    "import pandas as pd\n",
    "import matplotlib.pyplot as plt\n",
    "import pprint as pp\n",
    "\n",
    "import matplotlib.pyplot as plt\n",
    "\n",
    "\n"
   ]
  },
  {
   "cell_type": "code",
   "execution_count": null,
   "metadata": {},
   "outputs": [],
   "source": [
    "personality_questions  = [\"Anxious, easily upset\", \n",
    "                        \"Calm, emotionally stable\",\n",
    "                        \"Conventional, uncreative\",\n",
    "                        \"Critical, quarrelsome\", \n",
    "                        \"Dependable, self-disciplined\",\n",
    "                        \"Open to new experiences, complex\",\n",
    "                        \"Disorganized, careless\",\n",
    "                        \"Extraverted, enthusiastic\",\n",
    "                        \"Sympathetic, warm\",\n",
    "                        \"Reserved, quiet\"]\n",
    "\n",
    "experiences_questions = [        \"Go to Commonwealth Swimming pool\", \"Climbed Arthur's Seat\",  \"Cooked a meal with others\", \n",
    "       \"Go to the university gym (pleasance)\", \"Danced to the music with others\", \n",
    "       \"Learned some words in a completely new language\",\n",
    "       \"Made new friends for life\",\"Cycled\",\n",
    "       \"Performed in a team sports\",  \"Read a fiction book\", \n",
    "        \"Saw a long-haired ginger Scottish cow\",\n",
    "       \"Spoke to a person born in Edinburgh\", \n",
    "        \"Tried eating haggis\", \n",
    "       \"Visited Botanic Gardens\", \"Visited Castle\", \n",
    "       \"Walk around the meadows\",\n",
    "       \"Went out for a meal with friends\", \"Went to the Student Union\",\n",
    "       \"Went to the cinema\", \"Went to the university library\",\n",
    "       ]"
   ]
  },
  {
   "cell_type": "code",
   "execution_count": null,
   "metadata": {},
   "outputs": [],
   "source": [
    "df = pd.read_csv('graph_large.csv', index_col = 0)\n",
    "print(df)"
   ]
  },
  {
   "cell_type": "code",
   "execution_count": null,
   "metadata": {},
   "outputs": [],
   "source": [
    "people = df.index.values.tolist()\n",
    "\n",
    "DG = nx.DiGraph()\n",
    "plt.rcParams['figure.figsize'] = [15, 15]\n",
    "for row, row_values in df.iterrows():\n",
    "    print('\\nNode: ', row)\n",
    "    for column, column_values in enumerate(row_values):\n",
    "        #### optional: only keep connections >3\n",
    "        isThisAPersonColumn = df.columns[column] in people\n",
    "        if(column_values > 3 and isThisAPersonColumn): # only connect nodes if this is a 'person' column\n",
    "            print('Connected to ', df.columns[column], ' with weight: ', column_values)\n",
    "            DG.add_edge(row, df.columns[column], weight=column_values)\n",
    "    "
   ]
  },
  {
   "cell_type": "code",
   "execution_count": null,
   "metadata": {},
   "outputs": [],
   "source": [
    "degree = nx.degree_centrality(DG)\n",
    "betweenness = nx.betweenness_centrality(DG)\n",
    "pagerank = nx.pagerank(DG)\n",
    "hits = nx.hits(DG)\n",
    "\n",
    "print('degree')\n",
    "pp.pprint(degree)\n",
    "print('betweenness')\n",
    "pp.pprint(betweenness)\n",
    "print('pagerank')\n",
    "pp.pprint(pagerank)\n",
    "print('hits[0]')\n",
    "pp.pprint(hits[0])\n",
    "print('hits[1]')\n",
    "pp.pprint(hits[1])"
   ]
  },
  {
   "cell_type": "code",
   "execution_count": null,
   "metadata": {},
   "outputs": [],
   "source": [
    "# Note: we will reuse the same spring layout thoughout the graphs\n",
    "pos = nx.spring_layout(DG)"
   ]
  },
  {
   "cell_type": "code",
   "execution_count": null,
   "metadata": {},
   "outputs": [],
   "source": [
    "nx.draw(DG, pos, with_labels= True, node_size = 500)\n",
    "plt.show()"
   ]
  },
  {
   "cell_type": "markdown",
   "metadata": {},
   "source": [
    "### Metrics"
   ]
  },
  {
   "cell_type": "code",
   "execution_count": null,
   "metadata": {},
   "outputs": [],
   "source": [
    "degree = nx.degree_centrality(DG)\n",
    "betweenness = nx.betweenness_centrality(DG)\n",
    "pagerank = nx.pagerank_numpy(DG)\n",
    "hits = nx.hits_numpy(DG)"
   ]
  },
  {
   "cell_type": "code",
   "execution_count": null,
   "metadata": {},
   "outputs": [],
   "source": [
    "pp.pprint(degree)\n",
    "\n",
    "# pos = nx.spring_layout(DG)\n",
    "\n",
    "size = [value * 500 for value in degree.values()]\n",
    "\n",
    "nx.draw(DG, pos, with_labels= True, node_size = size)\n",
    "plt.title(\"Size scaled to degree\")\n",
    "plt.show()"
   ]
  },
  {
   "cell_type": "code",
   "execution_count": null,
   "metadata": {},
   "outputs": [],
   "source": [
    "pp.pprint(betweenness)\n",
    "\n",
    "# pos = nx.spring_layout(DG)\n",
    "\n",
    "size = [value * 10000 for value in betweenness.values()]\n",
    "\n",
    "nx.draw(DG, pos, with_labels= True, node_size = size)\n",
    "plt.title(\"Size scaled to degree\")\n",
    "plt.show()"
   ]
  },
  {
   "cell_type": "code",
   "execution_count": null,
   "metadata": {},
   "outputs": [],
   "source": [
    "pp.pprint(pagerank)\n",
    "\n",
    "# pos = nx.spring_layout(DG)\n",
    "\n",
    "size = [value * 10000 for value in pagerank.values()]\n",
    "\n",
    "nx.draw(DG, pos, with_labels= True, node_size = size)\n",
    "plt.title(\"Size scaled to PageRank\")\n",
    "plt.show()"
   ]
  },
  {
   "cell_type": "code",
   "execution_count": null,
   "metadata": {},
   "outputs": [],
   "source": [
    "pp.pprint(hits[0])\n",
    "\n",
    "# pos = nx.spring_layout(DG)\n",
    "\n",
    "size = [value * 10000 for value in hits[0].values()]\n",
    "\n",
    "nx.draw(DG, pos, with_labels= True, node_size = size)\n",
    "plt.title(\"Size scaled to hub scores\")\n",
    "plt.show()"
   ]
  },
  {
   "cell_type": "code",
   "execution_count": null,
   "metadata": {},
   "outputs": [],
   "source": [
    "pp.pprint(hits[1])\n",
    "\n",
    "# pos = nx.spring_layout(DG)\n",
    "\n",
    "size = [value * 10000 for value in hits[1].values()]\n",
    "\n",
    "nx.draw(DG, pos, with_labels= True, node_size = size)\n",
    "plt.title(\"Size scaled to authority scores\")\n",
    "plt.show()"
   ]
  },
  {
   "cell_type": "code",
   "execution_count": null,
   "metadata": {},
   "outputs": [],
   "source": [
    "# this cell will take a long time to render.\n",
    "# if your notebook froze completely, in the menu you can Kernel > Restart\n",
    "\n",
    "print(\"Edinburgh Experiences\")\n",
    "\n",
    "# pos = nx.spring_layout(DG)\n",
    "\n",
    "# experiences_questions personality_questions\n",
    "size = [value * 500 for value in degree.values()]\n",
    "\n",
    "for experience in experiences_questions:\n",
    "    colors =  ['red' if value == 1 else 'grey' for value in df[experience]]\n",
    "    nx.draw(DG, pos, with_labels= True, node_size = size, node_color = colors)\n",
    "    plt.title(f\"Size scaled to {experience}\")\n",
    "    plt.show()"
   ]
  },
  {
   "cell_type": "code",
   "execution_count": null,
   "metadata": {},
   "outputs": [],
   "source": [
    "print(\"personality\")\n",
    "\n",
    "# pos = nx.spring_layout(DG)\n",
    "\n",
    "for personality in personality_questions:\n",
    "    size = [value * 500 for value in df[personality]]\n",
    "    nx.draw(DG, pos, with_labels= True, node_size = size, cmap=plt.cm.Blues)\n",
    "    plt.title(f\"Size scaled to {personality}\")\n",
    "    plt.show()"
   ]
  },
  {
   "cell_type": "code",
   "execution_count": null,
   "metadata": {},
   "outputs": [],
   "source": []
  },
  {
   "cell_type": "code",
   "execution_count": null,
   "metadata": {},
   "outputs": [],
   "source": []
  }
 ],
 "metadata": {
  "kernelspec": {
   "display_name": "Python 3",
   "language": "python",
   "name": "python3"
  },
  "language_info": {
   "codemirror_mode": {
    "name": "ipython",
    "version": 3
   },
   "file_extension": ".py",
   "mimetype": "text/x-python",
   "name": "python",
   "nbconvert_exporter": "python",
   "pygments_lexer": "ipython3",
   "version": "3.7.4"
  }
 },
 "nbformat": 4,
 "nbformat_minor": 2
}
