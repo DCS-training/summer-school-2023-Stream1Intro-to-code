{
 "cells": [
  {
   "cell_type": "markdown",
   "metadata": {},
   "source": [
    "## More graphs\n",
    "\n",
    "In this notebook:\n",
    "\n",
    "- loading and saving graph data into files (and formats for this) also see https://networkx.org/documentation/stable/reference/readwrite/index.html\n",
    "- using bipartite graphs (with two types of nodes)\n",
    "- styling graphs\n"
   ]
  },
  {
   "cell_type": "code",
   "execution_count": null,
   "metadata": {},
   "outputs": [],
   "source": [
    "import networkx as nx\n",
    "import matplotlib.pyplot as plt"
   ]
  },
  {
   "cell_type": "markdown",
   "metadata": {},
   "source": [
    "# Loading graphs from files:\n",
    "\n",
    "### Edgelist (sort of like JSON)\n",
    "\n",
    "Edgelist looks like below. Format is:\n",
    "\n",
    "Source Destination {'attribute':value}\n",
    "\n",
    "```\n",
    "beyonce mia {'weight': 5}\n",
    "beyonce azealia {'weight': 1, 'recorded_together': 2}\n",
    "beyonce jayz {'weight': 1, 'recorded_together': 5}\n",
    "beyonce madonna {'weight': 1}\n",
    "azealia madonna {'weight': 1, 'recorded_together': 2}\n",
    "azealia nicki {'weight': 1}\n",
    "```"
   ]
  },
  {
   "cell_type": "code",
   "execution_count": null,
   "metadata": {},
   "outputs": [],
   "source": [
    "import networkx as nx\n",
    "import matplotlib.pyplot as plt\n",
    "G = nx.read_edgelist('graph_edgelist.csv')\n",
    "\n",
    "nx.draw(G, with_labels= True, node_size = 500)\n",
    "plt.show()"
   ]
  },
  {
   "cell_type": "markdown",
   "metadata": {},
   "source": [
    "And writing them:"
   ]
  },
  {
   "cell_type": "code",
   "execution_count": null,
   "metadata": {},
   "outputs": [],
   "source": [
    "# you can also save yoru graph into a file really easilly:\n",
    "nx.write_edgelist(G,'graph_output_edge_new.csv') # save to a new file"
   ]
  },
  {
   "cell_type": "markdown",
   "metadata": {},
   "source": [
    "### Adjacency list\n",
    "\n",
    "Adjacency list looks like below. Format is:\n",
    "\n",
    "source target target target target\n",
    "\n",
    "```\n",
    "beyonce mia azealia jayz madonna\n",
    "mia\n",
    "azealia madonna nicki\n",
    "jayz\n",
    "madonna\n",
    "nicki\n",
    "```"
   ]
  },
  {
   "cell_type": "code",
   "execution_count": null,
   "metadata": {},
   "outputs": [],
   "source": [
    "G = nx.read_adjlist('graph_adjacency.csv')\n",
    "\n",
    "nx.draw(G, with_labels= True, node_size = 500)\n",
    "plt.show()"
   ]
  },
  {
   "cell_type": "code",
   "execution_count": null,
   "metadata": {},
   "outputs": [],
   "source": [
    "nx.write_adjlist(G,'graph_output_adj_new.csv') # save to a new file"
   ]
  },
  {
   "cell_type": "markdown",
   "metadata": {},
   "source": [
    "### Bipartite graphs"
   ]
  },
  {
   "cell_type": "markdown",
   "metadata": {},
   "source": [
    "Bipartite graphs contain two types of nodes. They are not a different object, but you can specify the type of connection by using the bipartite attribute:"
   ]
  },
  {
   "cell_type": "code",
   "execution_count": null,
   "metadata": {},
   "outputs": [],
   "source": [
    "from networkx.algorithms import bipartite\n",
    "\n",
    "B = nx.Graph()\n",
    "\n",
    "# Add nodes with the node attribute \"bipartite\"\n",
    "B.add_nodes_from([\"jill\", \"nicky\", \"tessa\", \"aga\", \"ecka\", \"min\", \"paola\"], bipartite=0)\n",
    "B.add_nodes_from([\"netflix\", \"facebook\", \"instagram\"], bipartite=1)\n",
    "\n",
    "B.add_edge('jill','netflix')\n",
    "B.add_edge('jill','facebook')\n",
    "B.add_edge('jill','instagram')\n",
    "B.add_edge('nicky','facebook')\n",
    "B.add_edge('nicky','instagram')\n",
    "B.add_edge('tessa','instagram')\n",
    "B.add_edge('aga','instagram')\n",
    "B.add_edge('aga','netflix')\n",
    "B.add_edge('ecka','instagram')\n",
    "B.add_edge('ecka','facebook')\n",
    "B.add_edge('min','instagram')\n",
    "B.add_edge('paola','instagram')\n",
    "\n",
    "\n",
    "print(B.edges()) #all edges"
   ]
  },
  {
   "cell_type": "code",
   "execution_count": null,
   "metadata": {},
   "outputs": [],
   "source": [
    "print(bipartite.color(B)) # returns values of 'bipartite' variable\n"
   ]
  },
  {
   "cell_type": "code",
   "execution_count": null,
   "metadata": {},
   "outputs": [],
   "source": [
    "def nodes_colours(graph):\n",
    "    nodes = graph.nodes() # nodes in correct order\n",
    "    colours_dict = bipartite.color(graph) # dict with 0 or 1 telling you which group node is in\n",
    "    return [\n",
    "        \"red\" if colours_dict[node] == 1 else \"blue\"\n",
    "        for node in nodes\n",
    "    ]\n",
    "\n",
    "pos = nx.spring_layout(B)\n",
    "\n",
    "nx.draw(B, pos, with_labels= True, node_size = 2000, width = 3, node_color = nodes_colours(B)  )\n",
    "plt.show()"
   ]
  },
  {
   "cell_type": "markdown",
   "metadata": {},
   "source": [
    "# Another way to style and specify details of a graph:\n",
    "\n",
    "Let's try this differently:"
   ]
  },
  {
   "cell_type": "code",
   "execution_count": null,
   "metadata": {},
   "outputs": [],
   "source": [
    "users = [node for node in B.nodes() if bipartite.color(B)[node]==1]\n",
    "websites = [node for node in B.nodes() if bipartite.color(B)[node]!=1]\n",
    "print(\"websites\",websites)\n",
    "print(\"users\",users)"
   ]
  },
  {
   "cell_type": "code",
   "execution_count": null,
   "metadata": {},
   "outputs": [],
   "source": [
    "nodePos = nx.spring_layout(B)\n",
    "\n",
    "nx.draw_networkx_nodes(B, nodePos, nodelist=websites, node_size = 1000, node_color ='red', node_shape ='o')\n",
    "nx.draw_networkx_nodes(B, nodePos, nodelist=users, node_size=1500, node_color ='lightblue', node_shape ='s')\n",
    "\n",
    "nx.draw_networkx_labels(B, pos=nodePos, font_size=15, font_family='arial')\n",
    "\n",
    "nx.draw_networkx_edges(B,nodePos)\n",
    "\n",
    "\n",
    "plt.axis('off')\n",
    "plt.show()"
   ]
  },
  {
   "cell_type": "code",
   "execution_count": null,
   "metadata": {},
   "outputs": [],
   "source": []
  }
 ],
 "metadata": {
  "kernelspec": {
   "display_name": "Python 3",
   "language": "python",
   "name": "python3"
  },
  "language_info": {
   "codemirror_mode": {
    "name": "ipython",
    "version": 3
   },
   "file_extension": ".py",
   "mimetype": "text/x-python",
   "name": "python",
   "nbconvert_exporter": "python",
   "pygments_lexer": "ipython3",
   "version": "3.7.4"
  }
 },
 "nbformat": 4,
 "nbformat_minor": 2
}
