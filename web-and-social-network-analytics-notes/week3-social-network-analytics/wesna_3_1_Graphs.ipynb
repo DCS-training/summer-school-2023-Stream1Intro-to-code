{
 "cells": [
  {
   "cell_type": "markdown",
   "metadata": {},
   "source": [
    "## Graphs\n",
    "\n",
    "in this notebook you will see:\n",
    "\n",
    "- how to build simple social network graphs\n",
    "- how to customise the graphs with extra variables (and how to use them)\n",
    "- building directional graphs"
   ]
  },
  {
   "cell_type": "code",
   "execution_count": null,
   "metadata": {},
   "outputs": [],
   "source": [
    "import networkx as nx\n",
    "import matplotlib.pyplot as plt\n",
    "import pprint as pp"
   ]
  },
  {
   "cell_type": "markdown",
   "metadata": {},
   "source": [
    "### Create your own graph"
   ]
  },
  {
   "cell_type": "markdown",
   "metadata": {},
   "source": [
    "We can simply start adding edges by naming the nodes that are connected. Here, a weight is immediately included as well, altough that is optional:"
   ]
  },
  {
   "cell_type": "code",
   "execution_count": null,
   "metadata": {},
   "outputs": [],
   "source": [
    "G = nx.Graph()\n",
    "\n",
    "\n",
    "\n",
    "G.add_edge('beyonce','mia', weight = 5)\n",
    "G.add_edge('beyonce','azealia', weight = 1)\n",
    "G.add_edge('beyonce','jayz', weight = 1)\n",
    "G.add_edge('beyonce','madonna', weight = 2)\n",
    "G.add_edge('madonna','azealia', weight = 1)\n",
    "G.add_edge('nicki','azealia', weight = 1)"
   ]
  },
  {
   "cell_type": "code",
   "execution_count": null,
   "metadata": {},
   "outputs": [],
   "source": [
    "print('Edges')\n",
    "print( G.number_of_edges())\n",
    "print( G.edges())\n",
    "print( )\n",
    "\n",
    "print('Nodes')\n",
    "print( G.number_of_nodes())\n",
    "print( G.nodes())\n"
   ]
  },
  {
   "cell_type": "markdown",
   "metadata": {},
   "source": [
    "We can obtain various statistics regarding nodes:"
   ]
  },
  {
   "cell_type": "code",
   "execution_count": null,
   "metadata": {},
   "outputs": [],
   "source": [
    "for node in G.nodes():\n",
    "    print('Number of neighbours of ', node, ':\\t', len(G.adj[node]))\n",
    "    print('Neighbours of ', node, ': ', G.adj[node])\n",
    "    print('Degree: ', G.degree(node))\n",
    "    print()"
   ]
  },
  {
   "cell_type": "code",
   "execution_count": null,
   "metadata": {},
   "outputs": [],
   "source": [
    "node_of_interest = \"beyonce\"\n",
    "\n",
    "for node in G.neighbors(node_of_interest):\n",
    "    print(node_of_interest, 'is a connected to', node )"
   ]
  },
  {
   "cell_type": "markdown",
   "metadata": {},
   "source": [
    "Drawing a graph is relatively straightforward as well:"
   ]
  },
  {
   "cell_type": "code",
   "execution_count": null,
   "metadata": {},
   "outputs": [],
   "source": [
    "# Fruchterman-Reingold force-directed algorithm\n",
    "pos = nx.spring_layout(G)\n",
    "pp.pprint(pos)\n",
    "\n",
    "nx.draw(G, pos, with_labels= True, node_size = 500)\n",
    "plt.show()"
   ]
  },
  {
   "cell_type": "markdown",
   "metadata": {},
   "source": [
    "Re-scaling the size of the nodes:"
   ]
  },
  {
   "cell_type": "code",
   "execution_count": null,
   "metadata": {},
   "outputs": [],
   "source": [
    "sizes = [G.degree(node) * 1000 # multiply\n",
    "         for node in G.nodes()\n",
    "        ]\n",
    "    \n",
    "# pos = nx.spring_layout(G) \n",
    "# notice, you do not need to re-calculate spring layout, can just reuse previous positions \n",
    "\n",
    "nx.draw(G, pos, with_labels= True, node_size = sizes)\n",
    "plt.show()"
   ]
  },
  {
   "cell_type": "code",
   "execution_count": null,
   "metadata": {},
   "outputs": [],
   "source": [
    "sizes = [G.degree(node) **2 * 1000 # exponential. in python **2 means 'to the power of 2'\n",
    "         for node in G.nodes()\n",
    "        ]\n",
    "    \n",
    "# pos = nx.spring_layout(G) \n",
    "# notice, you do not need to re-calculate spring layout, can just reuse previous positions \n",
    "\n",
    "nx.draw(G, pos, with_labels= True, node_size = sizes)\n",
    "plt.show()"
   ]
  },
  {
   "cell_type": "markdown",
   "metadata": {},
   "source": [
    "### Extra variables"
   ]
  },
  {
   "cell_type": "markdown",
   "metadata": {},
   "source": [
    "We can assign extra variables to a connection. This can be done either when you are creating nodes, or once they are already created. You might have reasons for one or the other. \n",
    "\n",
    "- Adding variables when creating a node is easier, eg when you're loading values from a file.\n",
    "- Adding variables once the graph G is greated can give you values, such as position, or degree"
   ]
  },
  {
   "cell_type": "code",
   "execution_count": null,
   "metadata": {},
   "outputs": [],
   "source": [
    "G = nx.Graph()\n",
    "\n",
    "# here I am adding a value for each connection, showing how many times they played on superbowl3 \n",
    "# (note, this is not accurate data)\n",
    "# you can come up with ANY variable name you want, and it will be added to the edge data\n",
    "\n",
    "G.add_edge('beyonce','mia', weight = 5)\n",
    "G.add_edge('beyonce','azealia', weight = 1, recorded_together = 2)\n",
    "G.add_edge('beyonce','jayz', weight = 1, recorded_together = 5)\n",
    "G.add_edge('beyonce','madonna', weight = 1)\n",
    "G.add_edge('madonna','azealia', weight = 1, recorded_together = 2)\n",
    "G.add_edge('nicki','azealia', weight = 1)\n",
    "\n",
    "# get widths by getting value of 'recorded_together' from each edge's data\n",
    "widths = [G[edge[0]][edge[1]].get('recorded_together',1)\n",
    "          for edge in G.edges()]\n",
    "\n",
    "sizes = [G.degree(node) **2 * 1000 # exponential. in python **2 means 'to the power of 2'\n",
    "         for node in G.nodes()\n",
    "        ]\n",
    "\n",
    "# exponential. in python **2 means 'to the power of 2'\n",
    "\n",
    "#recap: some_dictionary.get() takes two arguments: key to find, and default value if key not present\n",
    "\n",
    "print(widths)\n",
    "pos = nx.spring_layout(G)\n",
    "\n",
    "nx.draw(G, pos, with_labels= True, node_size = sizes, width= widths)\n",
    "plt.show()"
   ]
  },
  {
   "cell_type": "markdown",
   "metadata": {},
   "source": [
    "For various reasons you might also want to add variables to edges once the graph was created. \n",
    "\n",
    "You could do it like in the example below where we access value of a node that had to be calculated (eg. number of neighbours, or other metric)"
   ]
  },
  {
   "cell_type": "code",
   "execution_count": null,
   "metadata": {},
   "outputs": [],
   "source": [
    "for edge in G.edges():\n",
    "    print(\"edge as tupple:\",edge)\n",
    "    source = edge[0]\n",
    "    target = edge[1]\n",
    "    source_neighbours_count =  len(list(G.neighbors(source)))\n",
    "    target_neighbours_count = len(list(G.neighbors(target)))\n",
    "    G[source][target]['total_neighbours'] = source_neighbours_count + target_neighbours_count\n",
    "    \n",
    "for edge in G.edges():\n",
    "    print(G.get_edge_data(edge[0], edge[1]))"
   ]
  },
  {
   "cell_type": "markdown",
   "metadata": {},
   "source": [
    "These are useful for drawing, e.g., the edge width:"
   ]
  },
  {
   "cell_type": "markdown",
   "metadata": {},
   "source": [
    "We can add the widths as an argument to the draw function:"
   ]
  },
  {
   "cell_type": "code",
   "execution_count": null,
   "metadata": {},
   "outputs": [],
   "source": [
    "widths = [G[edge[0]][edge[1]].get('total_neighbours',1) **2\n",
    "          for edge in G.edges()]\n",
    "\n",
    "print(widths)\n",
    "\n",
    "pos = nx.spring_layout(G)\n",
    "\n",
    "nx.draw(G, pos, with_labels= True, node_size = sizes, width= widths)\n",
    "plt.show()"
   ]
  },
  {
   "cell_type": "markdown",
   "metadata": {},
   "source": [
    "### Directed graphs"
   ]
  },
  {
   "cell_type": "code",
   "execution_count": null,
   "metadata": {},
   "outputs": [],
   "source": [
    "DG = nx.DiGraph()\n",
    "DG.add_edge('beyonce','mia', weight = 5)\n",
    "DG.add_edge('beyonce','azealia', weight = 1)\n",
    "DG.add_edge('beyonce','jayz', weight = 1)\n",
    "DG.add_edge('beyonce','madonna', weight = 2)\n",
    "DG.add_edge('madonna','azealia', weight = 1)\n",
    "DG.add_edge('nicki','azealia', weight = 1)\n",
    "\n",
    "DG.add_edge('mia','beyonce', weight = 5)\n",
    "DG.add_edge('jayz','beyonce', weight = 1)\n",
    "DG.add_edge('mia','jayz', weight = 2)\n",
    "\n",
    "pos = nx.spring_layout(DG)\n",
    "\n",
    "nx.draw(DG, pos, with_labels= True, node_size = 2000, width=2)\n",
    "plt.show()"
   ]
  },
  {
   "cell_type": "code",
   "execution_count": null,
   "metadata": {},
   "outputs": [],
   "source": [
    "for node in DG.nodes():\n",
    "    print(\"Node:\", node)\n",
    "    print('In-edges:', DG.in_edges(node))\n",
    "    print('Out-edges:', DG.out_edges(node))\n",
    "    print('In-degree:', DG.in_degree(node))\n",
    "    print('Out-degree:', DG.out_degree(node))"
   ]
  },
  {
   "cell_type": "markdown",
   "metadata": {},
   "source": [
    "### Useful bits, turning graph into adjacency matrix\n",
    "\n",
    "The adjacency matrix:"
   ]
  },
  {
   "cell_type": "code",
   "execution_count": null,
   "metadata": {},
   "outputs": [],
   "source": [
    "\n",
    "print(nx.to_numpy_matrix(DG))"
   ]
  },
  {
   "cell_type": "code",
   "execution_count": null,
   "metadata": {},
   "outputs": [],
   "source": []
  }
 ],
 "metadata": {
  "kernelspec": {
   "display_name": "Python 3",
   "language": "python",
   "name": "python3"
  },
  "language_info": {
   "codemirror_mode": {
    "name": "ipython",
    "version": 3
   },
   "file_extension": ".py",
   "mimetype": "text/x-python",
   "name": "python",
   "nbconvert_exporter": "python",
   "pygments_lexer": "ipython3",
   "version": "3.7.4"
  }
 },
 "nbformat": 4,
 "nbformat_minor": 2
}
