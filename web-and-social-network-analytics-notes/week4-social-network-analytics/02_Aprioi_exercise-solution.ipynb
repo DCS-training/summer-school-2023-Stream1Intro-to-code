{
 "cells": [
  {
   "cell_type": "markdown",
   "metadata": {},
   "source": [
    "## Exercise on apriori"
   ]
  },
  {
   "cell_type": "markdown",
   "metadata": {},
   "source": [
    "In this exercise, you have to create the Apriori algorithm."
   ]
  },
  {
   "cell_type": "code",
   "execution_count": 1,
   "metadata": {},
   "outputs": [],
   "source": [
    "from itertools import combinations,chain"
   ]
  },
  {
   "cell_type": "markdown",
   "metadata": {},
   "source": [
    "Write a function to find all combination of itemsets of size level-1 to generate new level-size itemsets."
   ]
  },
  {
   "cell_type": "code",
   "execution_count": 2,
   "metadata": {},
   "outputs": [],
   "source": [
    "def mingle(items, level):\n",
    "    \n",
    "    outcome = set()\n",
    "    for item in items:\n",
    "        for item2 in items:\n",
    "            if item!=item2:\n",
    "                newCombination = set()\n",
    "                # If level >2, this means the itemsets contain more than 1 item\n",
    "                if level>2:\n",
    "                    for i in item:\n",
    "                        newCombination.add(i)\n",
    "                    for i in item2:\n",
    "                        newCombination.add(i)\n",
    "                else:\n",
    "                    newCombination.add(item)\n",
    "                    newCombination.add(item2)\n",
    "                # Only retain combinations of itemsets that are of the size of the current level\n",
    "                # The combination of larger itemsets can result in, e.g., 2-item itemsets combined \n",
    "                #                 into 4-item itemsets\n",
    "                # while the level is 3, requiring 3-item itemsets\n",
    "                if(len(newCombination)==level):\n",
    "                    outcome.add(frozenset(newCombination))\n",
    "                    \n",
    "    return outcome\n",
    "\n",
    "assert  mingle([\"a\",\"b\",\"c\"], 2) == {frozenset({'a', 'c'}), \n",
    "                                     frozenset({'b', 'c'}), \n",
    "                                     frozenset({'a', 'b'})}\n",
    "\n",
    "assert mingle([[\"a\",\"b\"],[\"a\",\"c\"],[\"a\",\"d\"]], 3) == {frozenset({'a', 'c', 'd'}), \n",
    "                                               frozenset({'a', 'b', 'd'}),\n",
    "                                               frozenset({'a', 'b', 'c'})}"
   ]
  },
  {
   "cell_type": "markdown",
   "metadata": {},
   "source": [
    "Write a function that calculates the support of an itemset in a transactions database."
   ]
  },
  {
   "cell_type": "code",
   "execution_count": 3,
   "metadata": {},
   "outputs": [],
   "source": [
    "def support(itemset,transactions,level):\n",
    "    \n",
    "    count = 0\n",
    "    for trans in transactions:\n",
    "        # Assume the transaction contains the items unless proven otherwise below\n",
    "        contain = True\n",
    "        # If level > 1, the itemsets contain more than 1 item, and we need to loop all items in the itemset\n",
    "        if level>1:\n",
    "            for item in itemset:      \n",
    "                if item not in trans:\n",
    "                    # No need to look further if even 1 item is not contained in the transaction\n",
    "                    contain = False\n",
    "                    break\n",
    "        else:\n",
    "            if itemset not in trans:\n",
    "                contain = False\n",
    "        if contain:\n",
    "            count = count + 1\n",
    "    return count/len(transactions)\n",
    "\n",
    "assert support(\"a\", [[\"a\",\"b\",\"c\"], [\"a\",\"b\",\"d\"], [\"b\",\"c\"], [\"a\",\"c\"]], 1) == 0.75\n",
    "assert support(\"d\", [[\"a\",\"b\",\"c\"], [\"a\",\"b\",\"d\"], [\"b\",\"c\"], [\"a\",\"c\"]], 1) == 0.25\n",
    "assert support([\"a\",\"b\"], [[\"a\",\"b\",\"c\"], [\"a\",\"b\",\"d\"], [\"b\",\"c\"], [\"a\",\"c\"]], 2) == 0.5\n"
   ]
  },
  {
   "cell_type": "markdown",
   "metadata": {},
   "source": [
    "\n",
    "Write the Apriori function."
   ]
  },
  {
   "cell_type": "code",
   "execution_count": 4,
   "metadata": {},
   "outputs": [
    {
     "name": "stdout",
     "output_type": "stream",
     "text": [
      "\n",
      "Level: 1\n",
      "c support: 0.6666666666666666\n",
      "b support: 1.0\n",
      "a support: 0.6666666666666666\n",
      "d support: 0.3333333333333333\n",
      "Retain: {'b', 'c', 'a'}\n",
      "New itemsets: {frozenset({'b', 'a'}), frozenset({'b', 'c'}), frozenset({'c', 'a'})}\n",
      "\n",
      "Level: 2\n",
      "frozenset({'b', 'a'}) support: 0.6666666666666666\n",
      "frozenset({'b', 'c'}) support: 0.6666666666666666\n",
      "frozenset({'c', 'a'}) support: 0.3333333333333333\n",
      "Retain: {frozenset({'b', 'a'}), frozenset({'b', 'c'})}\n",
      "New itemsets: {frozenset({'c', 'b', 'a'})}\n",
      "\n",
      "Level: 3\n",
      "frozenset({'c', 'b', 'a'}) support: 0.3333333333333333\n",
      "Retain: set()\n",
      "New itemsets: set()\n"
     ]
    }
   ],
   "source": [
    "# for now this function will just print some results for us to observe, \n",
    "# rather than return them in a data structure\n",
    "\n",
    "def apriori(level,transactions,items,minsup):\n",
    "    \n",
    "    print(\"\\nLevel: \"+str(level))\n",
    "    \n",
    "    # set for items with support value that is high enough\n",
    "    retain = set()\n",
    "    \n",
    "    # find items with support value that is high enough\n",
    "    for item in items:\n",
    "        print(str(item)+\" support: \"+str(support(item,transactions,level)))      \n",
    "        if support(item,transactions,level)>=minsup:\n",
    "            retain.add(item)\n",
    "    print(\"Retain: \"+str(retain))\n",
    "    \n",
    "    level = level+1\n",
    "        \n",
    "    # generate new candidates\n",
    "    newsets=mingle(retain,level)\n",
    "    print(\"New itemsets: \"+str(newsets))    \n",
    "    \n",
    "    # stop if no candidates are left or you will put all items in one set\n",
    "    if len(newsets)!=0 and level<len(items)+1:\n",
    "        apriori(level,transactions,newsets,minsup)\n",
    "        \n",
    "apriori(1, [[\"a\",\"b\",\"c\"], [\"a\",\"b\",\"d\"], [\"b\",\"c\"]], {\"a\",\"b\",\"c\", \"d\"}, 0.6)"
   ]
  },
  {
   "cell_type": "markdown",
   "metadata": {},
   "source": [
    "Use this to run the complete algorithm."
   ]
  },
  {
   "cell_type": "code",
   "execution_count": 59,
   "metadata": {},
   "outputs": [
    {
     "name": "stdout",
     "output_type": "stream",
     "text": [
      "O 1 [['iphoneX', 'S8', 'LG55', 'S9'], ['iphoneX', 'S8', 'S9', 'LG55'], ['LG55', 'S2', 'iphoneX'], ['iphoneX', 'S8', 'LG55'], ['S8', 'S9']] {'S8', 'LG55', 'S9', 'S2', 'iphoneX'} 0.6\n",
      "\n",
      "Level: 1\n",
      "S8 support: 0.8\n",
      "LG55 support: 0.8\n",
      "S9 support: 0.6\n",
      "S2 support: 0.2\n",
      "iphoneX support: 0.8\n",
      "Retain: {'S9', 'S8', 'iphoneX', 'LG55'}\n",
      "New itemsets: {frozenset({'S8', 'LG55'}), frozenset({'S9', 'S8'}), frozenset({'S8', 'iphoneX'}), frozenset({'S9', 'LG55'}), frozenset({'iphoneX', 'LG55'}), frozenset({'S9', 'iphoneX'})}\n",
      "O 2 [['iphoneX', 'S8', 'LG55', 'S9'], ['iphoneX', 'S8', 'S9', 'LG55'], ['LG55', 'S2', 'iphoneX'], ['iphoneX', 'S8', 'LG55'], ['S8', 'S9']] {frozenset({'S8', 'LG55'}), frozenset({'S9', 'S8'}), frozenset({'S8', 'iphoneX'}), frozenset({'S9', 'LG55'}), frozenset({'iphoneX', 'LG55'}), frozenset({'S9', 'iphoneX'})} 0.6\n",
      "\n",
      "Level: 2\n",
      "frozenset({'S8', 'LG55'}) support: 0.6\n",
      "frozenset({'S9', 'S8'}) support: 0.6\n",
      "frozenset({'S8', 'iphoneX'}) support: 0.6\n",
      "frozenset({'S9', 'LG55'}) support: 0.4\n",
      "frozenset({'iphoneX', 'LG55'}) support: 0.8\n",
      "frozenset({'S9', 'iphoneX'}) support: 0.4\n",
      "Retain: {frozenset({'S8', 'LG55'}), frozenset({'S9', 'S8'}), frozenset({'S8', 'iphoneX'}), frozenset({'iphoneX', 'LG55'})}\n",
      "New itemsets: {frozenset({'S8', 'iphoneX', 'LG55'}), frozenset({'S9', 'S8', 'LG55'}), frozenset({'S9', 'S8', 'iphoneX'})}\n",
      "O 3 [['iphoneX', 'S8', 'LG55', 'S9'], ['iphoneX', 'S8', 'S9', 'LG55'], ['LG55', 'S2', 'iphoneX'], ['iphoneX', 'S8', 'LG55'], ['S8', 'S9']] {frozenset({'S8', 'iphoneX', 'LG55'}), frozenset({'S9', 'S8', 'LG55'}), frozenset({'S9', 'S8', 'iphoneX'})} 0.6\n",
      "\n",
      "Level: 3\n",
      "frozenset({'S8', 'iphoneX', 'LG55'}) support: 0.6\n",
      "frozenset({'S9', 'S8', 'LG55'}) support: 0.4\n",
      "frozenset({'S9', 'S8', 'iphoneX'}) support: 0.4\n",
      "Retain: {frozenset({'S8', 'iphoneX', 'LG55'})}\n",
      "New itemsets: set()\n"
     ]
    }
   ],
   "source": [
    "# open the data\n",
    "file = open('baskets.csv','r')\n",
    "\n",
    "transactions = []\n",
    "items = set()\n",
    "\n",
    "# save all transactions and items\n",
    "for line in file:\n",
    "    line = line.replace('\\n','')\n",
    "    litems = line.split(',')\n",
    "    transactions.append(litems)\n",
    "    for item in litems:\n",
    "        items.add(item)\n",
    "\n",
    "noItems = len(items)\n",
    "\n",
    "# apply Apriori algorithm\n",
    "apriori(1,transactions,items,0.6)   "
   ]
  },
  {
   "cell_type": "code",
   "execution_count": null,
   "metadata": {},
   "outputs": [],
   "source": []
  },
  {
   "cell_type": "code",
   "execution_count": null,
   "metadata": {},
   "outputs": [],
   "source": []
  }
 ],
 "metadata": {
  "kernelspec": {
   "display_name": "Python 3",
   "language": "python",
   "name": "python3"
  },
  "language_info": {
   "codemirror_mode": {
    "name": "ipython",
    "version": 3
   },
   "file_extension": ".py",
   "mimetype": "text/x-python",
   "name": "python",
   "nbconvert_exporter": "python",
   "pygments_lexer": "ipython3",
   "version": "3.7.4"
  }
 },
 "nbformat": 4,
 "nbformat_minor": 2
}
