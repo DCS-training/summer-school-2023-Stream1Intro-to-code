{
 "cells": [
  {
   "cell_type": "markdown",
   "metadata": {},
   "source": [
    "## Exercise on apriori"
   ]
  },
  {
   "cell_type": "markdown",
   "metadata": {},
   "source": [
    "In this exercise, you have to create the Apriori algorithm.\n",
    "\n",
    "From notes, slide 30:\n",
    "\n",
    "\n",
    "Candidate generation:\n",
    "\n",
    "- Find support of all itemsets of size X (start with X=1) \n",
    "- Retain all that meet minimum support level (minSup)\n",
    "- Repeat for size X+1 until no more itemsets meet criteria or X = |𝐼|\n",
    "\n",
    "you will need two functions:\n",
    "\n",
    "- mingle that creates all the possible sub-sets from a set (also given the depth, which is most likely 2)\n"
   ]
  },
  {
   "cell_type": "code",
   "execution_count": null,
   "metadata": {},
   "outputs": [],
   "source": [
    "from itertools import combinations,chain"
   ]
  },
  {
   "cell_type": "markdown",
   "metadata": {},
   "source": [
    "Write a function to find all combination of itemsets of size level-1 to generate new level-size itemsets. Note: to store sets in sets, use a `frozenset` to add to a set."
   ]
  },
  {
   "cell_type": "code",
   "execution_count": null,
   "metadata": {},
   "outputs": [],
   "source": [
    "def mingle(items, level):\n",
    "    outcome = set()\n",
    "    # ...\n",
    "    return outcome\n",
    "\n",
    "\n",
    "assert  mingle([\"a\",\"b\",\"c\"], 2) == {frozenset({'a', 'c'}), frozenset({'b', 'c'}), frozenset({'a', 'b'})}\n",
    "\n",
    "assert mingle([[\"a\",\"b\"],[\"a\",\"c\"],[\"a\",\"d\"]], 3) == {frozenset({'a', 'c', 'd'}), \n",
    "                                               frozenset({'a', 'b', 'd'}),\n",
    "                                               frozenset({'a', 'b', 'c'})}"
   ]
  },
  {
   "cell_type": "markdown",
   "metadata": {},
   "source": [
    "Write a function that calculates the support of an itemset in a transactions database."
   ]
  },
  {
   "cell_type": "code",
   "execution_count": null,
   "metadata": {},
   "outputs": [],
   "source": [
    "def support(itemset,transactions,level):\n",
    "    count = 0\n",
    "    # ...\n",
    "    return count/len(transactions)\n",
    "\n",
    "assert support(\"a\", [[\"a\",\"b\",\"c\"], [\"a\",\"b\",\"d\"], [\"b\",\"c\"], [\"a\",\"c\"]], 1) == 0.75\n",
    "assert support(\"d\", [[\"a\",\"b\",\"c\"], [\"a\",\"b\",\"d\"], [\"b\",\"c\"], [\"a\",\"c\"]], 1) == 0.25\n",
    "assert support([\"a\",\"b\"], [[\"a\",\"b\",\"c\"], [\"a\",\"b\",\"d\"], [\"b\",\"c\"], [\"a\",\"c\"]], 2) == 0.5\n"
   ]
  },
  {
   "cell_type": "markdown",
   "metadata": {},
   "source": [
    "Write the Apriori function."
   ]
  },
  {
   "cell_type": "code",
   "execution_count": null,
   "metadata": {},
   "outputs": [],
   "source": [
    "# for now this function will just print some results for us to observe, \n",
    "# rather than return them in a data structure\n",
    "\n",
    "def apriori(level,transactions,items,minsup):\n",
    "    print(\"\\nLevel: \"+str(level))\n",
    "    \n",
    "    # set for items with support value that is high enough\n",
    "    retain = set()\n",
    "    \n",
    "    # find items with support value that is high enough\n",
    "    # ...\n",
    "    print(\"Retain: \"+str(retain))\n",
    "    \n",
    "    level = level+1\n",
    "        \n",
    "    # generate new candidates\n",
    "    newsets=mingle(retain,level)\n",
    "    print(\"New itemsets: \"+str(newsets))    \n",
    "    \n",
    "    # stop if no candidates are left or you will put all items in one set\n",
    "    if len(newsets)!=0 and level<noItems:\n",
    "        apriori(level,transactions,newsets,minsup)\n",
    "        \n",
    "        \n",
    "        "
   ]
  },
  {
   "cell_type": "code",
   "execution_count": null,
   "metadata": {},
   "outputs": [],
   "source": [
    "        \n",
    "#       above function when run like this:\n",
    "apriori(1, [[\"a\",\"b\",\"c\"], [\"a\",\"b\",\"d\"], [\"b\",\"c\"]], {\"a\",\"b\",\"c\", \"d\"}, 0.6)\n",
    "\n",
    "# could print something like that:\n",
    "\n",
    "# Level: 1\n",
    "# d support: 0.3333333333333333\n",
    "# b support: 1.0\n",
    "# c support: 0.6666666666666666\n",
    "# a support: 0.6666666666666666\n",
    "# Retain: {'b', 'c', 'a'}\n",
    "# New itemsets: {frozenset({'b', 'c'}), frozenset({'c', 'a'}), frozenset({'b', 'a'})}\n",
    "\n",
    "# Level: 2\n",
    "# frozenset({'b', 'c'}) support: 0.6666666666666666\n",
    "# frozenset({'c', 'a'}) support: 0.3333333333333333\n",
    "# frozenset({'b', 'a'}) support: 0.6666666666666666\n",
    "# Retain: {frozenset({'b', 'c'}), frozenset({'b', 'a'})}\n",
    "# New itemsets: {frozenset({'b', 'c', 'a'})}\n",
    "\n",
    "# Level: 3\n",
    "# frozenset({'b', 'c', 'a'}) support: 0.3333333333333333\n",
    "# Retain: set()\n",
    "# New itemsets: set()"
   ]
  },
  {
   "cell_type": "markdown",
   "metadata": {},
   "source": [
    "Use this to run the complete algorithm. (below code is finished, no need to change it)"
   ]
  },
  {
   "cell_type": "code",
   "execution_count": null,
   "metadata": {},
   "outputs": [],
   "source": [
    "# open the data\n",
    "file = open('baskets.csv','r')\n",
    "\n",
    "transactions = []\n",
    "items = set()\n",
    "\n",
    "# save all transactions and items\n",
    "for line in file:\n",
    "    line = line.replace('\\n','')\n",
    "    litems = line.split(',')\n",
    "    transactions.append(litems)\n",
    "    for item in litems:\n",
    "        items.add(item)\n",
    "\n",
    "noItems = len(items)\n",
    "\n",
    "# apply Apriori algorithm\n",
    "apriori(1,transactions,items,0.6)   "
   ]
  }
 ],
 "metadata": {
  "kernelspec": {
   "display_name": "Python 3",
   "language": "python",
   "name": "python3"
  },
  "language_info": {
   "codemirror_mode": {
    "name": "ipython",
    "version": 3
   },
   "file_extension": ".py",
   "mimetype": "text/x-python",
   "name": "python",
   "nbconvert_exporter": "python",
   "pygments_lexer": "ipython3",
   "version": "3.7.4"
  }
 },
 "nbformat": 4,
 "nbformat_minor": 2
}
