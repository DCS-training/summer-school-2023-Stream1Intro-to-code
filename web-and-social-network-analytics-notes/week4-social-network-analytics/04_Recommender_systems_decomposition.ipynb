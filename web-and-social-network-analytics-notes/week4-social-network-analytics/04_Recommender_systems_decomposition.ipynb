{
 "cells": [
  {
   "cell_type": "markdown",
   "metadata": {},
   "source": [
    "## Recommender systems with decomposition"
   ]
  },
  {
   "cell_type": "markdown",
   "metadata": {},
   "source": [
    "Instead of using cosine similarity, we can also consider decomposition. We convert the utility matrix $M\\,(r\\times m)$ into $M'= UV^T\\approx M$ with $U\\,(r\\times l)$ and $V^T (l\\times m)$."
   ]
  },
  {
   "cell_type": "code",
   "execution_count": 3,
   "metadata": {},
   "outputs": [],
   "source": [
    "import pandas as pd\n",
    "import numpy as np\n",
    "from sklearn.decomposition import NMF"
   ]
  },
  {
   "cell_type": "markdown",
   "metadata": {},
   "source": [
    "Use the same data as before:"
   ]
  },
  {
   "cell_type": "code",
   "execution_count": 5,
   "metadata": {},
   "outputs": [
    {
     "name": "stdout",
     "output_type": "stream",
     "text": [
      "   userId  movieId  rating   timestamp\n",
      "0       1        2     3.5  1112486027\n",
      "1       1       29     3.5  1112484676\n",
      "2       1       32     3.5  1112484819\n",
      "3       1       47     3.5  1112484727\n",
      "4       1       50     3.5  1112484580\n",
      "698 from 11 users\n"
     ]
    }
   ],
   "source": [
    "# load data\n",
    "ratings = pd.read_csv('ratings.csv')\n",
    "\n",
    "# sample dataset\n",
    "# be careful, once again a very heavy operation\n",
    "ratings = ratings[:1000]\n",
    "\n",
    "print(ratings.head())\n",
    "\n",
    "# print some information\n",
    "noMovies = len(ratings['movieId'].unique())\n",
    "noUsers = len(ratings['userId'].unique())\n",
    "print(str(noMovies)+\" from \"+str(noUsers)+' users')"
   ]
  },
  {
   "cell_type": "markdown",
   "metadata": {},
   "source": [
    "Do the same pre-processing as before."
   ]
  },
  {
   "cell_type": "code",
   "execution_count": 6,
   "metadata": {},
   "outputs": [],
   "source": [
    "# create empty utility matrix\n",
    "utility = np.zeros(shape=(noUsers,noMovies))\n",
    "\n",
    "# store movieIds as indices to use in utility matrix\n",
    "movieIds = {}\n",
    "midi = 0\n",
    "for value in ratings['movieId'].unique():\n",
    "    movieIds[value]=midi\n",
    "    midi = midi + 1\n",
    "\n",
    "# populate utility matrix\n",
    "for index, line in ratings.iterrows():\n",
    "    uid = int(line['userId'])-1\n",
    "    mid = movieIds[line['movieId']]\n",
    "    rating = line['rating']\n",
    "    utility[uid,mid]=rating"
   ]
  },
  {
   "cell_type": "markdown",
   "metadata": {},
   "source": [
    "Doing the matrix factorisation with scikit-learn:"
   ]
  },
  {
   "cell_type": "code",
   "execution_count": 8,
   "metadata": {},
   "outputs": [],
   "source": [
    "decomposition = NMF(n_components=50, init='random', random_state=0)\n",
    "U = decomposition.fit_transform(utility)\n",
    "V_T = decomposition.components_"
   ]
  },
  {
   "cell_type": "markdown",
   "metadata": {},
   "source": [
    "Shape of $U$ and $V^T$:"
   ]
  },
  {
   "cell_type": "code",
   "execution_count": 9,
   "metadata": {},
   "outputs": [
    {
     "name": "stdout",
     "output_type": "stream",
     "text": [
      "Shape of U (#reviewers x #latent factors):  (11, 50)\n",
      "Shape of V_T (#latent factors x #movies):  (50, 698)\n"
     ]
    }
   ],
   "source": [
    "print('Shape of U (#reviewers x #latent factors): ', np.shape(U))\n",
    "print('Shape of V_T (#latent factors x #movies): ', np.shape(V_T))"
   ]
  },
  {
   "cell_type": "markdown",
   "metadata": {},
   "source": [
    "Now we can calculate $M'$:"
   ]
  },
  {
   "cell_type": "code",
   "execution_count": 10,
   "metadata": {},
   "outputs": [
    {
     "name": "stdout",
     "output_type": "stream",
     "text": [
      "(11, 698)\n"
     ]
    }
   ],
   "source": [
    "M_ = np.dot(U, V_T)\n",
    "print(np.shape(M_))"
   ]
  },
  {
   "cell_type": "markdown",
   "metadata": {},
   "source": [
    "We can see how more dimensions provide a closer approximation of the original matrix:"
   ]
  },
  {
   "cell_type": "code",
   "execution_count": 13,
   "metadata": {},
   "outputs": [
    {
     "name": "stdout",
     "output_type": "stream",
     "text": [
      "for 20 components,\tdifference was -0.9904296275331765\n",
      "for 30 components,\tdifference was -1.6447788497376665\n",
      "for 40 components,\tdifference was -1.4804721037678807\n",
      "for 50 components,\tdifference was -0.003048584337641386\n",
      "for 60 components,\tdifference was -0.35718655808037253\n",
      "for 70 components,\tdifference was -0.24226269910080145\n",
      "for 80 components,\tdifference was -1.9405478729626118\n",
      "for 90 components,\tdifference was -0.9677320887082694\n",
      "for 100 components,\tdifference was -0.12184139938983987\n",
      "for 110 components,\tdifference was -1.3483386266728918\n",
      "for 120 components,\tdifference was -0.9912272300992634\n",
      "for 130 components,\tdifference was -0.5863343456619985\n",
      "for 140 components,\tdifference was -0.011559465340278248\n",
      "for 150 components,\tdifference was -0.04268803166269824\n",
      "for 160 components,\tdifference was -0.6816772322296608\n",
      "for 170 components,\tdifference was -0.006335860241039059\n",
      "for 180 components,\tdifference was -0.725167764703508\n",
      "for 190 components,\tdifference was -0.0035302648949677652\n",
      "for 200 components,\tdifference was -0.012398079925007006\n"
     ]
    }
   ],
   "source": [
    "for n_comp in range(20,201,10):\n",
    "    decomposition = NMF(n_components=n_comp, init='random', random_state=0)\n",
    "    U = decomposition.fit_transform(utility)\n",
    "    V_T = decomposition.components_\n",
    "    M_ = np.dot(U, V_T)\n",
    "    \n",
    "    # calculate difference between both matrices\n",
    "    diff = utility-M_\n",
    "    print(f\"for {n_comp} components,\\tdifference was {np.sum(diff)}\")\n",
    "    \n",
    "print(\"Done running!\") # this will run for a while, up to a minute or two.\n",
    "    \n",
    "# more reading here: https://scikit-learn.org/stable/modules/generated/sklearn.decomposition.NMF.html\n",
    "\n",
    "# What do you see? is the difference between matrixes getting larger or smaller? is that good?"
   ]
  },
  {
   "cell_type": "code",
   "execution_count": null,
   "metadata": {},
   "outputs": [],
   "source": []
  }
 ],
 "metadata": {
  "kernelspec": {
   "display_name": "Python 3",
   "language": "python",
   "name": "python3"
  },
  "language_info": {
   "codemirror_mode": {
    "name": "ipython",
    "version": 3
   },
   "file_extension": ".py",
   "mimetype": "text/x-python",
   "name": "python",
   "nbconvert_exporter": "python",
   "pygments_lexer": "ipython3",
   "version": "3.7.4"
  }
 },
 "nbformat": 4,
 "nbformat_minor": 2
}
