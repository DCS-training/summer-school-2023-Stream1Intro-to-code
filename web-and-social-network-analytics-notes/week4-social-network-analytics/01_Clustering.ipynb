{
 "cells": [
  {
   "cell_type": "markdown",
   "metadata": {},
   "source": [
    "## Clustering"
   ]
  },
  {
   "cell_type": "markdown",
   "metadata": {},
   "source": [
    "In this notebook we will look into using KMeans and DBSCAN to cluster Starbucks locations geographically. We use scikit-learn, as well as `matplotlib` for graphing."
   ]
  },
  {
   "cell_type": "code",
   "execution_count": 1,
   "metadata": {},
   "outputs": [],
   "source": [
    "from sklearn.cluster import KMeans\n",
    "from sklearn.cluster import DBSCAN\n",
    "import pandas as pd\n",
    "import numpy as np\n",
    "import matplotlib.pyplot as plt\n",
    "import matplotlib.cm as cm"
   ]
  },
  {
   "cell_type": "markdown",
   "metadata": {},
   "source": [
    "This function will be used to visualise our clustering results."
   ]
  },
  {
   "cell_type": "code",
   "execution_count": 14,
   "metadata": {},
   "outputs": [],
   "source": [
    "def graphClusters(all_data, labels, centers):\n",
    "    # open a color map (cmap) which is a collection of colors which you can fetch by index (i.e. an integer)\n",
    "    cmap = cm.get_cmap(name='tab10')\n",
    "    \n",
    "    # add the color as a new column in the dataframe and add the cluster labels\n",
    "    all_data['color'] = labels\n",
    "    \n",
    "    # add the centroids (in case of K-means) to the plot by adding their coordinates  \n",
    "    # example pyplot use: plt.plot(x, y, 'bo', linestyle='dashed')\n",
    "    # example pyplot use: plt.plot(x, y,  color='blue', marker='o', linestyle='dashed')\n",
    "    # more here: https://matplotlib.org/3.1.1/api/_as_gen/matplotlib.pyplot.plot.html\n",
    "    \n",
    "    which_centroid = 0\n",
    "    if centers:\n",
    "        for center in centers:     \n",
    "            plt.plot(center[0],center[1],'ro',label='centroid_'+str(which_centroid),\n",
    "                     markersize=10,color=cmap(which_centroid))\n",
    "            which_centroid += 1\n",
    "    \n",
    "    # add all the data points and use their label number to fetch a certain color\n",
    "    # index is    \n",
    "    for ind,row in all_data.iterrows():\n",
    "        plt.plot(row['Longitude'],row['Latitude'],'ro',color=cmap(int(row['color'])),markersize=2)\n",
    "        \n",
    "    plt.xlabel('Longitude')\n",
    "    plt.ylabel('Latitude')\n",
    "    plt.show()"
   ]
  },
  {
   "cell_type": "markdown",
   "metadata": {},
   "source": [
    "First, let's discover the data."
   ]
  },
  {
   "cell_type": "code",
   "execution_count": 57,
   "metadata": {},
   "outputs": [
    {
     "name": "stdout",
     "output_type": "stream",
     "text": [
      "              Longitude  Latitude\n",
      "Store Number                     \n",
      "47370-257954       1.53     42.51\n",
      "22331-212325      55.47     25.42\n",
      "47089-256771      55.47     25.39\n",
      "22126-218024      54.38     24.48\n",
      "17127-178586      54.54     24.51\n"
     ]
    },
    {
     "data": {
      "text/html": [
       "<div>\n",
       "<style scoped>\n",
       "    .dataframe tbody tr th:only-of-type {\n",
       "        vertical-align: middle;\n",
       "    }\n",
       "\n",
       "    .dataframe tbody tr th {\n",
       "        vertical-align: top;\n",
       "    }\n",
       "\n",
       "    .dataframe thead th {\n",
       "        text-align: right;\n",
       "    }\n",
       "</style>\n",
       "<table border=\"1\" class=\"dataframe\">\n",
       "  <thead>\n",
       "    <tr style=\"text-align: right;\">\n",
       "      <th></th>\n",
       "      <th>Longitude</th>\n",
       "      <th>Latitude</th>\n",
       "    </tr>\n",
       "    <tr>\n",
       "      <th>Store Number</th>\n",
       "      <th></th>\n",
       "      <th></th>\n",
       "    </tr>\n",
       "  </thead>\n",
       "  <tbody>\n",
       "    <tr>\n",
       "      <td>47088-256773</td>\n",
       "      <td>50.52</td>\n",
       "      <td>26.21</td>\n",
       "    </tr>\n",
       "    <tr>\n",
       "      <td>21603-213405</td>\n",
       "      <td>50.59</td>\n",
       "      <td>26.23</td>\n",
       "    </tr>\n",
       "    <tr>\n",
       "      <td>17255-179926</td>\n",
       "      <td>50.60</td>\n",
       "      <td>26.20</td>\n",
       "    </tr>\n",
       "    <tr>\n",
       "      <td>17189-179925</td>\n",
       "      <td>50.58</td>\n",
       "      <td>26.22</td>\n",
       "    </tr>\n",
       "    <tr>\n",
       "      <td>15439-161444</td>\n",
       "      <td>50.57</td>\n",
       "      <td>26.21</td>\n",
       "    </tr>\n",
       "    <tr>\n",
       "      <td>47377-258065</td>\n",
       "      <td>50.55</td>\n",
       "      <td>26.22</td>\n",
       "    </tr>\n",
       "    <tr>\n",
       "      <td>26955-246149</td>\n",
       "      <td>50.59</td>\n",
       "      <td>26.23</td>\n",
       "    </tr>\n",
       "    <tr>\n",
       "      <td>21148-209545</td>\n",
       "      <td>50.60</td>\n",
       "      <td>26.22</td>\n",
       "    </tr>\n",
       "    <tr>\n",
       "      <td>34324-95973</td>\n",
       "      <td>50.61</td>\n",
       "      <td>26.21</td>\n",
       "    </tr>\n",
       "    <tr>\n",
       "      <td>34234-33223</td>\n",
       "      <td>50.54</td>\n",
       "      <td>26.23</td>\n",
       "    </tr>\n",
       "    <tr>\n",
       "      <td>34286-79020</td>\n",
       "      <td>50.58</td>\n",
       "      <td>26.21</td>\n",
       "    </tr>\n",
       "    <tr>\n",
       "      <td>1349-112145</td>\n",
       "      <td>50.59</td>\n",
       "      <td>26.24</td>\n",
       "    </tr>\n",
       "    <tr>\n",
       "      <td>32717-122090</td>\n",
       "      <td>50.55</td>\n",
       "      <td>26.23</td>\n",
       "    </tr>\n",
       "    <tr>\n",
       "      <td>34218-27369</td>\n",
       "      <td>50.54</td>\n",
       "      <td>26.23</td>\n",
       "    </tr>\n",
       "    <tr>\n",
       "      <td>34345-98401</td>\n",
       "      <td>50.58</td>\n",
       "      <td>26.24</td>\n",
       "    </tr>\n",
       "    <tr>\n",
       "      <td>32716-134986</td>\n",
       "      <td>50.55</td>\n",
       "      <td>26.23</td>\n",
       "    </tr>\n",
       "    <tr>\n",
       "      <td>18359-188905</td>\n",
       "      <td>50.58</td>\n",
       "      <td>26.22</td>\n",
       "    </tr>\n",
       "    <tr>\n",
       "      <td>34302-86720</td>\n",
       "      <td>50.58</td>\n",
       "      <td>26.14</td>\n",
       "    </tr>\n",
       "    <tr>\n",
       "      <td>23604-225764</td>\n",
       "      <td>50.57</td>\n",
       "      <td>26.23</td>\n",
       "    </tr>\n",
       "    <tr>\n",
       "      <td>1582-122086</td>\n",
       "      <td>50.61</td>\n",
       "      <td>26.25</td>\n",
       "    </tr>\n",
       "    <tr>\n",
       "      <td>3639-145205</td>\n",
       "      <td>50.63</td>\n",
       "      <td>26.27</td>\n",
       "    </tr>\n",
       "    <tr>\n",
       "      <td>26978-244487</td>\n",
       "      <td>50.18</td>\n",
       "      <td>26.28</td>\n",
       "    </tr>\n",
       "    <tr>\n",
       "      <td>17391-179125</td>\n",
       "      <td>49.98</td>\n",
       "      <td>26.25</td>\n",
       "    </tr>\n",
       "    <tr>\n",
       "      <td>24603-238329</td>\n",
       "      <td>49.80</td>\n",
       "      <td>26.46</td>\n",
       "    </tr>\n",
       "    <tr>\n",
       "      <td>26495-238331</td>\n",
       "      <td>49.99</td>\n",
       "      <td>26.35</td>\n",
       "    </tr>\n",
       "    <tr>\n",
       "      <td>26496-238333</td>\n",
       "      <td>50.22</td>\n",
       "      <td>26.32</td>\n",
       "    </tr>\n",
       "    <tr>\n",
       "      <td>34214-27367</td>\n",
       "      <td>50.18</td>\n",
       "      <td>26.29</td>\n",
       "    </tr>\n",
       "    <tr>\n",
       "      <td>32580-128367</td>\n",
       "      <td>50.20</td>\n",
       "      <td>26.30</td>\n",
       "    </tr>\n",
       "    <tr>\n",
       "      <td>34308-93504</td>\n",
       "      <td>50.22</td>\n",
       "      <td>26.29</td>\n",
       "    </tr>\n",
       "    <tr>\n",
       "      <td>34273-73460</td>\n",
       "      <td>50.07</td>\n",
       "      <td>26.41</td>\n",
       "    </tr>\n",
       "    <tr>\n",
       "      <td>31409-105581</td>\n",
       "      <td>50.12</td>\n",
       "      <td>26.43</td>\n",
       "    </tr>\n",
       "    <tr>\n",
       "      <td>34255-62699</td>\n",
       "      <td>50.16</td>\n",
       "      <td>26.33</td>\n",
       "    </tr>\n",
       "    <tr>\n",
       "      <td>29390-253569</td>\n",
       "      <td>50.08</td>\n",
       "      <td>26.42</td>\n",
       "    </tr>\n",
       "    <tr>\n",
       "      <td>47516-253013</td>\n",
       "      <td>50.11</td>\n",
       "      <td>26.43</td>\n",
       "    </tr>\n",
       "  </tbody>\n",
       "</table>\n",
       "</div>"
      ],
      "text/plain": [
       "              Longitude  Latitude\n",
       "Store Number                     \n",
       "47088-256773      50.52     26.21\n",
       "21603-213405      50.59     26.23\n",
       "17255-179926      50.60     26.20\n",
       "17189-179925      50.58     26.22\n",
       "15439-161444      50.57     26.21\n",
       "47377-258065      50.55     26.22\n",
       "26955-246149      50.59     26.23\n",
       "21148-209545      50.60     26.22\n",
       "34324-95973       50.61     26.21\n",
       "34234-33223       50.54     26.23\n",
       "34286-79020       50.58     26.21\n",
       "1349-112145       50.59     26.24\n",
       "32717-122090      50.55     26.23\n",
       "34218-27369       50.54     26.23\n",
       "34345-98401       50.58     26.24\n",
       "32716-134986      50.55     26.23\n",
       "18359-188905      50.58     26.22\n",
       "34302-86720       50.58     26.14\n",
       "23604-225764      50.57     26.23\n",
       "1582-122086       50.61     26.25\n",
       "3639-145205       50.63     26.27\n",
       "26978-244487      50.18     26.28\n",
       "17391-179125      49.98     26.25\n",
       "24603-238329      49.80     26.46\n",
       "26495-238331      49.99     26.35\n",
       "26496-238333      50.22     26.32\n",
       "34214-27367       50.18     26.29\n",
       "32580-128367      50.20     26.30\n",
       "34308-93504       50.22     26.29\n",
       "34273-73460       50.07     26.41\n",
       "31409-105581      50.12     26.43\n",
       "34255-62699       50.16     26.33\n",
       "29390-253569      50.08     26.42\n",
       "47516-253013      50.11     26.43"
      ]
     },
     "execution_count": 57,
     "metadata": {},
     "output_type": "execute_result"
    }
   ],
   "source": [
    "# Read csv with pandas, index indicates whether the first column is an index\n",
    "data = pd.read_csv(\"starbucks_locations.csv\", index_col=0)\n",
    "\n",
    "print(data.head())\n",
    "\n",
    "data = data.dropna()\n",
    "\n",
    "# Reduce data for computability. just keep first 2000\n",
    "# data = data[:200]\n",
    "\n",
    "# or reduce data to just some part of the planet\n",
    "data = data[(data[\"Longitude\"].between(49, 51)) & (data[\"Latitude\"].between(26, 27))]\n",
    "    \n",
    "data"
   ]
  },
  {
   "cell_type": "markdown",
   "metadata": {},
   "source": [
    "We can use scikit-learn for both K-means and DBSCAN."
   ]
  },
  {
   "cell_type": "markdown",
   "metadata": {},
   "source": [
    "### K-means"
   ]
  },
  {
   "cell_type": "code",
   "execution_count": 58,
   "metadata": {},
   "outputs": [
    {
     "name": "stdout",
     "output_type": "stream",
     "text": [
      "Start K-means: \n",
      "Cluster centroids: [[50.095      26.4225    ]\n",
      " [50.58666667 26.22166667]\n",
      " [50.17333333 26.3       ]\n",
      " [49.8        26.46      ]\n",
      " [49.98       26.25      ]\n",
      " [50.58       26.14      ]\n",
      " [49.99       26.35      ]\n",
      " [50.62       26.26      ]\n",
      " [50.54166667 26.225     ]\n",
      " [50.21333333 26.30333333]]\n"
     ]
    },
    {
     "data": {
      "image/png": "[encoded data removed]",
      "text/plain": [
       "<Figure size 432x288 with 1 Axes>"
      ]
     },
     "metadata": {
      "needs_background": "light"
     },
     "output_type": "display_data"
    }
   ],
   "source": [
    "# K-means with 10 neighbours and 500 iterations\n",
    "kmeans = KMeans(10, max_iter=500)\n",
    "\n",
    "print('Start K-means: ')\n",
    "kmeans.fit(data)\n",
    "print(\"Cluster centroids: \" +str(kmeans.cluster_centers_))\n",
    "\n",
    "graphClusters(data,kmeans.labels_,list(kmeans.cluster_centers_))"
   ]
  },
  {
   "cell_type": "markdown",
   "metadata": {},
   "source": [
    "### DBSCAN"
   ]
  },
  {
   "cell_type": "code",
   "execution_count": 59,
   "metadata": {},
   "outputs": [
    {
     "name": "stdout",
     "output_type": "stream",
     "text": [
      "Start DBSCAN: \n",
      "Labels: {-1}\n"
     ]
    },
    {
     "data": {
      "image/png": "[encoded data removed]",
      "text/plain": [
       "<Figure size 432x288 with 1 Axes>"
      ]
     },
     "metadata": {
      "needs_background": "light"
     },
     "output_type": "display_data"
    }
   ],
   "source": [
    "dbscan = DBSCAN(eps=20,min_samples=100)\n",
    "\n",
    "print('Start DBSCAN: ')\n",
    "dbscan.fit(data)\n",
    "print(\"Labels: \"+str(set(dbscan.labels_)))\n",
    "\n",
    "graphClusters(data,dbscan.labels_,[])"
   ]
  },
  {
   "cell_type": "code",
   "execution_count": null,
   "metadata": {},
   "outputs": [],
   "source": []
  }
 ],
 "metadata": {
  "kernelspec": {
   "display_name": "Python 3",
   "language": "python",
   "name": "python3"
  },
  "language_info": {
   "codemirror_mode": {
    "name": "ipython",
    "version": 3
   },
   "file_extension": ".py",
   "mimetype": "text/x-python",
   "name": "python",
   "nbconvert_exporter": "python",
   "pygments_lexer": "ipython3",
   "version": "3.7.4"
  }
 },
 "nbformat": 4,
 "nbformat_minor": 2
}
