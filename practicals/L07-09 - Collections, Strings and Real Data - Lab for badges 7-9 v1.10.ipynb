{
 "cells": [
  {
   "cell_type": "markdown",
   "id": "behind-terry",
   "metadata": {},
   "source": [
    "# Lab for badges 7-9\n",
    "\n",
    "This badge has two sections: \n",
    "\n",
    "1. Solve some simple tasks using list comprehensions\n",
    "2. Build a live 'bus tracker' using a bus data API https://pbs.twimg.com/media/Dape3PaXcAAyYCl.jpg"
   ]
  },
  {
   "cell_type": "code",
   "execution_count": null,
   "id": "3ee0c885",
   "metadata": {},
   "outputs": [],
   "source": [
    "# experimental: you can run this cell to see your code full-width\n",
    "from IPython.display import display, HTML\n",
    "display(HTML(\"<style>.container { width:100% !important; }</style>\"))"
   ]
  },
  {
   "cell_type": "markdown",
   "id": "designed-canvas",
   "metadata": {},
   "source": [
    "## Part 1: Small tasks"
   ]
  },
  {
   "cell_type": "code",
   "execution_count": null,
   "id": "traditional-gather",
   "metadata": {},
   "outputs": [],
   "source": [
    "# given this data, try to answer below challanges. hint: use List comprehensions. \n",
    "# remember that often you you need to split the task into smaller chunks \n",
    "\n",
    "cities_uk = [{'Geo': {'AreaKm2': 1572,\n",
    "          'Coordinates': {'Latitude': 51.51, 'Longitude': -0.13}},\n",
    "          'Name': 'London',\n",
    "          'Population': 8908081,\n",
    "          'Year_Founded': 47},\n",
    "         {'Geo': {'AreaKm2': 267.77,\n",
    "                  'Coordinates': {'Latitude': 52.48, 'Longitude': -1.9}},\n",
    "          'Name': 'Birmingham',\n",
    "          'Population': 1137100,\n",
    "          'Year_Founded': 601},\n",
    "         {'Geo': {'AreaKm2': 551.7,\n",
    "                  'Coordinates': {'Latitude': 53.8, 'Longitude': -1.55}},\n",
    "          'Name': 'Leeds',\n",
    "          'Population': 789194,\n",
    "          'Year_Founded': 1893},\n",
    "         {'Geo': {'AreaKm2': 3298,\n",
    "                  'Coordinates': {'Latitude': 55.86, 'Longitude': -4.25}},\n",
    "          'Name': 'Glasgow',\n",
    "          'Population': 635640,\n",
    "          'Year_Founded': 1454},\n",
    "         {'Geo': {'AreaKm2': 142.06,\n",
    "                  'Coordinates': {'Latitude': 53.38, 'Longitude': -1.47}},\n",
    "          'Name': 'Sheffield',\n",
    "          'Population': 577800,\n",
    "          'Year_Founded': 701},\n",
    "         {'Geo': {'AreaKm2': 110,\n",
    "                  'Coordinates': {'Latitude': 51.45, 'Longitude': -2.58}},\n",
    "          'Name': 'Bristol',\n",
    "          'Population': 567111,\n",
    "          'Year_Founded': 1155},\n",
    "         {'Geo': {'AreaKm2': 115.6,\n",
    "                  'Coordinates': {'Latitude': 53.47, 'Longitude': -2.23}},\n",
    "          'Name': 'Manchester',\n",
    "          'Population': 547627,\n",
    "          'Year_Founded': 1301},\n",
    "         {'Geo': {'AreaKm2': 111.84,\n",
    "                  'Coordinates': {'Latitude': 53.41, 'Longitude': -2.99}},\n",
    "          'Name': 'Liverpool',\n",
    "          'Population': 513441,\n",
    "          'Year_Founded': 1207},\n",
    "         {'Geo': {'AreaKm2': 259,\n",
    "                  'Coordinates': {'Latitude': 55.95, 'Longitude': -3.2}},\n",
    "          'Name': 'Edinburgh',\n",
    "          'Population': 488050,\n",
    "          'Year_Founded': 601}]\n",
    "\n",
    "cities_scotland = [\n",
    "         {'Geo': {'AreaKm2': 3298,\n",
    "                  'Coordinates': {'Latitude': 55.86, 'Longitude': -4.25}},\n",
    "          'Name': 'Glasgow',\n",
    "          'Population': 635640,\n",
    "          'Year_Founded': 1454},\n",
    "         {'Geo': {'AreaKm2': 259,\n",
    "                  'Coordinates': {'Latitude': 55.95, 'Longitude': -3.2}},\n",
    "          'Name': 'Edinburgh',\n",
    "          'Population': 488050,\n",
    "          'Year_Founded': 601}]"
   ]
  },
  {
   "cell_type": "markdown",
   "id": "reported-september",
   "metadata": {},
   "source": [
    "### Task 1:"
   ]
  },
  {
   "cell_type": "code",
   "execution_count": null,
   "id": "violent-group",
   "metadata": {},
   "outputs": [],
   "source": [
    "def number_of_cities(some_cities):\n",
    "    return \"banana\" # here write your solution\n",
    "\n",
    "print(number_of_cities(cities_uk)) # see it work"
   ]
  },
  {
   "cell_type": "code",
   "execution_count": null,
   "id": "aboriginal-devices",
   "metadata": {},
   "outputs": [],
   "source": [
    "assert number_of_cities(cities_scotland) == 2\n",
    "assert number_of_cities(cities_uk) == 9\n",
    "print(\"tests passed\")"
   ]
  },
  {
   "cell_type": "code",
   "execution_count": null,
   "id": "running-local",
   "metadata": {},
   "outputs": [],
   "source": [
    "def cities_starting_with_letter(some_cities, first_letter):\n",
    "    return \"banana\" # here write your solution\n",
    "\n",
    "print(cities_starting_with_letter(cities_uk, \"B\")) # see it work"
   ]
  },
  {
   "cell_type": "code",
   "execution_count": null,
   "id": "hourly-server",
   "metadata": {},
   "outputs": [],
   "source": [
    "assert cities_starting_with_letter(cities_uk, \"L\") == ['London', 'Leeds', 'Liverpool']\n",
    "assert cities_starting_with_letter(cities_uk, \"B\") == ['Birmingham', 'Bristol']\n",
    "assert cities_starting_with_letter(cities_scotland, \"L\") == []\n",
    "assert cities_starting_with_letter([], \"L\") == []\n",
    "print(\"tests passed\")"
   ]
  },
  {
   "cell_type": "code",
   "execution_count": null,
   "id": "instrumental-suite",
   "metadata": {},
   "outputs": [],
   "source": [
    "\n",
    "def number_of_cities_north_of(some_cities, latitude):  \n",
    "    return \"banana\" # here write your solution\n",
    "\n",
    "print(number_of_cities_north_of(cities_uk, 53.0)) # see it work"
   ]
  },
  {
   "cell_type": "code",
   "execution_count": null,
   "id": "mathematical-function",
   "metadata": {},
   "outputs": [],
   "source": [
    "assert number_of_cities_north_of(cities_uk, 55.0) == 2\n",
    "assert number_of_cities_north_of(cities_uk, 53.0) == 6\n",
    "assert number_of_cities_north_of(cities_scotland, 55.0) == 2\n",
    "print(\"tests passed\")\n",
    "# for simplicity let's assume everythong north of Gretna Green is in Scotland(Latitude being larger than 55.00) ;)"
   ]
  },
  {
   "cell_type": "code",
   "execution_count": null,
   "id": "industrial-nightmare",
   "metadata": {},
   "outputs": [],
   "source": [
    "def percent_of_cities_north_of(some_cities, latitude): \n",
    "    return \"banana\" # here write your solution. \n",
    "\n",
    "# round the result before returning it\n",
    "print(percent_of_cities_north_of(cities_uk, 55.0)) # see it work"
   ]
  },
  {
   "cell_type": "code",
   "execution_count": null,
   "id": "elect-template",
   "metadata": {},
   "outputs": [],
   "source": [
    "\n",
    "assert percent_of_cities_north_of(cities_uk, 55.0) == 22\n",
    "assert percent_of_cities_north_of(cities_uk, 53.0) == 67\n",
    "assert percent_of_cities_north_of(cities_scotland, 55.0) == 100\n",
    "print(\"tests passed\")"
   ]
  },
  {
   "cell_type": "code",
   "execution_count": null,
   "id": "disciplinary-enough",
   "metadata": {},
   "outputs": [],
   "source": [
    "def number_of_large_cities(some_cities, minimum_population): \n",
    "    return \"banana\" # here write your solution. \n",
    "\n",
    "print(number_of_large_cities(cities_uk, 1500000)) # see it work"
   ]
  },
  {
   "cell_type": "code",
   "execution_count": null,
   "id": "golden-commodity",
   "metadata": {},
   "outputs": [],
   "source": [
    "assert number_of_large_cities(cities_uk, 1500000) == 1\n",
    "assert number_of_large_cities(cities_uk, 1000000) == 2\n",
    "assert number_of_large_cities(cities_uk, 500000) == 8\n",
    "assert number_of_large_cities(cities_scotland, 500000) == 1\n",
    "print(\"tests passed\")"
   ]
  },
  {
   "cell_type": "code",
   "execution_count": null,
   "id": "virgin-oregon",
   "metadata": {},
   "outputs": [],
   "source": []
  },
  {
   "cell_type": "markdown",
   "id": "7da25f4c",
   "metadata": {},
   "source": [
    "# ⛏ Edinburgh Lothian Busses Timetable\n",
    "\n",
    "Below is the API of Lothian Busses, Edinburgh's local bus company. We'd like you to try to understand that data, and then print it in a meaningful way.\n",
    "\n",
    "Some functions are given below which will give you access to a **list of dictionaries**. Each item in a list will be info abotu one bus services leaving soon from a particular busstop. We'll look at the busses going to Business School or University of Edinburgh from Leith (northen part of Edinburgh). \n",
    "\n",
    "Below you will see:\n",
    "\n",
    "- the structure of the data,\n",
    "- some examples\n",
    "- some task\n",
    "\n",
    "Use what you learned up until now to extract and style the bus timetable. Here is a photo of how bus timetable looks like when it is displayed on the digital display at the actual busstop: https://pbs.twimg.com/media/Dape3PaXcAAyYCl.jpg"
   ]
  },
  {
   "cell_type": "markdown",
   "id": "636eafb2",
   "metadata": {},
   "source": [
    "# Demo code to get you started:"
   ]
  },
  {
   "cell_type": "code",
   "execution_count": null,
   "id": "75660fa8",
   "metadata": {},
   "outputs": [],
   "source": [
    "import requests \n",
    "import pprint as pp \n",
    "from datetime import timedelta, date, datetime \n",
    "import pytz # timezones"
   ]
  },
  {
   "cell_type": "code",
   "execution_count": null,
   "id": "26899eca",
   "metadata": {},
   "outputs": [],
   "source": [
    "def get_buses_coming_soon( stop_id): \n",
    "    apiurl = f\"https://tfe-opendata.com/api/v1/live_bus_times/{stop_id}\" \n",
    "    response = requests.request(\"GET\", apiurl) \n",
    "    all_busses = response.json() \n",
    "    return all_busses"
   ]
  },
  {
   "cell_type": "markdown",
   "id": "73342e32",
   "metadata": {},
   "source": [
    "`get_buses_coming_soon` gets all routes from one bus stop. \n",
    "\n",
    "Result is a List of Dictionaries. Where each dictionary is one route (one bus number eg. 22). Route dictionary has just two keys. What are they?"
   ]
  },
  {
   "cell_type": "markdown",
   "id": "b3e2442c",
   "metadata": {},
   "source": [
    "Brace! this will print a lot of data!\n",
    "but have a look at the very beginning of it! What is it? List? Of What? List of Dictionaries?\n",
    "\n",
    "Read below for some hints"
   ]
  },
  {
   "cell_type": "code",
   "execution_count": null,
   "id": "intensive-greece",
   "metadata": {},
   "outputs": [],
   "source": [
    "# eg. 36232574 is an id of a bus stop in Leith (north of Edinburgh)\n",
    "elmrow_stop_id = 36232574\n",
    "elmrow_departures = get_buses_coming_soon( elmrow_stop_id )"
   ]
  },
  {
   "cell_type": "code",
   "execution_count": null,
   "id": "8c2cffc9",
   "metadata": {},
   "outputs": [],
   "source": [
    "pp.pprint(len(elmrow_departures))\n",
    "print()\n",
    "pp.pprint(elmrow_departures)"
   ]
  },
  {
   "cell_type": "markdown",
   "id": "7594bcb1",
   "metadata": {},
   "source": [
    "Basically the format is:\n",
    "\n",
    "**elmrow_departures** - a List with all the bus services that use it\n",
    "\n",
    "..each item in **elmrow_departures** - a Dictionary describing one service with following keys: **departures**, and **routeName**\n",
    "    \n",
    "....**routeName** is just the name of the bus service, eg. '22'\n",
    "        \n",
    "....**departures** is a List with Dictionaries, each representing info of one incomming bus. "
   ]
  },
  {
   "cell_type": "code",
   "execution_count": null,
   "id": "7844eeba",
   "metadata": {},
   "outputs": [],
   "source": [
    "# some examples:\n",
    "# one stop\n",
    "first_service = elmrow_departures[0]\n",
    "pp.pprint(first_service)"
   ]
  },
  {
   "cell_type": "code",
   "execution_count": null,
   "id": "d3575f79",
   "metadata": {},
   "outputs": [],
   "source": [
    "# first bus service's routeName\n",
    "first_service_name = elmrow_departures[0]['routeName'] \n",
    "print(first_service_name)"
   ]
  },
  {
   "cell_type": "code",
   "execution_count": null,
   "id": "24a59d09",
   "metadata": {},
   "outputs": [],
   "source": [
    "first_service_departures = elmrow_departures[0]['departures'] \n",
    "print(f\"First Route has number {first_service_name} and has {len(first_service_departures)} busses coming soon\")"
   ]
  },
  {
   "cell_type": "markdown",
   "id": "40d5dfa4",
   "metadata": {},
   "source": [
    "All departures for this stop (note that this api uses timezones, so we will have to also)\n",
    "instead of just datetime.now() we will use datetime.now(pytz.timezone('Europe/London'))"
   ]
  },
  {
   "cell_type": "code",
   "execution_count": null,
   "id": "e793c140",
   "metadata": {},
   "outputs": [],
   "source": [
    "print(\"next bus of the first route:\") \n",
    "pp.pprint(elmrow_departures[0]['departures'][0])"
   ]
  },
  {
   "cell_type": "code",
   "execution_count": null,
   "id": "theoretical-silicon",
   "metadata": {},
   "outputs": [],
   "source": [
    "# a quick refresh of data :) so they are still up to date\n",
    "# run this code any time you want to get most up to date times\n",
    "elmrow_departures = get_buses_coming_soon( elmrow_stop_id )"
   ]
  },
  {
   "cell_type": "code",
   "execution_count": null,
   "id": "c50cc1e0",
   "metadata": {},
   "outputs": [],
   "source": [
    "departure_time_from_api = elmrow_departures[0]['departures'][0]['departureTime']\n",
    "print(departure_time_from_api)"
   ]
  },
  {
   "cell_type": "markdown",
   "id": "6a5b6470",
   "metadata": {},
   "source": [
    "We can also show the time when the bus is due in a prettier way and try some of our newly-learned Date/Time manipulation!"
   ]
  },
  {
   "cell_type": "code",
   "execution_count": null,
   "id": "olympic-starter",
   "metadata": {},
   "outputs": [],
   "source": [
    "# here's a step-by-step process of taking a complex date format into something simpler:\n",
    "\n",
    "bus_time_object = datetime.fromisoformat(departure_time_from_api) \n",
    "print(bus_time_object)\n",
    "\n",
    "bus_time_str = bus_time_object.strftime(\"%H:%M of day %D\") \n",
    "print(bus_time_str)\n",
    "# other datetime format can be found online, eg https://www.geeksforgeeks.org/python-datetime-strptime-function/"
   ]
  },
  {
   "cell_type": "code",
   "execution_count": null,
   "id": "tribal-design",
   "metadata": {},
   "outputs": [],
   "source": [
    "def date_into_human_form(time_from_api):\n",
    "    bus_time_object = datetime.fromisoformat(time_from_api) \n",
    "    bus_time_str = bus_time_object.strftime(\"%H:%M\") \n",
    "    return bus_time_str\n",
    "\n",
    "print(date_into_human_form(departure_time_from_api))\n",
    "print(date_into_human_form('2022-11-18T21:48:09+01:00'))\n",
    "print(date_into_human_form('2022-11-21T12:47:09+01:00'))"
   ]
  },
  {
   "cell_type": "code",
   "execution_count": null,
   "id": "1587f903",
   "metadata": {},
   "outputs": [],
   "source": [
    "# let's try to calculate in how many minutes is the next bus arriving\n",
    "# this code is quite messy, but notice how we're using prints to find our way\n",
    "# in a minute we'll clean it up\n",
    "\n",
    "# first refresh your data:\n",
    "elmrow_departures = get_buses_coming_soon( elmrow_stop_id )\n",
    "\n",
    "# then do the work:\n",
    "departure_time_from_api = elmrow_departures[0]['departures'][0]['departureTime']\n",
    "\n",
    "bus_time_object = datetime.fromisoformat(departure_time_from_api)  - timedelta(hours=1, minutes=0) \n",
    "# btw. this is a nasty hack which we need to use, because timezone on the API is wrong :(\n",
    "print(bus_time_object, \"from api\")\n",
    "\n",
    "utc_time_now = datetime.utcnow()\n",
    "print(utc_time_now, \"utc\")\n",
    "\n",
    "local_timezone = pytz.timezone(\"Europe/London\")\n",
    "now_local = utc_time_now.astimezone(local_timezone)\n",
    "print(now_local, \"local\")\n",
    "\n",
    "\n",
    "time_till =   bus_time_object - now_local \n",
    "print(time_till)\n",
    "minutes = time_till.total_seconds() // 60\n",
    "print(minutes)\n",
    "\n",
    "# once you know what this code does, it would be nice to wrap it into a function\n",
    "# and to remove all prints form the definition of the function, to avoid 'littering'\n",
    "\n",
    "# give it a shot if you'd like, otherwise, we'll do it just below (keep reading)"
   ]
  },
  {
   "cell_type": "code",
   "execution_count": null,
   "id": "bab35399",
   "metadata": {},
   "outputs": [],
   "source": [
    "# this is same as above, but 'cleaner' and as a function\n",
    "def date_into_minutes_from_now(time_from_api):\n",
    "    bus_time_object = datetime.fromisoformat(time_from_api)  - timedelta(hours=1, minutes=0)\n",
    "    local_timezone = pytz.timezone(\"Europe/London\")\n",
    "    now_local = utc_time_now.astimezone(local_timezone)\n",
    "    time_till =   bus_time_object - now_local \n",
    "    minutes = time_till.total_seconds() // 60\n",
    "    return minutes\n",
    "\n",
    "# once you know what this function does, I recommend removing all prints form the definition\n",
    "# of the function, to avoid 'littering'"
   ]
  },
  {
   "cell_type": "code",
   "execution_count": null,
   "id": "attempted-geometry",
   "metadata": {},
   "outputs": [],
   "source": [
    "# elmrow_departures = get_buses_coming_soon( elmrow_stop_id )\n",
    "departure_time_from_api = elmrow_departures[0]['departures'][0]['departureTime']\n",
    "\n",
    "print(\"next bus is in minutes:\", date_into_minutes_from_now(departure_time_from_api))"
   ]
  },
  {
   "cell_type": "code",
   "execution_count": null,
   "id": "d3702339",
   "metadata": {},
   "outputs": [],
   "source": [
    "# this is how you could represent next departure as a string, in a sentence format\n",
    "\n",
    "service_name = elmrow_departures[0]['routeName']\n",
    "pretty_time = date_into_human_form(elmrow_departures[0]['departures'][0]['departureTime'])\n",
    "in_minutes = date_into_minutes_from_now(elmrow_departures[0]['departures'][0]['departureTime'])\n",
    "\n",
    "print(f\"Next bus number {service_name} is at {pretty_time:*^13} (in {in_minutes:2.0f} minutes)\")\n",
    "\n",
    "# in a minute we will use a function to make it 'cleaner'"
   ]
  },
  {
   "cell_type": "code",
   "execution_count": null,
   "id": "26aae564",
   "metadata": {},
   "outputs": [],
   "source": [
    "# this is same as above, but represented as a string\n",
    "def next_first_departure(some_departures):\n",
    "    service_name = some_departures[0]['routeName']\n",
    "    pretty_time = date_into_human_form(some_departures[0]['departures'][0]['departureTime'])\n",
    "    in_minutes = date_into_minutes_from_now(some_departures[0]['departures'][0]['departureTime'])\n",
    "    \n",
    "    return f\"Next bus number {service_name} is at {pretty_time:*^13} (in {in_minutes:2.0f} minutes)\"\n",
    "\n",
    "# in a minute we will use a function to make it 'cleaner'\n",
    "print(next_first_departure(elmrow_departures))"
   ]
  },
  {
   "cell_type": "code",
   "execution_count": null,
   "id": "d2e9879f",
   "metadata": {},
   "outputs": [],
   "source": [
    "# do you see how above function takes all departures? and then picks out the first one with [0]\n",
    "# what if the function took just one departure, and you could be more flexible about what you show\n",
    "\n",
    "# this is same as above, but takes ONE departure\n",
    "def next_first_departure(one_departures):\n",
    "    service_name = one_departures['routeName']\n",
    "    pretty_time = date_into_human_form(one_departures['departures'][0]['departureTime'])\n",
    "    in_minutes = date_into_minutes_from_now(one_departures['departures'][0]['departureTime'])\n",
    "    \n",
    "    return f\"Next bus number {service_name} is at {pretty_time:*^13} (in {in_minutes:2.0f} minutes)\"\n",
    "\n",
    "# in a minute we will use a function to make it 'cleaner'\n",
    "print(next_first_departure(elmrow_departures[0]))\n",
    "print(next_first_departure(elmrow_departures[1]))\n",
    "print(next_first_departure(elmrow_departures[2]))\n",
    "print(next_first_departure(elmrow_departures[3]))"
   ]
  },
  {
   "cell_type": "markdown",
   "id": "joined-diversity",
   "metadata": {},
   "source": [
    "### Let's present the data somehow:"
   ]
  },
  {
   "cell_type": "code",
   "execution_count": null,
   "id": "f16965e9",
   "metadata": {},
   "outputs": [],
   "source": [
    "# advanced, but fun, for those who like using functions:\n",
    "# you can try to split your data presentation into stages.\n",
    "# and btw. always return (not print) inside a function\n",
    "# while you could print from your functions, it's cleaner to return strings and print them outside \n",
    "\n",
    "def bus_service_report(one_service):\n",
    "    return f\"🚌 {one_service['routeName']:^11} has {len(one_service['departures']):2} buses incomming 💨\"\n",
    "\n",
    "pp.pprint( bus_service_report(elmrow_departures[0]) )\n",
    "pp.pprint( bus_service_report(elmrow_departures[1]) )"
   ]
  },
  {
   "cell_type": "markdown",
   "id": "e6b957c9",
   "metadata": {},
   "source": [
    "### Bonus task: \n",
    "\n",
    "How would you change above function ability to say when is the next bus? like \"🚌     25      has  4 buses incomming 💨 next one is 7 minutes\" ?"
   ]
  },
  {
   "cell_type": "code",
   "execution_count": null,
   "id": "c78927c4",
   "metadata": {},
   "outputs": [],
   "source": [
    "# and then you can use list-comprehensions to print all services\n",
    "def all_services_as_lines(allservices):\n",
    "    return [\n",
    "         bus_service_report(service)\n",
    "         for service in allservices   \n",
    "    ]\n",
    "\n",
    "pp.pprint( all_services_as_lines(elmrow_departures) )\n",
    "# notice that what's printed is still a list, because it has [ ] around it"
   ]
  },
  {
   "cell_type": "markdown",
   "id": "b67c77fa",
   "metadata": {},
   "source": [
    "bonus code: To connect a list of stings into one string, using some delimited/connector:\n",
    "\n",
    "`\"some_delimiter\".join(some_list)`\n",
    "\n",
    "eg.\n",
    "\n",
    "`\":)\".join([\"banana\",\"kiwi\",\"plum\"])`\n"
   ]
  },
  {
   "cell_type": "code",
   "execution_count": null,
   "id": "2cf1a650",
   "metadata": {},
   "outputs": [],
   "source": [
    "fruit = [\"banana\",\"kiwi\",\"plum\"]\n",
    "print(\" ⭐️ \".join(fruit))\n",
    "print(\"**\".join(fruit))"
   ]
  },
  {
   "cell_type": "code",
   "execution_count": null,
   "id": "e518fd4d",
   "metadata": {},
   "outputs": [],
   "source": [
    "# Applied to our previous data, so that it is not a list with [] but a pretty string\n",
    "print( \"\\n\".join(all_services_as_lines(elmrow_departures) ))\n",
    "# notice we are not using pp.pprint() because it will try to be 'too helpful'. try it and see the difference"
   ]
  },
  {
   "cell_type": "code",
   "execution_count": null,
   "id": "working-scotland",
   "metadata": {},
   "outputs": [],
   "source": [
    "# or as a beautiful function:\n",
    "\n",
    "def all_services_formatted(busses):\n",
    "    return \"\\n\".join(all_services_as_lines(busses))\n",
    "\n",
    "print(all_services_formatted(elmrow_departures))"
   ]
  },
  {
   "cell_type": "markdown",
   "id": "3d0caaf5",
   "metadata": {},
   "source": [
    "# If you still have time: Try to recreate ANYTHING SIMMILAR to the bus tracker in the picture: https://pbs.twimg.com/media/Dape3PaXcAAyYCl.jpg\n",
    "\n",
    "Do not worry about the details, Or making it exactly like this - just try to get something working and try to make it look like nice. Try to play with it, and try to use as many skills you learned during this badge as you can.\n",
    "\n",
    "\n",
    "\n",
    "We already wrote for you some the code to get the busses comming to Business School from Leith.\n",
    "You just need to format the results, so they look prettier :)\n",
    "this is the method to get the next busses. No need to change it.\n",
    "\n",
    "\n",
    "for example:\n",
    "\n",
    "```\n",
    "Next busses nr 17 are coming in 5,25,55 minutes\n",
    "Next busses nr 21 are coming in 15,45 minutes\n",
    "Next busses nr 44 are coming in 2,42 minutes\n",
    "```\n",
    "\n",
    "or even:\n",
    "\n",
    "```\n",
    "Services leaving from this busstop: 17,21,44\n",
    "```"
   ]
  },
  {
   "cell_type": "code",
   "execution_count": null,
   "id": "812ec99a",
   "metadata": {},
   "outputs": [],
   "source": []
  },
  {
   "cell_type": "code",
   "execution_count": null,
   "id": "a51e8197",
   "metadata": {},
   "outputs": [],
   "source": []
  },
  {
   "cell_type": "markdown",
   "id": "357d201f",
   "metadata": {},
   "source": [
    "### For later: if you'd like to know more about how Edinburgh bus service use their data you can read up on it here:\n",
    "\n",
    "Also this is the link to live api data (remember that pprint in your python code, and jsonviewer extension in your chrome will make it easier to see it in a clear way): https://tfe-opendata.com/api/v1/live_bus_times/36236563\n",
    "\n",
    "To make above JSON data look MUCH BETTER in your browser. Use this Chrome extension: https://chrome.google.com/webstore/detail/json-viewer/gbmdgpbipfallnflgajpaliibnhdgobh \n",
    "\n",
    "Also, here is the official API documentation: https://tfe-opendata.readme.io/docs/live-bus-times"
   ]
  },
  {
   "cell_type": "code",
   "execution_count": null,
   "id": "d20d7119",
   "metadata": {},
   "outputs": [],
   "source": []
  }
 ],
 "metadata": {
  "kernelspec": {
   "display_name": "Python 3 (ipykernel)",
   "language": "python",
   "name": "python3"
  },
  "language_info": {
   "codemirror_mode": {
    "name": "ipython",
    "version": 3
   },
   "file_extension": ".py",
   "mimetype": "text/x-python",
   "name": "python",
   "nbconvert_exporter": "python",
   "pygments_lexer": "ipython3",
   "version": "3.9.12"
  }
 },
 "nbformat": 4,
 "nbformat_minor": 5
}
