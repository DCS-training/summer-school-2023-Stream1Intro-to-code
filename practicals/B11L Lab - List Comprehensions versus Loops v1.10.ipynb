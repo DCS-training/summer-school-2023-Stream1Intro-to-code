{
 "cells": [
  {
   "cell_type": "markdown",
   "metadata": {},
   "source": [
    "# Lab for Badges until 11 - List Comprehensions versus Loops\n",
    "\n",
    "In this lab you will be asked to perform a number of tasks TWICE. First time with list comprehensions, then with loops. Tasks will not be hard, and will build on each other. Hopefully you will see common simmilarities and differences between two above methods."
   ]
  },
  {
   "cell_type": "markdown",
   "metadata": {},
   "source": [
    "# Recap"
   ]
  },
  {
   "cell_type": "markdown",
   "metadata": {},
   "source": [
    "### List Comprehension:\n",
    "\n",
    "- takes an original (input) list and returns a different list. It ALWAYS returns a list\n",
    "- can filter the input list, and keep just some items of it, with **if** conditional\n",
    "- can modify/map/represent each items that you mean to keep with the first like\n",
    "- it DOES NOT really 'go through each item in a list one at a time', it changes them all at once, and only the ones that you accepted in the if statement. (that's why you cannot 'do things' inside of it eg. print, assign, or change anything)."
   ]
  },
  {
   "cell_type": "markdown",
   "metadata": {},
   "source": [
    "### Loop:\n",
    "\n",
    "- runs some code, a number of times\n",
    "- in each loop it gives you access to ONE ITEM of a collection, so that you can do something with this item\n",
    "- it does not return anything, you have to take care of returning, collecting or combining things\n",
    "- you can DO things inside it, like assign, change or print.\n",
    "\n",
    "For most applications list comprehension is simpler and faster, but a loop is more flexible and gives you more fine control. If you learn how to solve problems with both methods, you will really advance yoru understanding of what programming is."
   ]
  },
  {
   "cell_type": "code",
   "execution_count": null,
   "metadata": {},
   "outputs": [],
   "source": [
    "# look at the examples below - do you understand what they do? \n",
    "# can you change them slightly so that they do something else?\n",
    "\n",
    "words = [\"apple\", \"banana\", \"plum\", \"beetroot\",\"kiwi\"]\n",
    "\n",
    "lengths_of_words = [\n",
    "    len(word)\n",
    "    for word in words\n",
    "]\n",
    "\n",
    "print(lengths_of_words)"
   ]
  },
  {
   "cell_type": "code",
   "execution_count": null,
   "metadata": {},
   "outputs": [],
   "source": [
    "lengths_of_words_starting_with_b = [\n",
    "    len(word)\n",
    "    for word in words\n",
    "    if word[0] == \"b\"\n",
    "]\n",
    "\n",
    "print(lengths_of_words_starting_with_b)"
   ]
  },
  {
   "cell_type": "code",
   "execution_count": null,
   "metadata": {},
   "outputs": [],
   "source": [
    "words_starting_with_b = [\n",
    "    word\n",
    "    for word in words\n",
    "    if word[0] == \"b\"\n",
    "]\n",
    "\n",
    "print(words_starting_with_b)"
   ]
  },
  {
   "cell_type": "code",
   "execution_count": null,
   "metadata": {},
   "outputs": [],
   "source": [
    "students = [{'name':'Prianka', 'surname':'Mathews'},\n",
    "           {'name':'Natasha', 'surname':'McColl'}]\n",
    "first_names_of_students = [\n",
    "    student['name']\n",
    "    for student in students\n",
    "]\n",
    "\n",
    "print(first_names_of_students)"
   ]
  },
  {
   "cell_type": "code",
   "execution_count": null,
   "metadata": {},
   "outputs": [],
   "source": [
    "students = [{'name':'Prianka', 'surname':'Mathews', 'pets': ['fish', 'tortoise','cat']},\n",
    "           {'name':'Natasha', 'surname':'McColl', 'pets': ['dog']},\n",
    "           {'name':'Pim', 'surname':'Kowalska', 'pets': ['cat']}]\n",
    "\n",
    "names_of_first_pet_if_they_have_only_one = [\n",
    "    student['pets'][0]\n",
    "    for student in students\n",
    "    if len(student['pets']) == 1\n",
    "]\n",
    "\n",
    "print(names_of_first_pet_if_they_have_only_one)"
   ]
  },
  {
   "cell_type": "markdown",
   "metadata": {},
   "source": [
    "# Tasks: Solve each task first with List Comprehension, then with a For Loop:"
   ]
  },
  {
   "cell_type": "markdown",
   "metadata": {},
   "source": [
    "# Task 1\n",
    "\n",
    "Filter items, then count them to see if there are any:"
   ]
  },
  {
   "cell_type": "markdown",
   "metadata": {},
   "source": [
    "# a: List comprehension"
   ]
  },
  {
   "cell_type": "code",
   "execution_count": null,
   "metadata": {},
   "outputs": [],
   "source": [
    "def is_item_in_list(items, searched_thing):\n",
    "    #     your code here\n",
    "    return \"banana\""
   ]
  },
  {
   "cell_type": "code",
   "execution_count": null,
   "metadata": {},
   "outputs": [],
   "source": [
    "print(is_item_in_list([\"car\",\"dinosaur\",\"doll\"], \"dinosaur\"))"
   ]
  },
  {
   "cell_type": "code",
   "execution_count": null,
   "metadata": {},
   "outputs": [],
   "source": [
    "toys  = [\"car\",\"dinosaur\",\"doll\",\"watering can\",\"flower\", \"car\"]\n",
    "\n",
    "assert is_item_in_list(toys, \"watering can\") == True\n",
    "assert is_item_in_list(toys, \"robot\") == False\n",
    "assert is_item_in_list(toys, \"car\") == True\n",
    "print(\"all tests passed\")"
   ]
  },
  {
   "cell_type": "markdown",
   "metadata": {},
   "source": [
    "# b: For Loop"
   ]
  },
  {
   "cell_type": "code",
   "execution_count": null,
   "metadata": {},
   "outputs": [],
   "source": [
    "def is_item_in_list(items, searched_thing):\n",
    "    #     your code here\n",
    "    return \"banana\""
   ]
  },
  {
   "cell_type": "code",
   "execution_count": null,
   "metadata": {},
   "outputs": [],
   "source": [
    "print(is_item_in_list([\"car\",\"dinosaur\",\"doll\"], \"dinosaur\"))"
   ]
  },
  {
   "cell_type": "code",
   "execution_count": null,
   "metadata": {},
   "outputs": [],
   "source": [
    "toys  = [\"car\",\"dinosaur\",\"doll\",\"watering can\",\"flower\", \"car\"]\n",
    "assert is_item_in_list(toys, \"watering can\") == True\n",
    "assert is_item_in_list(toys, \"robot\") == False\n",
    "assert is_item_in_list(toys, \"car\") == True\n",
    "print(\"all tests passed\")"
   ]
  },
  {
   "cell_type": "markdown",
   "metadata": {},
   "source": [
    "# Task 2\n",
    "\n",
    "Extract data from within a Dictionary:"
   ]
  },
  {
   "cell_type": "markdown",
   "metadata": {},
   "source": [
    "# a: List comprehension"
   ]
  },
  {
   "cell_type": "code",
   "execution_count": null,
   "metadata": {},
   "outputs": [],
   "source": [
    "def how_many_pets_of_this_type_person_has(person_info, searched_pet_type):\n",
    "    #     your code here\n",
    "    return \"banana\""
   ]
  },
  {
   "cell_type": "code",
   "execution_count": null,
   "metadata": {},
   "outputs": [],
   "source": [
    "prianka = {'name':'Prianka', 'surname':'Mathews', 'pets': ['fish', 'tortoise','dog']}\n",
    "print(how_many_pets_of_this_type_person_has(prianka, \"fish\"))"
   ]
  },
  {
   "cell_type": "code",
   "execution_count": null,
   "metadata": {},
   "outputs": [],
   "source": [
    "prianka = {'name':'Prianka', 'surname':'Mathews', 'pets': ['fish', 'tortoise','dog']}\n",
    "natasha = {'name':'Natasha', 'surname':'McColl', 'pets': ['cat','cat']}\n",
    "\n",
    "assert how_many_pets_of_this_type_person_has(prianka, \"fish\") == 1\n",
    "assert how_many_pets_of_this_type_person_has(prianka, \"cat\") == 0\n",
    "\n",
    "assert how_many_pets_of_this_type_person_has(natasha, \"cat\") == 2\n",
    "print(\"all tests passed\")"
   ]
  },
  {
   "cell_type": "markdown",
   "metadata": {},
   "source": [
    "# b: For Loop"
   ]
  },
  {
   "cell_type": "code",
   "execution_count": null,
   "metadata": {},
   "outputs": [],
   "source": [
    "def how_many_pets_of_this_type_person_has(person_info, searched_pet_type):\n",
    "\n",
    "    return \"banana\""
   ]
  },
  {
   "cell_type": "code",
   "execution_count": null,
   "metadata": {},
   "outputs": [],
   "source": [
    "prianka = {'name':'Prianka', 'surname':'Mathews', 'pets': ['fish', 'tortoise','dog']}\n",
    "print(how_many_pets_of_this_type_person_has(prianka, \"fish\"))"
   ]
  },
  {
   "cell_type": "code",
   "execution_count": null,
   "metadata": {},
   "outputs": [],
   "source": [
    "prianka = {'name':'Prianka', 'surname':'Mathews', 'pets': ['fish', 'tortoise','dog']}\n",
    "natasha = {'name':'Natasha', 'surname':'McColl', 'pets': ['cat','cat']}\n",
    "\n",
    "assert how_many_pets_of_this_type_person_has(prianka, \"fish\") == 1\n",
    "assert how_many_pets_of_this_type_person_has(prianka, \"cat\") == 0\n",
    "\n",
    "assert how_many_pets_of_this_type_person_has(natasha, \"cat\") == 2\n",
    "print(\"all tests passed\")"
   ]
  },
  {
   "cell_type": "markdown",
   "metadata": {},
   "source": [
    "# Task 3\n",
    "\n",
    "Extract information from a list of Dictionaries"
   ]
  },
  {
   "cell_type": "markdown",
   "metadata": {},
   "source": [
    "# a: List comprehension"
   ]
  },
  {
   "cell_type": "code",
   "execution_count": null,
   "metadata": {},
   "outputs": [],
   "source": [
    "def names_of_people_with_any_pets(people):\n",
    "    #     your code here\n",
    "    return \"banana\""
   ]
  },
  {
   "cell_type": "code",
   "execution_count": null,
   "metadata": {},
   "outputs": [],
   "source": [
    "students = [{'name':'Prianka', 'surname':'Mathews', 'pets': ['fish', 'tortoise','cat']},\n",
    "            {'name':'Natasha', 'surname':'McColl', 'pets': ['dog']},\n",
    "            {'name':'Yola', 'surname':'Gonzales', 'pets': []}]\n",
    "print(names_of_people_with_any_pets(students))"
   ]
  },
  {
   "cell_type": "code",
   "execution_count": null,
   "metadata": {},
   "outputs": [],
   "source": [
    "students = [{'name':'Prianka', 'surname':'Mathews', 'pets': ['fish', 'tortoise','cat']},\n",
    "            {'name':'Natasha', 'surname':'McColl', 'pets': ['dog']},\n",
    "            {'name':'Yola', 'surname':'Gonzales', 'pets': []}]\n",
    "\n",
    "staff =    [{'name':'Mick', 'surname':'Gonzales', 'pets': []},\n",
    "            {'name':'Pim', 'surname':'Kowalska', 'pets': ['cat', 'ferret']}]\n",
    "\n",
    "assert names_of_people_with_any_pets(students) == ['Prianka', 'Natasha']\n",
    "assert names_of_people_with_any_pets(staff) == ['Pim']\n",
    "print(\"all tests passed\")"
   ]
  },
  {
   "cell_type": "markdown",
   "metadata": {},
   "source": [
    "# b: For Loop"
   ]
  },
  {
   "cell_type": "code",
   "execution_count": null,
   "metadata": {},
   "outputs": [],
   "source": [
    "def names_of_people_with_any_pets(people):\n",
    "    #     your code here\n",
    "    return \"banana\""
   ]
  },
  {
   "cell_type": "code",
   "execution_count": null,
   "metadata": {},
   "outputs": [],
   "source": [
    "students = [{'name':'Prianka', 'surname':'Mathews', 'pets': ['fish', 'tortoise','cat']},\n",
    "            {'name':'Natasha', 'surname':'McColl', 'pets': ['dog']},\n",
    "            {'name':'Yola', 'surname':'Gonzales', 'pets': []}]\n",
    "print(names_of_people_with_any_pets(students))"
   ]
  },
  {
   "cell_type": "code",
   "execution_count": null,
   "metadata": {},
   "outputs": [],
   "source": [
    "students = [{'name':'Prianka', 'surname':'Mathews', 'pets': ['fish', 'tortoise','cat']},\n",
    "            {'name':'Natasha', 'surname':'McColl', 'pets': ['dog']},\n",
    "            {'name':'Yola', 'surname':'Gonzales', 'pets': []}]\n",
    "\n",
    "staff =    [{'name':'Mick', 'surname':'Gonzales', 'pets': []},\n",
    "            {'name':'Pim', 'surname':'Kowalska', 'pets': ['cat', 'ferret']}]\n",
    "\n",
    "assert names_of_people_with_any_pets(students) == ['Prianka', 'Natasha']\n",
    "assert names_of_people_with_any_pets(staff) == ['Pim']\n",
    "print(\"all tests passed\")"
   ]
  },
  {
   "cell_type": "markdown",
   "metadata": {},
   "source": [
    "# Task 4\n",
    "\n",
    "Perform operation on list of Dictionaries on some info extracted from another Dictionary"
   ]
  },
  {
   "cell_type": "markdown",
   "metadata": {},
   "source": [
    "# a: List comprehension"
   ]
  },
  {
   "cell_type": "code",
   "execution_count": null,
   "metadata": {},
   "outputs": [],
   "source": [
    "def number_people_with_same_surname_as(people, person_with_surname):\n",
    "    #     your code here\n",
    "    return \"banana\""
   ]
  },
  {
   "cell_type": "code",
   "execution_count": null,
   "metadata": {},
   "outputs": [],
   "source": [
    "students = [{'name':'Prianka', 'surname':'Mathews', 'pets': ['fish', 'tortoise','cat']},\n",
    "            {'name':'Natasha', 'surname':'McColl', 'pets': ['dog']},\n",
    "            {'name':'Yola', 'surname':'Gonzales', 'pets': []}]\n",
    "person_of_interest = {'name':'Misha', 'surname':'Gonzales'}\n",
    "\n",
    "print(number_people_with_same_surname_as(students, person_of_interest))"
   ]
  },
  {
   "cell_type": "code",
   "execution_count": null,
   "metadata": {},
   "outputs": [],
   "source": [
    "students = [{'name':'Prianka', 'surname':'Mathews', 'pets': ['fish', 'tortoise','cat']},\n",
    "            {'name':'Natasha', 'surname':'McColl', 'pets': ['dog']},\n",
    "            {'name':'Yola', 'surname':'Gonzales', 'pets': []},\n",
    "            {'name':'Mick', 'surname':'Gonzales', 'pets': []},\n",
    "            {'name':'Pim', 'surname':'Kowalska', 'pets': ['cat', 'ferret']}]\n",
    "\n",
    "person_of_interest = {'name':'Misha', 'surname':'Gonzales', 'pets': []}\n",
    "person_of_interest2 = {'name':'Elena', 'surname':'Kowalska', 'pets': []}\n",
    "person_of_interest3 = {'name':'Jo', 'surname':'Mitchigan', 'pets': []}\n",
    "\n",
    "\n",
    "assert number_people_with_same_surname_as(students, person_of_interest) == 2\n",
    "assert number_people_with_same_surname_as(students, person_of_interest2) == 1\n",
    "assert number_people_with_same_surname_as(students, person_of_interest3) == 0\n",
    "print(\"all tests passed\")"
   ]
  },
  {
   "cell_type": "markdown",
   "metadata": {},
   "source": [
    "# b: For Loop"
   ]
  },
  {
   "cell_type": "code",
   "execution_count": null,
   "metadata": {},
   "outputs": [],
   "source": [
    "def number_people_with_same_surname_as(people, person_with_surname):\n",
    "    #     your code here\n",
    "    return \"banana\""
   ]
  },
  {
   "cell_type": "code",
   "execution_count": null,
   "metadata": {},
   "outputs": [],
   "source": [
    "students = [{'name':'Prianka', 'surname':'Mathews', 'pets': ['fish', 'tortoise','cat']},\n",
    "            {'name':'Natasha', 'surname':'McColl', 'pets': ['dog']},\n",
    "            {'name':'Yola', 'surname':'Gonzales', 'pets': []}]\n",
    "person_of_interest = {'name':'Misha', 'surname':'Gonzales'}\n",
    "\n",
    "print(number_people_with_same_surname_as(students, person_of_interest))"
   ]
  },
  {
   "cell_type": "code",
   "execution_count": null,
   "metadata": {},
   "outputs": [],
   "source": [
    "students = [{'name':'Prianka', 'surname':'Mathews', 'pets': ['fish', 'tortoise','cat']},\n",
    "            {'name':'Natasha', 'surname':'McColl', 'pets': ['dog']},\n",
    "            {'name':'Yola', 'surname':'Gonzales', 'pets': []},\n",
    "            {'name':'Mick', 'surname':'Gonzales', 'pets': []},\n",
    "            {'name':'Pim', 'surname':'Kowalska', 'pets': ['cat', 'ferret']}]\n",
    "\n",
    "person_of_interest = {'name':'Misha', 'surname':'Gonzales', 'pets': []}\n",
    "person_of_interest2 = {'name':'Elena', 'surname':'Kowalska', 'pets': []}\n",
    "person_of_interest3 = {'name':'Jo', 'surname':'Mitchigan', 'pets': []}\n",
    "\n",
    "\n",
    "assert number_people_with_same_surname_as(students, person_of_interest) == 2\n",
    "assert number_people_with_same_surname_as(students, person_of_interest2) == 1\n",
    "assert number_people_with_same_surname_as(students, person_of_interest3) == 0\n",
    "print(\"all tests passed\")"
   ]
  },
  {
   "cell_type": "markdown",
   "metadata": {},
   "source": [
    "# Task 5\n",
    "\n",
    "Complex operation on a list of Dictionaries, based on a value from a Dictionary.\n",
    "\n",
    "Here we will use the idea of a deck of playing cards. Each card has a suit (♠️♣️♥️♦️) and a rank (2,3,4,5... 9,J,Q,K,A). You will be given some cards and asked to do something with them.\n",
    "\n",
    "Each card is described as a Dictionary, so for example Ace of spades is described as `{\"suit\":\"Spade\", \"rank\":\"A\"}`\n"
   ]
  },
  {
   "cell_type": "markdown",
   "metadata": {},
   "source": [
    "# a: List comprehension"
   ]
  },
  {
   "cell_type": "code",
   "execution_count": null,
   "metadata": {},
   "outputs": [],
   "source": [
    "def number_of_cards_of_this_suit(cards, some_suit):\n",
    "    # YOUR CODE GOES HERE\n",
    "    return \"banana\"\n"
   ]
  },
  {
   "cell_type": "code",
   "execution_count": null,
   "metadata": {},
   "outputs": [],
   "source": [
    "cards = [{\"suit\":\"Heart\", \"rank\":\"7\"}, \n",
    "         {\"suit\":\"Heart\", \"rank\":\"8\"},\n",
    "         {\"suit\":\"Club\", \"rank\":\"Q\"}]\n",
    "print(number_of_cards_of_this_suit(cards, \"Heart\"))"
   ]
  },
  {
   "cell_type": "code",
   "execution_count": null,
   "metadata": {},
   "outputs": [],
   "source": [
    "h7 = {\"suit\":\"Heart\", \"rank\":\"7\"}\n",
    "h8 = {\"suit\":\"Heart\", \"rank\":\"8\"}\n",
    "cq = {\"suit\":\"Club\", \"rank\":\"Q\"}\n",
    "ca = {\"suit\":\"Club\", \"rank\":\"A\"}\n",
    "c2 = {\"suit\":\"Club\", \"rank\":\"2\"}\n",
    "d7 = {\"suit\":\"Diamond\", \"rank\":\"7\"}\n",
    "\n",
    "some_cards = [h7,h8,cq,ca,c2,d7] \n",
    "# notice, we could spell out all the cards, but we can also define them in variables \n",
    "\n",
    "assert  number_of_cards_of_this_suit(some_cards, \"Heart\") == 2\n",
    "assert  number_of_cards_of_this_suit(some_cards, \"Diamond\") == 1\n",
    "assert  number_of_cards_of_this_suit(some_cards, \"Spade\") == 0\n",
    "print(\"all tests passed\")"
   ]
  },
  {
   "cell_type": "markdown",
   "metadata": {},
   "source": [
    "# b: For Loop"
   ]
  },
  {
   "cell_type": "code",
   "execution_count": null,
   "metadata": {},
   "outputs": [],
   "source": [
    "def number_of_cards_of_this_suit(cards, some_suit):\n",
    "    # YOUR CODE GOES HERE\n",
    "    return \"banana\"\n"
   ]
  },
  {
   "cell_type": "code",
   "execution_count": null,
   "metadata": {},
   "outputs": [],
   "source": [
    "cards = [{\"suit\":\"Heart\", \"rank\":\"7\"}, \n",
    "         {\"suit\":\"Heart\", \"rank\":\"8\"},\n",
    "         {\"suit\":\"Club\", \"rank\":\"Q\"}]\n",
    "print(number_of_cards_of_this_suit(cards, \"Heart\"))"
   ]
  },
  {
   "cell_type": "code",
   "execution_count": null,
   "metadata": {},
   "outputs": [],
   "source": [
    "h7 = {\"suit\":\"Heart\", \"rank\":\"7\"}\n",
    "h8 = {\"suit\":\"Heart\", \"rank\":\"8\"}\n",
    "cq = {\"suit\":\"Club\", \"rank\":\"Q\"}\n",
    "ca = {\"suit\":\"Club\", \"rank\":\"A\"}\n",
    "c2 = {\"suit\":\"Club\", \"rank\":\"2\"}\n",
    "d7 = {\"suit\":\"Diamond\", \"rank\":\"7\"}\n",
    "\n",
    "some_cards = [h7,h8,cq,ca,c2,d7] \n",
    "\n",
    "assert  number_of_cards_of_this_suit(some_cards, \"Heart\") == 2\n",
    "assert  number_of_cards_of_this_suit(some_cards, \"Diamond\") == 1\n",
    "assert  number_of_cards_of_this_suit(some_cards, \"Spade\") == 0\n",
    "print(\"all tests passed\")"
   ]
  },
  {
   "cell_type": "markdown",
   "metadata": {},
   "source": [
    "# Task 6\n",
    "\n",
    "Combining everything above. Take a careful look at tests to understand what you need to do."
   ]
  },
  {
   "cell_type": "markdown",
   "metadata": {},
   "source": [
    "# a: List comprehension"
   ]
  },
  {
   "cell_type": "code",
   "execution_count": null,
   "metadata": {},
   "outputs": [],
   "source": [
    "def are_any_cards_same_rank_as_searched_card(cards, searched_card):\n",
    "    # YOUR CODE GOES HERE\n",
    "    return \"banana\"\n"
   ]
  },
  {
   "cell_type": "code",
   "execution_count": null,
   "metadata": {},
   "outputs": [],
   "source": [
    "some_cards = [{\"suit\":\"Heart\", \"rank\":\"7\"}, \n",
    "         {\"suit\":\"Heart\", \"rank\":\"8\"},\n",
    "         {\"suit\":\"Club\", \"rank\":\"Q\"}]\n",
    "lucky_card = {\"suit\":\"Club\", \"rank\":\"8\"}\n",
    "\n",
    "print(are_any_cards_same_rank_as_searched_card(some_cards, lucky_card))"
   ]
  },
  {
   "cell_type": "code",
   "execution_count": null,
   "metadata": {},
   "outputs": [],
   "source": [
    "h7 = {\"suit\":\"Heart\", \"rank\":\"7\"}\n",
    "h8 = {\"suit\":\"Heart\", \"rank\":\"8\"}\n",
    "cq = {\"suit\":\"Club\", \"rank\":\"Q\"}\n",
    "ca = {\"suit\":\"Club\", \"rank\":\"A\"}\n",
    "c2 = {\"suit\":\"Club\", \"rank\":\"2\"}\n",
    "d7 = {\"suit\":\"Diamond\", \"rank\":\"7\"}\n",
    "\n",
    "all_cards = [h7,h8,cq,ca,c2,d7] \n",
    "# notice, we could spell out all the cards again,\n",
    "# but this is more DRY\n",
    "\n",
    "lucky_card = {\"suit\":\"Club\", \"rank\":\"8\"}\n",
    "unlucky_card = {\"suit\":\"Diamond\", \"rank\":\"3\"}\n",
    "\n",
    "assert  are_any_cards_same_rank_as_searched_card(all_cards, lucky_card) == True\n",
    "assert  are_any_cards_same_rank_as_searched_card(all_cards, unlucky_card) == False\n",
    "assert  are_any_cards_same_rank_as_searched_card([h7,c2,d7], lucky_card) == False\n",
    "print(\"all tests passed\")"
   ]
  },
  {
   "cell_type": "markdown",
   "metadata": {},
   "source": [
    "# b: For Loop"
   ]
  },
  {
   "cell_type": "code",
   "execution_count": null,
   "metadata": {},
   "outputs": [],
   "source": [
    "def are_any_cards_same_rank_as_searched_card(cards, searched_card):\n",
    "    # YOUR CODE GOES HERE\n",
    "    return \"banana\"\n"
   ]
  },
  {
   "cell_type": "code",
   "execution_count": null,
   "metadata": {},
   "outputs": [],
   "source": [
    "some_cards = [{\"suit\":\"Heart\", \"rank\":\"7\"}, \n",
    "         {\"suit\":\"Heart\", \"rank\":\"8\"},\n",
    "         {\"suit\":\"Club\", \"rank\":\"Q\"}]\n",
    "lucky_card = {\"suit\":\"Club\", \"rank\":\"8\"}\n",
    "\n",
    "print(are_any_cards_same_rank_as_searched_card(some_cards, lucky_card))"
   ]
  },
  {
   "cell_type": "code",
   "execution_count": null,
   "metadata": {},
   "outputs": [],
   "source": [
    "h7 = {\"suit\":\"Heart\", \"rank\":\"7\"}\n",
    "h8 = {\"suit\":\"Heart\", \"rank\":\"8\"}\n",
    "cq = {\"suit\":\"Club\", \"rank\":\"Q\"}\n",
    "ca = {\"suit\":\"Club\", \"rank\":\"A\"}\n",
    "c2 = {\"suit\":\"Club\", \"rank\":\"2\"}\n",
    "d7 = {\"suit\":\"Diamond\", \"rank\":\"7\"}\n",
    "\n",
    "all_cards = [h7,h8,cq,ca,c2,d7] \n",
    "\n",
    "lucky_card = {\"suit\":\"Club\", \"rank\":\"8\"}\n",
    "unlucky_card = {\"suit\":\"Club\", \"rank\":\"9\"}\n",
    "\n",
    "assert  are_any_cards_same_rank_as_searched_card(all_cards, lucky_card) == True\n",
    "assert  are_any_cards_same_rank_as_searched_card(all_cards, unlucky_card) == False\n",
    "assert  are_any_cards_same_rank_as_searched_card([h7,c2,d7], lucky_card) == False\n",
    "print(\"all tests passed\")"
   ]
  },
  {
   "cell_type": "markdown",
   "metadata": {},
   "source": [
    "# DECISION TIME!\n",
    "\n",
    "# In next tasks the choice is yours: \n",
    "\n",
    "# do it with a List Comp or For Loop.\n",
    "\n",
    "# Or both! (why not?)\n",
    "\n",
    "btw. Did you notice how often solution is much easier with a list comprehension? Some of the next tasks are picked so them might be much harder, or even impossible with a list comprehension!"
   ]
  },
  {
   "cell_type": "markdown",
   "metadata": {},
   "source": [
    "# Task 7"
   ]
  },
  {
   "cell_type": "code",
   "execution_count": null,
   "metadata": {},
   "outputs": [],
   "source": [
    "def does_list_have_that_many_of_this_item(a_list, how_many, what_item):\n",
    "    # YOUR CODE GOES HERE\n",
    "    return \"bananas\""
   ]
  },
  {
   "cell_type": "code",
   "execution_count": null,
   "metadata": {},
   "outputs": [],
   "source": [
    "print(does_list_have_that_many_of_this_item( [ \"d\",\"a\",\"a\",\"b\",\"c\"], 2, \"a\"))\n",
    "print(does_list_have_that_many_of_this_item( [ \"d\",\"a\",\"a\",\"b\",\"c\"], 3, \"b\"))"
   ]
  },
  {
   "cell_type": "code",
   "execution_count": null,
   "metadata": {},
   "outputs": [],
   "source": [
    "# one test to get you started, write at least 2 more\n",
    "letters = [ \"d\",\"a\",\"a\",\"b\",\"c\", \"a\",\"a\", \"c\"]\n",
    "\n",
    "assert does_list_have_that_many_of_this_item(letters, 4, \"a\") == True\n",
    "assert does_list_have_that_many_of_this_item(letters, 3, \"a\") == False\n",
    "assert does_list_have_that_many_of_this_item(letters, 5, \"a\") == False\n",
    "assert does_list_have_that_many_of_this_item(letters, 0, \"a\") == False\n",
    "assert does_list_have_that_many_of_this_item(letters, 1, \"b\") == True\n",
    "assert does_list_have_that_many_of_this_item(letters, 1, \"d\") == True\n",
    "assert does_list_have_that_many_of_this_item(letters, 1, \"x\") == False\n",
    "assert does_list_have_that_many_of_this_item(letters, 0, \"x\") == True\n",
    "print(\"all tests passed\")"
   ]
  },
  {
   "cell_type": "markdown",
   "metadata": {},
   "source": [
    "# Task 8 (Difficult - look at the answer if taking over 10 mins)\n",
    "\n",
    "Represent a list as a dictionary. Use list comp or for loop, or any other method that you can think of. (but NOT `from collections import Counter`).\n",
    "\n",
    "If you're working on this more than 10 minutes, have a look at the ANSWER below the tests (hidden in Blue fields)\n",
    "\n",
    "Also below are some hints:"
   ]
  },
  {
   "cell_type": "code",
   "execution_count": null,
   "metadata": {},
   "outputs": [],
   "source": [
    "# hint: to get unique set of values in a list, turn it into a set and back into list. you might loose order.\n",
    "fruits1 = [\"apple\",\"plum\", \"apple\", \"pear\", \"plum\",\"plum\"]\n",
    "unique_fruits = list(set(fruits1))\n",
    "print(unique_fruits)"
   ]
  },
  {
   "cell_type": "code",
   "execution_count": null,
   "metadata": {},
   "outputs": [],
   "source": [
    "# hint: you can count items in a list with .count()\n",
    "fruits1 = [\"apple\",\"plum\", \"apple\", \"pear\", \"plum\",\"plum\"]\n",
    "print(fruits1.count(\"apple\"))\n",
    "print(fruits1.count(\"kiwi\"))"
   ]
  },
  {
   "cell_type": "code",
   "execution_count": null,
   "metadata": {},
   "outputs": [],
   "source": [
    "# hint: inventory_of_fruits.get(\"apple\", 0)   will return the value in the key of \"apple\",\n",
    "# or 0 if there is no value in that key\n",
    "\n",
    "inventory_of_fruits = {'apple': 3, 'pear': 2}\n",
    "print(inventory_of_fruits.get(\"apple\", 0))\n",
    "print(inventory_of_fruits.get(\"kiwi\", 0))\n",
    "\n",
    "# while if you just use the ['kiwi'] notation you will get an error if the key does not exist\n",
    "print(inventory_of_fruits[\"kiwi\"])"
   ]
  },
  {
   "cell_type": "code",
   "execution_count": null,
   "metadata": {},
   "outputs": [],
   "source": [
    "# hint: how to turn a list of lists (each holding [key, value], into a dictionary\n",
    "a = ['name', 'Natasha']\n",
    "b = ['age', 20]\n",
    "c = ['favourite_color', 'yellow']\n",
    "things = [a,b,c]\n",
    "print(things)\n",
    "\n",
    "as_dictionary = dict(things)\n",
    "print(as_dictionary)"
   ]
  },
  {
   "cell_type": "code",
   "execution_count": null,
   "metadata": {},
   "outputs": [],
   "source": [
    "# note: remember that order in dicts does not matter, and that's ok\n",
    "# so this will pass: \n",
    "assert {'a':2, 'b': 1} == {'b': 1, 'a':2} "
   ]
  },
  {
   "cell_type": "code",
   "execution_count": null,
   "metadata": {},
   "outputs": [],
   "source": [
    "# ok, now it's time for a solution:\n",
    "\n",
    "def how_many_of_each_item_are_there(a_list):\n",
    "    # use for loop to solve this\n",
    "    # YOUR CODE GOES HERE\n",
    "    return \"bananas\"\n",
    "\n",
    "# first try to solve this 'on paper' and consider different options of doing it."
   ]
  },
  {
   "cell_type": "code",
   "execution_count": null,
   "metadata": {},
   "outputs": [],
   "source": [
    "fruits1 = [\"apple\",\"plum\", \"apple\", \"pear\", \"plum\",\"plum\"]\n",
    "print(how_many_of_each_item_are_there(fruits1))"
   ]
  },
  {
   "cell_type": "code",
   "execution_count": null,
   "metadata": {},
   "outputs": [],
   "source": [
    "fruits1 = [\"apple\",\"plum\", \"apple\", \"pear\", \"plum\",\"plum\"]\n",
    "assert how_many_of_each_item_are_there(fruits1) == {\"apple\": 2, \"pear\": 1, \"plum\": 3}\n",
    "\n",
    "fruits2 = [\"apple\",\"pear\", \"plum\"]\n",
    "assert how_many_of_each_item_are_there(fruits2) == {\"apple\": 1, \"pear\": 1, \"plum\": 1}\n",
    "\n",
    "\n",
    "fruits2 = [\"apple\",\"pear\", \"kiwi\", \"kiwi\", \"kiwi\", \"kiwi\"]\n",
    "assert how_many_of_each_item_are_there(fruits2) == {\"apple\": 1, \"pear\": 1, \"kiwi\": 4 }\n",
    "\n",
    "assert how_many_of_each_item_are_there([]) ==  {}\n",
    "print(\"all tests passed\")"
   ]
  },
  {
   "cell_type": "markdown",
   "metadata": {},
   "source": [
    "### CLICK HERE TO SEE THE THE ANSWER. DO NOT SPEND MORE THAN 10 MINS ON THIS TASK\n",
    "\n",
    "\n",
    "\n",
    "\n",
    "<details><summary style='color:blue'>SHOW ANSWER: FOR LOOP ANSWER</summary>\n",
    "    \n",
    "    ### BEGIN SOLUTION\n",
    "    counts = {}\n",
    "    for item in a_list:\n",
    "        previous_value_or_zero = counts.get(item, 0)\n",
    "        counts[item] = previous_value_or_zero + 1\n",
    "    return counts\n",
    "    ### END SOLUTION\n",
    "    \n",
    "</details>\n",
    "\n",
    "\n",
    "<details><summary style='color:blue'>SHOW ANSWER: LIST COMPREHENSION ANSWER, SUPER TRICKY</summary>\n",
    "    \n",
    "    ### BEGIN SOLUTION\n",
    "    values = [\n",
    "        [item, a_list.count(item)]\n",
    "        for item in set(a_list)\n",
    "    ]\n",
    "    \n",
    "    return dict(values)\n",
    "    ### END SOLUTION\n",
    "    \n",
    "</details>"
   ]
  },
  {
   "cell_type": "markdown",
   "metadata": {},
   "source": [
    "# Task 9\n",
    "\n",
    "Read the tests to see what yoou need to do"
   ]
  },
  {
   "cell_type": "code",
   "execution_count": null,
   "metadata": {},
   "outputs": [],
   "source": [
    "def return_just_city_names(city_list):\n",
    "    # use for loop to solve this\n",
    "    # YOUR CODE GOES HERE\n",
    "    return \"bananas\""
   ]
  },
  {
   "cell_type": "code",
   "execution_count": null,
   "metadata": {},
   "outputs": [],
   "source": [
    "cities1 = [  {\"name\":\"Edinburgh\",  \"population\":500000, \"area\":264},\n",
    "                 {\"name\":\"Glasgow\",  \"population\":600000, \"area\":175},\n",
    "                 {\"name\":\"Inverness\", \"population\":50000, \"area\":20}]\n",
    "\n",
    "print(return_just_city_names(cities1))"
   ]
  },
  {
   "cell_type": "code",
   "execution_count": null,
   "metadata": {},
   "outputs": [],
   "source": [
    "cities1 = [  {\"name\":\"Edinburgh\",  \"population\":500000, \"area\":264},\n",
    "                 {\"name\":\"Glasgow\",  \"population\":600000, \"area\":175},\n",
    "                 {\"name\":\"Inverness\", \"population\":50000, \"area\":20}]\n",
    "cities2 = [  {\"name\":\"Edinburgh\",  \"population\":500000, \"area\":264},\n",
    "            {\"name\":\"Edinburgh\",  \"population\":500000, \"area\":264}]  \n",
    "\n",
    "assert return_just_city_names(cities1) == [\"Edinburgh\" ,\"Glasgow\", \"Inverness\"]\n",
    "assert return_just_city_names(cities2) ==  [\"Edinburgh\" ,\"Edinburgh\"]\n",
    "assert return_just_city_names([]) == []\n",
    "print(\"all tests passed\")"
   ]
  },
  {
   "cell_type": "markdown",
   "metadata": {},
   "source": [
    "# Task 10\n",
    "\n",
    "Read the tests to see what yoou need to do"
   ]
  },
  {
   "cell_type": "code",
   "execution_count": null,
   "metadata": {},
   "outputs": [],
   "source": [
    "def return_city_names_with_density_lower_than(city_list, max_density):\n",
    "    # try to use use for loop to solve this\n",
    "    # note: density is population divided by area\n",
    "    # spoiler: densities are Edinburgh: 1893', Glasgow: 3428, Inverness 2500\n",
    "\n",
    "    # YOUR CODE GOES HERE\n",
    "     return \"banana\""
   ]
  },
  {
   "cell_type": "code",
   "execution_count": null,
   "metadata": {},
   "outputs": [],
   "source": [
    "cities1 = [  {\"name\":\"Edinburgh\",  \"population\":500000, \"area\":264},\n",
    "                 {\"name\":\"Glasgow\",  \"population\":600000, \"area\":175},\n",
    "                 {\"name\":\"Inverness\", \"population\":50000, \"area\":20}]\n",
    "\n",
    "print(return_city_names_with_density_lower_than(cities1, 3400) )"
   ]
  },
  {
   "cell_type": "code",
   "execution_count": null,
   "metadata": {},
   "outputs": [],
   "source": [
    "cities1 = [  {\"name\":\"Edinburgh\",  \"population\":500000, \"area\":264},\n",
    "                 {\"name\":\"Glasgow\",  \"population\":600000, \"area\":175},\n",
    "                 {\"name\":\"Inverness\", \"population\":50000, \"area\":20}]\n",
    "\n",
    "assert return_city_names_with_density_lower_than(cities1, 3500) == [\n",
    "    \"Edinburgh\" ,\"Glasgow\", \"Inverness\"]\n",
    "assert return_city_names_with_density_lower_than(cities1, 3400) ==  [\n",
    "    \"Edinburgh\" , \"Inverness\"]\n",
    "assert return_city_names_with_density_lower_than(cities1, 2000) ==  [\"Edinburgh\" ]\n",
    "assert return_city_names_with_density_lower_than(cities1, 1000) ==  [ ]\n",
    "assert return_city_names_with_density_lower_than([], 3500) == []\n",
    "print(\"all tests passed\")"
   ]
  },
  {
   "cell_type": "markdown",
   "metadata": {},
   "source": [
    "# Task 11\n",
    "\n",
    "Look at tests to understand what you are meant to do."
   ]
  },
  {
   "cell_type": "code",
   "execution_count": null,
   "metadata": {},
   "outputs": [],
   "source": [
    "def all_cities_as_sentences(city_list):\n",
    "    # YOUR CODE GOES HERE\n",
    "     return \"banana\""
   ]
  },
  {
   "cell_type": "code",
   "execution_count": null,
   "metadata": {},
   "outputs": [],
   "source": [
    "cities1 = [  {\"name\":\"Edinburgh\",  \"population\":500000, \"area\":264},\n",
    "                 {\"name\":\"Glasgow\",  \"population\":600000, \"area\":175},\n",
    "                 {\"name\":\"Inverness\", \"population\":50000, \"area\":20}]\n",
    "\n",
    "print(all_cities_as_sentences(cities1) )"
   ]
  },
  {
   "cell_type": "code",
   "execution_count": null,
   "metadata": {},
   "outputs": [],
   "source": [
    "cities1 = [  {\"name\":\"Edinburgh\",  \"population\":500000, \"area\":264},\n",
    "                 {\"name\":\"Glasgow\",  \"population\":600000, \"area\":175},\n",
    "                 {\"name\":\"Inverness\", \"population\":50000, \"area\":20}]\n",
    "list_with_one_city = [{\"name\":\"Inverness\", \"population\":50000, \"area\":20}]\n",
    "assert all_cities_as_sentences(cities1) == [\n",
    "    \"Edinburgh has 500000 inhabitants on the area of 264 km2\",\n",
    "    \"Glasgow has 600000 inhabitants on the area of 175 km2\",\n",
    "    \"Inverness has 50000 inhabitants on the area of 20 km2\"]\n",
    "\n",
    "assert all_cities_as_sentences(list_with_one_city) == [\n",
    "    \"Inverness has 50000 inhabitants on the area of 20 km2\"]\n",
    "\n",
    "print(\"all tests passed\")"
   ]
  },
  {
   "cell_type": "markdown",
   "metadata": {},
   "source": [
    "# Task  12 - Opening hours table\n",
    "\n",
    "Turn inromation about opening hours of a shop into a string and print it. See example below, but feel free to change it. Use string manipulation and loops to produce the type of sign you could see on the door of a shop"
   ]
  },
  {
   "cell_type": "code",
   "execution_count": null,
   "metadata": {},
   "outputs": [],
   "source": [
    "opening_hours = [{'day':'Monday', 'open': 9, 'close':18},\n",
    "                {'day':'Tuesday', 'open': 12, 'close':18},\n",
    "                {'day':'Wednesday'},\n",
    "                {'day':'Thursday', 'open': 9, 'close':18},\n",
    "                {'day':'Friday', 'open': 9, 'close':21},\n",
    "                {'day':'Saturday', 'open': 12, 'close':18},\n",
    "                {'day':'Sunday', 'open': 12, 'close':18}]\n",
    "\n",
    "# what are you going to do with days when they are closed? Remember you can always check for None with\n",
    "# if day_data.get('open') != None:"
   ]
  },
  {
   "cell_type": "code",
   "execution_count": null,
   "metadata": {},
   "outputs": [],
   "source": [
    "# hint:\n",
    "fruit = \"banana\"\n",
    "price = 62\n",
    "print(f\"___ price of {fruit:^15} is {price:>6}€ ___\")\n",
    "\n",
    "fruit = \"blackcurrant\"\n",
    "price = 230\n",
    "print(f\"___ price of {fruit:^15} is {price:>6}€ ___\")"
   ]
  },
  {
   "cell_type": "code",
   "execution_count": null,
   "metadata": {},
   "outputs": [],
   "source": [
    "def day_as_line_of_text(day_info):\n",
    "    # YOUR CODE GOES HERE\n",
    "     return \"banana\""
   ]
  },
  {
   "cell_type": "code",
   "execution_count": null,
   "metadata": {},
   "outputs": [],
   "source": [
    "import pprint as pp\n",
    "pp.pprint(day_as_line_of_text(opening_hours[0]))"
   ]
  },
  {
   "cell_type": "code",
   "execution_count": null,
   "metadata": {},
   "outputs": [],
   "source": [
    "assert day_as_line_of_text(opening_hours[0]) == \"**   Monday   **   9-18  **\"\n",
    "assert day_as_line_of_text(opening_hours[5]) == \"**  Saturday  **  12-18  **\"\n",
    "assert day_as_line_of_text(opening_hours[2]) == \"** Wednesday  ** CLOSED  **\""
   ]
  },
  {
   "cell_type": "code",
   "execution_count": null,
   "metadata": {},
   "outputs": [],
   "source": [
    "def week_as_lines_of_text(week_info):\n",
    "    # YOUR CODE GOES HERE\n",
    "     return \"banana\""
   ]
  },
  {
   "cell_type": "code",
   "execution_count": null,
   "metadata": {},
   "outputs": [],
   "source": [
    "pp.pprint(week_as_lines_of_text(opening_hours))"
   ]
  },
  {
   "cell_type": "code",
   "execution_count": null,
   "metadata": {},
   "outputs": [],
   "source": [
    "assert week_as_lines_of_text(opening_hours[0]) == [\"**   Monday   **   9-18  **\",\n",
    "                                                   \"**  Tuesday   **  12-18  **\",\n",
    "                                                   \"** Wednesday  ** CLOSED  **\",\n",
    "                                                   \"**  Thursday  **   9-18  **\",\n",
    "                                                   \"**   Friday   **   9-21  **\",\n",
    "                                                   \"**  Saturday  **  12-18  **\",\n",
    "                                                   \"**   Sunday   **  12-18  **\"]"
   ]
  },
  {
   "cell_type": "markdown",
   "metadata": {},
   "source": [
    "# Task 13: Difficult, Optional: 'Nested' or 'multi-dimentional' List Comp "
   ]
  },
  {
   "cell_type": "code",
   "execution_count": null,
   "metadata": {},
   "outputs": [],
   "source": [
    "# New thing: what if we want to dig deeper into a collection which holds a collection?\n",
    "meals = [\n",
    "    {'name': 'pasta', 'ingredients' : ['eggs', 'flour', 'water']},\n",
    "    {'name': 'humus', 'ingredients' : ['chickpeas', 'tahini', 'lemon', 'olive']},\n",
    "    {'name': 'guacamole', 'ingredients' : ['avocado', 'lime', 'garlic', 'salt', 'chilli']}\n",
    "]"
   ]
  },
  {
   "cell_type": "code",
   "execution_count": null,
   "metadata": {},
   "outputs": [],
   "source": [
    "# to get all ingredients, you'd have to:\n",
    "# in each meal, dive into each ingredient\n",
    "\n",
    "def all_ingredients(all_dishes):\n",
    "    return [\n",
    "        ingredient\n",
    "        for meal in all_dishes\n",
    "        for ingredient in meal['ingredients']\n",
    "    ]\n",
    "print(all_ingredients(meals))"
   ]
  },
  {
   "cell_type": "code",
   "execution_count": null,
   "metadata": {},
   "outputs": [],
   "source": [
    "# to get all ingredients, you'd have to:\n",
    "# in each meal, dive into each ingredient\n",
    "\n",
    "def ingredients_for_complicated_meals(all_dishes):\n",
    "    #     let's say a meal is complicates if it has 4 of more ingredients\n",
    "    return [\n",
    "        ingredient\n",
    "        for meal in all_dishes\n",
    "        for ingredient in meal['ingredients']\n",
    "        if len(meal['ingredients']) > 3\n",
    "    ]\n",
    "\n",
    "print(ingredients_for_complicated_meals(meals))"
   ]
  },
  {
   "cell_type": "code",
   "execution_count": null,
   "metadata": {},
   "outputs": [],
   "source": [
    "def meal_names_without_these(all_dishes, forbidden_ingredient, forbindden_meal):\n",
    "    return [\n",
    "        meal['name']\n",
    "        for meal in meals\n",
    "        for ingredient in meal['ingredients']\n",
    "        if meal['name'] != forbindden_meal and ingredient != forbidden_ingredient\n",
    "    ]\n",
    "print(meal_names_without_these(meals, \"salt\", \"pasta\"))\n",
    "\n",
    "# do you see what is really odd about below print? Can you guess why?"
   ]
  },
  {
   "cell_type": "code",
   "execution_count": null,
   "metadata": {},
   "outputs": [],
   "source": [
    "# now your turn\n",
    "\n",
    "def get_all_pets(people):\n",
    "\n",
    "    return 'banana'"
   ]
  },
  {
   "cell_type": "code",
   "execution_count": null,
   "metadata": {},
   "outputs": [],
   "source": [
    "students = [{'name':'Prianka', 'surname':'Mathews', 'pets': ['fish', 'tortoise','cat']},\n",
    "            {'name':'Natasha', 'surname':'McColl', 'pets': ['dog']}]\n",
    "\n",
    "print(get_all_pets(students))"
   ]
  },
  {
   "cell_type": "code",
   "execution_count": null,
   "metadata": {},
   "outputs": [],
   "source": [
    "students = [{'name':'Prianka', 'surname':'Mathews', 'pets': ['fish', 'tortoise','cat']},\n",
    "            {'name':'Natasha', 'surname':'McColl', 'pets': ['dog']},\n",
    "            {'name':'Yola', 'surname':'Gonzales', 'pets': []},\n",
    "            {'name':'Pim', 'surname':'Kowalska', 'pets': ['cat', 'ferret']}]\n",
    "\n",
    "\n",
    "\n",
    "assert get_all_pets(students) == ['fish', 'tortoise','cat', 'dog', 'cat', 'ferret']\n",
    "print(\"all tests passed\")"
   ]
  },
  {
   "cell_type": "code",
   "execution_count": null,
   "metadata": {},
   "outputs": [],
   "source": []
  },
  {
   "cell_type": "code",
   "execution_count": null,
   "metadata": {},
   "outputs": [],
   "source": []
  },
  {
   "cell_type": "markdown",
   "metadata": {},
   "source": [
    "# Task 14 - Extra: Flight timetables (rather hard)\n",
    "\n",
    "Use a below fights data from flights API to produce departures timetable for Edinburgh Airport. \n",
    "\n",
    "This is a snapshot in time of airpllane departures, rather than a live API call. Run the cell on the bottom, once to 'load' the data, then come back here to write yoru solutions.\n",
    "\n",
    "### But what is the task? \n",
    "\n",
    "Well, the task / tasks are up to you: look at the data and try to do something useful with them. Maybe you can print it in a meaningful way, or answer a business question abotu the planes or air travel.\n",
    "\n",
    "Eg. How about a CO2 emissions calculator? You can assume an hour of flight uses 0.25 tonne of CO2."
   ]
  },
  {
   "cell_type": "code",
   "execution_count": null,
   "metadata": {},
   "outputs": [],
   "source": [
    "# run this cell once to load the data variable. \n",
    "import json\n",
    "import pprint as pp\n",
    "\n",
    "file = open('./data/flight_data_b11.json')\n",
    "departures_from_edinburgh =  json.load(file)\n",
    "file.close()\n",
    "pp.pprint(departures_from_edinburgh)"
   ]
  },
  {
   "cell_type": "code",
   "execution_count": null,
   "metadata": {},
   "outputs": [],
   "source": [
    "# you can write your solutions here:\n",
    "\n"
   ]
  },
  {
   "cell_type": "code",
   "execution_count": null,
   "metadata": {},
   "outputs": [],
   "source": []
  },
  {
   "cell_type": "code",
   "execution_count": null,
   "metadata": {},
   "outputs": [],
   "source": []
  },
  {
   "cell_type": "code",
   "execution_count": null,
   "metadata": {},
   "outputs": [],
   "source": []
  },
  {
   "cell_type": "code",
   "execution_count": null,
   "metadata": {},
   "outputs": [],
   "source": []
  },
  {
   "cell_type": "markdown",
   "metadata": {},
   "source": [
    "### For now you are given the flight data from a particular moment in time, but if later you want to get LIVE airplane data, this is how you coudl do it:\n",
    "\n",
    "If your like to get live airplane data, **LATER! NOT NOW!** you can get your own data, but it requires a free api key: https://aviationstack.com/documentation\n",
    "\n",
    "Note: you do not need to get the data yourself, I have pasted them below!\n",
    "\n",
    "Data was fetched on 21 Oct 2020 2pm, so you might have to 'pretend' that's the 'time now'.\n",
    "\n",
    "For people who want to talk to the actual live API: all their examples on the website connect you to **https**://aviat... but you want to modify them to go to  **http**://aviat....  (THE 'S' IS GONE) (using https is a paid feature)"
   ]
  },
  {
   "cell_type": "code",
   "execution_count": null,
   "metadata": {},
   "outputs": [],
   "source": []
  }
 ],
 "metadata": {
  "kernelspec": {
   "display_name": "Python 3 (ipykernel)",
   "language": "python",
   "name": "python3"
  },
  "language_info": {
   "codemirror_mode": {
    "name": "ipython",
    "version": 3
   },
   "file_extension": ".py",
   "mimetype": "text/x-python",
   "name": "python",
   "nbconvert_exporter": "python",
   "pygments_lexer": "ipython3",
   "version": "3.9.7"
  }
 },
 "nbformat": 4,
 "nbformat_minor": 2
}
