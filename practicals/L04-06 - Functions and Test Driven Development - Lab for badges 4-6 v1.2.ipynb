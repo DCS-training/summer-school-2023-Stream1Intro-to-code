{
 "cells": [
  {
   "cell_type": "code",
   "execution_count": 1,
   "metadata": {},
   "outputs": [
    {
     "data": {
      "text/html": [
       "<style>.container { width:100% !important; }</style>"
      ],
      "text/plain": [
       "<IPython.core.display.HTML object>"
      ]
     },
     "metadata": {},
     "output_type": "display_data"
    }
   ],
   "source": [
    "# experimental: you can run this cell to see your code full-width\n",
    "from IPython.display import display, HTML\n",
    "display(HTML(\"<style>.container { width:100% !important; }</style>\"))"
   ]
  },
  {
   "cell_type": "markdown",
   "metadata": {},
   "source": [
    "# Test Driven Development: Lab\n",
    "\n",
    "This lab follows directly from badge 6. If you have not done that badge, you will struggle a bit.\n",
    "\n",
    "## How labs will work: \n",
    "\n",
    "## 1. Read the Challenge \n",
    "## 2. Write a broken/silly/'banana' solution (if there isn't one yet)\n",
    "## 3. Watch the test Fail\n",
    "## 4. Write the solution\n",
    "## 5. Watch the test Pass\n"
   ]
  },
  {
   "cell_type": "markdown",
   "metadata": {},
   "source": [
    "In the labs you will work in pairs on solving programming challanges.\n",
    "\n",
    "Each challange will include \n",
    "\n",
    "- a description (what are you ment to do). Usually with a documentation in \"\"\" brackets\n",
    "- incomplete solution (some code to get you started)\n",
    "- tests (snippets of code that will tell you how correct your code is).\n",
    "\n",
    "TOP TIPS:\n",
    "- Shift+Enter will RUN the current code cell (the one that's highlighted).\n",
    "- if you need to add another cell (eg to write your own tests),  in top menu go Insert > Insert Cell, or use the big **+** icon in top left. "
   ]
  },
  {
   "cell_type": "markdown",
   "metadata": {},
   "source": [
    "### TASK 1 - Continuation from Badge 6"
   ]
  },
  {
   "cell_type": "markdown",
   "metadata": {},
   "source": [
    "Write a function largest(n1,n2,n3) that takes three numbers and returns the largest one. Use conditional logic to make it work (Please do not use the Python's built-in max() function. That's cheating :) ) "
   ]
  },
  {
   "cell_type": "code",
   "execution_count": null,
   "metadata": {},
   "outputs": [],
   "source": [
    "# your solution\n",
    "def largest(n1,n2,n3):\n",
    "    # your solution start  here\n",
    "    largest = \"banana\"\n",
    "    # your solution end here\n",
    "    return largest"
   ]
  },
  {
   "cell_type": "code",
   "execution_count": null,
   "metadata": {},
   "outputs": [],
   "source": [
    "# see it work. \n",
    "# (if a particular test does not work, it's a good idea to 'print' the scenario that fails)\n",
    "print( largest(3,4,5) )"
   ]
  },
  {
   "cell_type": "code",
   "execution_count": null,
   "metadata": {},
   "outputs": [],
   "source": [
    "# your tests here:\n",
    "assert largest(3,4,5) == 3\n",
    "print(\"tests passed\")"
   ]
  },
  {
   "cell_type": "code",
   "execution_count": null,
   "metadata": {},
   "outputs": [],
   "source": [
    "# your tests here:\n",
    "assert largest(?,?,?) == ? #make these a real test, put some real numbers where ? are\n",
    "assert largest(?,?,?) == ? \n",
    "assert largest(?,?,?) == ?\n",
    "print(\"tests passed\")"
   ]
  },
  {
   "cell_type": "markdown",
   "metadata": {},
   "source": [
    "### TASK 2 - Write a function in_order(n1,n2,n3,n4)\n",
    "\n",
    "### Remember the process:\n",
    "\n",
    "1. first write an obviously bad solution, \n",
    "2. then write tests (and see those tests fail), \n",
    "3. then adjust your solution to make tests pass"
   ]
  },
  {
   "cell_type": "markdown",
   "metadata": {},
   "source": [
    "Write a function in_order(n1,n2,n3,n4) that takes four numbers and returns True if they are in order from the smallest to largest. And return False, if they are not. Use if statements, like above, to solve this.\n",
    "\n",
    "When you write tests, decide yourself what should happen when some numbers are repeated, eg in_order(1,2,2,3). Write tests that explain what your expected behaviour is."
   ]
  },
  {
   "cell_type": "code",
   "execution_count": null,
   "metadata": {},
   "outputs": [],
   "source": [
    "# your solution"
   ]
  },
  {
   "cell_type": "code",
   "execution_count": null,
   "metadata": {},
   "outputs": [],
   "source": [
    "# your tests here: (write at least 4 different tests)"
   ]
  },
  {
   "cell_type": "markdown",
   "metadata": {},
   "source": [
    "### TASK 3 - Write a function are_words_unique(w1,w2)\n",
    "\n",
    "### Remember the process:\n",
    "\n",
    "1. first write an obviously bad solution, \n",
    "2. then write tests (and see those tests fail), \n",
    "3. then adjust your solution to make tests pass"
   ]
  },
  {
   "cell_type": "markdown",
   "metadata": {},
   "source": [
    "Write a function are_words_unique(w1,w2) that takes two words and returns True if they are different from each other.\n",
    "\n",
    "When you write your tests, remember that \"banana\" and \"BAnaNA\" are unique words ( Python is case-sensitive, so it will think they are differen from each other)."
   ]
  },
  {
   "cell_type": "code",
   "execution_count": null,
   "metadata": {},
   "outputs": [],
   "source": [
    "# your solution (write a broken one first, then write tests, then come back here)"
   ]
  },
  {
   "cell_type": "code",
   "execution_count": null,
   "metadata": {},
   "outputs": [],
   "source": [
    "# your tests here (write at least 4)"
   ]
  },
  {
   "cell_type": "markdown",
   "metadata": {},
   "source": [
    "### PRE-TASK 4:\n",
    "\n",
    "### Before you work on the task 4, here is a new useful trick: String's build in functions/methods\n",
    "\n",
    "Many objects in Python come with some 'hidden features' called methods (or functions). String (i.e. some words enclosed in a \"quotes\") have loads of those methods.\n",
    "\n",
    "To run a method of a string, you need to take that string, then place a . (full stop) right after it, and then write the name of a function, ending with brackets (). Like this:"
   ]
  },
  {
   "cell_type": "code",
   "execution_count": null,
   "metadata": {},
   "outputs": [],
   "source": [
    "print( \"banana is a fruit\".title() )\n",
    "print( \"banana is a fruit\".upper() )\n",
    "#look at what it printed. Do you know why?"
   ]
  },
  {
   "cell_type": "code",
   "execution_count": null,
   "metadata": {},
   "outputs": [],
   "source": [
    "# You can use auto-complete to see all the possible options. Right after writing the . press Tab key and wait\n",
    "print( \"banana is a fruit\".   )\n",
    "# above, put your cursosn right after the . and press tab, you should see a list of options.\n",
    "# remember to add () at the end\n",
    "# try to pick a method .lower() from the dropdown.\n",
    "# And don't worry if you do not see a dropdown. Just continue with the notebook."
   ]
  },
  {
   "cell_type": "markdown",
   "metadata": {},
   "source": [
    "We will learn more about string functions in next block, but below is a simple example."
   ]
  },
  {
   "cell_type": "code",
   "execution_count": null,
   "metadata": {},
   "outputs": [],
   "source": [
    "# string methods can be used on string directly, or on the variable that holds the string\n",
    "fruit = \"BAnanA\"\n",
    "print(fruit)\n",
    "print(fruit.lower())\n",
    "print(\"KiWi\".lower())\n",
    "#look at what it printed. Do you know why?"
   ]
  },
  {
   "cell_type": "code",
   "execution_count": null,
   "metadata": {},
   "outputs": [],
   "source": [
    "# notice that running a the method on a string will RETURN a result, but not actually change the string\n",
    "\n",
    "fruit = \"BAnanA\"\n",
    "print(fruit.lower())\n",
    "print(fruit) "
   ]
  },
  {
   "cell_type": "code",
   "execution_count": null,
   "metadata": {},
   "outputs": [],
   "source": [
    "# you can also use the result of the method. Eg. put it in a variable,\n",
    "fruit = \"BAnanA\"\n",
    "small_case_fruit = fruit.lower()\n",
    "print(small_case_fruit)"
   ]
  },
  {
   "cell_type": "code",
   "execution_count": null,
   "metadata": {},
   "outputs": [],
   "source": [
    "#... or use it in a calculation:\n",
    "# What do you think this code would do:\n",
    "\n",
    "fruit1 = \"BAnanA\"\n",
    "fruit2 = \"banana\"\n",
    "\n",
    "if fruit1.lower() == fruit2.lower() :\n",
    "    print(\"after lower-casing both words, they appear to be identical\")\n",
    "\n",
    "# note that in the computer's 'head' the above is processed in these steps:\n",
    "# if fruit1.lower() == fruit2.lower() :\n",
    "# if \"BAnanA\".lower() == \"banana\".lower() :\n",
    "# if \"banana\" == \"banana\" :\n",
    "# if True:\n"
   ]
  },
  {
   "cell_type": "code",
   "execution_count": null,
   "metadata": {},
   "outputs": [],
   "source": [
    "# some methods take arguments (just like any function would)\n",
    "\n",
    "truth = \"banana is a fruit!\".replace(\"a fruit\", \"a terrible variable name\")\n",
    "print(truth)\n",
    "\n",
    "# some other time you can google all the other awesome python string functions out there."
   ]
  },
  {
   "cell_type": "markdown",
   "metadata": {},
   "source": [
    "### TASK 4 - are_names_unique_advanced(w1,w2)\n",
    "\n",
    "### Remember the process:\n",
    "\n",
    "1. first write an obviously bad solution, \n",
    "2. then write tests (and see those tests fail), \n",
    "3. then adjust your solution to make tests pass"
   ]
  },
  {
   "cell_type": "markdown",
   "metadata": {},
   "source": [
    "Write a function are_names_unique_advanced(w1,w2) that takes two names and returns True if they are all different, but this time:\n",
    "\n",
    "- ignore the capitalisation (large letters), "
   ]
  },
  {
   "cell_type": "code",
   "execution_count": null,
   "metadata": {},
   "outputs": [],
   "source": [
    "# your solution\n"
   ]
  },
  {
   "cell_type": "code",
   "execution_count": null,
   "metadata": {},
   "outputs": [],
   "source": [
    "# see it run"
   ]
  },
  {
   "cell_type": "code",
   "execution_count": null,
   "metadata": {},
   "outputs": [],
   "source": [
    "# your tests here (write a few)"
   ]
  },
  {
   "cell_type": "markdown",
   "metadata": {},
   "source": [
    "### TASK 5 and onwards - make your own"
   ]
  },
  {
   "cell_type": "markdown",
   "metadata": {},
   "source": [
    "For this one you might need some pen and paper. Describe a logical process of deciding something in your life and write a function that takes all the variables needed to decide an outcome.\n",
    "\n",
    "Write a function that takes 2 or 3 arguments, and returns something. A number, a True/False, or something else.\n",
    "\n",
    "Result value could come from the arguments (eg. `largest(n1,n2)` will either return n1 or n2) or be decided by the function (eg. `is_weekend( week_day_name )` would return True or False, depending what is passed into the function. i.e. `is_weekend( 'Saturday' )` would return True)\n",
    "\n",
    "for example:\n",
    "\n",
    "    def is_it_weekend(day_of_the_week_as_word) #can you also make it not-case-sensitive?\n",
    "    def should_i_take_my_umbrella(is_raining_now, is_sky_grey) # this could take 2 boolean values\n",
    "    def is_this_a_valid_calendar_date(day_number, month_number) #assume it's year 2022\n",
    "\n",
    "if you still have time, make your function even more complex, eg\n",
    "\n",
    "    def is_ready_for_next_vaccine( number_of_previous_vaccines, days_since_last_vaccine): \n",
    "    \n",
    "    # eg is_ready_for_next_vaccine(2,90) would mean: they had 2 vaccinations already, last one was 90 days ago\n",
    "    # returned answer could be True. Feel free to make up the rules, if you are not sure.\n",
    "    \n",
    "    def is_in_covid_risk_group( age, is_smoker, number_of_vaccinations): \n",
    "    \n",
    "    # eg is_in_covid_risk_group(65, True, 0) could return True\n",
    "    # Feel free to make up the rules, if you are not sure.\n",
    "    \n",
    "Make-up your own and feel free to change any of the above examples! \n",
    "\n",
    "Remember: write tests before writing the solution!"
   ]
  },
  {
   "cell_type": "code",
   "execution_count": null,
   "metadata": {},
   "outputs": [],
   "source": [
    "# your solution"
   ]
  },
  {
   "cell_type": "code",
   "execution_count": null,
   "metadata": {},
   "outputs": [],
   "source": [
    "# your tests here:\n",
    "# TOP TIP: Need more cells? Add them with Menu > Insert on top \n",
    "# (note that you want to select 'Code' not 'Markdown' from the dropdown next ti the menu"
   ]
  },
  {
   "cell_type": "code",
   "execution_count": null,
   "metadata": {},
   "outputs": [],
   "source": [
    "# your tests here:"
   ]
  },
  {
   "cell_type": "code",
   "execution_count": null,
   "metadata": {},
   "outputs": [],
   "source": [
    "# your tests here:"
   ]
  },
  {
   "cell_type": "code",
   "execution_count": null,
   "metadata": {},
   "outputs": [],
   "source": [
    "# your tests here:"
   ]
  }
 ],
 "metadata": {
  "celltoolbar": "Create Assignment",
  "kernelspec": {
   "display_name": "Python 3 (ipykernel)",
   "language": "python",
   "name": "python3"
  },
  "language_info": {
   "codemirror_mode": {
    "name": "ipython",
    "version": 3
   },
   "file_extension": ".py",
   "mimetype": "text/x-python",
   "name": "python",
   "nbconvert_exporter": "python",
   "pygments_lexer": "ipython3",
   "version": "3.9.7"
  }
 },
 "nbformat": 4,
 "nbformat_minor": 2
}
