{
 "cells": [
  {
   "cell_type": "markdown",
   "metadata": {},
   "source": [
    "# Badge 12: Drawing Simple Graphs - preparing data and feeding them into a graph.\n",
    "\n",
    "### We're using 'Plotly' an interactive graphs library, but there are many other really good graph libraries out there!\n",
    "\n",
    "This notebook is very advanced, and introduces a lot of advanced concepts, so there are a few ways to interact with it:\n",
    "\n",
    "- **To only learn how to make some basic diagrams** - read the first part of this Notebook all the way to the 3 stars and a wish, and the minitask.\n",
    "- **To just see what Python can do with graphs** - run all the cells in this notebook (even without looking at the code) and see what wonderful and complex graphs can be produced.\n",
    "- **To learn how to create these complex graphs**- try to understand all the code in this Notebook. "
   ]
  },
  {
   "cell_type": "markdown",
   "metadata": {},
   "source": [
    "This tutorial is a simplified version of and introduction to 'plot.ly/python/'.\n",
    "\n",
    "\n",
    "**We will cover:**\n",
    "\n",
    "- Creating graphs and combining them into more complex inphographics.\n",
    "- Editing/Updating Graphs.\n",
    "- Types of graphs - just briefly, you'll go to documentation by yourself to find out more."
   ]
  },
  {
   "cell_type": "markdown",
   "metadata": {},
   "source": [
    "### Some new concepts: \n",
    "\n",
    "**CLASSES** are similar to other complicated data types, like LISTS or DICTIONARIES etc. except we import CLASSES from libraries, or create them yourself. You usually use a class to ...\n",
    "\n",
    "**CREATE AN OBJECT OF A CLASS** : By which you create a new item/instance of this class, like how we created a new list or dictionary with `[ 1,2,3]` or `{ 'name':'Pim' }`. Once you have an object you can interact with it - just as we can change a **List** object with `.pop()` or `.sort()`. You create graph objects by using constructors, like ```fig = Figure( some_attributes )``` or you can use a factory method that will create an object and return it to you ```fig = px.scatter( ... )```.\n",
    "\n",
    "**OBJECT** - is your primary item you will work with when creating graphs.\n",
    "\n",
    "Once you have created an object you can change perform methods on it like...\n",
    "\n",
    "```\n",
    "fig.show()   \n",
    "fig.add_bar( ... )   \n",
    "fig.update_yaxes( ... )\n",
    "``` \n",
    "\n",
    "You can also change its attributes like...\n",
    "\n",
    "```\n",
    "fig.data[1].marker.line.color = \"yellow\"\n",
    "```"
   ]
  },
  {
   "cell_type": "markdown",
   "metadata": {},
   "source": [
    "**IMPORTING LIBRARIES** - Is a process via which we give our Notebook the ability to use CLASSES and code written by someone else. We specify a library we want and its short name: \n",
    "\n",
    "```\n",
    "import library_you_want as short_name\n",
    "```\n",
    "\n",
    "And the ones we will use the most are: \n",
    "\n",
    "```\n",
    "import pprint as pp\n",
    "\n",
    "import plotly.graph_objects as go        \n",
    "import plotly.express as px      \n",
    "```\n",
    "\n",
    "**IMPORTING INDIVIDUAL METHODS/CLASSES FROM A LIBRARY** - When we need omly a small part of a library, we have the option to specify it and give it a short handy name: \n",
    "\n",
    "```\n",
    "from library_you_want import function_or_class_you_want\n",
    "```\n",
    "\n",
    "Which will look like this: \n",
    "\n",
    "```\n",
    "from plotly.subplots import make_subplots\n",
    "```"
   ]
  },
  {
   "cell_type": "markdown",
   "metadata": {},
   "source": [
    "### Installing plotly on your Notebook:\n",
    "\n",
    "First let's import plotly from Python Index of Packages. \n",
    "\n",
    "Note: ```pip install some_library``` is a command that will install any pip library you request from the Python Package Index. \n",
    "\n",
    "Python Package Index is like a phone book of all available Python libraries, it contains hundreds of thousands of libraries for anything you can imagine: Data, Graphs, Maps, AI, Internet... You can go and browse them yourself at https://pypi.org/.\n",
    "\n",
    "For now we will only grab Plotly from there with the below line of code. Because every time you start a Noteable Notebook/session you are effectively startig a new instance of a server, you will need to run this code every time you open the new session. "
   ]
  },
  {
   "cell_type": "code",
   "execution_count": null,
   "metadata": {},
   "outputs": [],
   "source": [
    "# You need to do this ONCE EVERY TIME YOU START A NOTEBOOK. \n",
    "# It will take about a MINUTE, and when done will print something like \"Successfully installed plotly\".\n",
    "#!pip install plotly --upgrade\n",
    "# depending on your computer you might see \"command not found: pip\", - then change !pip to !pip3\n",
    "# if you're using a local anaconda installation (rather than a virtual computer) you might need to install plotly\n",
    "!pip install plotly --upgrade\n"
   ]
  },
  {
   "cell_type": "code",
   "execution_count": null,
   "metadata": {},
   "outputs": [],
   "source": [
    "# If at some spoint your graphs stop showing - restart your Kernel, from the top menu. \n",
    "\n",
    "### Your first plot:\n",
    "\n",
    "# Simple bar chart. Create an object of class Figure with its constructor.\n",
    "# Constructor takes a number of possible arguments eg. data, layout_title_text.\n",
    "\n",
    "# You can create an object and call on it a method '.show()':\n",
    "import plotly.graph_objects as go\n",
    "import plotly.io as pio\n",
    "pio.renderers.default='notebook'\n",
    "import pprint as pp"
   ]
  },
  {
   "cell_type": "code",
   "execution_count": null,
   "metadata": {},
   "outputs": [],
   "source": [
    "# Your first graph :D\n",
    "# have a close look at this code, and try to fugure out what is each part for\n",
    "# can you change things, eg. the data and colour?\n",
    "\n",
    "fig = go.Figure(\n",
    "    data=[go.Bar(y=[5, 2, 4], \n",
    "                 x=[\"bananas\", \"kiwis\", \"plums\"], \n",
    "                 marker_color='blue')],\n",
    "    layout=go.Layout(\n",
    "        title=go.layout.Title(text=\"How much I like these fruits\")\n",
    "    )\n",
    ")\n",
    "fig.show('notebook')"
   ]
  },
  {
   "cell_type": "code",
   "execution_count": null,
   "metadata": {},
   "outputs": [],
   "source": [
    "# Here's the same code, but cleaner:\n",
    "\n",
    "values = [5, 2, 4]\n",
    "categories = [\"bananas\", \"kiwis\", \"plums\"]\n",
    "color = 'blue'\n",
    "\n",
    "fig = go.Figure(\n",
    "    data=[go.Bar(y=values, \n",
    "                 x=categories, \n",
    "                 marker_color=color)],\n",
    "    layout=go.Layout(\n",
    "        title=go.layout.Title(text=\"How much I like these fruits\")\n",
    "    )\n",
    ")\n",
    "fig.show('notebook')"
   ]
  },
  {
   "cell_type": "code",
   "execution_count": null,
   "metadata": {},
   "outputs": [],
   "source": [
    "# Or with colours and variables:\n",
    "\n",
    "import plotly.graph_objects as go\n",
    "import plotly.io as pio\n",
    "pio.renderers.default='notebook'\n",
    "\n",
    "colors = ['yellow', 'green', 'purple']\n",
    "names = [\"banana\", \"kiwi\", \"plum\"]\n",
    "values = [5, 2, 4]\n",
    "\n",
    "fig = go.Figure(\n",
    "    data=[go.Bar(y=values, \n",
    "                 x=names, \n",
    "                 marker_color = colors)],\n",
    "    layout=go.Layout(\n",
    "        title=go.layout.Title(text=\"How much I like these fruits\")\n",
    "    )\n",
    ")\n",
    "fig.show('notebook')"
   ]
  },
  {
   "cell_type": "code",
   "execution_count": null,
   "metadata": {},
   "outputs": [],
   "source": [
    "# And from data:\n",
    "\n",
    "import plotly.graph_objects as go\n",
    "import plotly.io as pio\n",
    "pio.renderers.default='notebook'\n",
    "\n",
    "colors = ['yellow', 'green', 'purple']\n",
    "fruit_types = [\"banana\", \"kiwi\", \"plum\"]\n",
    "fruits_I_ate = [\"banana\", \"kiwi\",\"banana\", \"kiwi\",\"banana\", \"kiwi\", \"kiwi\",\"kiwi\",\"plum\",\"banana\"]\n",
    "\n",
    "values = [\n",
    "    fruits_I_ate.count(fruit)\n",
    "    for fruit in fruit_types\n",
    "]\n",
    "\n",
    "\n",
    "fig = go.Figure(\n",
    "    data=[go.Bar(y=values, \n",
    "                 x=names, \n",
    "                 marker_color = colors)],\n",
    "    layout=go.Layout(\n",
    "        title=go.layout.Title(text=\"Which fruits I eat the most\")\n",
    "    )\n",
    ")\n",
    "fig.show('notebook')"
   ]
  },
  {
   "cell_type": "code",
   "execution_count": null,
   "metadata": {},
   "outputs": [],
   "source": [
    "# And an even fancier example:\n",
    "\n",
    "import plotly.graph_objects as go\n",
    "import plotly.io as pio\n",
    "pio.renderers.default='notebook'\n",
    "\n",
    "# Raw data:\n",
    "\n",
    "fruit_colors = {\"banana\":\"yellow\", \n",
    "                \"kiwi\": \"green\", \n",
    "                \"plum\": \"purple\"}\n",
    "\n",
    "fruits_I_ate = [\"banana\", \"kiwi\",\"banana\", \"kiwi\",\"banana\", \"kiwi\",\n",
    "                \"kiwi\",\"kiwi\",\"plum\",\"banana\", \"peach\",\"peach\", \"quince\"]\n",
    "\n",
    "# Prepare data:\n",
    "    \n",
    "def create_and_show_fruit_graph(fruits, colors_dict):\n",
    "    fruit_types = list(set(fruits))\n",
    "    fruit_types.sort() # Alphabetically.\n",
    "    fruit_counts = [\n",
    "        fruits.count(fruit)\n",
    "        for fruit in fruit_types\n",
    "    ]\n",
    "    fruit_colors =  [\n",
    "        colors_dict.get(fruit, 'grey') # If colour is unknown, use grey.\n",
    "        for fruit in fruit_types\n",
    "    ]\n",
    "\n",
    "    fig = go.Figure(\n",
    "        data=[go.Bar(y=fruit_counts, \n",
    "                     x=fruit_types, \n",
    "                     marker_color = fruit_colors)],\n",
    "        layout=go.Layout(\n",
    "            title=go.layout.Title(text=\"Which fruits I eat the most\")\n",
    "        )\n",
    "    )\n",
    "    fig.show('notebook')\n",
    "    \n",
    "create_and_show_fruit_graph(fruits_I_ate, fruit_colors )"
   ]
  },
  {
   "cell_type": "markdown",
   "metadata": {},
   "source": [
    "You can find more inspiration here: https://plotly.com/python/bar-charts/"
   ]
  },
  {
   "cell_type": "markdown",
   "metadata": {},
   "source": [
    "## Create and Combine Graphs.\n",
    "\n",
    "### Overlapping and neighbouring plots: "
   ]
  },
  {
   "cell_type": "code",
   "execution_count": null,
   "metadata": {},
   "outputs": [],
   "source": [
    "from plotly.subplots import make_subplots\n",
    "\n",
    "# 'Make_subplots' takes rows and columns for how many subplots you will want to create.\n",
    "# E.g. To create a 3 by 3 grid of 9 plots, you would say rows=3, cols=3:\n",
    "\n",
    "fig = make_subplots(rows=1, cols=4)\n",
    "\n",
    "# And then we add graphs to that figure with 'add_trace'.\n",
    "# It takes 3 arguments - the graph to display and it's position as row and col:\n",
    "\n",
    "fig.add_trace(go.Scatter(y=[4, 2, 1], mode=\"lines\"),\n",
    "              row=1, \n",
    "              col=1)\n",
    "fig.add_trace(go.Scatter(y=[10, 12, 15]), \n",
    "              row=1, \n",
    "              col=2)\n",
    "fig.add_trace(go.Bar(y=[2, 1, 3]), row=1, col=3)\n",
    "fig.add_trace(go.Bar(y=[6, 5, 3]), row=1, col=4)\n",
    "\n",
    "fig.show('notebook')"
   ]
  },
  {
   "cell_type": "code",
   "execution_count": null,
   "metadata": {},
   "outputs": [],
   "source": []
  },
  {
   "cell_type": "markdown",
   "metadata": {},
   "source": [
    "Q: But why would I need to specify position of each 'trace' (graph/chart/drawing) separately?\n",
    "\n",
    "A: Because you can overlay the graphs on top of each other if you use it skillfully:"
   ]
  },
  {
   "cell_type": "code",
   "execution_count": null,
   "metadata": {},
   "outputs": [],
   "source": [
    "# Here's the same data, presented in 2 different ways. Spot the difference in code:\n",
    "\n",
    "from plotly.subplots import make_subplots\n",
    "fig = make_subplots(rows=2, cols=2)\n",
    "fig.add_trace(go.Scatter(y=[4, 2, 1], mode=\"lines\"),row=1, col=1)\n",
    "fig.add_trace(go.Scatter(y=[10, 12, 15]),           row=1, col=2)\n",
    "fig.add_trace(go.Bar(y=[2, 1, 3]),                  row=2, col=1)\n",
    "fig.add_trace(go.Bar(y=[6, 5, 3]),                  row=2, col=2)\n",
    "\n",
    "fig.show('notebook')"
   ]
  },
  {
   "cell_type": "code",
   "execution_count": null,
   "metadata": {},
   "outputs": [],
   "source": [
    "# Here's the same data, presented in 2 different ways. Spot the difference in code:\n",
    "\n",
    "from plotly.subplots import make_subplots\n",
    "fig = make_subplots(rows=1, cols=2)\n",
    "fig.add_trace(go.Scatter(y=[4, 2, 1], mode=\"lines\"),row=1, col=1)\n",
    "fig.add_trace(go.Scatter(y=[10, 12, 15]),           row=1, col=2)\n",
    "fig.add_trace(go.Bar(y=[2, 1, 3]),                  row=1, col=1)\n",
    "fig.add_trace(go.Bar(y=[6, 5, 3]),                  row=1, col=2)\n",
    "\n",
    "fig.show('notebook')"
   ]
  },
  {
   "cell_type": "code",
   "execution_count": null,
   "metadata": {},
   "outputs": [],
   "source": [
    "# You can customise almost anything! See here https://plotly.com/python/line-and-scatter/.\n",
    "\n",
    "hospital_admissions = [150,210,240,180,160,130]\n",
    "years = [1990,1995,2000,2005,2010,2015,2020]\n",
    "costs = [50,230,240,180,130,80]\n",
    "\n",
    "# Let's start with hardcoded data. In a minute you will see how to make it cleaner. \n",
    "# E.g. How to automatically create colour from a number.\n",
    "\n",
    "colours = ['Green','Orange','Red','Orange','Green','Green']\n",
    "\n",
    "bubble_text = [f\"cost was {cost}\"\n",
    "              for cost in costs]\n",
    "\n",
    "fig = make_subplots(rows=1, cols=1)\n",
    "fig.add_trace(go.Scatter(y=hospital_admissions, \n",
    "                         x=years, \n",
    "                         marker_color = colours, \n",
    "                         marker_size=costs,\n",
    "                         text=bubble_text,\n",
    "                         mode='markers' # Can be 'lines','markers' or 'lines+markers'.\n",
    "                        ), row=1, col=1)\n",
    "\n",
    "fig.update_layout(\n",
    "    title=\"Cost of hospital admissions in relation to number of admissions, over years\",\n",
    "    xaxis_title=\"Year\",\n",
    "    yaxis_title=\"Hospital Admissions\",\n",
    ")\n",
    "fig.show('notebook')"
   ]
  },
  {
   "cell_type": "markdown",
   "metadata": {},
   "source": [
    "## Final part: From real data into a graph.\n",
    "\n",
    "This is a solved example of how a datasrt can be used. The steps were:\n",
    "\n",
    "1. look at the data. What could I visualise here? Population density and city area sounds interesting!\n",
    "2. Create some functions that will destill the city information to only info I want\n",
    "3. Transform that data into visualisation specific things, eg. colours representing some values\n",
    "4. Put all that prepared info into a graph"
   ]
  },
  {
   "cell_type": "code",
   "execution_count": null,
   "metadata": {},
   "outputs": [],
   "source": [
    "# Here's an example with real data:\n",
    "\n",
    "cities = [\n",
    " {'Geo': {'AreaKm2': 267.77,\n",
    "          'Coordinates': {'Latitude': 52.48, 'Longitude': -1.9}},\n",
    "  'Name': 'Birmingham',\n",
    "  'Population': 1137100,\n",
    "  'Year_Founded': 601},\n",
    " {'Geo': {'AreaKm2': 551.7,\n",
    "          'Coordinates': {'Latitude': 53.8, 'Longitude': -1.55}},\n",
    "  'Name': 'Leeds',\n",
    "  'Population': 789194,\n",
    "  'Year_Founded': 1893},\n",
    " {'Geo': {'AreaKm2': 142.06,\n",
    "          'Coordinates': {'Latitude': 53.38, 'Longitude': -1.47}},\n",
    "  'Name': 'Sheffield',\n",
    "  'Population': 577800,\n",
    "  'Year_Founded': 701},\n",
    " {'Geo': {'AreaKm2': 110,\n",
    "          'Coordinates': {'Latitude': 51.45, 'Longitude': -2.58}},\n",
    "  'Name': 'Bristol',\n",
    "  'Population': 567111,\n",
    "  'Year_Founded': 1155},\n",
    " {'Geo': {'AreaKm2': 115.6,\n",
    "          'Coordinates': {'Latitude': 53.47, 'Longitude': -2.23}},\n",
    "  'Name': 'Manchester',\n",
    "  'Population': 547627,\n",
    "  'Year_Founded': 1301},\n",
    " {'Geo': {'AreaKm2': 111.84,\n",
    "          'Coordinates': {'Latitude': 53.41, 'Longitude': -2.99}},\n",
    "  'Name': 'Liverpool',\n",
    "  'Population': 513441,\n",
    "  'Year_Founded': 1207},\n",
    " {'Geo': {'AreaKm2': 259,\n",
    "          'Coordinates': {'Latitude': 55.95, 'Longitude': -3.2}},\n",
    "  'Name': 'Edinburgh',\n",
    "  'Population': 488050,\n",
    "  'Year_Founded': 601}]\n",
    "\n"
   ]
  },
  {
   "cell_type": "code",
   "execution_count": null,
   "metadata": {},
   "outputs": [],
   "source": [
    "# Let's prepare the data first. Our goal is to have all we need in variables first:\n",
    "\n",
    "\n",
    "def get_density(city):\n",
    "    return round(city['Population']/city['Geo']['AreaKm2'])\n",
    "\n",
    "\n",
    "print(get_density(cities[0]) )\n",
    "assert get_density(cities[0]) == 4247 \n",
    "# because looking at Birmingham population (1137100) divided by area (267.77) is 4246.55"
   ]
  },
  {
   "cell_type": "code",
   "execution_count": null,
   "metadata": {},
   "outputs": [],
   "source": [
    "def get_description(city):\n",
    "    description = f\"{city['Name']} has {city['Population']} people \"\n",
    "    description += f\"living in area of {city['Geo']['AreaKm2']}km. \"\n",
    "    description += f\"Density is {get_density(city)}\"\n",
    "    return description\n",
    "    # Notice the usage of '=' and '+='.\n",
    "    # These will appear when you hover over a bubble on the graph.\n",
    "    \n",
    "print(get_description(cities[0]))\n",
    "assert get_description(cities[0]) == 'Birmingham has 1137100 people living in area of 267.77km. Density is 4247'"
   ]
  },
  {
   "cell_type": "code",
   "execution_count": null,
   "metadata": {},
   "outputs": [],
   "source": [
    "def density_into_colour(city):\n",
    "    density = get_density(city)\n",
    "    if density < 4000:\n",
    "        return \"Green\"\n",
    "    elif density < 5000:\n",
    "        return \"Orange\"\n",
    "    else:\n",
    "        return \"Red\"\n",
    "    \n",
    "print(density_into_colour(cities[0]))\n",
    "assert density_into_colour(cities[0]) =='Orange'"
   ]
  },
  {
   "cell_type": "code",
   "execution_count": null,
   "metadata": {},
   "outputs": [],
   "source": [
    "import plotly.graph_objects as go\n",
    "\n",
    "x_axis = [int(city['Population']) \n",
    "          for city in cities]\n",
    "y_axis = [int(city['Geo']['AreaKm2']) \n",
    "          for city in cities]\n",
    "\n",
    "print(x_axis)\n",
    "print(y_axis)"
   ]
  },
  {
   "cell_type": "code",
   "execution_count": null,
   "metadata": {},
   "outputs": [],
   "source": [
    "scale_multiplier = 0.01 # We can divide/multiply numbers to make graphs readable. \n",
    "# Once you've seen the graph, try changing the above to eg. 0.001 or 0.1. What changed?\n",
    "\n",
    "scaled_densities = [int(get_density(city) * scale_multiplier  )\n",
    "         for city in cities] \n",
    "print(scaled_densities)"
   ]
  },
  {
   "cell_type": "code",
   "execution_count": null,
   "metadata": {},
   "outputs": [],
   "source": [
    "colours = [density_into_colour(city) \n",
    "           for city in cities]\n",
    "texts = [ get_description(city)\n",
    "         for city in cities]\n",
    "\n",
    "\n",
    "print(colours)\n",
    "print(texts)"
   ]
  },
  {
   "cell_type": "code",
   "execution_count": null,
   "metadata": {},
   "outputs": [],
   "source": [
    "# You can customise almost anything! See here https://plotly.com/python/line-and-scatter/.\n",
    "\n",
    "fig = go.Figure(\n",
    "        data=[go.Scatter(y=y_axis, \n",
    "                         x=x_axis, \n",
    "                         marker_color = colours, \n",
    "                         marker_size=scaled_densities,\n",
    "                         text=texts,\n",
    "                         mode='markers' # Can be 'lines','markers' or 'lines+markers'.\n",
    "                        )],\n",
    "        layout=go.Layout(\n",
    "            title=go.layout.Title(text=\"You can set title here, but you can also change it with update\")\n",
    "        )\n",
    "    )\n",
    "fig.update_layout(\n",
    "    title=\"Density of population in British Cities\",\n",
    "    xaxis_title=\"City Population\",\n",
    "    yaxis_title=\"Area in Km2\",\n",
    "    font=dict(\n",
    "        family=\"Courier New, monospace\",\n",
    "        size=20,\n",
    "        color=\"RebeccaPurple\"\n",
    "    )\n",
    ")\n",
    "fig.show('notebook')"
   ]
  },
  {
   "cell_type": "code",
   "execution_count": null,
   "metadata": {},
   "outputs": [],
   "source": [
    "# Example of a very different graph type: a map\n",
    "\n",
    "import plotly.express as px\n",
    "# gapminder data from 2007\n",
    "countries = [{'name':\"UK\", \"iso\":\"GBR\", \"lifeExp\":79.425},\n",
    "             {'name':\"France\", \"iso\":\"FRA\", \"lifeExp\":80.657},\n",
    "             {'name':\"Germany\", \"iso\":\"DEU\", \"lifeExp\":79.406},\n",
    "             {'name':\"Portugal\", \"iso\":\"PRT\", \"lifeExp\":78.098},\n",
    "             {'name':\"Spain\", \"iso\":\"ESP\", \"lifeExp\":80.941},\n",
    "            {'name':\"Poland\", \"iso\":\"POL\", \"lifeExp\":75.563}]\n",
    "\n",
    "# first let's do it the old way: change data into lists of just what we need:\n",
    "names = [country['name'] for country in countries]\n",
    "isos = [country['iso'] for country in countries]\n",
    "lifeExps = [country['lifeExp'] for country in countries]\n",
    "\n",
    "fig = px.choropleth(locations=isos, \n",
    "                    color=lifeExps, \n",
    "                    hover_name=lifeExps,\n",
    "                    scope = \"europe\",\n",
    "                    range_color=[75,81])\n",
    "fig.show('notebook')"
   ]
  },
  {
   "cell_type": "code",
   "execution_count": null,
   "metadata": {},
   "outputs": [],
   "source": [
    "# and now for the simpler, easier way: \n",
    "# feed whole data into the graph, and tell it which key/column should be used for what\n",
    "\n",
    "countries = [{'name':\"UK\", \"iso\":\"GBR\", \"lifeExp\":79.425},\n",
    "             {'name':\"France\", \"iso\":\"FRA\", \"lifeExp\":80.657},\n",
    "             {'name':\"Germany\", \"iso\":\"DEU\", \"lifeExp\":79.406},\n",
    "             {'name':\"Portugal\", \"iso\":\"PRT\", \"lifeExp\":78.098},\n",
    "             {'name':\"Spain\", \"iso\":\"ESP\", \"lifeExp\":80.941},\n",
    "            {'name':\"Poland\", \"iso\":\"POL\", \"lifeExp\":75.563}]\n",
    "\n",
    "fig = px.choropleth(countries,\n",
    "                    locations='iso', \n",
    "                    color='lifeExp', \n",
    "                    hover_name='name',\n",
    "                    scope = \"europe\",\n",
    "                    range_color=[75,81])\n",
    "fig.show('notebook')"
   ]
  },
  {
   "cell_type": "markdown",
   "metadata": {},
   "source": [
    "# For completeness: here's another plotting library - 'matplotlib.pyplot'."
   ]
  },
  {
   "cell_type": "markdown",
   "metadata": {},
   "source": [
    "### More examples of matplotlib can be found here:\n",
    "\n",
    "https://matplotlib.org/stable/gallery/index.html\n",
    "\n",
    "Matplotlib is very simple. Which means is creates graphs quickly and does not take a lot of memory (unlike plotly). This means it is often very useful for things like online dashboards.\n",
    "\n",
    "Matplotlib is different from plotly (in which we were operating on fig objects) in that in matplotlib there is an 'implied' graph. We keep adding stuff to that default graph using functions stored in library (`plt.`). See below"
   ]
  },
  {
   "cell_type": "code",
   "execution_count": null,
   "metadata": {},
   "outputs": [],
   "source": [
    "# the simplest possible graph example\n",
    "\n",
    "import matplotlib.pyplot as plt\n",
    "\n",
    "names = ['Kim','Natasha','Jules']\n",
    "scores = [25, 34, 32]\n",
    "plt.bar(names, scores)\n",
    "\n",
    "plt.show('notebook') # this plt refers to the library, and not really to an individual plot. "
   ]
  },
  {
   "cell_type": "markdown",
   "metadata": {},
   "source": [
    "### Stacked Bar Graph.\n",
    "\n",
    "This is an example of creating a stacked bar plot with error bars using ```~matplotlib.pyplot.bar```. To create stacked graphs, we create the bottom graph first, then add other graphs to it with a gap underneath them (see 'bottom' attribute)."
   ]
  },
  {
   "cell_type": "code",
   "execution_count": null,
   "metadata": {},
   "outputs": [],
   "source": [
    "#  Note, the parameters *yerr* used for error bars, \n",
    "# and *bottom* to stack the one set of bars on top of the the other bars.\n",
    "\n",
    "import numpy as np\n",
    "import matplotlib.pyplot as plt\n",
    "\n",
    "\n",
    "catMeans = (20, 35, 30, 35, 27)\n",
    "dogMeans = (25, 32, 34, 20, 25)\n",
    "number_of_items = len(catMeans)\n",
    "indexes = list(range(number_of_items)) # basically the [0,1,2,3,4]\n",
    "\n",
    "plotCats = plt.bar(indexes, catMeans)\n",
    "plotDogs = plt.bar(indexes, dogMeans,  bottom=catMeans)\n",
    "# here we can (but don't have to) capture sub-graphs into variables\n",
    "# you'll see that used soon\n",
    "\n",
    "plt.show('notebook')"
   ]
  },
  {
   "cell_type": "code",
   "execution_count": null,
   "metadata": {
    "scrolled": true
   },
   "outputs": [],
   "source": [
    "# with more annotations and fancy stuff:\n",
    "\n",
    "import matplotlib.pyplot as plt\n",
    "\n",
    "catMeans = (20, 35, 30, 35, 27)\n",
    "dogMeans = (25, 32, 34, 20, 25)\n",
    "# yes, this is a very 'made up' example :D here are nonsense whiskers :D\n",
    "catStd = (2, 3, 4, 1, 2) \n",
    "dogStd = (3, 5, 2, 3, 3)\n",
    "number_of_items = len(catMeans)\n",
    "indexes = list(range(number_of_items)) # basically the [0,1,2,3,4]\n",
    "width = 0.35       # The width of the bars\n",
    "\n",
    "plotCats = plt.bar(indexes, catMeans, width, yerr=catStd)\n",
    "plotDogs = plt.bar(indexes, dogMeans, width, yerr=dogStd,  bottom=catMeans)\n",
    "\n",
    "plt.ylabel('Scores')\n",
    "plt.title('Scores by group and animal')\n",
    "plt.xticks(indexes, ('G1', 'G2', 'G3', 'G4', 'G5'))\n",
    "plt.yticks(np.arange(0, max(catMeans)+ max(dogMeans), 10))\n",
    "plt.legend((plotCats[0], plotDogs[0]), ('Cats', 'Dogs'))\n",
    "# give subplots legend entries\n",
    "\n",
    "plt.show('notebook')"
   ]
  },
  {
   "cell_type": "code",
   "execution_count": null,
   "metadata": {},
   "outputs": [],
   "source": []
  },
  {
   "cell_type": "code",
   "execution_count": null,
   "metadata": {},
   "outputs": [],
   "source": []
  },
  {
   "cell_type": "markdown",
   "metadata": {},
   "source": [
    "## ⭐️⭐️⭐️💥 What you have learned in this session: Three stars and a wish.\n",
    "**In your own words** write in your Learn diary:\n",
    "\n",
    "- 3 things you would like to remember from this badge.\n",
    "- 1 thing you wish to understand better in the future or a question you'd like to ask.\n"
   ]
  },
  {
   "cell_type": "markdown",
   "metadata": {},
   "source": [
    "# ⛏ Minitask 1: Recreate a simple graph from a newspaper:\n",
    "\n",
    "Use anything you saw in this badge to recreate a graph you have seen recently in a paper. \n",
    "\n",
    "You can choose something easy by just doing an google image search for words \"graph example\". This will show you a number of simple graphs, which might still be quite challanging to recreate in Plotly!. Here is one I found for you: https://img.chandoo.org/c/chart-with-lines-instead-of-columns.png\n",
    "\n",
    "\n",
    "If you'd like to try something much harder, look one of these outlets:\n",
    "\n",
    "Guardian: https://www.theguardian.com/data\n",
    "Economist: https://www.economist.com/graphic-detail/\n",
    "\n",
    "Keep in mind that you do not need to recreate the graph exactly, just try to mimic it a little. You do not need to have real data - just try to guess them, and eg. create a list with numbers."
   ]
  },
  {
   "cell_type": "code",
   "execution_count": null,
   "metadata": {},
   "outputs": [],
   "source": []
  },
  {
   "cell_type": "markdown",
   "metadata": {},
   "source": [
    "# This concludes the basic part of the Notebook.\n",
    "\n",
    "### Next parts show many more advanced types of graphs, and also using build-in training datasets. You really do not need to understand any of it. Just have a look at what's possible.\n",
    "\n",
    "## ⭐️⭐️ TOP TIP ⭐️⭐️: If you have a minute, simply run the rest of this Notebook (Shift + Enter) and look at how interesting (and easy to make) some graphs are.\n",
    "\n"
   ]
  },
  {
   "cell_type": "markdown",
   "metadata": {},
   "source": [
    "## Examples of different graph types.\n",
    "\n",
    "### Advanced features of a 'Scatter Plot':"
   ]
  },
  {
   "cell_type": "code",
   "execution_count": null,
   "metadata": {},
   "outputs": [],
   "source": [
    "import plotly.express as px\n",
    "iris = px.data.iris()\n",
    "fig = px.scatter(iris, x=\"sepal_width\", y=\"sepal_length\", color=\"species\", marginal_y=\"violin\",\n",
    "           marginal_x=\"box\", trendline=\"ols\")\n",
    "fig.show('notebook')\n"
   ]
  },
  {
   "cell_type": "code",
   "execution_count": null,
   "metadata": {},
   "outputs": [],
   "source": [
    "import plotly.express as px\n",
    "iris = px.data.iris()\n",
    "iris[\"e\"] = iris[\"sepal_width\"]/100\n",
    "fig = px.scatter(iris, x=\"sepal_width\", y=\"sepal_length\", color=\"species\", error_x=\"e\", error_y=\"e\")\n",
    "fig.show('notebook')\n"
   ]
  },
  {
   "cell_type": "code",
   "execution_count": null,
   "metadata": {},
   "outputs": [],
   "source": [
    "# For easier eyeballing of your data, you can use scatter matrix:\n",
    "\n",
    "import plotly.express as px\n",
    "iris = px.data.iris()\n",
    "fig = px.scatter_matrix(iris, dimensions=[\"sepal_width\", \"sepal_length\", \"petal_width\", \"petal_length\"], \n",
    "                        color=\"species\")\n",
    "fig.show('notebook')\n"
   ]
  },
  {
   "cell_type": "code",
   "execution_count": null,
   "metadata": {},
   "outputs": [],
   "source": [
    "# Here we're using a different data set: bills and tips in a restaurant - 'px.data.tips()':\n",
    "\n",
    "import plotly.express as px\n",
    "tips = px.data.tips()\n",
    "fig = px.scatter(tips, x=\"total_bill\", y=\"tip\", facet_row=\"time\", facet_col=\"day\", color=\"smoker\",\n",
    "                 trendline=\"ols\",\n",
    "          category_orders={\"day\": [\"Thur\", \"Fri\", \"Sat\", \"Sun\"], \"time\": [\"Lunch\", \"Dinner\"]})\n",
    "fig.show('notebook')\n"
   ]
  },
  {
   "cell_type": "code",
   "execution_count": null,
   "metadata": {},
   "outputs": [],
   "source": [
    "# Parallel coordinates:\n",
    "\n",
    "import plotly.express as px\n",
    "iris = px.data.iris()\n",
    "fig = px.parallel_coordinates(iris, color=\"species_id\", labels={\"species_id\": \"Species\",\n",
    "                  \"sepal_width\": \"Sepal Width\", \"sepal_length\": \"Sepal Length\",\n",
    "                  \"petal_width\": \"Petal Width\", \"petal_length\": \"Petal Length\", },\n",
    "                    color_continuous_scale=px.colors.diverging.Tealrose, color_continuous_midpoint=2)\n",
    "fig.show('notebook')\n"
   ]
  },
  {
   "cell_type": "code",
   "execution_count": null,
   "metadata": {},
   "outputs": [],
   "source": [
    "tips = px.data.tips()\n",
    "fig = px.parallel_categories(tips, color=\"size\", color_continuous_scale=px.colors.sequential.Inferno)\n",
    "fig.show()\n",
    "\n",
    "import plotly.express as px\n",
    "tips = px.data.tips()\n",
    "fig = px.scatter(tips, x=\"total_bill\", y=\"tip\", color=\"size\", facet_col=\"sex\",\n",
    "           color_continuous_scale=px.colors.sequential.Viridis, render_mode=\"webgl\")\n",
    "fig.show('notebook')\n"
   ]
  },
  {
   "cell_type": "code",
   "execution_count": null,
   "metadata": {},
   "outputs": [],
   "source": [
    "import plotly.express as px\n",
    "gapminder = px.data.gapminder()\n",
    "fig = px.scatter(gapminder.query(\"year==2007\"), x=\"gdpPercap\", y=\"lifeExp\", size=\"pop\", color=\"continent\",\n",
    "           hover_name=\"country\", log_x=True, size_max=60)\n",
    "fig.show('notebook')\n"
   ]
  },
  {
   "cell_type": "markdown",
   "metadata": {},
   "source": [
    "### Interactive Graphs."
   ]
  },
  {
   "cell_type": "code",
   "execution_count": null,
   "metadata": {},
   "outputs": [],
   "source": [
    "# You can animate it yourself, or press play:\n",
    "\n",
    "import plotly.express as px\n",
    "gapminder = px.data.gapminder()\n",
    "fig = px.scatter(gapminder, x=\"gdpPercap\", y=\"lifeExp\", animation_frame=\"year\", animation_group=\"country\",\n",
    "           size=\"pop\", color=\"continent\", hover_name=\"country\", facet_col=\"continent\",\n",
    "           log_x=True, size_max=45, range_x=[100,100000], range_y=[25,90])\n",
    "fig.show('notebook')\n"
   ]
  },
  {
   "cell_type": "code",
   "execution_count": null,
   "metadata": {},
   "outputs": [],
   "source": [
    "import plotly.express as px\n",
    "gapminder = px.data.gapminder()\n",
    "fig = px.scatter(gapminder, x=\"gdpPercap\", y=\"lifeExp\", animation_frame=\"year\", animation_group=\"country\",\n",
    "           size=\"pop\", color=\"continent\", hover_name=\"country\", facet_col=\"continent\",\n",
    "           log_x=True, size_max=45, range_x=[100,100000], range_y=[25,90])\n",
    "fig.show('notebook')\n"
   ]
  },
  {
   "cell_type": "code",
   "execution_count": null,
   "metadata": {},
   "outputs": [],
   "source": [
    "import plotly.express as px\n",
    "election = px.data.election()\n",
    "fig = px.scatter_3d(election, x=\"Joly\", y=\"Coderre\", z=\"Bergeron\", color=\"winner\", size=\"total\", \n",
    "                    hover_name=\"district\",\n",
    "                  symbol=\"result\", color_discrete_map = {\"Joly\": \"blue\", \"Bergeron\": \"green\", \"Coderre\":\"red\"})\n",
    "fig.show('notebook')\n",
    "\n",
    "# You can interact with it with your mouse!!!"
   ]
  },
  {
   "cell_type": "code",
   "execution_count": null,
   "metadata": {},
   "outputs": [],
   "source": [
    "import plotly.express as px\n",
    "wind = px.data.wind()\n",
    "fig = px.bar_polar(wind, r=\"frequency\", theta=\"direction\", color=\"strength\", template=\"plotly_dark\",\n",
    "            color_discrete_sequence= px.colors.sequential.Plasma[-2::-1])\n",
    "fig.show('notebook')\n"
   ]
  },
  {
   "cell_type": "code",
   "execution_count": null,
   "metadata": {},
   "outputs": [],
   "source": [
    "import plotly.express as px\n",
    "gapminder = px.data.gapminder()\n",
    "fig = px.line_geo(gapminder.query(\"year==2007\"), locations=\"iso_alpha\", color=\"continent\", \n",
    "                  projection=\"orthographic\")\n",
    "fig.show()"
   ]
  },
  {
   "cell_type": "code",
   "execution_count": null,
   "metadata": {},
   "outputs": [],
   "source": [
    "import plotly.express as px\n",
    "gapminder = px.data.gapminder()\n",
    "fig = px.choropleth(gapminder, locations=\"iso_alpha\", color=\"lifeExp\", hover_name=\"country\", \n",
    "                    animation_frame=\"year\", range_color=[20,80])\n",
    "fig.show('notebook')\n"
   ]
  },
  {
   "cell_type": "code",
   "execution_count": null,
   "metadata": {},
   "outputs": [],
   "source": []
  },
  {
   "cell_type": "code",
   "execution_count": null,
   "metadata": {},
   "outputs": [],
   "source": []
  }
 ],
 "metadata": {
  "kernelspec": {
   "display_name": "Python 3 (ipykernel)",
   "language": "python",
   "name": "python3"
  },
  "language_info": {
   "codemirror_mode": {
    "name": "ipython",
    "version": 3
   },
   "file_extension": ".py",
   "mimetype": "text/x-python",
   "name": "python",
   "nbconvert_exporter": "python",
   "pygments_lexer": "ipython3",
   "version": "3.9.7"
  }
 },
 "nbformat": 4,
 "nbformat_minor": 4
}
