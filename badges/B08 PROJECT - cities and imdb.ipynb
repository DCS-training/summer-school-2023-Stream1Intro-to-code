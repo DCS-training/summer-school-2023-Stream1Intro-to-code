{
 "cells": [
  {
   "cell_type": "code",
   "execution_count": null,
   "metadata": {},
   "outputs": [],
   "source": [
    "# experimental: you can run this cell to see your code full-width\n",
    "from IPython.display import display, HTML\n",
    "display(HTML(\"<style>.container { width:100% !important; }</style>\"))"
   ]
  },
  {
   "cell_type": "code",
   "execution_count": null,
   "metadata": {},
   "outputs": [],
   "source": [
    "import pprint as pp\n",
    "from datetime import datetime, timedelta, date, timezone\n",
    "import json"
   ]
  },
  {
   "cell_type": "markdown",
   "metadata": {},
   "source": [
    "### In this notebook you will find two small datasets to play with: Large UK sities, Oscar winning movies\n",
    "\n",
    "Come up with questions and answer them. hint: use List comprehensions and remember that often you you need to split the task into smaller chunks \n",
    "\n",
    "Some example questions you might want to investigate. A good way to approach it is: \n",
    "- specify a question \n",
    "- write a function that answer the question\n",
    "- write a short answer to a question.\n",
    "\n",
    "eg.\n",
    "Q: How many cities are north of Hadrian's wall? (i.e. their Latitude is higher than 55)\n",
    "A: Edinburgh and Glasgow are north of Hadrian's wall (this is a simplification).\n",
    "\n",
    "Code:\n",
    "\n",
    "```\n",
    "def cities_names_north_of(all_cities, latitude_boundary):\n",
    "    return [\n",
    "        city['Name']\n",
    "        for city in all_cities\n",
    "        if city['Geo']['Coordinates']['Latitude'] > latitude_boundary\n",
    "    ]\n",
    "\n",
    "north_of_the_wall = cities_names_north_of(cities_uk, 55)\n",
    "print(north_of_the_wall)\n",
    "\n",
    "### ['Glasgow', 'Edinburgh']\n",
    "```"
   ]
  },
  {
   "cell_type": "markdown",
   "metadata": {},
   "source": [
    "### First Dataset: Large UK cities\n",
    "\n",
    "Here are some example questions:\n",
    "\n",
    "- how many cities are there in the dataset?\n",
    "- What is the average population of those cities? How about average density of population?\n",
    "- which cities are South of a city called Edinburgh?\n",
    "\n",
    "This dataset is rather small and simple. Try to answer a few short questions and move to the more interesting dataset 2."
   ]
  },
  {
   "cell_type": "code",
   "execution_count": 17,
   "metadata": {},
   "outputs": [],
   "source": [
    "\n",
    "cities_uk = [{'Geo': {'AreaKm2': 1572,\n",
    "          'Coordinates': {'Latitude': 51.51, 'Longitude': -0.13}},\n",
    "          'Name': 'London',\n",
    "          'Population': 8908081,\n",
    "          'Year_Founded': 47},\n",
    "         {'Geo': {'AreaKm2': 267.77,\n",
    "                  'Coordinates': {'Latitude': 52.48, 'Longitude': -1.9}},\n",
    "          'Name': 'Birmingham',\n",
    "          'Population': 1137100,\n",
    "          'Year_Founded': 1086},\n",
    "         {'Geo': {'AreaKm2': 551.7,\n",
    "                  'Coordinates': {'Latitude': 53.8, 'Longitude': -1.55}},\n",
    "          'Name': 'Leeds',\n",
    "          'Population': 789194,\n",
    "          'Year_Founded': 1893},\n",
    "         {'Geo': {'AreaKm2': 3298,\n",
    "                  'Coordinates': {'Latitude': 55.86, 'Longitude': -4.25}},\n",
    "          'Name': 'Glasgow',\n",
    "          'Population': 635640,\n",
    "          'Year_Founded': 1454},\n",
    "         {'Geo': {'AreaKm2': 142.06,\n",
    "                  'Coordinates': {'Latitude': 53.38, 'Longitude': -1.47}},\n",
    "          'Name': 'Sheffield',\n",
    "          'Population': 577800,\n",
    "          'Year_Founded': 701},\n",
    "         {'Geo': {'AreaKm2': 110,\n",
    "                  'Coordinates': {'Latitude': 51.45, 'Longitude': -2.58}},\n",
    "          'Name': 'Bristol',\n",
    "          'Population': 567111,\n",
    "          'Year_Founded': 1155},\n",
    "         {'Geo': {'AreaKm2': 115.6,\n",
    "                  'Coordinates': {'Latitude': 53.47, 'Longitude': -2.23}},\n",
    "          'Name': 'Manchester',\n",
    "          'Population': 547627,\n",
    "          'Year_Founded': 1301},\n",
    "         {'Geo': {'AreaKm2': 111.84,\n",
    "                  'Coordinates': {'Latitude': 53.41, 'Longitude': -2.99}},\n",
    "          'Name': 'Liverpool',\n",
    "          'Population': 513441,\n",
    "          'Year_Founded': 1207},\n",
    "         {'Geo': {'AreaKm2': 259,\n",
    "                  'Coordinates': {'Latitude': 55.95, 'Longitude': -3.2}},\n",
    "          'Name': 'Edinburgh',\n",
    "          'Population': 488050,\n",
    "          'Year_Founded': 601},\n",
    "         {'Geo': {'AreaKm2': 132.5,\n",
    "                  'Coordinates': {'Latitude': 54.35, 'Longitude': -5.55}},\n",
    "          'Name': 'Belfast',\n",
    "          'Population': 345418,\n",
    "          'Year_Founded': 1613},\n",
    "         {'Geo': {'AreaKm2': 140,\n",
    "                  'Coordinates': {'Latitude': 51.28, 'Longitude': -3.10}},\n",
    "          'Name': 'Cardiff',\n",
    "          'Population': 362400,\n",
    "          'Year_Founded': 1111},             \n",
    "        ]"
   ]
  },
  {
   "cell_type": "code",
   "execution_count": 18,
   "metadata": {},
   "outputs": [
    {
     "name": "stdout",
     "output_type": "stream",
     "text": [
      "['Glasgow', 'Edinburgh']\n"
     ]
    }
   ],
   "source": [
    "# example\n",
    "\n",
    "def cities_names_north_of(all_cities, latitude_boundary):\n",
    "    return [\n",
    "        city['Name']\n",
    "        for city in all_cities\n",
    "        if city['Geo']['Coordinates']['Latitude'] > latitude_boundary\n",
    "    ]\n",
    "\n",
    "north_of_the_wall = cities_names_north_of(cities_uk, 55)\n",
    "print(north_of_the_wall)"
   ]
  },
  {
   "cell_type": "code",
   "execution_count": null,
   "metadata": {},
   "outputs": [],
   "source": []
  },
  {
   "cell_type": "code",
   "execution_count": null,
   "metadata": {},
   "outputs": [],
   "source": []
  },
  {
   "cell_type": "markdown",
   "metadata": {},
   "source": [
    "# Second dataset: Oscar winning movies\n",
    "\n",
    "This dataset is included in a separate file, it's too large to include in this notebook. It describes a large number of oscar-winning movies. Have a look at what we know about each movie - code below prints an example of a movie. \n",
    "\n",
    "Here are some example questions:\n",
    "\n",
    "- how many movies are there in the dataset?\n",
    "- What percentage of movies lists only 'English' as their language? How many list 'Spanish'?\n",
    "- What genre is more popular Adventure or Comedy? Which are on average longer or have higher BoxOffice earnings (if known)?\n",
    "- Does average runtime increase over the years?\n",
    "- Which word is more popular in Plot descriptions eg. 'family' or 'friends'? (pick any two words that you like)"
   ]
  },
  {
   "cell_type": "code",
   "execution_count": null,
   "metadata": {},
   "outputs": [],
   "source": []
  },
  {
   "cell_type": "code",
   "execution_count": 77,
   "metadata": {},
   "outputs": [],
   "source": [
    "# functions to get the data: Run this cell to load the data into variables\n",
    "# it's done for you, so no need to change anything here, or indeed to understnd it, at this point\n",
    "\n",
    "# this function just loads the data from files, there is no need to understand how it does it.\n",
    "def load_json_file_named(file_name):\n",
    "    try: \n",
    "        loaded_data = []\n",
    "        file_location = f\"./data/{file_name}\"\n",
    "        with open(file_location, 'r') as file: # or f\"data/{file_name}\" depending on your files\n",
    "            loaded_data =  json.load(file)\n",
    "    except OSError as e:\n",
    "        print(f\"Error. Does the file exist in this folder? {file_location}\\n\\n {e}\")\n",
    "    return loaded_data\n",
    "\n",
    "oscar_movies = load_json_file_named('oscar_movies.json')"
   ]
  },
  {
   "cell_type": "code",
   "execution_count": 78,
   "metadata": {},
   "outputs": [
    {
     "name": "stdout",
     "output_type": "stream",
     "text": [
      "all 485 movies loaded\n"
     ]
    }
   ],
   "source": [
    "print('all', len(oscar_movies),'movies loaded')\n",
    "# data is from https://www.omdbapi.com/ aquired via a Patreon donation"
   ]
  },
  {
   "cell_type": "code",
   "execution_count": null,
   "metadata": {},
   "outputs": [],
   "source": []
  },
  {
   "cell_type": "markdown",
   "metadata": {},
   "source": [
    "## Your code and data exploration below\n",
    "\n",
    "Remember you can add more cells with the + icon, or Insert > Cell"
   ]
  },
  {
   "cell_type": "code",
   "execution_count": 79,
   "metadata": {},
   "outputs": [
    {
     "data": {
      "text/plain": [
       "{'Title': 'Soul',\n",
       " 'Year': '2020',\n",
       " 'Rated': 'PG',\n",
       " 'Released': '25 Dec 2020',\n",
       " 'Runtime': '100 min',\n",
       " 'Genre': 'Animation, Adventure, Comedy',\n",
       " 'Director': 'Pete Docter, Kemp Powers',\n",
       " 'Writer': 'Pete Docter, Mike Jones, Kemp Powers',\n",
       " 'Actors': 'Jamie Foxx, Tina Fey, Graham Norton',\n",
       " 'Plot': 'After landing the gig of a lifetime, a New York jazz pianist suddenly finds himself trapped in a strange land between Earth and the afterlife.',\n",
       " 'Language': 'English, Korean, Inuktitut',\n",
       " 'Country': 'United States',\n",
       " 'Awards': 'Won 2 Oscars. 117 wins & 91 nominations total',\n",
       " 'Poster': 'https://m.media-amazon.com/images/M/MV5BZGE1MDg5M2MtNTkyZS00MTY5LTg1YzUtZTlhZmM1Y2EwNmFmXkEyXkFqcGdeQXVyNjA3OTI0MDc@._V1_SX300.jpg',\n",
       " 'Ratings': [{'Source': 'Internet Movie Database', 'Value': '8.1/10'},\n",
       "  {'Source': 'Rotten Tomatoes', 'Value': '95%'},\n",
       "  {'Source': 'Metacritic', 'Value': '83/100'}],\n",
       " 'Metascore': '83',\n",
       " 'imdbRating': '8.1',\n",
       " 'imdbVotes': '284,194',\n",
       " 'imdbID': 'tt2948372',\n",
       " 'Type': 'movie',\n",
       " 'DVD': '25 Dec 2020',\n",
       " 'BoxOffice': 'N/A',\n",
       " 'Production': 'N/A',\n",
       " 'Website': 'N/A',\n",
       " 'Response': 'True'}"
      ]
     },
     "execution_count": 79,
     "metadata": {},
     "output_type": "execute_result"
    }
   ],
   "source": [
    "# example code\n",
    "oscar_movies[4]"
   ]
  },
  {
   "cell_type": "code",
   "execution_count": 80,
   "metadata": {},
   "outputs": [
    {
     "name": "stdout",
     "output_type": "stream",
     "text": [
      "['Biography', 'Drama', 'History']\n",
      "tests passed\n"
     ]
    }
   ],
   "source": [
    "# example code\n",
    "def get_genres(one_movie):\n",
    "    return one_movie['Genre'].split(', ')\n",
    "\n",
    "print(get_genres(oscar_movies[0]))\n",
    "\n",
    "assert get_genres(oscar_movies[0]) == ['Biography', 'Drama', 'History']\n",
    "print(\"tests passed\")"
   ]
  },
  {
   "cell_type": "code",
   "execution_count": 81,
   "metadata": {},
   "outputs": [
    {
     "name": "stdout",
     "output_type": "stream",
     "text": [
      "True\n",
      "tests passed\n"
     ]
    }
   ],
   "source": [
    "# example code\n",
    "def is_movie_this_genre(one_movie, genre):\n",
    "    genres = one_movie['Genre'].split(', ')\n",
    "    return genre in genres # remember this? \n",
    "\n",
    "print(is_movie_this_genre(oscar_movies[0], 'History'))\n",
    "\n",
    "assert is_movie_this_genre(oscar_movies[0], 'History') == True\n",
    "assert is_movie_this_genre(oscar_movies[0], 'Romance') == False\n",
    "print(\"tests passed\")"
   ]
  },
  {
   "cell_type": "code",
   "execution_count": null,
   "metadata": {},
   "outputs": [],
   "source": []
  },
  {
   "cell_type": "code",
   "execution_count": null,
   "metadata": {},
   "outputs": [],
   "source": []
  },
  {
   "cell_type": "code",
   "execution_count": null,
   "metadata": {},
   "outputs": [],
   "source": []
  },
  {
   "cell_type": "code",
   "execution_count": null,
   "metadata": {},
   "outputs": [],
   "source": []
  },
  {
   "cell_type": "code",
   "execution_count": null,
   "metadata": {},
   "outputs": [],
   "source": []
  },
  {
   "cell_type": "code",
   "execution_count": null,
   "metadata": {},
   "outputs": [],
   "source": []
  },
  {
   "cell_type": "code",
   "execution_count": null,
   "metadata": {},
   "outputs": [],
   "source": []
  },
  {
   "cell_type": "code",
   "execution_count": null,
   "metadata": {},
   "outputs": [],
   "source": []
  },
  {
   "cell_type": "code",
   "execution_count": null,
   "metadata": {},
   "outputs": [],
   "source": []
  }
 ],
 "metadata": {
  "kernelspec": {
   "display_name": "Python 3 (ipykernel)",
   "language": "python",
   "name": "python3"
  },
  "language_info": {
   "codemirror_mode": {
    "name": "ipython",
    "version": 3
   },
   "file_extension": ".py",
   "mimetype": "text/x-python",
   "name": "python",
   "nbconvert_exporter": "python",
   "pygments_lexer": "ipython3",
   "version": "3.9.7"
  }
 },
 "nbformat": 4,
 "nbformat_minor": 2
}
