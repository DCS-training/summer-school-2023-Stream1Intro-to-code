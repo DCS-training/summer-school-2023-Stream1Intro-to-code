{
 "cells": [
  {
   "cell_type": "code",
   "execution_count": 23,
   "id": "cae02b33",
   "metadata": {},
   "outputs": [
    {
     "data": {
      "text/html": [
       "<style>.container { width:100% !important; }</style>"
      ],
      "text/plain": [
       "<IPython.core.display.HTML object>"
      ]
     },
     "metadata": {},
     "output_type": "display_data"
    }
   ],
   "source": [
    "# experimental: you can run this cell to see your code full-width\n",
    "from IPython.display import display, HTML\n",
    "display(HTML(\"<style>.container { width:100% !important; }</style>\"))"
   ]
  },
  {
   "cell_type": "code",
   "execution_count": 24,
   "id": "3f2ae280",
   "metadata": {},
   "outputs": [
    {
     "name": "stdout",
     "output_type": "stream",
     "text": [
      "zsh:1: command not found: jupyter\n",
      "grep: invalid option -- P\n",
      "usage: grep [-abcdDEFGHhIiJLlMmnOopqRSsUVvwXxZz] [-A num] [-B num] [-C[num]]\n",
      "\t[-e pattern] [-f file] [--binary-files=value] [--color=when]\n",
      "\t[--context[=num]] [--directories=action] [--label] [--line-buffered]\n",
      "\t[--null] [pattern] [file ...]\n",
      "zsh:1: command not found: jupyter\n",
      "grep: invalid option -- P\n",
      "usage: grep [-abcdDEFGHhIiJLlMmnOopqRSsUVvwXxZz] [-A num] [-B num] [-C[num]]\n",
      "\t[-e pattern] [-f file] [--binary-files=value] [--color=when]\n",
      "\t[--context[=num]] [--directories=action] [--label] [--line-buffered]\n",
      "\t[--null] [pattern] [file ...]\n",
      "\n",
      "\n",
      "Link below can be send to someone to share your Noteable session:\n",
      "\n",
      "https://noteable.edina.ac.uk/user//tree?token=\n",
      "\n"
     ]
    }
   ],
   "source": [
    "# cell for pair-programming magic link\n",
    "\n",
    "#  run this cell without changing it. It only works on Noteable.\n",
    "! printf \"\\n\\nLink below can be send to someone to share your Noteable session:\\n\\nhttps://noteable.edina.ac.uk/user/$(jupyter notebook list | grep -oP '(?<=user\\/).*(?=\\/\\?)' )/tree?token=$( jupyter notebook list | grep -oP '(?<=token=).*(?= ::)' )\\n\\n\""
   ]
  },
  {
   "cell_type": "markdown",
   "id": "5ac2d4b3",
   "metadata": {},
   "source": [
    "During this lab, you are given a number of simple datasets. Your job is to go thought the whole process of simple data-analysis with them. Please try not so yet use Data Science libraries (Numpy Pandas). This will make sure that you and your partner have strong foundations at performing basic tasks in core Python."
   ]
  },
  {
   "cell_type": "markdown",
   "id": "1172f177",
   "metadata": {},
   "source": [
    "# Task: \n",
    "\n",
    "### For each dataset try to identify one interesting question that data could answer. Then write python code that finds answer to that question, and describe your findings in a visualisation and a few sentences.\n",
    "\n",
    "**1. look at the data.**\n",
    "\n",
    "are they in formats that you might need? (numbers, strings, dates, etc). Remember that you can change variables with data (eg. add new key-value pairs)\n",
    "\n",
    "**2. what are the questions this data could answer?**\n",
    "\n",
    "you are given an example questions, but if you want to pursue different questions, feel free to do that!\n",
    "\n",
    "**3. write code to extract some meaningful information from this data**\n",
    "\n",
    "make your code as meaningful as possible. make sure your variables and functions are meaningful.\n",
    "\n",
    "**4. visualise what you found.**\n",
    "\n",
    "this could be a simple graph, or a printed sentence or table\n",
    "\n",
    "**5. write a very short, two-sentence synopsis of what you found**\n",
    "\n",
    "What question you asked? What is the answer? What could it mean?"
   ]
  },
  {
   "cell_type": "code",
   "execution_count": 25,
   "id": "f113887b",
   "metadata": {},
   "outputs": [],
   "source": [
    "# the usual imports\n",
    "from plotly.subplots import make_subplots\n",
    "import plotly.graph_objects as go\n",
    "from plotly.subplots import make_subplots\n",
    "import plotly.graph_objects as go\n",
    "import pprint as pp\n",
    "from datetime import datetime, timedelta, date, timezone\n",
    "import json"
   ]
  },
  {
   "cell_type": "code",
   "execution_count": 26,
   "id": "c2a87366",
   "metadata": {},
   "outputs": [],
   "source": [
    "# starting code that loads data, run this cell, but no need to understand it in depth\n",
    "# this function just loads the data from files, there is no need to understand how it does it.\n",
    "def load_json_file_named(file_name):\n",
    "    try: \n",
    "        loaded_data = []\n",
    "        file_location = f\"data/{file_name}\"\n",
    "        with open(file_location, 'r') as file: # or f\"data/{file_name}\" depending on your files\n",
    "            loaded_data =  json.load(file)\n",
    "    except OSError as e:\n",
    "        print(f\"Error. Does the file exist in this folder? {file_location}\\n\\n {e}\")\n",
    "    return loaded_data"
   ]
  },
  {
   "cell_type": "code",
   "execution_count": 27,
   "id": "29fd1be6",
   "metadata": {},
   "outputs": [],
   "source": [
    "boards_info = load_json_file_named('nhs_scotland_boards.json')\n",
    "covid_days = load_json_file_named('covid_records_scotland.json')\n",
    "cancer_waiting_times = load_json_file_named('cancer_waiting_times.json')\n",
    "boards_code_lookup = load_json_file_named('boards_code_lookup.json')"
   ]
  },
  {
   "cell_type": "markdown",
   "id": "07bd8808",
   "metadata": {},
   "source": [
    "### First and Second Dataset: NHS boards and Covid days\n",
    "\n",
    "You probably already know this dataset. It consists of two variables:\n",
    "\n",
    "- boards_info contains information about nhs boards \n",
    "- covid_days contains information patients in the first 2 years of covid pandemic\n",
    "\n",
    "Look at the data, and ask yourself: what data-driven insights can we get from it? Come up with your own question, or get inspired by the ones below:\n",
    "\n",
    "Does covid spread more in densely populated areas? Look at NHS boards' population density and number of covid-related deaths in those boards. Maybe also look at:\n",
    "\n",
    "- number of deaths\n",
    "- deaths per person who lives in that board\n",
    "- or deaths per infection"
   ]
  },
  {
   "cell_type": "code",
   "execution_count": 28,
   "id": "bc28a94a",
   "metadata": {},
   "outputs": [
    {
     "name": "stdout",
     "output_type": "stream",
     "text": [
      "{'budget_billions': {'2020': 762, '2021': 775, '2022': 807},\n",
      " 'geographic': {'area_km_2': 2924,\n",
      "                'areas_covered': 'East Ayrshire, North Ayrshire, South '\n",
      "                                 'Ayrshire'},\n",
      " 'name': 'NHS Ayrshire and Arran',\n",
      " 'people': {'patients': 369670, 'staff': 9491}}\n"
     ]
    }
   ],
   "source": [
    "# this is how data looks like:\n",
    "pp.pprint(boards_info[0])"
   ]
  },
  {
   "cell_type": "code",
   "execution_count": 29,
   "id": "34d5103c",
   "metadata": {},
   "outputs": [
    {
     "name": "stdout",
     "output_type": "stream",
     "text": [
      "{'date': 20200309,\n",
      " 'locations': {'NHS Ayrshire and Arran': {'first_infections': 1,\n",
      "                                          'new_deaths': 0,\n",
      "                                          'new_positive': 1,\n",
      "                                          'reinfections': 0},\n",
      "               'NHS Borders': {'first_infections': 1,\n",
      "                               'new_deaths': 0,\n",
      "                               'new_positive': 1,\n",
      "                               'reinfections': 0},\n",
      "               'NHS Dumfries and Galloway': {},\n",
      "               'NHS Fife': {'first_infections': 1,\n",
      "                            'new_deaths': 0,\n",
      "                            'new_positive': 1,\n",
      "                            'reinfections': 0},\n",
      "               'NHS Forth Valley': {'first_infections': 0,\n",
      "                                    'new_deaths': 0,\n",
      "                                    'new_positive': 0,\n",
      "                                    'reinfections': 0},\n",
      "               'NHS Grampian': {'first_infections': 0,\n",
      "                                'new_deaths': 0,\n",
      "                                'new_positive': 0,\n",
      "                                'reinfections': 0},\n",
      "               'NHS Greater Glasgow and Clyde': {'first_infections': 3,\n",
      "                                                 'new_deaths': 0,\n",
      "                                                 'new_positive': 3,\n",
      "                                                 'reinfections': 0},\n",
      "               'NHS Highland': {},\n",
      "               'NHS Lanarkshire': {'first_infections': 0,\n",
      "                                   'new_deaths': 0,\n",
      "                                   'new_positive': 0,\n",
      "                                   'reinfections': 0},\n",
      "               'NHS Lothian': {'first_infections': 3,\n",
      "                               'new_deaths': 0,\n",
      "                               'new_positive': 3,\n",
      "                               'reinfections': 0},\n",
      "               'NHS Orkney': {},\n",
      "               'NHS Shetland': {'first_infections': 4,\n",
      "                                'new_deaths': 0,\n",
      "                                'new_positive': 4,\n",
      "                                'reinfections': 0},\n",
      "               'NHS Tayside': {'first_infections': 3,\n",
      "                               'new_deaths': 0,\n",
      "                               'new_positive': 3,\n",
      "                               'reinfections': 0},\n",
      "               'NHS Western Isles': {}},\n",
      " 'whole_scotland': {'first_infections': 16,\n",
      "                    'new_deaths': 0,\n",
      "                    'new_positive': 16,\n",
      "                    'reinfections': 0}}\n"
     ]
    }
   ],
   "source": [
    "# this is how data looks like:\n",
    "pp.pprint(covid_days[10])"
   ]
  },
  {
   "cell_type": "code",
   "execution_count": null,
   "id": "9a81a964",
   "metadata": {},
   "outputs": [],
   "source": []
  },
  {
   "cell_type": "code",
   "execution_count": null,
   "id": "ce19538a",
   "metadata": {},
   "outputs": [],
   "source": []
  },
  {
   "cell_type": "code",
   "execution_count": null,
   "id": "a4854b48",
   "metadata": {},
   "outputs": [],
   "source": []
  },
  {
   "cell_type": "code",
   "execution_count": null,
   "id": "addb0146",
   "metadata": {},
   "outputs": [],
   "source": []
  },
  {
   "cell_type": "markdown",
   "id": "c8d19c44",
   "metadata": {},
   "source": [
    "### Third dataset: Cancer waiting times:\n",
    "\n",
    "cancer_waiting_times is a json dataset with numbers on how many cancer patients were treated within 1 month of being diagnosed.\n",
    "\n",
    "You will find in it information about year and quarter of when data was gathered, cancer type, numbers of patients, NHS board*\n",
    "\n",
    "*(board comes as an id. You can look it up in the variable boards_code_lookup) \n",
    "\n",
    "For more information about the data you can lookup the source:\n",
    "\n",
    "https://www.opendata.nhs.scot/dataset/cancer-waiting-times/resource/58527343-a930-4058-bf9e-3c6e5cb04010?inner_span=True"
   ]
  },
  {
   "cell_type": "code",
   "execution_count": 30,
   "id": "215a2191",
   "metadata": {},
   "outputs": [
    {
     "name": "stdout",
     "output_type": "stream",
     "text": [
      "{'Board_id': 'S08000015',\n",
      " 'Cancer_types': {'Breast': {'diagnosed': 88, 'treated': 88},\n",
      "                  'Cervical': {'diagnosed': 5, 'treated': 5},\n",
      "                  'Colorectal': {'diagnosed': 56, 'treated': 55},\n",
      "                  'Head & Neck': {'diagnosed': 17, 'treated': 16},\n",
      "                  'Lung': {'diagnosed': 6, 'treated': 6},\n",
      "                  'Lymphoma': {'diagnosed': 25, 'treated': 25},\n",
      "                  'Melanoma': {'diagnosed': 17, 'treated': 17},\n",
      "                  'Ovarian': {'diagnosed': 12, 'treated': 12},\n",
      "                  'Upper GI': {'diagnosed': 42, 'treated': 42},\n",
      "                  'Urological': {'diagnosed': 66, 'treated': 64}},\n",
      " 'Quarter': 1,\n",
      " 'Year': 2012}\n"
     ]
    }
   ],
   "source": [
    "pp.pprint(cancer_waiting_times[0])"
   ]
  },
  {
   "cell_type": "code",
   "execution_count": 31,
   "id": "d91952ea",
   "metadata": {},
   "outputs": [
    {
     "name": "stdout",
     "output_type": "stream",
     "text": [
      "{'S08000015': 'NHS Ayrshire and Arran',\n",
      " 'S08000016': 'NHS Borders',\n",
      " 'S08000017': 'NHS Dumfries and Galloway',\n",
      " 'S08000018': 'NHS Fife',\n",
      " 'S08000019': 'NHS Forth Valley',\n",
      " 'S08000020': 'NHS Grampian',\n",
      " 'S08000021': 'NHS Greater Glasgow and Clyde',\n",
      " 'S08000022': 'NHS Highland',\n",
      " 'S08000023': 'NHS Lanarkshire',\n",
      " 'S08000024': 'NHS Lothian',\n",
      " 'S08000025': 'NHS Orkney',\n",
      " 'S08000026': 'NHS Shetland',\n",
      " 'S08000027': 'NHS Tayside',\n",
      " 'S08000028': 'NHS Western Isles',\n",
      " 'S08000029': 'NHS Fife',\n",
      " 'S08000030': 'NHS Tayside',\n",
      " 'S08000031': 'NHS Greater Glasgow and Clyde',\n",
      " 'S08000032': 'NHS Lanarkshire'}\n"
     ]
    }
   ],
   "source": [
    "pp.pprint(boards_code_lookup)"
   ]
  },
  {
   "cell_type": "code",
   "execution_count": null,
   "id": "754a9753",
   "metadata": {},
   "outputs": [],
   "source": []
  },
  {
   "cell_type": "code",
   "execution_count": null,
   "id": "dc6dcc51",
   "metadata": {},
   "outputs": [],
   "source": []
  },
  {
   "cell_type": "code",
   "execution_count": null,
   "id": "d6836149",
   "metadata": {},
   "outputs": [],
   "source": []
  },
  {
   "cell_type": "code",
   "execution_count": null,
   "id": "1bf58a5c",
   "metadata": {},
   "outputs": [],
   "source": []
  },
  {
   "cell_type": "code",
   "execution_count": null,
   "id": "9004a165",
   "metadata": {},
   "outputs": [],
   "source": []
  }
 ],
 "metadata": {
  "kernelspec": {
   "display_name": "Python 3 (ipykernel)",
   "language": "python",
   "name": "python3"
  },
  "language_info": {
   "codemirror_mode": {
    "name": "ipython",
    "version": 3
   },
   "file_extension": ".py",
   "mimetype": "text/x-python",
   "name": "python",
   "nbconvert_exporter": "python",
   "pygments_lexer": "ipython3",
   "version": "3.9.7"
  }
 },
 "nbformat": 4,
 "nbformat_minor": 5
}
