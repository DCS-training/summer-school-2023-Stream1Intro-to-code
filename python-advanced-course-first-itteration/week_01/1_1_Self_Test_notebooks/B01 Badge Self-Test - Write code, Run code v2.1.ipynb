{
 "cells": [
  {
   "cell_type": "markdown",
   "metadata": {},
   "source": [
    "# Badge 01: Write code, Run code."
   ]
  },
  {
   "cell_type": "markdown",
   "metadata": {},
   "source": [
    "## 🎯 Knowledge Self-Test:\n",
    "\n",
    "Look at the code below and decide at what level are you comfortable with below concepts. Ask yourself: Do I completely understand this code? Could I have written this code? Could I explain this code to someone who does not understand it?\n",
    "\n",
    "Decide whether your understanding is at level:\n",
    "\n",
    "- ⛔️ (0) - I don't understand it\n",
    "- ✅ (1) - I get the simplest examples only\n",
    "- ⭐️ (2) - I get it and could have written this code myself\n",
    "- 🔥 (3) - I could explain subtle differences and intricaties"
   ]
  },
  {
   "cell_type": "markdown",
   "metadata": {},
   "source": [
    "# Concepts:\n",
    "\n",
    "- How is code executed by Python.\n",
    "- What are variables.\n",
    "- That are variables types (string, int, float, bool), and how they impact on how code behaves e.g. 20 + 20 is different than \"20\"+\"20\".\n",
    "- How to change variable types with Casting.\n",
    "- How to ask user for some input"
   ]
  },
  {
   "cell_type": "code",
   "execution_count": null,
   "metadata": {},
   "outputs": [],
   "source": [
    "# Remember - run all code cells from top to bottom as you go through notebook. (Shift + Enter)\n",
    "# Lines starting with '#' are just comments, they output nothing when run."
   ]
  },
  {
   "cell_type": "code",
   "execution_count": null,
   "metadata": {},
   "outputs": [],
   "source": [
    "# Running code and printing things.\n",
    "# Prints appear immediately under the cell.\n",
    "\n",
    "print(3 + 1) \n",
    "print(3 + 2) \n",
    "print(3 + 3) "
   ]
  },
  {
   "cell_type": "code",
   "execution_count": null,
   "metadata": {},
   "outputs": [],
   "source": [
    "# but Output/return of ONLY THE LAST LINE of code appears in the Out[ ]: section below your print.\n",
    "# That's why printing is a nice way to know what's going on\n",
    "\n",
    "2 + 1\n",
    "2 + 2\n",
    "2 + 3"
   ]
  },
  {
   "cell_type": "code",
   "execution_count": null,
   "metadata": {},
   "outputs": [],
   "source": [
    "# Assigning values to variables:\n",
    "\n",
    "name = \"Fiona\"\n",
    "surname = \"McDougal\"\n",
    "full_name = name + surname\n",
    "print(name, surname, full_name)"
   ]
  },
  {
   "cell_type": "code",
   "execution_count": null,
   "metadata": {},
   "outputs": [],
   "source": [
    "distance = 10 + 10 + 1\n",
    "distance = distance + 10\n",
    "print(distance)"
   ]
  },
  {
   "cell_type": "code",
   "execution_count": null,
   "metadata": {},
   "outputs": [],
   "source": [
    "# Variables vs names of variables \n",
    "print(\"Banana!\") # string!\n",
    "print(\"name\") # string!\n",
    "print(name) # variable! notice lack of brackets, and colour difference!"
   ]
  },
  {
   "cell_type": "code",
   "execution_count": null,
   "metadata": {},
   "outputs": [],
   "source": [
    "print(\"We stored a string\", name, \"in a variable called 'name'\")"
   ]
  },
  {
   "cell_type": "code",
   "execution_count": null,
   "metadata": {},
   "outputs": [],
   "source": [
    "# Types:\n",
    "\n",
    "print(type(\"Banana\")) # \"string\" is a short name for \"a string of characters\" i.e. a sentence\n",
    "print(type(1246))"
   ]
  },
  {
   "cell_type": "code",
   "execution_count": 5,
   "metadata": {},
   "outputs": [
    {
     "name": "stdout",
     "output_type": "stream",
     "text": [
      "2020\n",
      "40\n"
     ]
    }
   ],
   "source": [
    "# Types determine meaning of operations.\n",
    "\n",
    "print(\"20\"+\"20\")\n",
    "print(20+20)"
   ]
  },
  {
   "cell_type": "code",
   "execution_count": 6,
   "metadata": {},
   "outputs": [
    {
     "ename": "TypeError",
     "evalue": "can only concatenate str (not \"int\") to str",
     "output_type": "error",
     "traceback": [
      "\u001b[0;31m---------------------------------------------------------------------------\u001b[0m",
      "\u001b[0;31mTypeError\u001b[0m                                 Traceback (most recent call last)",
      "\u001b[0;32m/var/folders/3h/g_yzkj190_36rwj922rrn1nm0000gn/T/ipykernel_11484/380656420.py\u001b[0m in \u001b[0;36m<module>\u001b[0;34m\u001b[0m\n\u001b[0;32m----> 1\u001b[0;31m \u001b[0mprint\u001b[0m\u001b[0;34m(\u001b[0m\u001b[0;34m\"20\"\u001b[0m\u001b[0;34m+\u001b[0m\u001b[0;36m20\u001b[0m\u001b[0;34m)\u001b[0m \u001b[0;31m# This will error out.\u001b[0m\u001b[0;34m\u001b[0m\u001b[0;34m\u001b[0m\u001b[0m\n\u001b[0m",
      "\u001b[0;31mTypeError\u001b[0m: can only concatenate str (not \"int\") to str"
     ]
    }
   ],
   "source": [
    "print(\"20\"+20) # This will error out. Read errors from the bottom line, then upwards."
   ]
  },
  {
   "cell_type": "code",
   "execution_count": 8,
   "metadata": {},
   "outputs": [
    {
     "name": "stdout",
     "output_type": "stream",
     "text": [
      "Tuesday Tuesday\n",
      "Wednesday Tuesday\n"
     ]
    }
   ],
   "source": [
    "# Assigning (giving) values to simple variables happens instantly \n",
    "today = \"Tuesday\"\n",
    "some_day = today\n",
    "print(today, some_day)\n",
    "\n",
    "# There is no 'reference' or 'live connection' between where value came from\n",
    "today = \"Wednesday\" # this does not change 'some_day' variable\n",
    "print(today, some_day)"
   ]
  },
  {
   "cell_type": "code",
   "execution_count": null,
   "metadata": {},
   "outputs": [],
   "source": [
    "# Variables can be Casted (changed/forced) into other variables.\n",
    "\n",
    "print(int(\"20\")+20) # Both as integer.\n",
    "print(\"20\"+str(20)) # Both as string."
   ]
  },
  {
   "cell_type": "code",
   "execution_count": 1,
   "metadata": {},
   "outputs": [
    {
     "name": "stdout",
     "output_type": "stream",
     "text": [
      "what's your name?wdfs\n",
      "Hello wdfs\n"
     ]
    }
   ],
   "source": [
    "# you can ask user for input. \n",
    "# When notebook waits for input is is 'frozen' [*] until responded.\n",
    "# Use [top menu] > Kernel > Restart to unfreeze the notebook, in case of trouble\n",
    "some_name = input(\"what's your name?\")\n",
    "print(\"Hello\", some_name)"
   ]
  },
  {
   "cell_type": "code",
   "execution_count": 3,
   "metadata": {},
   "outputs": [
    {
     "name": "stdout",
     "output_type": "stream",
     "text": [
      "How old are you?4\n",
      "in 5 years you will be 9 years old\n"
     ]
    }
   ],
   "source": [
    "# User response will always come in as a string. So you might need to cast it\n",
    "age = input(\"How old are you?\")\n",
    "print(\"in 5 years you will be\", int(age) + 5,\"years old\")"
   ]
  },
  {
   "cell_type": "markdown",
   "metadata": {},
   "source": [
    "## 🎯 End of Knowledge Self-Test:\n",
    "\n",
    "What do you feel is your level:\n",
    "\n",
    "- ⛔️ (0) - I don't understand it\n",
    "- ✅ (1) - I get the simplest examples only\n",
    "- ⭐️ (2) - I get it and could have written this code myself\n",
    "- 🔥 (3) - I could explain its intricaties\n",
    "\n",
    "What to do if you would like to raise it? \n",
    "\n",
    "- watch the video from an intro course\n",
    "- complete the notebook from the intro course"
   ]
  },
  {
   "cell_type": "code",
   "execution_count": null,
   "metadata": {},
   "outputs": [],
   "source": []
  }
 ],
 "metadata": {
  "kernelspec": {
   "display_name": "Python 3 (ipykernel)",
   "language": "python",
   "name": "python3"
  },
  "language_info": {
   "codemirror_mode": {
    "name": "ipython",
    "version": 3
   },
   "file_extension": ".py",
   "mimetype": "text/x-python",
   "name": "python",
   "nbconvert_exporter": "python",
   "pygments_lexer": "ipython3",
   "version": "3.9.7"
  }
 },
 "nbformat": 4,
 "nbformat_minor": 2
}
