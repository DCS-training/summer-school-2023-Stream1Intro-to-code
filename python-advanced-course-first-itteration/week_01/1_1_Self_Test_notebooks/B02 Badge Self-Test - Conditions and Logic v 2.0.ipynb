{
 "cells": [
  {
   "cell_type": "markdown",
   "metadata": {},
   "source": [
    "# Badge 02: Conditions and Logic."
   ]
  },
  {
   "cell_type": "markdown",
   "metadata": {},
   "source": [
    "# Concepts:\n",
    "\n",
    "- Comparing variables with == returns True or False.\n",
    "- 'if-elif-else' controls, which lines of code are executed and which are skipped, using True or False values.\n",
    "- How to refactor your code so that it is easier to debug.\n",
    "- Indentation (spaces on the left) indicates how python should understand code.\n",
    "- Logic combining many Trues and Falses into one value, like: True and True, False or True, not True."
   ]
  },
  {
   "cell_type": "code",
   "execution_count": 3,
   "metadata": {},
   "outputs": [],
   "source": [
    "# variable types (colours and brackets are your friends)\n",
    "distance = 10\n",
    "name = 'Fiona'\n",
    "in_the_room = True"
   ]
  },
  {
   "cell_type": "code",
   "execution_count": 4,
   "metadata": {},
   "outputs": [
    {
     "name": "stdout",
     "output_type": "stream",
     "text": [
      "True\n",
      "True\n",
      "True\n"
     ]
    }
   ],
   "source": [
    "# Comparisons:\n",
    "print(name == 'Fiona')\n",
    "print('Fiona' != 'Pat') # left is NOT equal to right\n",
    "print(name != 'Pat')"
   ]
  },
  {
   "cell_type": "code",
   "execution_count": 7,
   "metadata": {},
   "outputs": [
    {
     "name": "stdout",
     "output_type": "stream",
     "text": [
      "False\n",
      "False\n",
      "True\n",
      "True\n"
     ]
    }
   ],
   "source": [
    "print(30 < 20)\n",
    "print(distance > 10)\n",
    "print(distance >= 10)\n",
    "print(in_the_room != False) # Statement is NOT equal to False."
   ]
  },
  {
   "cell_type": "code",
   "execution_count": 8,
   "metadata": {},
   "outputs": [
    {
     "name": "stdout",
     "output_type": "stream",
     "text": [
      "True\n",
      "True\n"
     ]
    }
   ],
   "source": [
    "# = means 'put right into left', \n",
    "# == means 'are right and left the same'\n",
    "\n",
    "name = \"Fiona\"\n",
    "print(name == \"Fiona\")\n",
    "\n",
    "is_this_fiona = name == \"Fiona\" # Remember, right hand side of '=' happens first.\n",
    "print(is_this_fiona)"
   ]
  },
  {
   "cell_type": "code",
   "execution_count": 9,
   "metadata": {},
   "outputs": [
    {
     "name": "stdout",
     "output_type": "stream",
     "text": [
      "Thank you for driving safely at  10  miles per hour!\n"
     ]
    }
   ],
   "source": [
    "# Conditions:\n",
    "speed = 10\n",
    "speed_camera_on = True\n",
    "\n",
    "if speed_camera_on == True:  # Could be simplified to just: 'if speed_camera_on:' i/e. a True statement.\n",
    "    if speed == 0:\n",
    "         print(\"You're not moving\")\n",
    "    elif speed > 20:\n",
    "        print(\"Please slow down, this is a TWENTY IS PLENTY zone\")\n",
    "    else:\n",
    "        print(\"Thank you for driving safely at\",speed,\"miles per hour!\")\n",
    "else:\n",
    "    print(\"Speed camera is off\")"
   ]
  },
  {
   "cell_type": "code",
   "execution_count": null,
   "metadata": {},
   "outputs": [],
   "source": [
    "# Logic:\n",
    "if name == \"Fiona\" and distance <= 10 and in_the_room:\n",
    "    # Is this True? Notice that saying just in_the_room is like saying in_the_room == True.\n",
    "    print(\"Fiona is present and nearby\")\n",
    "else:\n",
    "    print(\"Person is not around, or not nearby or it's not Fiona\")\n",
    "    # Change the name, and/or distance, and/or in_the_room = False, to see what prints instead."
   ]
  },
  {
   "cell_type": "markdown",
   "metadata": {},
   "source": [
    " 🎯 End of learning objectives 🎯"
   ]
  },
  {
   "cell_type": "markdown",
   "metadata": {},
   "source": [
    "\n",
    "\n",
    "\n",
    "\n",
    "\n",
    "\n",
    "\n",
    "\n",
    "\n",
    "\n",
    "\n",
    "\n",
    "\n",
    "\n",
    "\n",
    "\n",
    "\n",
    "\n",
    "\n",
    "\n",
    "\n",
    "\n"
   ]
  }
 ],
 "metadata": {
  "kernelspec": {
   "display_name": "Python 3 (ipykernel)",
   "language": "python",
   "name": "python3"
  },
  "language_info": {
   "codemirror_mode": {
    "name": "ipython",
    "version": 3
   },
   "file_extension": ".py",
   "mimetype": "text/x-python",
   "name": "python",
   "nbconvert_exporter": "python",
   "pygments_lexer": "ipython3",
   "version": "3.9.7"
  }
 },
 "nbformat": 4,
 "nbformat_minor": 2
}
