{
 "cells": [
  {
   "cell_type": "markdown",
   "metadata": {},
   "source": [
    "# B07 Badge: Collections, and Collections of Collections."
   ]
  },
  {
   "cell_type": "code",
   "execution_count": 1,
   "metadata": {},
   "outputs": [
    {
     "name": "stdout",
     "output_type": "stream",
     "text": [
      "Mercury\n",
      "Saturn\n",
      "['Mercury', 'Venus', 'Earth', 'Mars', 'Jupyter', 'Saturn', 'Uranus']\n",
      "['Earth', 'Jupyter', 'Mars', 'Mercury', 'Saturn', 'Uranus', 'Venus']\n",
      "['Earth', 'Jupyter', 'Mercury', 'Saturn', 'Uranus', 'Venus']\n"
     ]
    }
   ],
   "source": [
    "# LIST:\n",
    "\n",
    "planets = [\"Mercury\", \"Venus\", \"Earth\", \"Mars\", \"Jupyter\", \"Saturn\", \"Uranus\"]\n",
    "print(planets[0])\n",
    "print(planets[-2])\n",
    "\n",
    "print(planets)\n",
    "planets.sort()\n",
    "print(planets)\n",
    "planets.pop(2)\n",
    "print(planets)"
   ]
  },
  {
   "cell_type": "code",
   "execution_count": 2,
   "metadata": {},
   "outputs": [
    {
     "name": "stdout",
     "output_type": "stream",
     "text": [
      "Latte\n",
      "takeaway cup\n",
      "dict_keys(['type', 'size', 'sugars', 'milk', 'table_number'])\n"
     ]
    }
   ],
   "source": [
    "# DICTIONARY:\n",
    "\n",
    "coffee_order = {\"type\":\"Latte\", \"size\":\"Large\", \"sugars\": 2, \"milk\": \"Oat\", \"table_number\": 8}\n",
    "print(coffee_order[\"type\"])\n",
    "print(coffee_order.get(\"cup\", \"takeaway cup\"))\n",
    "print(coffee_order.keys())"
   ]
  },
  {
   "cell_type": "code",
   "execution_count": 4,
   "metadata": {},
   "outputs": [
    {
     "name": "stdout",
     "output_type": "stream",
     "text": [
      "[{'type': 'Latte', 'milk': 'Cow'}, {'type': 'Lungo', 'milk': 'None'}, {'type': 'Latte', 'milk': 'Oat', 'sugar': 2}]\n"
     ]
    }
   ],
   "source": [
    "# COLLECTIONS OF COLLECTIONS:\n",
    "\n",
    "coffee_orders = [{'type': 'Latte', 'milk': 'Cow'}, \n",
    "                 {'type': 'Lungo', 'milk': 'None'}, \n",
    "                 {'type': 'Latte', 'milk': 'Oat', 'sugar': 2}]\n",
    "\n",
    "# 'simple print':\n",
    "print(coffee_orders)"
   ]
  },
  {
   "cell_type": "code",
   "execution_count": 5,
   "metadata": {},
   "outputs": [
    {
     "name": "stdout",
     "output_type": "stream",
     "text": [
      "[{'milk': 'Cow', 'type': 'Latte'},\n",
      " {'milk': 'None', 'type': 'Lungo'},\n",
      " {'milk': 'Oat', 'sugar': 2, 'type': 'Latte'}]\n"
     ]
    }
   ],
   "source": [
    "# 'Pretty print' (it prints things in a more readable way - in rows)\n",
    "# Let's import a helpfull library pprint('pretty print'), and nickname it 'pp'.\n",
    "\n",
    "import pprint as pp  # you need to do this only ONCE PER NOTEBOOK\n",
    "\n",
    "pp.pprint(coffee_orders)"
   ]
  },
  {
   "cell_type": "code",
   "execution_count": 6,
   "metadata": {},
   "outputs": [
    {
     "name": "stdout",
     "output_type": "stream",
     "text": [
      "{'type': 'Latte', 'milk': 'Cow'}\n",
      "\n",
      "Cow\n"
     ]
    }
   ],
   "source": [
    "# One item:\n",
    "print(coffee_orders[0]) \n",
    "print() # Prints more empty space (new line)\n",
    "print(coffee_orders[0]['milk'])\n"
   ]
  },
  {
   "cell_type": "code",
   "execution_count": 11,
   "metadata": {},
   "outputs": [
    {
     "name": "stdout",
     "output_type": "stream",
     "text": [
      "Mercury\n",
      "Saturn\n"
     ]
    }
   ],
   "source": [
    "planets = [\"Mercury\", \"Venus\", \"Earth\", \"Mars\", \"Jupyter\", \"Saturn\", \"Uranus\"]\n",
    "print(planets[0])\n",
    "print(planets[-2])"
   ]
  },
  {
   "cell_type": "code",
   "execution_count": 8,
   "metadata": {},
   "outputs": [
    {
     "name": "stdout",
     "output_type": "stream",
     "text": [
      "1\n"
     ]
    }
   ],
   "source": [
    "print(planets.count(\"Earth\")) # How many 'Earths' are there?"
   ]
  },
  {
   "cell_type": "code",
   "execution_count": 12,
   "metadata": {},
   "outputs": [
    {
     "name": "stdout",
     "output_type": "stream",
     "text": [
      "0\n"
     ]
    }
   ],
   "source": [
    "print(planets.count(\"Krypton\") )"
   ]
  },
  {
   "cell_type": "code",
   "execution_count": 13,
   "metadata": {},
   "outputs": [
    {
     "name": "stdout",
     "output_type": "stream",
     "text": [
      "3\n"
     ]
    }
   ],
   "source": [
    "print(planets.index(\"Mars\")) "
   ]
  },
  {
   "cell_type": "code",
   "execution_count": 14,
   "metadata": {},
   "outputs": [
    {
     "ename": "ValueError",
     "evalue": "'Krypton' is not in list",
     "output_type": "error",
     "traceback": [
      "\u001b[0;31m---------------------------------------------------------------------------\u001b[0m",
      "\u001b[0;31mValueError\u001b[0m                                Traceback (most recent call last)",
      "\u001b[0;32m/var/folders/3h/g_yzkj190_36rwj922rrn1nm0000gn/T/ipykernel_9216/1938526133.py\u001b[0m in \u001b[0;36m<module>\u001b[0;34m\u001b[0m\n\u001b[0;32m----> 1\u001b[0;31m \u001b[0mplanets\u001b[0m\u001b[0;34m.\u001b[0m\u001b[0mindex\u001b[0m\u001b[0;34m(\u001b[0m\u001b[0;34m\"Krypton\"\u001b[0m\u001b[0;34m)\u001b[0m\u001b[0;34m\u001b[0m\u001b[0;34m\u001b[0m\u001b[0m\n\u001b[0m\u001b[1;32m      2\u001b[0m \u001b[0;31m# Read the error! From the bottom! Then follow the '---->'.\u001b[0m\u001b[0;34m\u001b[0m\u001b[0;34m\u001b[0m\u001b[0m\n",
      "\u001b[0;31mValueError\u001b[0m: 'Krypton' is not in list"
     ]
    }
   ],
   "source": [
    "planets.index(\"Krypton\") \n",
    "# Read the error! From the bottom! Then follow the '---->'."
   ]
  },
  {
   "cell_type": "code",
   "execution_count": 15,
   "metadata": {},
   "outputs": [
    {
     "name": "stdout",
     "output_type": "stream",
     "text": [
      "['Mercury', 'Venus', 'Earth', 'Mars', 'Jupyter', 'Saturn', 'Uranus']\n",
      "['Mercury', 'Venus', 'Mars', 'Jupyter', 'Saturn', 'Uranus']\n",
      "Earth\n"
     ]
    }
   ],
   "source": [
    "planets = [\"Mercury\", \"Venus\", \"Earth\", \"Mars\", \"Jupyter\", \"Saturn\", \"Uranus\"]\n",
    "\n",
    "print(planets)\n",
    "removed_third_planet = planets.pop(2) # Remove item at this index AND RETURN IT. You can save it in a variable. \n",
    "print(planets)\n",
    "\n",
    "print(removed_third_planet)"
   ]
  },
  {
   "cell_type": "code",
   "execution_count": 16,
   "metadata": {},
   "outputs": [
    {
     "name": "stdout",
     "output_type": "stream",
     "text": [
      "['Mercury', 'Venus', 'Earth', 'Mars', 'Jupyter', 'Saturn', 'Uranus']\n",
      "['Mercury', 'Venus', 'Earth', 'Mars', 'Jupyter', 'Saturn']\n",
      "Uranus\n"
     ]
    }
   ],
   "source": [
    "planets = [\"Mercury\", \"Venus\", \"Earth\", \"Mars\", \"Jupyter\", \"Saturn\", \"Uranus\"]\n",
    "\n",
    "print(planets)\n",
    "last_planet = planets.pop() # If no index is specified in 'pop()', the LAST element is removed AND RETURNED.\n",
    "print(planets)\n",
    "\n",
    "print(last_planet)\n"
   ]
  },
  {
   "cell_type": "code",
   "execution_count": null,
   "metadata": {},
   "outputs": [],
   "source": [
    "planets = [\"Mercury\", \"Venus\", \"Earth\", \"Mars\", \"Jupyter\", \"Saturn\",\"Uranus\"]\n",
    "\n",
    "print(planets)\n",
    "planets.remove(\"Venus\") # Remove one by value (if many of the same value are present, remove the first instance).\n",
    "print(planets)"
   ]
  },
  {
   "cell_type": "code",
   "execution_count": null,
   "metadata": {},
   "outputs": [],
   "source": [
    "# Try it with:\n",
    "planets.remove(\"Krypton\") \n",
    "# This will error?"
   ]
  },
  {
   "cell_type": "code",
   "execution_count": null,
   "metadata": {},
   "outputs": [],
   "source": [
    "# Add one at the end.\n",
    "\n",
    "planets = [\"Mercury\", \"Venus\", \"Earth\", \"Mars\", \"Jupyter\"]\n",
    "\n",
    "print(planets)\n",
    "planets.append(\"Pluto\") \n",
    "print(planets)"
   ]
  },
  {
   "cell_type": "code",
   "execution_count": null,
   "metadata": {},
   "outputs": [],
   "source": [
    "# add one at a specific place and push everything else up\n",
    "planets = [\"Mercury\", \"Venus\", \"Earth\", \"Mars\", \"Jupyter\"]\n",
    "\n",
    "print(planets)\n",
    "planets.insert(2, \"Krypton\") \n",
    "print(planets)"
   ]
  },
  {
   "cell_type": "markdown",
   "metadata": {},
   "source": [
    "### Add many items."
   ]
  },
  {
   "cell_type": "code",
   "execution_count": null,
   "metadata": {},
   "outputs": [],
   "source": [
    "# add another LIST of items. Notice the argument is a LIST! i.e. it's some elements in a [ ]\n",
    "planets = [\"Mercury\", \"Venus\",\"Earth\"] \n",
    "\n",
    "print(planets)\n",
    "planets.extend([\"Jupyter\", \"Saturn\"]) \n",
    "print(planets)"
   ]
  },
  {
   "cell_type": "code",
   "execution_count": null,
   "metadata": {},
   "outputs": [],
   "source": [
    "# combine two lists (as if you were combining two numbers 2+2 )\n",
    "# add all of right list items at the end of left list, we're adding List + List\n",
    "planets = [\"Mercury\", \"Venus\", \"Earth\", \"Mars\", \"Jupyter\"]\n",
    "\n",
    "print(planets)\n",
    "planets += [\"Uranus\", \"Neptune\"] \n",
    "print(planets)\n",
    "\n",
    "# planets = planets + \"Pluto\" # this would error. Can't add List + String"
   ]
  },
  {
   "cell_type": "code",
   "execution_count": null,
   "metadata": {},
   "outputs": [],
   "source": [
    "# note: appending a List to a List will do something weird. Look at the brackets! what happened?\n",
    "planets = [\"Mercury\", \"Venus\", \"Earth\", \"Mars\", \"Jupyter\"]\n",
    "\n",
    "print(planets)\n",
    "planets.append([\"Saturn\",\"Uranus\"]) # add collection AS AN ITEM\n",
    "print(planets)"
   ]
  },
  {
   "cell_type": "markdown",
   "metadata": {},
   "source": [
    "So remember:\n",
    "\n",
    "- **append( a )** - add anything to a list, it will become the last item\n",
    "- **extend( [a,b,c] )** - add another list to a list. They will merge into one."
   ]
  },
  {
   "cell_type": "markdown",
   "metadata": {},
   "source": [
    "### Check if item is in a list."
   ]
  },
  {
   "cell_type": "code",
   "execution_count": null,
   "metadata": {},
   "outputs": [],
   "source": [
    "planets = [\"Mercury\", \"Venus\", \"Earth\", \"Mars\", \"Jupyter\"]\n",
    "\n",
    "is_earth_in_planets = \"Earth\" in planets\n",
    "print(is_earth_in_planets)"
   ]
  },
  {
   "cell_type": "code",
   "execution_count": null,
   "metadata": {},
   "outputs": [],
   "source": [
    "if \"Earth\" in planets:\n",
    "    print(\"It's here!\")\n",
    "else:\n",
    "    print(\"Nope\")"
   ]
  },
  {
   "cell_type": "markdown",
   "metadata": {},
   "source": [
    "## Changing a whole List."
   ]
  },
  {
   "cell_type": "markdown",
   "metadata": {},
   "source": [
    "### Reverse order:"
   ]
  },
  {
   "cell_type": "code",
   "execution_count": 20,
   "metadata": {},
   "outputs": [
    {
     "name": "stdout",
     "output_type": "stream",
     "text": [
      "['Mercury', 'Venus', 'Earth', 'Mars', 'Jupyter']\n",
      "['Earth', 'Jupyter', 'Mars', 'Mercury', 'Venus']\n",
      "['Venus', 'Mercury', 'Mars', 'Jupyter', 'Earth']\n"
     ]
    }
   ],
   "source": [
    "planets = [\"Mercury\", \"Venus\", \"Earth\", \"Mars\", \"Jupyter\"]\n",
    "\n",
    "print(planets)\n",
    "planets.sort() # Sorts alphabetically.\n",
    "print(planets)\n",
    "planets.reverse() # reverses\n",
    "print(planets)"
   ]
  },
  {
   "cell_type": "markdown",
   "metadata": {},
   "source": [
    "### Set is like a list, but of unique items. "
   ]
  },
  {
   "cell_type": "code",
   "execution_count": 18,
   "metadata": {},
   "outputs": [
    {
     "name": "stdout",
     "output_type": "stream",
     "text": [
      "['apple', 'banana', 'banana', 'cherry', 'kiwi', 'plum', 'apple', 'kiwi']\n",
      "{'apple', 'plum', 'kiwi', 'banana', 'cherry'}\n",
      "['apple', 'plum', 'kiwi', 'banana', 'cherry']\n"
     ]
    }
   ],
   "source": [
    "fruit_list = [\"apple\", \"banana\", \"banana\", \"cherry\", \"kiwi\", \"plum\",\"apple\", \"kiwi\"]\n",
    "print(fruit_list)\n",
    "\n",
    "fruit_set = set( fruit_list )\n",
    "print(fruit_set)\n",
    "\n",
    "fruit_list = list( fruit_set )\n",
    "print(fruit_list)\n",
    "\n",
    "# Indeed, this could be a one-liner.\n",
    "# Notice the order became jumbled."
   ]
  },
  {
   "cell_type": "code",
   "execution_count": 19,
   "metadata": {},
   "outputs": [
    {
     "name": "stdout",
     "output_type": "stream",
     "text": [
      "['apple', 'banana', 'banana', 'cherry', 'kiwi', 'plum', 'apple', 'kiwi']\n",
      "['apple', 'plum', 'kiwi', 'banana', 'cherry']\n"
     ]
    }
   ],
   "source": [
    "# Indeed, this could be a one-liner: Turn list into unique set, then back into list.\n",
    "# note you will loose ordering\n",
    "\n",
    "fruit_list = [\"apple\", \"banana\", \"banana\", \"cherry\", \"kiwi\", \"plum\",\"apple\", \"kiwi\"]\n",
    "\n",
    "print(fruit_list)\n",
    "fruit_list = list(set(fruit_list))\n",
    "print(fruit_list)"
   ]
  },
  {
   "cell_type": "markdown",
   "metadata": {},
   "source": [
    "**TOP TIP**: How would you find out how many unique values are in a list?\n",
    "\n",
    "- Turn the list into a set - it will only keep unique values.\n",
    "- Check the length of that set."
   ]
  },
  {
   "cell_type": "code",
   "execution_count": null,
   "metadata": {},
   "outputs": [],
   "source": [
    "fruit_list = [\"apple\", \"banana\", \"banana\", \"cherry\", \"kiwi\", \"plum\",\"apple\", \"kiwi\"]\n",
    "print( \"Number of unique values:\", len(set(fruit_list)) )"
   ]
  },
  {
   "cell_type": "markdown",
   "metadata": {},
   "source": [
    "## DICTIONARY: A collection of different 'values', each referenced by its name, called 'a key'. "
   ]
  },
  {
   "cell_type": "markdown",
   "metadata": {},
   "source": [
    "OR in more human terms:\n",
    "    \n",
    "## DICTIONARY: Storing different pieces of information about one thing."
   ]
  },
  {
   "cell_type": "code",
   "execution_count": 24,
   "metadata": {},
   "outputs": [
    {
     "name": "stdout",
     "output_type": "stream",
     "text": [
      "Can I have one Large Latte\n",
      "Please make it with 2 sugars\n",
      "and also Oat milk to table 8\n"
     ]
    }
   ],
   "source": [
    "# DICTIONARY - Keys can be anything, order doesn't matter, but they need to be unique.\n",
    "\n",
    "coffee_order = {\"type\":\"Latte\", \"size\":\"Large\", \"sugars\": 2, \"milk\": \"Oat\", \"table_number\": 8}\n",
    "\n",
    "print(\"Can I have one\",coffee_order['size'], coffee_order['type'])\n",
    "print(\"Please make it with\", coffee_order['sugars'], \"sugars\")\n",
    "print(\"and also\", coffee_order['milk'], \"milk to table\", coffee_order['table_number'])\n",
    "\n",
    "# This is not pretty code (we'll improve it later), \n",
    "# but at least you know what is what!"
   ]
  },
  {
   "cell_type": "markdown",
   "metadata": {},
   "source": [
    "### Get values using the key:"
   ]
  },
  {
   "cell_type": "code",
   "execution_count": null,
   "metadata": {},
   "outputs": [],
   "source": [
    "print( coffee_order[\"milk\"] )"
   ]
  },
  {
   "cell_type": "code",
   "execution_count": null,
   "metadata": {},
   "outputs": [],
   "source": [
    "# This will error, because there is no key \"with_caffeine\".\n",
    "print( coffee_order[\"with_caffeine\"] ) "
   ]
  },
  {
   "cell_type": "markdown",
   "metadata": {},
   "source": [
    "And that's why it is safer to use built-in dictionary methods - tools that come built within Python, we'll talk about them later."
   ]
  },
  {
   "cell_type": "code",
   "execution_count": null,
   "metadata": {},
   "outputs": [],
   "source": [
    "print( coffee_order.get(\"milk\") ) # Get value by key.\n",
    "print( coffee_order.get(\"table_number\") ) # Get value by key."
   ]
  },
  {
   "cell_type": "markdown",
   "metadata": {},
   "source": [
    "### Dictionaries dealing with missing values:\n",
    "\n",
    "And you can even request which value should be returned if the key is missing i.e if None is not very meaningful to the situation.\n",
    "\n",
    "The format is ```some_dict.get(some_key, value_if_missing)```."
   ]
  },
  {
   "cell_type": "code",
   "execution_count": null,
   "metadata": {},
   "outputs": [],
   "source": [
    "print( coffee_order.get(\"some key\", \"Default value when Key missing\") ) # You can put anything here.\n",
    "print( coffee_order.get(\"with_caffeine\", \"unknown\") ) # You can put anything here, in place of 'Unkown'."
   ]
  },
  {
   "cell_type": "markdown",
   "metadata": {},
   "source": [
    "This is often useful for implementing **business logic**. \n",
    "E.g. If your client reqeusts: \n",
    "If the caffeine level is unknown, assume it is with caffeine. \n",
    "Most coffee drinkers would just assume that unless they specifically said they want a decaf, their coffee will have caffeine. "
   ]
  },
  {
   "cell_type": "code",
   "execution_count": null,
   "metadata": {},
   "outputs": [],
   "source": [
    "coffee_order = {\"type\":\"Latte\", \"size\":\"Large\"}\n",
    "\n",
    "print( coffee_order.get(\"size\", \"normal\") ) # You can put anything here as the 'backup'.\n",
    "print( coffee_order.get(\"milk\", \"no\") ) \n",
    "print( coffee_order.get(\"with_caffeine\", \"no caffeine\") )\n",
    "\n",
    "# If there is a value - return it - otherwise, return the backup value."
   ]
  },
  {
   "cell_type": "markdown",
   "metadata": {},
   "source": [
    "### Change or add values:\n",
    "\n",
    "In dictionaries there is not much difference between adding a value or changing a value.\n",
    "\n",
    "Basically, to change a value you add it again and it overwrites/replaces the previous value. "
   ]
  },
  {
   "cell_type": "code",
   "execution_count": null,
   "metadata": {},
   "outputs": [],
   "source": [
    "coffee_order = {\"type\":\"Latte\", \"milk\": \"Oat\"}\n",
    "print(coffee_order)\n",
    "\n",
    "coffee_order[\"type\"] = \"Lungo\" # Change value, if key already exists.\n",
    "print(coffee_order)\n",
    "\n",
    "coffee_order[\"own_cup\"] = True # Add key-value pair, if key doesn't exist yet.\n",
    "print(coffee_order)"
   ]
  },
  {
   "cell_type": "markdown",
   "metadata": {},
   "source": [
    "### You can use functions for more safe and predictable results.\n",
    "\n",
    "E.g. ```setdefault(some_key, some_value)``` will only change the value **if this key does not exist yet**.\n",
    "\n",
    "So it should really be called \"set_if_empty()\" or something like that. Oh well let's work with what we have ;) "
   ]
  },
  {
   "cell_type": "code",
   "execution_count": null,
   "metadata": {},
   "outputs": [],
   "source": [
    "coffee_order = {\"type\":\"Latte\", \"milk\": \"Oat\"}\n",
    "\n",
    "print(coffee_order)\n",
    "coffee_order.setdefault(\"temperature\",\"hot\") # This adds a key-value pair.\n",
    "coffee_order.setdefault(\"type\",\"Cappuchino\") # This does nothing, because this dictionary already has a key 'type'.\n",
    "print(coffee_order)"
   ]
  },
  {
   "cell_type": "code",
   "execution_count": null,
   "metadata": {},
   "outputs": [],
   "source": [
    "coffee_order = {\"type\":\"Latte\", \"size\":\"Large\",\"sugars\": 6,  \"milk\" : \"Cow\"}\n",
    "\n",
    "print(coffee_order) \n",
    "coffee_order.update( { \"milk\": \"Oat\", \"cup\": \"takeaway\"}) \n",
    "print(coffee_order) \n",
    "\n",
    "# Milk is overwritten, because it already exsisted, cup is added."
   ]
  },
  {
   "cell_type": "markdown",
   "metadata": {},
   "source": [
    "### Simplifying the dictionary to just its keys, or just its values:"
   ]
  },
  {
   "cell_type": "code",
   "execution_count": null,
   "metadata": {},
   "outputs": [],
   "source": [
    "coffee_order = {\"type\":\"Latte\", \"size\":\"Large\", \"sugars\": 2,\"milk\": \"Oat\", \"table_number\": 8}\n",
    "\n",
    "print( coffee_order.keys() ) # Returns all keys as a list.\n",
    "print( coffee_order.values() ) # Returns all values as a list"
   ]
  },
  {
   "cell_type": "markdown",
   "metadata": {},
   "source": [
    "There is no guarantee the results of  ```keys()``` and ```values()``` will be ordered in any particular way.\n",
    "\n",
    "Also, while dictionaries are sort of like a list and, basically behave like lists. You can force them to actually be a list by CASTING them, like we've casted other 'type's' in Python before. Remember int(\"22\") or string(123)? "
   ]
  },
  {
   "cell_type": "code",
   "execution_count": null,
   "metadata": {},
   "outputs": [],
   "source": [
    "coffee_order = {\"type\":\"Latte\", \"size\":\"Large\", \"sugars\": 2,\"milk\": \"Oat\", \"table_number\": 8}\n",
    "\n",
    "print( list(coffee_order.keys()) ) # Returns all keys as a list.\n",
    "print( list(coffee_order.values()) ) # Returns all values as a list."
   ]
  },
  {
   "cell_type": "markdown",
   "metadata": {},
   "source": [
    "## Real World Data and JSON: Lists of Dictionaries, and Dictionaries of Lists.\n",
    "\n",
    "### Top Tip: look at brackets!\n",
    "### [ ] means LIST\n",
    "### { } means DICTIONARY"
   ]
  },
  {
   "cell_type": "markdown",
   "metadata": {},
   "source": [
    "Instead of having a number of variables:"
   ]
  },
  {
   "cell_type": "code",
   "execution_count": null,
   "metadata": {},
   "outputs": [],
   "source": [
    "coffee_order0 = {\"type\":\"Latte\", \"milk\": \"Cow\"}\n",
    "coffee_order1 = {\"type\":\"Lungo\", \"milk\": \"None\"}\n",
    "coffee_order2 = {\"type\":\"Latte\", \"milk\": \"Oat\", \"sugar\" : 2}\n",
    "\n",
    "print(coffee_order0, coffee_order1, coffee_order2)"
   ]
  },
  {
   "cell_type": "markdown",
   "metadata": {},
   "source": [
    "You would create a list with these variables in it:"
   ]
  },
  {
   "cell_type": "code",
   "execution_count": null,
   "metadata": {},
   "outputs": [],
   "source": [
    "coffee_order0 = {\"type\":\"Latte\", \"milk\": \"Cow\"}\n",
    "coffee_order1 = {\"type\":\"Lungo\", \"milk\": \"None\"}\n",
    "coffee_order2 = {\"type\":\"Latte\", \"milk\": \"Oat\", \"sugar\" : 2}\n",
    "\n",
    "coffee_orders = [coffee_order0, coffee_order1, coffee_order2] # Here, we're putting 3 things in a list!\n",
    "print(coffee_orders)"
   ]
  },
  {
   "cell_type": "markdown",
   "metadata": {},
   "source": [
    "You could even skip having those temporary variables 'coffee_order0', etc. and define dictionaries as you create the list."
   ]
  },
  {
   "cell_type": "code",
   "execution_count": null,
   "metadata": {},
   "outputs": [],
   "source": [
    "coffee_orders = [{'type': 'Latte', 'milk': 'Cow'}, \n",
    "                 {'type': 'Lungo', 'milk': 'None'}, \n",
    "                 {'type': 'Latte', 'milk': 'Oat', 'sugar': 2}]\n",
    "\n",
    "print(coffee_orders)\n",
    "\n",
    "# Super duper tip: When you click/move to the end of a bracket, its 'sibling' bracket will change colour.\n",
    "# Try it - click at both brackets right after ''sugar': 2'."
   ]
  },
  {
   "cell_type": "markdown",
   "metadata": {},
   "source": [
    "## How to navigate lists of dictionaries? \n",
    "\n",
    "### Like accessing a normal list: Keep drilling-in from the left-hand-side.\n",
    "\n",
    "You already know that if you have a list, you can access and change elements of it using the index, like this:"
   ]
  },
  {
   "cell_type": "code",
   "execution_count": null,
   "metadata": {},
   "outputs": [],
   "source": [
    "coffee_orders = [{'type': 'Latte', 'milk': 'Cow'}, \n",
    "                 {'type': 'Lungo', 'milk': 'None'}, \n",
    "                 {'type': 'Latte', 'milk': 'Oat', 'sugar': 2}]\n",
    "pp.pprint(coffee_orders)\n",
    "print() # extra line, just for readability\n",
    "\n",
    "pp.pprint(coffee_orders[0])\n",
    "print()\n",
    "\n",
    "pp.pprint(coffee_orders[0]['type']) # or coffee_orders[0].get('type')"
   ]
  },
  {
   "cell_type": "code",
   "execution_count": null,
   "metadata": {},
   "outputs": [],
   "source": [
    "# Overwrite element at index 1:\n",
    "\n",
    "coffee_orders[1] = {'type': 'Espresso', 'milk': 'None', 'sugar': 4}\n",
    "pp.pprint(coffee_orders)"
   ]
  },
  {
   "cell_type": "markdown",
   "metadata": {},
   "source": [
    "The only way to learn this, is to experiment and practice. You will gradually absorb the idea through repetition."
   ]
  },
  {
   "cell_type": "code",
   "execution_count": null,
   "metadata": {},
   "outputs": [],
   "source": [
    "print(coffee_orders[0])\n",
    "print(coffee_orders[2])\n",
    "print(coffee_orders[2]['sugar'])"
   ]
  },
  {
   "cell_type": "markdown",
   "metadata": {},
   "source": [
    "### How to think about elements of a list? Think of them as variables! \n",
    "\n",
    "You can treat a part of a list like that, as you would treat any variable. You can print it, or you can store it in another variable, or you can even change it.\n",
    "\n",
    "For example, let's extract the first item in this list and save it in a new variable.\n",
    "We can extract some information from that variable, bacause it's a dictionary with keys - 'type', 'milk' and 'sugar'."
   ]
  },
  {
   "cell_type": "code",
   "execution_count": null,
   "metadata": {},
   "outputs": [],
   "source": [
    "coffee_orders = [{'type': 'Latte', 'milk': 'Cow'}, \n",
    "                 {'type': 'Lungo', 'milk': 'None'}, \n",
    "                 {'type': 'Latte', 'milk': 'Oat', 'sugar': 2}]\n",
    "\n",
    "first_coffee = coffee_orders[0] # saving a piece of Dict in another variable\n",
    "print(first_coffee)\n",
    "\n",
    "print(first_coffee['milk'])"
   ]
  },
  {
   "cell_type": "markdown",
   "metadata": {},
   "source": [
    "You could also do it directly, without a temporary variable:"
   ]
  },
  {
   "cell_type": "code",
   "execution_count": null,
   "metadata": {},
   "outputs": [],
   "source": [
    "coffee_orders = [{'type': 'Latte', 'milk': 'Cow'}, \n",
    "                 {'type': 'Lungo', 'milk': 'None'}, \n",
    "                 {'type': 'Latte', 'milk': 'Oat', 'sugar': 2}]\n",
    "\n",
    "print(coffee_orders[0])\n",
    "\n",
    "print(coffee_orders[0]['milk'])"
   ]
  },
  {
   "cell_type": "markdown",
   "metadata": {},
   "source": [
    "### Diving/Reaching deeper into data!\n",
    "\n",
    "Because when you reach into a variable, you can read it from the left:\n",
    "\n",
    "```coffee_orders[0]['milk']``` means:\n",
    "\n",
    "- Get variable coffee_orders ```coffee_orders```.\n",
    "- Then from that result get element at index 0 from it ```[0]```.\n",
    "- Then from that result get a value of a key milk ```['milk']```.\n",
    "\n",
    "Here's a step by step breakdown:"
   ]
  },
  {
   "cell_type": "code",
   "execution_count": null,
   "metadata": {},
   "outputs": [],
   "source": [
    "# Here are the above steps broken down so you can see it better: \n",
    "\n",
    "print(coffee_orders)\n",
    "print(coffee_orders[0])\n",
    "print(coffee_orders[0]['milk'])"
   ]
  },
  {
   "cell_type": "code",
   "execution_count": null,
   "metadata": {},
   "outputs": [],
   "source": [
    "coffee_orders = [{'type': 'Latte', 'milk': 'Cow'}, \n",
    "                 {'type': 'Lungo', 'milk': 'None'}, \n",
    "                 {'type': 'Latte', 'milk': 'Oat', 'sugar': 2, 'extras':\n",
    "                    [\n",
    "                       {'type':'hazelnut syrup', 'portion': 1},\n",
    "                       {'type':'sweatener', 'portion': 3}\n",
    "                    ]\n",
    "                 }]"
   ]
  },
  {
   "cell_type": "code",
   "execution_count": 29,
   "metadata": {},
   "outputs": [
    {
     "name": "stdout",
     "output_type": "stream",
     "text": [
      "{'type': 'Latte', 'milk': 'Oat', 'sugar': 2, 'extras': [{'type': 'hazelnut syrup', 'portion': 1}, {'type': 'sweatener', 'portion': 3}]}\n",
      "\n",
      "[{'type': 'hazelnut syrup', 'portion': 1}, {'type': 'sweatener', 'portion': 3}]\n",
      "{'type': 'sweatener', 'portion': 3}\n",
      "3\n"
     ]
    }
   ],
   "source": [
    "# notice what's goin on here!\n",
    "# how many sweateners this person wants in last latte?\n",
    "# drill in step by step\n",
    "print(coffee_orders[2])\n",
    "print()\n",
    "print(coffee_orders[2]['extras'])\n",
    "print(coffee_orders[2]['extras'][1])\n",
    "print(coffee_orders[2]['extras'][1]['portion'])"
   ]
  },
  {
   "cell_type": "code",
   "execution_count": 28,
   "metadata": {},
   "outputs": [
    {
     "name": "stdout",
     "output_type": "stream",
     "text": [
      "2\n"
     ]
    }
   ],
   "source": [
    "# How many 'extras' items they want in that last latte?\n",
    "print(len(coffee_orders[2]['extras']))"
   ]
  },
  {
   "cell_type": "markdown",
   "metadata": {},
   "source": [
    "The same way as you can extract a value, you could change it:"
   ]
  },
  {
   "cell_type": "code",
   "execution_count": null,
   "metadata": {},
   "outputs": [],
   "source": [
    "coffee_orders = [{'type': 'Latte', 'milk': 'Cow'}, \n",
    "                 {'type': 'Lungo', 'milk': 'None'}, \n",
    "                 {'type': 'Latte', 'milk': 'Oat', 'sugar': 2}]\n",
    "\n",
    "coffee_orders[2]['sugar'] = 1\n",
    "pp.pprint( coffee_orders )"
   ]
  },
  {
   "cell_type": "markdown",
   "metadata": {},
   "source": [
    "What is more, you can use a variable to indicate the index or key that you want to acess:"
   ]
  },
  {
   "cell_type": "code",
   "execution_count": null,
   "metadata": {},
   "outputs": [],
   "source": [
    "coffee_orders = [{'type': 'Latte', 'milk': 'Cow'}, \n",
    "                 {'type': 'Lungo', 'milk': 'None'}, \n",
    "                 {'type': 'Latte', 'milk': 'Oat', 'sugar': 2}]\n",
    "\n",
    "which_order = 1\n",
    "which_attribute = 'type'\n",
    "\n",
    "print(coffee_orders[ which_order ][ which_attribute ])"
   ]
  },
  {
   "cell_type": "markdown",
   "metadata": {},
   "source": [
    "We will use above technique TIME AND AGAIN within the upcoming weeks. \n",
    "\n",
    "Have a careful read of the above code. Try to change it, just to see what it does e.g. get last item's 'milk'."
   ]
  },
  {
   "cell_type": "markdown",
   "metadata": {},
   "source": [
    "## How about dictionaries with lists? It's just the same: Read from left-hand-side.\n",
    "\n",
    "Read from the left-hand-side and imagine drilling into boxes of boxes..."
   ]
  },
  {
   "cell_type": "code",
   "execution_count": null,
   "metadata": {},
   "outputs": [],
   "source": [
    "calculator = {\n",
    "    'numbers': [1,2,3,4,5,6,7,8,9,0],\n",
    "    'functions': [\"+\",\"-\",\"*\",\"/\",\"=\"]\n",
    "}\n",
    "\n",
    "pp.pprint( calculator )"
   ]
  },
  {
   "cell_type": "markdown",
   "metadata": {},
   "source": [
    "To get the value of key 'functions' and then get the fourth item in it:"
   ]
  },
  {
   "cell_type": "code",
   "execution_count": null,
   "metadata": {},
   "outputs": [],
   "source": [
    "pp.pprint( calculator )"
   ]
  },
  {
   "cell_type": "code",
   "execution_count": null,
   "metadata": {},
   "outputs": [],
   "source": [
    "print( calculator['functions'] )\n",
    "print( calculator['functions'][3] )\n",
    "print( calculator['numbers'][-1] )"
   ]
  },
  {
   "cell_type": "markdown",
   "metadata": {},
   "source": [
    "### 🔜 SPOILER ALERT: Object Oriented Design.\n",
    "\n",
    "In a few badges time, you will learn about one of the greatest breakthroughs in modern programming: 'Object Oriented Design'. \n",
    "But for now you can probably already see elements of it:\n",
    "\n",
    "**When you have many dictionaries describing simmilar things, it would be nice if they all used the same keys for ther same type of data**.\n",
    "\n",
    "So that you do not have a list looking like this:\n",
    "\n",
    "\n",
    "```\n",
    "coffee_orders = [{'type': 'Latte', 'milk': 'Oat', 'sugar': 2},\n",
    "                 {'what': 'Latte', 'Milk': 'Oat', 'sweetness': 2},\n",
    "                 {'which': 'Latte', 'mikl': 'Oat', 'sugariness': 2}]\n",
    "```\n",
    "\n",
    "Objects will make this dramatically easier, but for now, you'll just need to be careful with your spelling and use 'Tab' key for predictive typing (if it works in your browser). \n",
    "\n",
    "We'll talk more about 'Object Oriented Design' some time soon.\n",
    "\n",
    "### Try to stick to one naming convention, basically be consistent with your names. \n",
    "\n",
    "### Whenever you are unclear of how to read big blocks of data, read it from the outside to the inside.\n",
    "\n",
    "### 'Chisel' at it - one step at a time, get closer to the inside."
   ]
  },
  {
   "cell_type": "markdown",
   "metadata": {},
   "source": [
    "## ⭐️⭐️⭐️💥 What you have learned in this session: Three stars and a wish.\n",
    "**In your own words** write in your Learn diary:\n",
    "\n",
    "- 3 things you would like to remember from this badge.\n",
    "- 1 thing you wish to understand better in the future or a question you'd like to ask."
   ]
  },
  {
   "cell_type": "markdown",
   "metadata": {},
   "source": [
    "# ⛏ Bonus Minitask: Create some data, and then read some data.\n",
    "\n",
    "\n",
    "Remember to every now and then save your progress (File > Save, or a keyboard shortcut) \n",
    "\n",
    "## ⛏ 1: Create data for a number of sandwiches / bagels.\n",
    "\n",
    "Create a list with a number of dictionaries in it. Each dictionary should describe a sandwich: eg. bread type, price, name. Some attributes will be strings, other numbers or even boolean values. Make sure you have some of each.\n",
    "\n",
    "It is up to you what information you store about a sandwich. Make your list have at least 4 items, and make sure each item has at least 3 attributes. If you do not know where to start, use above examples with coffee orders. "
   ]
  },
  {
   "cell_type": "code",
   "execution_count": 6,
   "metadata": {},
   "outputs": [],
   "source": [
    "# here wrtite your code\n",
    "# this task is about sandwiches, but if it was about fruits, it could look like this:\n",
    "fruits = [{'species':'apple', 'variety':'granny smith', 'color':'green'},\n",
    "         {'species':'apple', 'variety':'McIntosh', 'color':'red'},\n",
    "         {'species':'banana', 'color':'yellow', 'stickers':['fairtrader', 'organic']\n",
    "         }]\n",
    "# so now write something like that for your favourite 3-4 sanwiches"
   ]
  },
  {
   "cell_type": "code",
   "execution_count": 7,
   "metadata": {},
   "outputs": [],
   "source": [
    "# more space for your code!\n"
   ]
  },
  {
   "cell_type": "code",
   "execution_count": 8,
   "metadata": {},
   "outputs": [
    {
     "data": {
      "text/plain": [
       "'yellow'"
      ]
     },
     "execution_count": 8,
     "metadata": {},
     "output_type": "execute_result"
    }
   ],
   "source": [
    "# write some queries:\n",
    "# eg. what's the colour of the last fruit?\n",
    "fruits[-1]['color']"
   ]
  },
  {
   "cell_type": "markdown",
   "metadata": {},
   "source": [
    "## ⛏ Extra: Can you add a List of toppings to Each sandwich?\n",
    "\n",
    "Make it just be a list of strings like ```[\"bacon\", \"lettuce\", \"tomato\"]``` so that someone could ask \"what is the second topping on the first sandwich\" by writing ```sandwiches[0]['toppings'][1]```. Always remember to read from the left hand side."
   ]
  },
  {
   "cell_type": "code",
   "execution_count": null,
   "metadata": {},
   "outputs": [],
   "source": [
    "sandwiches = [ \n",
    "        # Here add some sandwich info, like we did for coffee orders.\n",
    "    ]\n",
    "\n",
    "# First topping on last sandwich:\n",
    "print(sandwiches[-1]['topping'][0])"
   ]
  },
  {
   "cell_type": "code",
   "execution_count": null,
   "metadata": {},
   "outputs": [],
   "source": []
  },
  {
   "cell_type": "markdown",
   "metadata": {},
   "source": [
    "## ⛏ 2: Extract information from below data from a real life API source:\n",
    "\n",
    "Below is an excerpt form the API (publicly available data) of Bank of Scotland. \n",
    "It describes 3 cash machines with all of their attributes - languages they support, accessibility issues, etc.\n",
    "\n",
    "Use what you have learned in this badge to understand what you are looking at. Then come up with 5 different questions yourself and write code that will find it out for you:\n",
    "\n",
    "E.g: Easy Level - What is the MinimumPossibleAmount I can recieve from the first cash machine.\n",
    "\n",
    "```print( bank_of_scotland_atms[0]['MinimumPossibleAmount'] ) ```\n",
    "\n",
    "eg. Harder Level - How many languages does the last cash machine support?\n",
    "\n",
    "```print( len( bank_of_scotland_atms[-1]['SupportedLanguages'] ) )```"
   ]
  },
  {
   "cell_type": "code",
   "execution_count": null,
   "metadata": {},
   "outputs": [],
   "source": [
    "# Practise clicking on the bracket to see its 'sibling' bracket i.e. where it opens/closes.\n",
    "\n",
    "bank_of_scotland_atms = [{'Identification': 'BFF7BC11',\n",
    "  'SupportedLanguages': ['eng', 'spa', 'ger', 'fre', 'pol', 'gae', 'ukr'],\n",
    "  'ATMServices': ['PINUnblock',\n",
    "   'Balance',\n",
    "   'BillPayments',\n",
    "   'CashWithdrawal',\n",
    "   'FastCash',\n",
    "   'MobilePhoneTopUp',\n",
    "   'PINChange',\n",
    "   'MiniStatement'],\n",
    "  'Accessibility': ['WheelchairAccess'],\n",
    "  'SupportedCurrencies': ['GBP'],\n",
    "  'MinimumPossibleAmount': '10',\n",
    "  'Branch': {'Identification': '80453100'},\n",
    "  'Location': {'LocationCategory': ['BranchExternal'],\n",
    "   'Site': {'Identification': '80453100'},\n",
    "   'PostalAddress': {'AddressLine': ['136 BUCHANAN STREET; BALFRON'],\n",
    "    'BuildingNumber': 'BOS BRANCH',\n",
    "    'StreetName': '136 BUCHANAN STREET',\n",
    "    'TownName': 'GLASGOW',\n",
    "    'CountrySubDivision': ['GLASGOW'],\n",
    "    'Country': 'GB',\n",
    "    'PostCode': 'G63 0TG',\n",
    "    'GeoLocation': {'GeographicCoordinates': {'Latitude': '56.071629',\n",
    "      'Longitude': '-4.336911'}}}}},\n",
    " {'Identification': 'BFA6HC11',\n",
    "  'SupportedLanguages': ['eng', 'spa', 'ger', 'fre'],\n",
    "  'ATMServices': ['PINUnblock',\n",
    "   'Balance',\n",
    "   'BillPayments',\n",
    "   'CashWithdrawal',\n",
    "   'FastCash',\n",
    "   'MobilePhoneTopUp',\n",
    "   'PINChange',\n",
    "   'MiniStatement'],\n",
    "  'Accessibility': ['AudioCashMachine', 'WheelchairAccess'],\n",
    "  'SupportedCurrencies': ['GBP'],\n",
    "  'MinimumPossibleAmount': '10',\n",
    "  'Branch': {'Identification': '80496000'},\n",
    "  'Location': {'LocationCategory': ['BranchInternal'],\n",
    "   'Site': {'Identification': '80496000'},\n",
    "   'PostalAddress': {'AddressLine': ['BRISTOL ROOM COPLEY DATA CENTRE; WAKEFIELD ROAD'],\n",
    "    'BuildingNumber': 'BOS BRANCH',\n",
    "    'StreetName': 'BRISTOL ROOM COPLEY DATA CENTRE',\n",
    "    'TownName': 'HALIFAX',\n",
    "    'CountrySubDivision': ['WEST YORKSHIRE'],\n",
    "    'Country': 'GB',\n",
    "    'PostCode': 'HX3 0TD',\n",
    "    'GeoLocation': {'GeographicCoordinates': {'Latitude': '51.454900',\n",
    "      'Longitude': '2.592000'}}}}},\n",
    " {'Identification': 'BF88GC11',\n",
    "  'SupportedLanguages': ['eng', 'spa', 'ger', 'fre'],\n",
    "  'ATMServices': ['PINUnblock',\n",
    "   'Balance',\n",
    "   'BillPayments',\n",
    "   'CashWithdrawal',\n",
    "   'FastCash',\n",
    "   'MobilePhoneTopUp',\n",
    "   'PINChange',\n",
    "   'MiniStatement'],\n",
    "  'Accessibility': ['AudioCashMachine', 'WheelchairAccess'],\n",
    "  'SupportedCurrencies': ['GBP'],\n",
    "  'MinimumPossibleAmount': '10',\n",
    "  'Branch': {'Identification': '80452300'},\n",
    "  'Location': {'LocationCategory': ['BranchInternal'],\n",
    "   'Site': {'Identification': '80452300'},\n",
    "   'PostalAddress': {'AddressLine': ['111 HIGH STREET;'],\n",
    "    'BuildingNumber': 'BOS BRANCH',\n",
    "    'StreetName': '111 HIGH STREET',\n",
    "    'TownName': 'ANNAN',\n",
    "    'CountrySubDivision': ['DUMFRIES AND GALLOWAY'],\n",
    "    'Country': 'GB',\n",
    "    'PostCode': 'DG12 6AB',\n",
    "    'GeoLocation': {'GeographicCoordinates': {'Latitude': '54.987176',\n",
    "      'Longitude': '-3.260075'}}}}}]\n",
    "\n",
    "pp.pprint(bank_of_scotland_atms)"
   ]
  },
  {
   "cell_type": "code",
   "execution_count": null,
   "metadata": {},
   "outputs": [],
   "source": [
    "# eg: what is the MinimumPossibleAmount I can recieve from the first cash machine\n",
    "\n",
    "print( bank_of_scotland_atms[0]['MinimumPossibleAmount'] )"
   ]
  },
  {
   "cell_type": "code",
   "execution_count": null,
   "metadata": {},
   "outputs": [],
   "source": [
    "# how many languages does the last cash machine support?\n",
    "\n",
    "print( len( bank_of_scotland_atms[-1]['SupportedLanguages'] ) )"
   ]
  },
  {
   "cell_type": "markdown",
   "metadata": {},
   "source": [
    "### What else could you do with this ATM data? Have a play! :D\n",
    "\n",
    "It's best if you imagine that the client is asking you a question, and you need to use code to askwer them. eg:\n",
    "\n",
    "- does the first cach machine have 'AudioCashMachine' accessibility feature? (remember you can use if/and/True/False)\n",
    "- what are 'TownName's of all 3 machines?\n",
    "- think of yoru own"
   ]
  },
  {
   "cell_type": "code",
   "execution_count": null,
   "metadata": {},
   "outputs": [],
   "source": []
  }
 ],
 "metadata": {
  "kernelspec": {
   "display_name": "Python 3 (ipykernel)",
   "language": "python",
   "name": "python3"
  },
  "language_info": {
   "codemirror_mode": {
    "name": "ipython",
    "version": 3
   },
   "file_extension": ".py",
   "mimetype": "text/x-python",
   "name": "python",
   "nbconvert_exporter": "python",
   "pygments_lexer": "ipython3",
   "version": "3.9.7"
  }
 },
 "nbformat": 4,
 "nbformat_minor": 2
}
