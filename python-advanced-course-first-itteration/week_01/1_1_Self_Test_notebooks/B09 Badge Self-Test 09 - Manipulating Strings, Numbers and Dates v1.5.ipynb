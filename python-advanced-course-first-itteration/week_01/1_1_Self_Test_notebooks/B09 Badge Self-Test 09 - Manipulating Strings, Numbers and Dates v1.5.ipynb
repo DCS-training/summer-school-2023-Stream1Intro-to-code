{
 "cells": [
  {
   "cell_type": "markdown",
   "metadata": {},
   "source": [
    "# Badge 9: Methods and Manipulating Strings, Numbers and Dates."
   ]
  },
  {
   "cell_type": "code",
   "execution_count": null,
   "metadata": {},
   "outputs": [],
   "source": [
    "# Remember to run all code cells from top to bottom as you go through Notebook.\n",
    "# Lines starting with '#' are just comments, they won't output anything when run.\n",
    "\n",
    "from datetime import datetime, timedelta, date, timezone"
   ]
  },
  {
   "cell_type": "code",
   "execution_count": 3,
   "metadata": {},
   "outputs": [
    {
     "name": "stdout",
     "output_type": "stream",
     "text": [
      "Products:\n",
      "Name:\tBlack Currants\t\tPrice:\t£1.80\t\tType:\tVeg\n",
      "Thank You!\n"
     ]
    }
   ],
   "source": [
    "# /t is a tab, /n is a new line\n",
    "print(\"Products:\\nName:\\tBlack Currants\\t\\tPrice:\\t£1.80\\t\\tType:\\tVeg\\nThank You!\")"
   ]
  },
  {
   "cell_type": "code",
   "execution_count": 4,
   "metadata": {},
   "outputs": [
    {
     "name": "stdout",
     "output_type": "stream",
     "text": [
      "Natasha Gordon\n"
     ]
    }
   ],
   "source": [
    "name = \"  Mrs natasha gordon.\"\n",
    "name = name.strip().rstrip(\".\").lower().lstrip('mrs ').title()\n",
    "print(name)"
   ]
  },
  {
   "cell_type": "code",
   "execution_count": 6,
   "metadata": {},
   "outputs": [
    {
     "name": "stdout",
     "output_type": "stream",
     "text": [
      "Introduction...........1\n",
      "Literature Review.....23\n",
      "Methodology...........40\n"
     ]
    }
   ],
   "source": [
    "print( \"{title:.<20}{page:.>4}\".format(title=\"Introduction\", page=1) )\n",
    "print( \"{title:.<20}{page:.>4}\".format(title=\"Literature Review\", page=23) )\n",
    "print( \"{title:.<20}{page:.>4}\".format(title=\"Methodology\", page=40) )"
   ]
  },
  {
   "cell_type": "code",
   "execution_count": 2,
   "metadata": {},
   "outputs": [
    {
     "name": "stdout",
     "output_type": "stream",
     "text": [
      "hello there Pim\n",
      "hello there Pim\n",
      "hello there Pim\n",
      "hello there Pim\n"
     ]
    }
   ],
   "source": [
    "student = \"Pim\"\n",
    "print(\"hello there \"+student)\n",
    "print(\"hello there {}\".format(student))\n",
    "print(\"hello there {name}\".format(name=student))\n",
    "print(f\"hello there {student}\")"
   ]
  },
  {
   "cell_type": "code",
   "execution_count": null,
   "metadata": {},
   "outputs": [],
   "source": [
    "coffee_orders = [{'type': 'Latte', 'milk': 'Cow'}, \n",
    "                 {'type': 'Lungo', 'milk': 'No'}, \n",
    "                 {'type': 'Latte', 'milk': 'Oat', 'sugar': 2}]\n",
    "\n",
    "shout_format = \"One {type} with {milk} milk please!\"\n",
    "\n",
    "coffee_orders_to_shout = [ \n",
    "    shout_format.format(type=coffee['type'], milk =coffee['milk'])\n",
    "    for coffee in coffee_orders\n",
    "]\n",
    "\n",
    "print('\\n'.join(coffee_orders_to_shout))"
   ]
  },
  {
   "cell_type": "code",
   "execution_count": null,
   "metadata": {},
   "outputs": [],
   "source": [
    "# extra feature: the EXPLODE ** operator, it sort of explodes a dictionary into individual variables\n",
    "\n",
    "shout_format = \"One {type} with {milk} milk please!\"\n",
    "\n",
    "coffee_orders_to_shout = [ \n",
    "    shout_format.format(**coffee) # notice here, and compare with function above!\n",
    "    for coffee in coffee_orders\n",
    "]\n",
    "\n",
    "print('\\n'.join(coffee_orders_to_shout))"
   ]
  },
  {
   "cell_type": "code",
   "execution_count": 9,
   "metadata": {},
   "outputs": [
    {
     "name": "stdout",
     "output_type": "stream",
     "text": [
      "One Latte with Cow milk please!\n",
      "One Lungo with No milk please!\n",
      "One Latte with Oat milk please!\n"
     ]
    }
   ],
   "source": [
    "# Indeed you're quite likely to use it this way:\n",
    "\n",
    "def coffee_as_string(coffee_object): \n",
    "    string_format = \"One {type} with {milk} milk please!\"\n",
    "    return string_format.format(**coffee_object)\n",
    "\n",
    "coffee_orders_to_shout = [ \n",
    "    coffee_as_string(coffee)\n",
    "    for coffee in coffee_orders\n",
    "]\n",
    "\n",
    "print('\\n'.join(coffee_orders_to_shout))"
   ]
  },
  {
   "cell_type": "code",
   "execution_count": null,
   "metadata": {},
   "outputs": [],
   "source": [
    "\n",
    "date_object = datetime.strptime(\"18:30 2019-12-21\", \"%H:%M %Y-%m-%d\")\n",
    "print(date_object)\n",
    "\n",
    "date_now = datetime.now()\n",
    "date_now_as_string =  date_now.strftime(\"%M minutes past %-I%p on %A %-d of %B year %Y\")\n",
    "print(date_now_as_string)\n",
    "\n",
    "date_3_weeks_ago = date.today() - timedelta(weeks=3)\n",
    "print(date_3_weeks_ago)"
   ]
  },
  {
   "cell_type": "markdown",
   "metadata": {},
   "source": [
    "FOR THE CURIOUS: There are many more of these and I encourage you to read the Python documentation:\n",
    "\n",
    " https://docs.python.org/3/library/stdtypes.html#string-methods\n",
    "\n",
    "It's quite a heavy read, but worth it."
   ]
  },
  {
   "cell_type": "code",
   "execution_count": 10,
   "metadata": {},
   "outputs": [
    {
     "name": "stdout",
     "output_type": "stream",
     "text": [
      "christina estefania rodriguez\n",
      "CHRISTINA ESTEFANIA RODRIGUEZ\n",
      "Christina Estefania Rodriguez\n",
      "Christina estefania rodriguez\n"
     ]
    }
   ],
   "source": [
    "name = \"Christina Estefania Rodriguez\"\n",
    "print(name.lower())\n",
    "print(name.upper())\n",
    "print(name.title())\n",
    "print(name.capitalize())"
   ]
  },
  {
   "cell_type": "code",
   "execution_count": 13,
   "metadata": {},
   "outputs": [
    {
     "name": "stdout",
     "output_type": "stream",
     "text": [
      "What's your full name?d\n",
      "d\n",
      "D\n",
      "D\n",
      "D\n"
     ]
    }
   ],
   "source": [
    "# You can type your own name and perform oparations on it.\n",
    "# Note, your notebook freezes when waiting for input - notice [*] in top left of the cell\n",
    "# When something goes wrong, it might be frozen indefinitely.\n",
    "# To unfreeze it, in the top menu either use  Kernel > Interrupt, or Kernel > Restart.\n",
    "# After restart you might have to re-run all the cells on top. Try Cell > Run all Above\n",
    "\n",
    "name = input(\"What's your full name?\")\n",
    "print(name.lower())\n",
    "print(name.upper())\n",
    "print(name.title())\n",
    "print(name.capitalize())"
   ]
  },
  {
   "cell_type": "markdown",
   "metadata": {},
   "source": [
    "### Oh no! Methods ate my homework?\n",
    "\n",
    "Luckily, most methods do not impact the string they were run on e.g. running `name.lower()` on a `name` string does not lowercase that string. It just **returns** a lowercased version of it, while the string maintains it's original identity."
   ]
  },
  {
   "cell_type": "code",
   "execution_count": null,
   "metadata": {},
   "outputs": [],
   "source": [
    "name = \"Christina Estefania Rodriguez\"\n",
    "lowered_name = name.lower()\n",
    "\n",
    "print(name) # Unchanged!\n",
    "print(lowered_name) # The result!"
   ]
  },
  {
   "cell_type": "code",
   "execution_count": null,
   "metadata": {},
   "outputs": [],
   "source": [
    "# But you can pass an argument into 'strip()' and it will clean up any characters.\n",
    "\n",
    "price = \"£10,230.12+tax\"\n",
    "\n",
    "print(\"!\"+ price                +\"!\")\n",
    "print(\"!\"+ price.lstrip(\"£\")    +\"!\")\n",
    "print(\"!\"+ price.rstrip(\"+tax\") +\"!\")\n",
    "print(\"!\"+ price.strip(\"£+tax\") +\"!\") "
   ]
  },
  {
   "cell_type": "code",
   "execution_count": 18,
   "metadata": {},
   "outputs": [
    {
     "name": "stdout",
     "output_type": "stream",
     "text": [
      "iana commande\n"
     ]
    }
   ],
   "source": [
    "# Watchout - strip will also replace all letters that match criteria, even if not in order\n",
    "\n",
    "name = \"dr driana commander\"\n",
    "print(name.strip(\"dr \"))"
   ]
  },
  {
   "cell_type": "code",
   "execution_count": 20,
   "metadata": {},
   "outputs": [
    {
     "name": "stdout",
     "output_type": "stream",
     "text": [
      "driana commander\n"
     ]
    }
   ],
   "source": [
    "# it is sometimes safer to use .replace(this, with_that)\n",
    "print(name.replace(\"dr \", \"\"))"
   ]
  },
  {
   "cell_type": "markdown",
   "metadata": {},
   "source": [
    "### When in doubt 'what does this method do?' - check Documentation.\n",
    "\n",
    "Top tip: To find documentation for something Google/internet search something like this...\n",
    "\n",
    "`name_of_the_language object_youre_after method_you_are_after `\n",
    "\n",
    "e.g.\n",
    "\n",
    "`python string upper`\n",
    "\n",
    "You could also try searching more vague things, like...\n",
    "\n",
    "`how do i make all letters in a string all small in python`"
   ]
  },
  {
   "cell_type": "markdown",
   "metadata": {},
   "source": [
    "Get into a habit of 'looking up' things in the documentation. For example, documentation for .strip() is pasted below, and here is the link: \n",
    "https://docs.python.org/3/library/stdtypes.html#str.strip \n",
    "\n",
    "\n",
    "\n",
    ">    `str.strip([chars])`\n",
    ">\n",
    "> Return a copy of the string with the leading and trailing characters removed. The chars argument is a string specifying the set of characters to be removed. If omitted or None, the chars argument defaults to removing whitespace. The chars argument is not a prefix or suffix; rather, all combinations of its values are stripped:\n",
    ">\n",
    "> ```\n",
    "> '   spacious   '.strip()\n",
    "> # 'spacious'\n",
    ">\n",
    "> 'www.example.com'.strip('cmowz.')\n",
    "> # 'example'\n",
    "> ```\n",
    ">\n",
    "> The outermost leading and trailing chars argument values are stripped from the string. Characters are removed from the leading end until reaching a string character that is not contained in the set of characters in chars. A similar action takes place on the trailing end. For example:\n",
    ">\n",
    "> ```\n",
    "> comment_string = '#....... Section 3.2.1 Issue #32 .......'\n",
    "> comment_string.strip('.#! ')\n",
    "> # 'Section 3.2.1 Issue #32'\n",
    "> ```"
   ]
  },
  {
   "cell_type": "markdown",
   "metadata": {},
   "source": [
    "In your search you will find a few useful websites:\n",
    "    \n",
    "**Official Python Docs**: The actual and best place to see things. Written by the programmer teams who created Python. Sometimes a bit hard to digest, but solid. \n",
    "\n",
    "https://docs.python.org/3/\n",
    "\n",
    "**Stack Overflow**: A question and answer website where community helps each other (think about making an account, it is an amazing resource!) If someone's answer helped you, you can give them some 'respect points'. Remember to be very kind to others when using it.\n",
    "\n",
    "https://stackoverflow.com/search?q=python+string+methods\n",
    "\n",
    "**Other, more 'human friendly' documentations**: There are fan pages and organisations who try to make documents more readable. They often succeed, but also you can find that the documentation is incomplete, out of date, or just wrong.  \n",
    "\n",
    "https://www.w3schools.com/python/python_ref_string.asp\n",
    "https://www.programiz.com/python-programming/methods/string\n"
   ]
  },
  {
   "cell_type": "markdown",
   "metadata": {},
   "source": [
    "### Daisy-chaining or Piping methods - running a method on the output of another method.\n",
    "\n",
    "**Daisy chaining** happens when you connect a cable e.g. power extension cord, to another extension cord, to another extension cord etc. to make them longer. It can be dangerous, cause fire and don't do it at home! \n",
    "\n",
    "But in code, it is fine, even if sometimes your code starts looking like spagthetti 🍝, because you can't find the beginning and end of it.\n",
    "\n",
    "**Piping (like, using water pipes)** happens when you connect many things to each other to create continuous flow, e.g. of water. It's essentially the same as daisy chaining, but sounds less fun."
   ]
  },
  {
   "cell_type": "markdown",
   "metadata": {},
   "source": [
    "You can chain i.e. combine one after another, different string operators. To do that you can put next operation right after another, Separated by dots, like...\n",
    "\n",
    "```my_string.do_this().then_do_this().and_then_do_this()``` "
   ]
  },
  {
   "cell_type": "code",
   "execution_count": null,
   "metadata": {},
   "outputs": [],
   "source": [
    "# To turn \"  Mrs natasha gordon.\" into \"Natasha Gordon\" you could...\n",
    "\n",
    "name = \"  Mrs natasha gordon.\"\n",
    "print(name)\n",
    "\n",
    "# First remove the spaces on both sides:\n",
    "\n",
    "name = name.strip()\n",
    "print(name)\n",
    "\n",
    "# Then the dot on the right:\n",
    "\n",
    "name = name.rstrip(\".\")\n",
    "print(name)\n",
    "\n",
    "# Then turn the string to lower case:\n",
    "name = name.lower()\n",
    "print(name)\n",
    "\n",
    "# Then remove 'mrs' on the left:\n",
    "\n",
    "name = name.lstrip('mrs ')\n",
    "print(name)\n",
    "\n",
    "# Then turn the string to title case:\n",
    "\n",
    "name = name.title()\n",
    "print(name)\n",
    "\n",
    "# Note: Later in the course we might learn more efficient ways to do this."
   ]
  },
  {
   "cell_type": "code",
   "execution_count": null,
   "metadata": {},
   "outputs": [],
   "source": [
    "# but you can also chain these calls:\n",
    "name = \"  Mrs natasha gordon.\"\n",
    "name = name.strip().rstrip(\".\").lower().lstrip('mrs ').title()\n",
    "print(name)"
   ]
  },
  {
   "cell_type": "markdown",
   "metadata": {},
   "source": [
    "**NOTE ON THE ORDER OF READING CODE** \n",
    "When in doubt, like with `=` assignment which needed to perform right-hand-side part first:\n",
    "\n",
    "When using `.` methods, you need to know what you are using them on. So before you can do `name.upper()` you need to be sure what `name` is. The same way if doing `name.strip().upper()` before you can do `upper()` you need to first know what the `name.strip()` is. That's why you read and perform things from left to right.\n",
    "\n",
    "If it confuses you when you try to read a line like that, you can imagine brackets that indicate what happens first and what happens later. But in general putting unnecessery brackets in your code can make it harder to read."
   ]
  },
  {
   "cell_type": "code",
   "execution_count": null,
   "metadata": {},
   "outputs": [],
   "source": [
    "name = \"  Mrs natasha gordon.\"\n",
    "name = ((((name.strip()).rstrip(\".\")).lower()).lstrip('mrs ')).title()\n",
    "print(name)\n",
    "\n",
    "# While these brackets make it more explicit what is going on, they make the code harder to read :(\n",
    "# So if you can help it, skip excessive brackets."
   ]
  },
  {
   "cell_type": "markdown",
   "metadata": {},
   "source": [
    "### Manipulating strings - 'Special Characters'."
   ]
  },
  {
   "cell_type": "markdown",
   "metadata": {},
   "source": [
    "**SPECIAL CHARACTERS**: some characters are not visible, but we want to include them into our prints to make things more readable or consistent. Some examples would be 'New Line' (Enter, on your keyboard), 'Tab' (flexible space which alligns with other tabs).\n",
    "\n",
    "To add these we will use so called 'special characters' - characters that take two symbols to write. For example ```\\t``` is a tab, and ```\\n``` is a new line. \n",
    "\n",
    "**FOR THE CURIOUS**: The backslash ```\\``` is called the `escape character`, because it means that you **do not mean the letter** that follows the `\\`, but rather you mean **the hidden special meaning** of that letter.\n",
    "\n",
    "So after a `\\` a letter `t` does not mean a `t` but a `TAB` and `n` means a `NEW LINE`.\n",
    "\n",
    "There are many special characters."
   ]
  },
  {
   "cell_type": "code",
   "execution_count": null,
   "metadata": {},
   "outputs": [],
   "source": [
    "print(\"The book was called \"Detective Rebus's adventures\" and was written in Edinburgh\") # This line will fail\n",
    "\n",
    "# Can you spot why this syntax is incorrect? Try to identify where the strings begin and end.\n",
    "# Run it and read the error carefully, it will help you to find the exact place where things go wrong.\n",
    "# Notice how colours are trying hard to help you ;)"
   ]
  },
  {
   "cell_type": "code",
   "execution_count": null,
   "metadata": {},
   "outputs": [],
   "source": [
    "print(\"The book was called \\\"Detective Rebus's adventures\\\" and was written in Edinburgh\") \n",
    "\n",
    "# Notice that above ' \" ' did not finish a string, because you escaped it with ' \\\" '."
   ]
  },
  {
   "cell_type": "code",
   "execution_count": 21,
   "metadata": {},
   "outputs": [
    {
     "name": "stdout",
     "output_type": "stream",
     "text": [
      "The book was called \"Detective Rebus's adventures\" and was written in Edinburgh\n"
     ]
    }
   ],
   "source": [
    "# or use the \"\"\"mega quote\"\"\" ;) which leaves alone  all other quotes inside\n",
    "print(\"\"\"The book was called \"Detective Rebus's adventures\" and was written in Edinburgh\"\"\") "
   ]
  },
  {
   "cell_type": "markdown",
   "metadata": {},
   "source": [
    "### Making things look pretty with Tab and New Line.\n",
    "\n",
    "Another useful special character is TAB (written it '\\t') and it can space things nicely on the screen. Without tab, things get  squashed and results can look disorganised. It is very useful when presenting data at various lengths, but making them easy to read.\n",
    "\n",
    "Tabs are not perfect, but they do come in useful for printing things like tables."
   ]
  },
  {
   "cell_type": "code",
   "execution_count": 22,
   "metadata": {},
   "outputs": [
    {
     "name": "stdout",
     "output_type": "stream",
     "text": [
      "Name:OrangesPrice:£1.20Type: Fruit\n",
      "Name:PearPrice:£2.10Type:Fruit\n",
      "Name:TomatoPrice:£1.80Type:Veg\n"
     ]
    }
   ],
   "source": [
    "# Hard to read:\n",
    "\n",
    "print(\"Name:OrangesPrice:£1.20Type: Fruit\")\n",
    "print(\"Name:PearPrice:£2.10Type:Fruit\")\n",
    "print(\"Name:TomatoPrice:£1.80Type:Veg\")"
   ]
  },
  {
   "cell_type": "code",
   "execution_count": 24,
   "metadata": {},
   "outputs": [
    {
     "name": "stdout",
     "output_type": "stream",
     "text": [
      "Name:\tOranges\t\tPrice:\t£1.20\t\tType: \tFruit\n",
      "Name:\tPear\t\tPrice:\t£2.10\t\tType:\tFruit\n",
      "Name:\tTomato\t\tPrice:\t£1.80\t\tType:\tVeg\n"
     ]
    }
   ],
   "source": [
    "# Let's add some '\\t' tabs - sometimes even two, to make it look even better:\n",
    "\n",
    "print(\"Name:\\tOranges\\t\\tPrice:\\t£1.20\\t\\tType: \\tFruit\")\n",
    "print(\"Name:\\tPear\\t\\tPrice:\\t£2.10\\t\\tType:\\tFruit\")\n",
    "print(\"Name:\\tTomato\\t\\tPrice:\\t£1.80\\t\\tType:\\tVeg\")\n"
   ]
  },
  {
   "cell_type": "code",
   "execution_count": 25,
   "metadata": {},
   "outputs": [
    {
     "name": "stdout",
     "output_type": "stream",
     "text": [
      "Name:\tOranges\t\tPrice:\t£1.20\t\tType: \tFruit\n",
      "Name:\tPear\t\tPrice:\t£2.10\t\tType:\tFruit\n",
      "Name:\tTomato\t\tPrice:\t£1.80\t\tType:\tVeg\n",
      "Name:\tPineapple\t\tPrice:\t£2.10\t\tType:\tFruit\n",
      "Name:\tBlack Currants\t\tPrice:\t£1.80\t\tType:\tVeg\n"
     ]
    }
   ],
   "source": [
    "# The problem with tabs is that they will jump to the 'next available column' and long words break things:\n",
    "\n",
    "print(\"Name:\\tOranges\\t\\tPrice:\\t£1.20\\t\\tType: \\tFruit\")\n",
    "print(\"Name:\\tPear\\t\\tPrice:\\t£2.10\\t\\tType:\\tFruit\")\n",
    "print(\"Name:\\tTomato\\t\\tPrice:\\t£1.80\\t\\tType:\\tVeg\")\n",
    "print(\"Name:\\tPineapple\\t\\tPrice:\\t£2.10\\t\\tType:\\tFruit\")\n",
    "print(\"Name:\\tBlack Currants\\t\\tPrice:\\t£1.80\\t\\tType:\\tVeg\")\n",
    "\n",
    "# We'll discover an even nicer way soon."
   ]
  },
  {
   "cell_type": "markdown",
   "metadata": {},
   "source": [
    "New Line `\\n` works like tab, but instead of jumping to next column, it moves to the next line."
   ]
  },
  {
   "cell_type": "code",
   "execution_count": 26,
   "metadata": {},
   "outputs": [
    {
     "name": "stdout",
     "output_type": "stream",
     "text": [
      "Monday 11am-5pm Tuesday 9am-5pm Wednesday 9am-5pm Thursday 9am-10pm Friday Closed\n"
     ]
    }
   ],
   "source": [
    "print(\"Monday 11am-5pm Tuesday 9am-5pm Wednesday 9am-5pm Thursday 9am-10pm Friday Closed\")"
   ]
  },
  {
   "cell_type": "code",
   "execution_count": 27,
   "metadata": {},
   "outputs": [
    {
     "name": "stdout",
     "output_type": "stream",
     "text": [
      "Mon 11am-5pm\n",
      "Tue 9am-5pm\n",
      "Wed 9am-5pm\n",
      "Thur 9am-10pm\n",
      "Fri Closed\n"
     ]
    }
   ],
   "source": [
    "print(\"Mon 11am-5pm\\nTue 9am-5pm\\nWed 9am-5pm\\nThur 9am-10pm\\nFri Closed\")"
   ]
  },
  {
   "cell_type": "markdown",
   "metadata": {},
   "source": [
    "## Manipulating Numbers."
   ]
  },
  {
   "cell_type": "markdown",
   "metadata": {},
   "source": [
    "There are also a lot of mathamatical operations you can perform on numbers, for them to present in the shape that you need them to be.\n",
    "\n",
    "The most basic ones we've seen before e.g. `len()`. Here are some more:\n",
    "\n",
    "**absolute value**:  `abs(number)` - number but without the `-` sign if it's below 0.\n",
    "\n",
    "**as whole number**: `int(number)` - represented as an int (whole number) - this will remove decimal points, but not round it! 5.2 becomes 5, 5.7 becomes 5.\n",
    "\n",
    "**rounded** - `round(number)`: round to a whole number. 5.2 becomes 5, 5.7 becomes 6.\n",
    "\n",
    "**rounded with decimal places**: `round(number,3)` - round to 3 decimal spaces 5.212745 becomes 5.213 (note: 3 can be any number).\n",
    "\n",
    "**to the power of**: `pow(number,3)` - raised to the power of 3 eg. 2 becomes 8 (2*2*2) (note: 3 is just an example number). \n",
    "\n",
    "**to the power of**: `number**3` - just another way to say raised to the power of 3.\n"
   ]
  },
  {
   "cell_type": "code",
   "execution_count": null,
   "metadata": {},
   "outputs": [],
   "source": [
    "number = -3.776523 \n",
    "print(number)\n",
    "print(abs(number)) \n",
    "print(int(number)) \n",
    "print(round(number)) \n",
    "print(round(number,3)) \n",
    "\n",
    "# Try to change the number and see what happens."
   ]
  },
  {
   "cell_type": "code",
   "execution_count": null,
   "metadata": {},
   "outputs": [],
   "source": [
    "number = 3\n",
    "print(pow(number,3)) \n",
    "print(number**3)  "
   ]
  },
  {
   "cell_type": "markdown",
   "metadata": {},
   "source": [
    "## String Formatting.\n",
    "\n",
    "There are at least 3 or 4 ways to format strings in Python. We will look at some of them, but at any point just pick one that you like and feel will work for the task at hand.\n",
    "\n",
    "### String formatting method 1: Just add them with a `+`.\n",
    "\n",
    "`\"My name is \"+ \"Dawn\"`"
   ]
  },
  {
   "cell_type": "code",
   "execution_count": 28,
   "metadata": {},
   "outputs": [
    {
     "name": "stdout",
     "output_type": "stream",
     "text": [
      "Hello, goodmorning, my name isJudy, how do you do?\n"
     ]
    }
   ],
   "source": [
    "name = \"Judy\"\n",
    "time_of_day = \"morning\"\n",
    "sentence = \"Hello, good\"+ time_of_day + \", my name is\" + name + \", how do you do?\"\n",
    "print(sentence)"
   ]
  },
  {
   "cell_type": "code",
   "execution_count": 29,
   "metadata": {},
   "outputs": [
    {
     "name": "stdout",
     "output_type": "stream",
     "text": [
      "Hello, good morning, my name is Judy, how do you do?\n"
     ]
    }
   ],
   "source": [
    "# Oh yeah, you will often catch yourself forgetting spaces. Let's fix it:\n",
    "\n",
    "sentence = \"Hello, good \"+ time_of_day + \", my name is \" + name + \", how do you do?\"\n",
    "print(sentence)"
   ]
  },
  {
   "cell_type": "markdown",
   "metadata": {},
   "source": [
    "### String formatting method 2: `.format( )` syntax - specify string with place holders, then replace them with variables."
   ]
  },
  {
   "cell_type": "markdown",
   "metadata": {},
   "source": [
    "Every string can be formatted using the ```.format()``` method that is built into each string, just like ```.upper()```. \n",
    "\n",
    "The ```format()``` method is used like this: ```\"My name is {} and I am {} years old\".format(\"Jo\", 23)```."
   ]
  },
  {
   "cell_type": "code",
   "execution_count": null,
   "metadata": {},
   "outputs": [],
   "source": [
    "# Simple, but can get confusing:\n",
    "\n",
    "\"My name is {} and I am {} years and {} months old.\".format(\"Jo\", 23, 2)"
   ]
  },
  {
   "cell_type": "code",
   "execution_count": null,
   "metadata": {},
   "outputs": [],
   "source": [
    "# Might work, but not very flexible when order changes:\n",
    "\n",
    "\"My name is {0} and I am {1} years and {2} months old\".format(\"Jo\", 23, 2)"
   ]
  },
  {
   "cell_type": "code",
   "execution_count": null,
   "metadata": {},
   "outputs": [],
   "source": [
    "# Best, readable, and flexible:\n",
    "\n",
    "\"My name is {name} and I am {years} years and {months} months old\".format(name=\"Jo\", years=23, months=2)"
   ]
  },
  {
   "cell_type": "markdown",
   "metadata": {},
   "source": [
    "You can also perform calculations right where you pass in function arguments:"
   ]
  },
  {
   "cell_type": "code",
   "execution_count": null,
   "metadata": {},
   "outputs": [],
   "source": [
    "x = 20\n",
    "y = 5\n",
    "\"{} is {} divided by {}\".format(x/y, x, y)"
   ]
  },
  {
   "cell_type": "code",
   "execution_count": null,
   "metadata": {},
   "outputs": [],
   "source": [
    "# this methis is most useful when visualising dicts\n",
    "\n",
    "student = {'name':'Jo', 'years':23, 'months':2}\n",
    "string_format = \"My name is {name} and I am {years} years and {months} months old\"\n",
    "string_format.format(name=student['name'], years=student['years'], months=student['months'])"
   ]
  },
  {
   "cell_type": "code",
   "execution_count": 36,
   "metadata": {},
   "outputs": [
    {
     "data": {
      "text/plain": [
       "'My name is Jo and I am 23 years and 2 months old'"
      ]
     },
     "execution_count": 36,
     "metadata": {},
     "output_type": "execute_result"
    }
   ],
   "source": [
    "# expecially when combined with ** explode operator\n",
    "\n",
    "student = {'name':'Jo', 'years':23, 'months':2}\n",
    "string_format = \"My name is {name} and I am {years} years and {months} months old\"\n",
    "string_format.format(**student)"
   ]
  },
  {
   "cell_type": "markdown",
   "metadata": {},
   "source": [
    "### String formatting 3: Oldschool %s syntax - precursor to .format( ) we will not use this. It's too 1970s.\n",
    "\n",
    "We would not use this, but just in case it comes up in someone else's code:\n",
    "\n",
    "`\"My name is {} and I am {} years and {} months old.\".format(\"Jo\", 23, 2.1)`\n",
    "\n",
    "Used to be written as...\n",
    "\n",
    "`\"My name is %s and I am %d years and %f months old.\" % (\"Jo\", 23, 2.25)`\n",
    "\n",
    "Notice that this old method requires you to specify what type of variable will be places in each spot.\n",
    "\n",
    "**%d** for integers like 345.\n",
    "\n",
    "**%f** for floats (decimal numbers) like 345.67.\n",
    "\n",
    "**%s** for strings like \"banana\"."
   ]
  },
  {
   "cell_type": "code",
   "execution_count": null,
   "metadata": {},
   "outputs": [],
   "source": [
    "# These two lines do the same thing, but .format() is more modern and easier to use.\n",
    "\n",
    "print(\"My name is %s and I am %d years and %f months old.\" % (\"Jo\", 23, 2.25))\n",
    "print(\"My name is {} and I am {} years and {} months old.\".format(\"Jo\", 23, 2.25))\n"
   ]
  },
  {
   "cell_type": "markdown",
   "metadata": {},
   "source": [
    "### String formatting 4: The 'fast format' of 'f strings' - like format, but bundled together ⭐️\n",
    "\n",
    "Fast strings take the `.format()` and make it even easier to use. But it's up to you which one you prefer.\n",
    "\n",
    "Let's imagine we have three variables:\n",
    "\n",
    "```\n",
    "name = \"Jo\"\n",
    "years = 23\n",
    "months = 2.25\n",
    "```\n",
    "\n",
    "You already know `.format()` syntax:\n",
    "\n",
    "`\"My name is {} and I am {} years and {} months old.\".format(name, years, months)`\n",
    "\n",
    "And here is the 'fast string' version:\n",
    "\n",
    "You just need to use the letter `f` before yoru string, so that Python knows you intend to use the 'f format':\n",
    "\n",
    "`f\"My name is {name} and I am {years} years and {months} months old.\"`\n",
    "\n",
    "**Basically you can put variables surrounded by `{ }` brackets, right into the string starting with `f\"\"`.**\n"
   ]
  },
  {
   "cell_type": "code",
   "execution_count": null,
   "metadata": {},
   "outputs": [],
   "source": [
    "# These two lines do the same thing. above is the 'format()' you already know, below is the \"f string\" format.\n",
    "\n",
    "name = \"Jo\"\n",
    "years = 23\n",
    "months = 2.25\n",
    "\n",
    "# 'format()':\n",
    "\n",
    "print(\"My name is {} and I am {} years and {} months old.\".format(name, years, months))\n",
    "\n",
    "# 'fast string' - simpler, cleaner and more readable:\n",
    "\n",
    "print(f\"My name is {name} and I am {years} years and {months} months old.\")\n"
   ]
  },
  {
   "cell_type": "markdown",
   "metadata": {},
   "source": [
    "## Formatting numbers when we put them in strings."
   ]
  },
  {
   "cell_type": "markdown",
   "metadata": {},
   "source": [
    "Oh, but what if you REALLY do not like the `2.25 months`? Would it not be nice to be able to transform/round the strings during the formatting?\n",
    "\n",
    "Well, you can! And it will look like this:"
   ]
  },
  {
   "cell_type": "markdown",
   "metadata": {},
   "source": [
    "You can also format numbers and strings to display them exactly in a way that you'd like:\n",
    "\n",
    "Inspect carefully below the examples. In general the format is as follows:\n",
    "\n",
    "`\"{ variable_name : number_formatting f}` - f stands for `float` which is a term for a decimal number, just like `int` is a word for a whole number.\n",
    "\n",
    "- `{number}` - just print the number e.g. \"123456.6789\".\n",
    "- `{number:.2f}` - trim to 2 decimal places e.g \"123456.68\".\n",
    "- `{number:12.2f}` - use 12 places in total, trim to 2 decimal places e.g \"   123456.68\".\n",
    "- `{number:012.2f}` - use 12 places/numbers in total, fill gap with '0's trim to 2 decimal places e.g \"000123456.68\".\n",
    "- ... etc look at the exmaples below and figure out which code does what."
   ]
  },
  {
   "cell_type": "code",
   "execution_count": 37,
   "metadata": {},
   "outputs": [
    {
     "name": "stdout",
     "output_type": "stream",
     "text": [
      "Formatted version is 000123456.68\n",
      "Formatted version is 000123456.68\n",
      "Formatted version is 000123456.68\n"
     ]
    }
   ],
   "source": [
    "# All of the below will work with 'format()' and 'f strings':\n",
    "\n",
    "my_number = 123456.6789\n",
    "print(f\"Formatted version is {my_number:012.2f}\")\n",
    "print(\"Formatted version is {:012.2f}\".format(my_number))\n",
    "print(\"Formatted version is {number:012.2f}\".format(number = my_number))"
   ]
  },
  {
   "cell_type": "code",
   "execution_count": 38,
   "metadata": {},
   "outputs": [
    {
     "name": "stdout",
     "output_type": "stream",
     "text": [
      "123456.6789 default \n",
      "123456.68 rounded to two decimal places\n",
      "   123456.68 rounded to two decimal places, taking up 12 spaces\n",
      "000123456.68 rounded to two decimal places, taking up 12 spaces filled with 0\n"
     ]
    }
   ],
   "source": [
    "x = 123456.6789\n",
    "\n",
    "print( \"{number} default \".format(number = x) )\n",
    "print( \"{number:.2f} rounded to two decimal places\".format(number = x) )\n",
    "print( \"{number:12.2f} rounded to two decimal places, taking up 12 spaces\".format(number = x) )\n",
    "print( \"{number:012.2f} rounded to two decimal places, taking up 12 spaces filled with 0\".format(number = x) )"
   ]
  },
  {
   "cell_type": "code",
   "execution_count": 43,
   "metadata": {},
   "outputs": [
    {
     "name": "stdout",
     "output_type": "stream",
     "text": [
      "123456.68       left aligned within allocated space\n",
      "      123456.68 right aligned within allocated space\n",
      "   123456.68    center aligned within allocated space\n",
      "***123456.68*** and a filler character\n",
      "===123456.68=== and a filler character\n",
      "   123456.68    and a filler character\n"
     ]
    }
   ],
   "source": [
    "print( \"{number:<15.2f} left aligned within allocated space\".format(number = x) )\n",
    "print( \"{number:>15.2f} right aligned within allocated space\".format(number = x) )\n",
    "print( \"{number:^15.2f} center aligned within allocated space\".format(number = x) )\n",
    "print( \"{number:*^15.2f} and a filler character\".format(number = x) )\n",
    "print( \"{number:=^15.2f} and a filler character\".format(number = x) )\n",
    "print( \"{number: ^15.2f} and a filler character\".format(number = x) )"
   ]
  },
  {
   "cell_type": "markdown",
   "metadata": {},
   "source": [
    "But watch out with allocated space - if your content is too too long, it will get trimmed! \n",
    "\n",
    "If there are two numbers in the format, like `{number: ^15.2f}` the first number is the space allocated for the content, and the second number after `.` is a character count.\n",
    "\n",
    "- For numbers it means number of decimal places.\n",
    "- For strings it means how many characters from the variable should be used."
   ]
  },
  {
   "cell_type": "code",
   "execution_count": 44,
   "metadata": {},
   "outputs": [
    {
     "name": "stdout",
     "output_type": "stream",
     "text": [
      "Sentence: A very very long sentence-----!\n",
      "Sentence: A very very long sen----------!\n",
      "Sentence: A very ver--------------------!\n",
      "Sentence: A very ver----------!\n"
     ]
    }
   ],
   "source": [
    "sentence = \"A very very long sentence\"\n",
    "\n",
    "print( \"Sentence: {:-<30.30}!\".format(sentence) ) # Allocate 30 spaces, and take 30 characters.\n",
    "print( \"Sentence: {:-<30.20}!\".format(sentence) ) # Allocate 30 spaces, and take 20 characters.\n",
    "print( \"Sentence: {:-<30.10}!\".format(sentence) ) # Allocate 30 spaces, and take 10 characters.\n",
    "print( \"Sentence: {:-<20.10}!\".format(sentence) ) # Allocate 20 spaces, and take 10 characters.\n",
    "\n"
   ]
  },
  {
   "cell_type": "code",
   "execution_count": 45,
   "metadata": {},
   "outputs": [
    {
     "name": "stdout",
     "output_type": "stream",
     "text": [
      "Banana    Yay!\n",
      "Pineapple Yay!\n",
      "  Banana  Yay!\n",
      "**Banana**Yay!\n"
     ]
    }
   ],
   "source": [
    "# More examples:\n",
    "\n",
    "print( \"{word:10}Yay!\".format(word=\"Banana\") )\n",
    "print( \"{word:10}Yay!\".format(word=\"Pineapple\") )\n",
    "print( \"{word:^10}Yay!\".format(word=\"Banana\") )\n",
    "print( \"{word:*^10}Yay!\".format(word=\"Banana\") )"
   ]
  },
  {
   "cell_type": "code",
   "execution_count": 46,
   "metadata": {},
   "outputs": [
    {
     "name": "stdout",
     "output_type": "stream",
     "text": [
      "Banana-Pinapple-HybridYay!\n",
      "Banana-PinYay!\n"
     ]
    }
   ],
   "source": [
    "# But if the variable is longer than the allocated space, it will spread and take up more space. \n",
    "\n",
    "print( \"{word:-^10}Yay!\".format(word=\"Banana-Pinapple-Hybrid\") )\n",
    "\n",
    "# Unless forced to be shorter:\n",
    "\n",
    "print( \"{word:-^10.10}Yay!\".format(word=\"Banana-Pinapple-Hybrid\") )"
   ]
  },
  {
   "cell_type": "markdown",
   "metadata": {},
   "source": [
    "If you'd like to know more, you can refer to this very thorough tutorial by following the link below:\n",
    "\n",
    "https://www.programiz.com/python-programming/methods/string/format"
   ]
  },
  {
   "cell_type": "markdown",
   "metadata": {},
   "source": [
    "### Actually CHANGING numbers. Above was just for formatting numbers as strings."
   ]
  },
  {
   "cell_type": "code",
   "execution_count": null,
   "metadata": {},
   "outputs": [],
   "source": [
    "\n",
    "# Note that most math methods do not change the variable itself, just return the new adapted value.\n",
    "\n",
    "print(round(1.11))\n",
    "print(round(1.61))\n",
    "\n",
    "# 'round' is built into Python. Like 'len()' or 'print()'."
   ]
  },
  {
   "cell_type": "code",
   "execution_count": null,
   "metadata": {},
   "outputs": [],
   "source": [
    "# But for more specialised math functions, we need to import the 'math library'.\n",
    "# 'math' is only one of thousands of libraries you can use in Python:\n",
    "\n",
    "import math\n",
    "\n",
    "print(math.ceil(1.111)) # round forced up\n",
    "print(math.floor(1.611)) # round forced down\n",
    "print(math.sqrt(4)) # root\n",
    "print(math.log(10)) # log"
   ]
  },
  {
   "cell_type": "markdown",
   "metadata": {},
   "source": [
    "### Some examples of combining above techniques.\n",
    "\n",
    "It is always your decision if you want to change the actual data, or just format it when you change them into a string."
   ]
  },
  {
   "cell_type": "markdown",
   "metadata": {},
   "source": [
    "## Working with Date and Time."
   ]
  },
  {
   "cell_type": "markdown",
   "metadata": {},
   "source": [
    "When talking about calendar and clock values, the date and time can come in all sorts of formats.\n",
    "\n",
    "For exampe half past noon of the 30th of March 2021 can be written as...\n",
    "\n",
    "`2021-03-30 12:30:00` or \n",
    "\n",
    "`30 Mar 2021 12:30pm GMT` or\n",
    "\n",
    "`Tuesday, 30 March 2021 12:30:00` or \n",
    "\n",
    "`1617107400` \n",
    "\n",
    "This last one is called 'Epoch time', and is a number of seconds from 'the beginning of time'*.\n",
    "\n",
    "*midnight of 1 Jan 1970 is officially recognised as 'the beginning of time' in computers. Yes... it might be a little bit off, but let's just play along.\n",
    "\n",
    "Sometimes time is just accurate to the date, sometimes to a second, or milisecond. Sometimes it even includes a timezone. "
   ]
  },
  {
   "cell_type": "markdown",
   "metadata": {},
   "source": [
    "### Time as String vs. Time as an Object.\n",
    "\n",
    "Often time is given to you as a string like `2021-03-30 12:30:00`. \n",
    "\n",
    "**But imagine having to figure out what date will it be one month later**\n",
    "\n",
    "Hmm... you could take characters at indexes from 5 to 6, increase them by 1, then put them back... But what if the month was December? We would need to also figure out how to increase the year, and then decrease month... Do you see the trouble that could follow?\n",
    "\n",
    "Instead it would be nice to be able to create a `Date Object` which would have methods (just like string had `.upper()` and list had `.pop()`). These functions could be something like `.add_month()`.\n",
    "\n",
    "Let's see what Python has to offer:"
   ]
  },
  {
   "cell_type": "markdown",
   "metadata": {},
   "source": [
    "### Reading time from a string:\n",
    "\n",
    "While we can store time as a string like `2021-03-30 12:30:00` it would be rather complicated to calculate the amount of time passed between two dates in that format. \n",
    "\n",
    "Imagine trying to explain to a computer - How many days are between `2020-12-21 18:30:00` and `2021-03-30 12:30:00`.\n",
    "\n",
    "That's why we usually translate time strings into time 'objects', it's easiest to think of them as Epoch times (seconds from the beginning of time).\n",
    "\n",
    "So to find out **How many days** are between `2020-12-21 18:30:00` and `2021-03-30 12:30:00`, I would turn both dates into their amounts of seconds since 1 Jan 1970 (`1608575400` and `1617107400` respectively), then subtract them. Turns out there is `8532000` seconds between these two moments. Which is equal to `98.75` days.\n",
    "\n",
    "Luckily Python offer us helpful syntax to do these types of calculations. Instead of turning dates into long numbers we will turn them into date objects, which (like strings or lists) will have some helpful behaviours built into them. **Awesome right!**\n",
    "\n",
    "There are a lot of date formats, so often you have to specify which one exactly you expect. See example below:\n",
    "\n",
    "We'll use function `datetime.strptime( date_as_string, date_format)`..."
   ]
  },
  {
   "cell_type": "code",
   "execution_count": null,
   "metadata": {},
   "outputs": [],
   "source": [
    "from datetime import datetime, timedelta, date, timezone\n",
    "\n",
    "# 21 Dec 2019 6:30pm:\n",
    "\n",
    "date_object = datetime.strptime(\"18:30 2019-12-21\", \"%H:%M %Y-%m-%d\")\n",
    "print(date_object)\n",
    "\n",
    "# 21 Dec 2019 midnight:\n",
    "\n",
    "date_object_midnight = datetime.strptime(\"21 December 2019\", \"%d %B %Y\")\n",
    "print(date_object_midnight) \n",
    "\n",
    "# If you just print the object, it will produce a simplified version of the date. \n",
    "# Later you will see how to specify your own format."
   ]
  },
  {
   "cell_type": "markdown",
   "metadata": {},
   "source": [
    "### Operations on dates:\n",
    "\n",
    "Once we have a date object we can ask for particular details of it, or we can perform calculations on it:"
   ]
  },
  {
   "cell_type": "code",
   "execution_count": null,
   "metadata": {},
   "outputs": [],
   "source": [
    "print(date_object.year)\n",
    "print(date_object.hour)\n",
    "print(date_object.minute)"
   ]
  },
  {
   "cell_type": "code",
   "execution_count": null,
   "metadata": {},
   "outputs": [],
   "source": [
    "# To find out all the options, google it, or type 'date_in_the_future'. \n",
    "# And press TAB on your keyboard after the dot - try to find out which month it is.\n",
    "\n",
    "print(date_object.   ) # Stop after the dot, and press Tab.\n",
    "\n"
   ]
  },
  {
   "cell_type": "markdown",
   "metadata": {},
   "source": [
    "We'll learn more about it when we talk about objects. But now just a quick explanation:\n",
    "\n",
    "Sometimes circumstacnes are extra tricky, and some details come from `attributes` of the object. That means they are `variables` hidden inside the object. You access them like this: `date_object.year`. \n",
    "\n",
    "And some other details are held in `methods` meaning `functions` hidden inside the object. As methods/functions, they need to be **called** with `( )` so we access them like this: `date_object.weekday()`.\n",
    "\n",
    "If you'd like to know more, find the documentation by internet searching \"python datetime methods\" - Now try to find out what does `.weekday()` do?"
   ]
  },
  {
   "cell_type": "code",
   "execution_count": null,
   "metadata": {},
   "outputs": [],
   "source": [
    "print(date_object.minute)\n",
    "print(date_object.weekday())"
   ]
  },
  {
   "cell_type": "markdown",
   "metadata": {},
   "source": [
    "You can get a time object for current time with `datetime.now()`.\n",
    "\n",
    "You can also subtract dates from each other to find out distance between them, just like you would do with numbers.\n",
    "\n",
    "`time_now - time_some_time_in_past`\n",
    "\n",
    "Subtracting two time objects will produce a `timedelta` object. Just like dividing two whole numbers could return a decimal float number. Have a look below:"
   ]
  },
  {
   "cell_type": "code",
   "execution_count": null,
   "metadata": {},
   "outputs": [],
   "source": [
    "now = datetime.now()\n",
    "time_difference = now - date_object \n",
    "print(time_difference)\n",
    "print(time_difference.days)"
   ]
  },
  {
   "cell_type": "code",
   "execution_count": null,
   "metadata": {},
   "outputs": [],
   "source": [
    "# How to find out if a date is in the past, or future? You could check if difference is negative!\n",
    "\n",
    "time_difference =  date_object - now\n",
    "print(time_difference)\n",
    "\n",
    "# You could for example check if it has any seconds.\n",
    "\n",
    "print(time_difference.seconds > 0) "
   ]
  },
  {
   "cell_type": "markdown",
   "metadata": {},
   "source": [
    "To add a number of days eg. 10 to a particular date, you can create a date interval of 10h and add them together."
   ]
  },
  {
   "cell_type": "code",
   "execution_count": null,
   "metadata": {},
   "outputs": [],
   "source": [
    "from datetime import timedelta, date, timezone\n",
    "\n",
    "date_in_10_days = date.today() + timedelta(days=10)\n",
    "print(date_in_10_days)\n",
    "\n",
    "date_3_weeks_ago = date.today() - timedelta(weeks=3)\n",
    "print(date_3_weeks_ago)"
   ]
  },
  {
   "cell_type": "markdown",
   "metadata": {},
   "source": [
    "### Turning dates back into strings."
   ]
  },
  {
   "cell_type": "markdown",
   "metadata": {},
   "source": [
    "Finally when we want to turn the dates back into a string we can use the same formatiing rules, like in the example below:"
   ]
  },
  {
   "cell_type": "code",
   "execution_count": null,
   "metadata": {},
   "outputs": [],
   "source": [
    "date_now = datetime.now()\n",
    "date_now_as_string =  date_now.strftime(\"%M minutes past %-I%p on %A %-d of %B year %Y\")\n",
    "print(date_now_as_string)"
   ]
  },
  {
   "cell_type": "markdown",
   "metadata": {},
   "source": [
    "You have complete freedom on how to shape your dates.\n",
    "\n",
    "Here's a cheat sheet of all date formatting options. No need to know them all, just refer to this table."
   ]
  },
  {
   "cell_type": "markdown",
   "metadata": {},
   "source": [
    "To read more on date formatting try this tutorial https://www.programiz.com/python-programming/datetime/strftime and here is a most useful part of the tutorial pasted:\n",
    "\n",
    "Directive\tMeaning\tExample\n",
    "\n",
    "```\n",
    "%a\tAbbreviated weekday name.\tSun, Mon, ...\n",
    "%A\tFull weekday name.\tSunday, Monday, ...\n",
    "%w\tWeekday as a decimal number.\t0, 1, ..., 6\n",
    "%d\tDay of the month as a zero-padded decimal.\t01, 02, ..., 31\n",
    "%-d\tDay of the month as a decimal number.\t1, 2, ..., 30\n",
    "%b\tAbbreviated month name.\tJan, Feb, ..., Dec\n",
    "%B\tFull month name.\tJanuary, February, ...\n",
    "%m\tMonth as a zero-padded decimal number.\t01, 02, ..., 12\n",
    "%-m\tMonth as a decimal number.\t1, 2, ..., 12\n",
    "```"
   ]
  },
  {
   "cell_type": "markdown",
   "metadata": {},
   "source": [
    "```\n",
    "%y\tYear without century as a zero-padded decimal number.\t00, 01, ..., 99\n",
    "%-y\tYear without century as a decimal number.\t0, 1, ..., 99\n",
    "%Y\tYear with century as a decimal number.\t2013, 2019 etc.\n",
    "%H\tHour (24-hour clock) as a zero-padded decimal number.\t00, 01, ..., 23\n",
    "%-H\tHour (24-hour clock) as a decimal number.\t0, 1, ..., 23\n",
    "%I\tHour (12-hour clock) as a zero-padded decimal number.\t01, 02, ..., 12\n",
    "%-I\tHour (12-hour clock) as a decimal number.\t1, 2, ... 12\n",
    "%p\tLocale’s AM or PM.\tAM, PM\n",
    "%M\tMinute as a zero-padded decimal number.\t00, 01, ..., 59\n",
    "%-M\tMinute as a decimal number.\t0, 1, ..., 59\n",
    "%S\tSecond as a zero-padded decimal number.\t00, 01, ..., 59\n",
    "```"
   ]
  },
  {
   "cell_type": "markdown",
   "metadata": {},
   "source": [
    "```\n",
    "%-S\tSecond as a decimal number.\t0, 1, ..., 59\n",
    "%f\tMicrosecond as a decimal number, zero-padded on the left.\t000000 - 999999\n",
    "%z\tUTC offset in the form +HHMM or -HHMM.\t \n",
    "%Z\tTime zone name.\t \n",
    "%j\tDay of the year as a zero-padded decimal number.\t001, 002, ..., 366\n",
    "%-j\tDay of the year as a decimal number.\t1, 2, ..., 366\n",
    "%U\tWeek number of the year (Sunday as the first day of the week). All days in a new year preceding the first Sunday are considered to be in week 0.\t00, 01, ..., 53\n",
    "%W\tWeek number of the year (Monday as the first day of the week). All days in a new year preceding the first Monday are considered to be in week 0.\t00, 01, ..., 53\n",
    "%c\tLocale’s appropriate date and time representation.\tMon Sep 30 07:06:05 2013\n",
    "%x\tLocale’s appropriate date representation.\t09/30/13\n",
    "%X\tLocale’s appropriate time representation.\t07:06:05\n",
    "%%\tA literal '%' character.\t%\n",
    "```"
   ]
  },
  {
   "cell_type": "markdown",
   "metadata": {},
   "source": [
    "# ⛏  Minitask: Show stats about Star Wars movies.\n",
    "\n",
    "This is a taster of us using an online data source (API). This time, I used one for you, and will just give you the results.\n",
    "\n",
    "Below you will find information about 10 movies from the Star Wars series. Use things you learned in this badge (and previous badges, especially Lists, Dictionaries and List Comprehensions) to show movie information in an interesting way.\n",
    "\n",
    "Try to write a function or two which takes below data as an argument, and returns a string describing the movies. Have a look at the example below.\n",
    "\n",
    "Have a look at what is there in the data and try to have fun with it. You have access to actors, plot, awards, length, box-office earnings and ratings!\n",
    "\n",
    "If you do not know what to play with, try to visualise answers to a particular quiestion. Here are some ideas:\n",
    "\n",
    "- Do longer movies have higher ratings? (Visualise lengths and ratings together.)\n",
    "- Which actors played in each movie?\n",
    "- List movies with the amount of time FROM TODAY that passed since they were released.\n",
    "- Or come up with your own questions."
   ]
  },
  {
   "cell_type": "code",
   "execution_count": null,
   "metadata": {},
   "outputs": [],
   "source": [
    "# Before you start building your functions, run the cell below, which starts with \n",
    "# 'Infos_about_movies = [{'Title': 'Star Wars'...'\n",
    "\n",
    "# Example function:\n",
    "\n",
    "def all_titles_with_years(movies_data):\n",
    "    sentence_template = \"{title:.<70}{year}\"\n",
    "    info_of_movies = [\n",
    "        sentence_template.format(title = movie['Title'], year = movie['Year'] )\n",
    "        for movie in movies_data\n",
    "    ]\n",
    "    return \"\\n\".join(info_of_movies)\n",
    "    # Use a new line, to join all the movie descriptor lines.\n",
    "    \n",
    "def info_for_one_movie(one_movie):\n",
    "    sentence_template = \"({year}) {title}\\n{plot}\\nRating: {rating}\\n\"\n",
    "    return sentence_template.format(title = one_movie['Title'],\n",
    "                                 year = one_movie['Year'], \n",
    "                                 plot = one_movie['Plot'],\n",
    "                                 rating = one_movie['Ratings'][0]['Value'] )\n",
    "    "
   ]
  },
  {
   "cell_type": "code",
   "execution_count": null,
   "metadata": {},
   "outputs": [],
   "source": [
    "# Call the function and print it's result.\n",
    "\n",
    "print(all_titles_with_years(infos_about_movies)) "
   ]
  },
  {
   "cell_type": "code",
   "execution_count": null,
   "metadata": {},
   "outputs": [],
   "source": [
    "print(info_for_one_movie(infos_about_movies[0]))"
   ]
  },
  {
   "cell_type": "code",
   "execution_count": null,
   "metadata": {},
   "outputs": [],
   "source": [
    "# To load the data into memory, run this cell first. (Once is enough!)\n",
    "\n",
    "infos_about_movies = [{'Title': 'Star Wars',\n",
    "  'Year': '1977',\n",
    "  'Rated': 'PG',\n",
    "  'Released': '25 May 1977',\n",
    "  'Runtime': '121 min',\n",
    "  'Genre': 'Action, Adventure, Fantasy',\n",
    "  'Director': 'George Lucas',\n",
    "  'Writer': 'George Lucas',\n",
    "  'Actors': 'Mark Hamill, Harrison Ford, Carrie Fisher',\n",
    "  'Plot': \"Luke Skywalker joins forces with a Jedi Knight, a cocky pilot, a Wookiee and two droids to save the galaxy from the Empire's world-destroying battle station, while also attempting to rescue Princess Leia from the mysterious Darth Vad\",\n",
    "  'Language': 'English',\n",
    "  'Country': 'United States, United Kingdom',\n",
    "  'Awards': 'Won 7 Oscars. 63 wins & 29 nominations total',\n",
    "  'Poster': 'https://m.media-amazon.com/images/M/MV5BNzVlY2MwMjktM2E4OS00Y2Y3LWE3ZjctYzhkZGM3YzA1ZWM2XkEyXkFqcGdeQXVyNzkwMjQ5NzM@._V1_SX300.jpg',\n",
    "  'Ratings': [{'Source': 'Internet Movie Database', 'Value': '8.6/10'},\n",
    "   {'Source': 'Rotten Tomatoes', 'Value': '92%'},\n",
    "   {'Source': 'Metacritic', 'Value': '90/100'}],\n",
    "  'Metascore': '90',\n",
    "  'imdbRating': '8.6',\n",
    "  'imdbVotes': '1,276,172',\n",
    "  'imdbID': 'tt0076759',\n",
    "  'Type': 'movie',\n",
    "  'DVD': '06 Dec 2005',\n",
    "  'BoxOffice': '$460,998,507',\n",
    "  'Production': 'N/A',\n",
    "  'Website': 'N/A',\n",
    "  'Response': 'True'},\n",
    " {'Title': 'Star Wars: Episode V - The Empire Strikes Back',\n",
    "  'Year': '1980',\n",
    "  'Rated': 'PG',\n",
    "  'Released': '20 Jun 1980',\n",
    "  'Runtime': '124 min',\n",
    "  'Genre': 'Action, Adventure, Fantasy',\n",
    "  'Director': 'Irvin Kershner',\n",
    "  'Writer': 'Leigh Brackett, Lawrence Kasdan, George Lucas',\n",
    "  'Actors': 'Mark Hamill, Harrison Ford, Carrie Fisher',\n",
    "  'Plot': 'After the Rebels are brutally overpowered by the Empire on the ice planet Hoth, Luke Skywalker begins Jedi training with Yoda, while his friends are pursued across the galaxy by Darth Vader and bounty hunter Boba Fett.',\n",
    "  'Language': 'English',\n",
    "  'Country': 'United States, United Kingdom',\n",
    "  'Awards': 'Won 2 Oscars. 25 wins & 20 nominations total',\n",
    "  'Poster': 'https://m.media-amazon.com/images/M/MV5BYmU1NDRjNDgtMzhiMi00NjZmLTg5NGItZDNiZjU5NTU4OTE0XkEyXkFqcGdeQXVyNzkwMjQ5NzM@._V1_SX300.jpg',\n",
    "  'Ratings': [{'Source': 'Internet Movie Database', 'Value': '8.7/10'},\n",
    "   {'Source': 'Rotten Tomatoes', 'Value': '94%'},\n",
    "   {'Source': 'Metacritic', 'Value': '82/100'}],\n",
    "  'Metascore': '82',\n",
    "  'imdbRating': '8.7',\n",
    "  'imdbVotes': '1,204,382',\n",
    "  'imdbID': 'tt0080684',\n",
    "  'Type': 'movie',\n",
    "  'DVD': '21 Sep 2004',\n",
    "  'BoxOffice': '$292,753,960',\n",
    "  'Production': 'N/A',\n",
    "  'Website': 'N/A',\n",
    "  'Response': 'True'},\n",
    " {'Title': 'Star Wars: Episode VI - Return of the Jedi',\n",
    "  'Year': '1983',\n",
    "  'Rated': 'PG',\n",
    "  'Released': '25 May 1983',\n",
    "  'Runtime': '131 min',\n",
    "  'Genre': 'Action, Adventure, Fantasy',\n",
    "  'Director': 'Richard Marquand',\n",
    "  'Writer': 'Lawrence Kasdan, George Lucas',\n",
    "  'Actors': 'Mark Hamill, Harrison Ford, Carrie Fisher',\n",
    "  'Plot': \"After a daring mission to rescue Han Solo from Jabba the Hutt, the Rebels dispatch to Endor to destroy the second Death Star. Meanwhile, Luke struggles to help Darth Vader back from the dark side without falling into the Emperor's tr\",\n",
    "  'Language': 'English',\n",
    "  'Country': 'United States, United Kingdom',\n",
    "  'Awards': 'Won 1 Oscar. 22 wins & 20 nominations total',\n",
    "  'Poster': 'https://m.media-amazon.com/images/M/MV5BOWZlMjFiYzgtMTUzNC00Y2IzLTk1NTMtZmNhMTczNTk0ODk1XkEyXkFqcGdeQXVyNTAyODkwOQ@@._V1_SX300.jpg',\n",
    "  'Ratings': [{'Source': 'Internet Movie Database', 'Value': '8.3/10'},\n",
    "   {'Source': 'Rotten Tomatoes', 'Value': '82%'},\n",
    "   {'Source': 'Metacritic', 'Value': '58/100'}],\n",
    "  'Metascore': '58',\n",
    "  'imdbRating': '8.3',\n",
    "  'imdbVotes': '985,797',\n",
    "  'imdbID': 'tt0086190',\n",
    "  'Type': 'movie',\n",
    "  'DVD': '21 Sep 2004',\n",
    "  'BoxOffice': '$309,306,177',\n",
    "  'Production': 'N/A',\n",
    "  'Website': 'N/A',\n",
    "  'Response': 'True'},\n",
    " {'Title': 'Star Wars: Episode VII - The Force Awakens',\n",
    "  'Year': '2015',\n",
    "  'Rated': 'PG-13',\n",
    "  'Released': '18 Dec 2015',\n",
    "  'Runtime': '138 min',\n",
    "  'Genre': 'Action, Adventure, Sci-Fi',\n",
    "  'Director': 'J.J. Abrams',\n",
    "  'Writer': 'Lawrence Kasdan, J.J. Abrams, Michael Arndt',\n",
    "  'Actors': 'Daisy Ridley, John Boyega, Oscar Isaac',\n",
    "  'Plot': 'As a new threat to the galaxy rises, Rey, a desert scavenger, and Finn, an ex-stormtrooper, must join Han Solo and Chewbacca to search for the one hope of restoring peace.',\n",
    "  'Language': 'English',\n",
    "  'Country': 'United States',\n",
    "  'Awards': 'Nominated for 5 Oscars. 62 wins & 136 nominations total',\n",
    "  'Poster': 'https://m.media-amazon.com/images/M/MV5BOTAzODEzNDAzMl5BMl5BanBnXkFtZTgwMDU1MTgzNzE@._V1_SX300.jpg',\n",
    "  'Ratings': [{'Source': 'Internet Movie Database', 'Value': '7.8/10'},\n",
    "   {'Source': 'Rotten Tomatoes', 'Value': '93%'},\n",
    "   {'Source': 'Metacritic', 'Value': '80/100'}],\n",
    "  'Metascore': '80',\n",
    "  'imdbRating': '7.8',\n",
    "  'imdbVotes': '884,789',\n",
    "  'imdbID': 'tt2488496',\n",
    "  'Type': 'movie',\n",
    "  'DVD': '05 Apr 2016',\n",
    "  'BoxOffice': '$936,662,225',\n",
    "  'Production': 'N/A',\n",
    "  'Website': 'N/A',\n",
    "  'Response': 'True'},\n",
    " {'Title': 'Star Wars: Episode I - The Phantom Menace',\n",
    "  'Year': '1999',\n",
    "  'Rated': 'PG',\n",
    "  'Released': '19 May 1999',\n",
    "  'Runtime': '136 min',\n",
    "  'Genre': 'Action, Adventure, Fantasy',\n",
    "  'Director': 'George Lucas',\n",
    "  'Writer': 'George Lucas',\n",
    "  'Actors': 'Ewan McGregor, Liam Neeson, Natalie Portman',\n",
    "  'Plot': 'Two Jedi escape a hostile blockade to find allies and come across a young boy who may bring balance to the Force, but the long dormant Sith resurface to claim their original glory.',\n",
    "  'Language': 'English, Sanskrit',\n",
    "  'Country': 'United States',\n",
    "  'Awards': 'Nominated for 3 Oscars. 26 wins & 69 nominations total',\n",
    "  'Poster': 'https://m.media-amazon.com/images/M/MV5BYTRhNjcwNWQtMGJmMi00NmQyLWE2YzItODVmMTdjNWI0ZDA2XkEyXkFqcGdeQXVyNTAyODkwOQ@@._V1_SX300.jpg',\n",
    "  'Ratings': [{'Source': 'Internet Movie Database', 'Value': '6.5/10'},\n",
    "   {'Source': 'Rotten Tomatoes', 'Value': '52%'},\n",
    "   {'Source': 'Metacritic', 'Value': '51/100'}],\n",
    "  'Metascore': '51',\n",
    "  'imdbRating': '6.5',\n",
    "  'imdbVotes': '755,569',\n",
    "  'imdbID': 'tt0120915',\n",
    "  'Type': 'movie',\n",
    "  'DVD': '22 Mar 2005',\n",
    "  'BoxOffice': '$474,544,677',\n",
    "  'Production': 'N/A',\n",
    "  'Website': 'N/A',\n",
    "  'Response': 'True'},\n",
    " {'Title': 'Star Wars: Episode III - Revenge of the Sith',\n",
    "  'Year': '2005',\n",
    "  'Rated': 'PG-13',\n",
    "  'Released': '19 May 2005',\n",
    "  'Runtime': '140 min',\n",
    "  'Genre': 'Action, Adventure, Fantasy',\n",
    "  'Director': 'George Lucas',\n",
    "  'Writer': 'George Lucas',\n",
    "  'Actors': 'Hayden Christensen, Natalie Portman, Ewan McGregor',\n",
    "  'Plot': 'Three years into the Clone Wars, the Jedi rescue Palpatine from Count Dooku. As Obi-Wan pursues a new threat, Anakin acts as a double agent between the Jedi Council and Palpatine and is lured into a sinister plan to rule the galaxy.',\n",
    "  'Language': 'English',\n",
    "  'Country': 'United States',\n",
    "  'Awards': 'Nominated for 1 Oscar. 26 wins & 63 nominations total',\n",
    "  'Poster': 'https://m.media-amazon.com/images/M/MV5BNTc4MTc3NTQ5OF5BMl5BanBnXkFtZTcwOTg0NjI4NA@@._V1_SX300.jpg',\n",
    "  'Ratings': [{'Source': 'Internet Movie Database', 'Value': '7.5/10'},\n",
    "   {'Source': 'Rotten Tomatoes', 'Value': '80%'},\n",
    "   {'Source': 'Metacritic', 'Value': '68/100'}],\n",
    "  'Metascore': '68',\n",
    "  'imdbRating': '7.5',\n",
    "  'imdbVotes': '737,404',\n",
    "  'imdbID': 'tt0121766',\n",
    "  'Type': 'movie',\n",
    "  'DVD': '01 Nov 2005',\n",
    "  'BoxOffice': '$380,270,577',\n",
    "  'Production': 'N/A',\n",
    "  'Website': 'N/A',\n",
    "  'Response': 'True'},\n",
    " {'Title': 'Star Wars: Episode II - Attack of the Clones',\n",
    "  'Year': '2002',\n",
    "  'Rated': 'PG',\n",
    "  'Released': '16 May 2002',\n",
    "  'Runtime': '142 min',\n",
    "  'Genre': 'Action, Adventure, Fantasy',\n",
    "  'Director': 'George Lucas',\n",
    "  'Writer': 'George Lucas, Jonathan Hales',\n",
    "  'Actors': 'Hayden Christensen, Natalie Portman, Ewan McGregor',\n",
    "  'Plot': 'Ten years after initially meeting, Anakin Skywalker shares a forbidden romance with Padmé Amidala, while Obi-Wan Kenobi investigates an assassination attempt on the senator and discovers a secret clone army crafted for the Jedi.',\n",
    "  'Language': 'English',\n",
    "  'Country': 'United States',\n",
    "  'Awards': 'Nominated for 1 Oscar. 19 wins & 65 nominations total',\n",
    "  'Poster': 'https://m.media-amazon.com/images/M/MV5BMDAzM2M0Y2UtZjRmZi00MzVlLTg4MjEtOTE3NzU5ZDVlMTU5XkEyXkFqcGdeQXVyNDUyOTg3Njg@._V1_SX300.jpg',\n",
    "  'Ratings': [{'Source': 'Internet Movie Database', 'Value': '6.5/10'},\n",
    "   {'Source': 'Rotten Tomatoes', 'Value': '65%'},\n",
    "   {'Source': 'Metacritic', 'Value': '54/100'}],\n",
    "  'Metascore': '54',\n",
    "  'imdbRating': '6.5',\n",
    "  'imdbVotes': '665,373',\n",
    "  'imdbID': 'tt0121765',\n",
    "  'Type': 'movie',\n",
    "  'DVD': '22 Mar 2005',\n",
    "  'BoxOffice': '$310,676,740',\n",
    "  'Production': 'N/A',\n",
    "  'Website': 'N/A',\n",
    "  'Response': 'True'},\n",
    " {'Title': 'Star Wars: Episode VIII - The Last Jedi',\n",
    "  'Year': '2017',\n",
    "  'Rated': 'PG-13',\n",
    "  'Released': '15 Dec 2017',\n",
    "  'Runtime': '152 min',\n",
    "  'Genre': 'Action, Adventure, Fantasy',\n",
    "  'Director': 'Rian Johnson',\n",
    "  'Writer': 'Rian Johnson, George Lucas',\n",
    "  'Actors': 'Daisy Ridley, John Boyega, Mark Hamill',\n",
    "  'Plot': 'The Star Wars saga continues as new heroes and galactic legends go on an epic adventure, unlocking mysteries of the Force and shocking revelations of the past.',\n",
    "  'Language': 'English',\n",
    "  'Country': 'United States',\n",
    "  'Awards': 'Nominated for 4 Oscars. 25 wins & 99 nominations total',\n",
    "  'Poster': 'https://m.media-amazon.com/images/M/MV5BMjQ1MzcxNjg4N15BMl5BanBnXkFtZTgwNzgwMjY4MzI@._V1_SX300.jpg',\n",
    "  'Ratings': [{'Source': 'Internet Movie Database', 'Value': '7.0/10'},\n",
    "   {'Source': 'Rotten Tomatoes', 'Value': '91%'},\n",
    "   {'Source': 'Metacritic', 'Value': '84/100'}],\n",
    "  'Metascore': '84',\n",
    "  'imdbRating': '7.0',\n",
    "  'imdbVotes': '589,790',\n",
    "  'imdbID': 'tt2527336',\n",
    "  'Type': 'movie',\n",
    "  'DVD': '27 Mar 2018',\n",
    "  'BoxOffice': '$620,181,382',\n",
    "  'Production': 'N/A',\n",
    "  'Website': 'N/A',\n",
    "  'Response': 'True'},\n",
    " {'Title': 'Star Wars: Episode IX - The Rise of Skywalker',\n",
    "  'Year': '2019',\n",
    "  'Rated': 'PG-13',\n",
    "  'Released': '20 Dec 2019',\n",
    "  'Runtime': '141 min',\n",
    "  'Genre': 'Action, Adventure, Fantasy',\n",
    "  'Director': 'J.J. Abrams',\n",
    "  'Writer': 'Chris Terrio, J.J. Abrams, Derek Connolly',\n",
    "  'Actors': 'Daisy Ridley, John Boyega, Oscar Isaac',\n",
    "  'Plot': 'In the riveting conclusion of the landmark Skywalker saga, new legends will be born-and the final battle for freedom is yet to come.',\n",
    "  'Language': 'English',\n",
    "  'Country': 'United States',\n",
    "  'Awards': 'Nominated for 3 Oscars. 11 wins & 59 nominations total',\n",
    "  'Poster': 'https://m.media-amazon.com/images/M/MV5BMDljNTQ5ODItZmQwMy00M2ExLTljOTQtZTVjNGE2NTg0NGIxXkEyXkFqcGdeQXVyODkzNTgxMDg@._V1_SX300.jpg',\n",
    "  'Ratings': [{'Source': 'Internet Movie Database', 'Value': '6.6/10'},\n",
    "   {'Source': 'Rotten Tomatoes', 'Value': '52%'},\n",
    "   {'Source': 'Metacritic', 'Value': '53/100'}],\n",
    "  'Metascore': '53',\n",
    "  'imdbRating': '6.6',\n",
    "  'imdbVotes': '404,264',\n",
    "  'imdbID': 'tt2527338',\n",
    "  'Type': 'movie',\n",
    "  'DVD': '20 Dec 2019',\n",
    "  'BoxOffice': '$515,202,542',\n",
    "  'Production': 'N/A',\n",
    "  'Website': 'N/A',\n",
    "  'Response': 'True'},\n",
    " {'Title': 'Solo: A Star Wars Story',\n",
    "  'Year': '2018',\n",
    "  'Rated': 'PG-13',\n",
    "  'Released': '25 May 2018',\n",
    "  'Runtime': '135 min',\n",
    "  'Genre': 'Action, Adventure, Sci-Fi',\n",
    "  'Director': 'Ron Howard',\n",
    "  'Writer': 'Jonathan Kasdan, Lawrence Kasdan, George Lucas',\n",
    "  'Actors': 'Alden Ehrenreich, Woody Harrelson, Emilia Clarke',\n",
    "  'Plot': \"Board the Millennium Falcon and journey to a galaxy far, far away in an epic action-adventure that will set the course of one of the Star Wars saga's most unlikely heroes.\",\n",
    "  'Language': 'English',\n",
    "  'Country': 'United States',\n",
    "  'Awards': 'Nominated for 1 Oscar. 6 wins & 25 nominations total',\n",
    "  'Poster': 'https://m.media-amazon.com/images/M/MV5BOTM2NTI3NTc3Nl5BMl5BanBnXkFtZTgwNzM1OTQyNTM@._V1_SX300.jpg',\n",
    "  'Ratings': [{'Source': 'Internet Movie Database', 'Value': '6.9/10'},\n",
    "   {'Source': 'Rotten Tomatoes', 'Value': '70%'},\n",
    "   {'Source': 'Metacritic', 'Value': '62/100'}],\n",
    "  'Metascore': '62',\n",
    "  'imdbRating': '6.9',\n",
    "  'imdbVotes': '312,298',\n",
    "  'imdbID': 'tt3778644',\n",
    "  'Type': 'movie',\n",
    "  'DVD': '25 Sep 2018',\n",
    "  'BoxOffice': '$213,767,512',\n",
    "  'Production': 'N/A',\n",
    "  'Website': 'N/A',\n",
    "  'Response': 'True'}]\n",
    "\n",
    "# Data taken from https://www.omdbapi.com/ thanks to the Patronite support."
   ]
  },
  {
   "cell_type": "code",
   "execution_count": null,
   "metadata": {},
   "outputs": [],
   "source": []
  },
  {
   "cell_type": "code",
   "execution_count": null,
   "metadata": {},
   "outputs": [],
   "source": []
  },
  {
   "cell_type": "code",
   "execution_count": null,
   "metadata": {},
   "outputs": [],
   "source": []
  },
  {
   "cell_type": "code",
   "execution_count": null,
   "metadata": {},
   "outputs": [],
   "source": []
  }
 ],
 "metadata": {
  "kernelspec": {
   "display_name": "Python 3 (ipykernel)",
   "language": "python",
   "name": "python3"
  },
  "language_info": {
   "codemirror_mode": {
    "name": "ipython",
    "version": 3
   },
   "file_extension": ".py",
   "mimetype": "text/x-python",
   "name": "python",
   "nbconvert_exporter": "python",
   "pygments_lexer": "ipython3",
   "version": "3.9.7"
  }
 },
 "nbformat": 4,
 "nbformat_minor": 2
}
