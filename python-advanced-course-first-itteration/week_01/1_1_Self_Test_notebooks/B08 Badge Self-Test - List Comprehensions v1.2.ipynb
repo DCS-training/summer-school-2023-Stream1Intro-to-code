{
 "cells": [
  {
   "cell_type": "markdown",
   "metadata": {},
   "source": [
    "# B08 Badge: List Comprehentions: Filter and Map (represent) Lists."
   ]
  },
  {
   "cell_type": "code",
   "execution_count": null,
   "metadata": {},
   "outputs": [],
   "source": [
    "# Imports: As the badges use more additional features of python\n",
    "# we will start importing all the useful libraries at the beginning of each badge. Run this cell now!\n",
    "\n",
    "import pprint as pp"
   ]
  },
  {
   "cell_type": "code",
   "execution_count": null,
   "metadata": {},
   "outputs": [],
   "source": [
    "# Example: Filter out the short words\n",
    "\n",
    "fruits = [\"apple\", \"pear\", \"banana\", \"pinapple\"]\n",
    "\n",
    "lengths_of_long_words = [\n",
    "    fruit # return words without changing them\n",
    "    for fruit in fruits\n",
    "    if len(fruit) > 5\n",
    "]\n",
    "\n",
    "print(lengths_of_long_words)"
   ]
  },
  {
   "cell_type": "code",
   "execution_count": null,
   "metadata": {},
   "outputs": [],
   "source": [
    "# Example: Filter out the short words, and then simplify data to just lengths of words.\n",
    "\n",
    "fruits = [\"apple\", \"pear\", \"banana\", \"pinapple\"]\n",
    "\n",
    "lengths_of_long_words = [\n",
    "    len(fruit)\n",
    "    for fruit in fruits\n",
    "    if len(fruit) > 5\n",
    "]\n",
    "\n",
    "print(lengths_of_long_words)"
   ]
  },
  {
   "cell_type": "code",
   "execution_count": null,
   "metadata": {},
   "outputs": [],
   "source": [
    "# Example: simplify data to just lengths of words. No filter\n",
    "\n",
    "fruits = [\"apple\", \"pear\", \"banana\", \"pinapple\"]\n",
    "\n",
    "lengths_of_long_words = [\n",
    "    len(fruit)\n",
    "    for fruit in fruits\n",
    "]\n",
    "\n",
    "print(lengths_of_long_words)"
   ]
  },
  {
   "cell_type": "code",
   "execution_count": null,
   "metadata": {},
   "outputs": [],
   "source": [
    "coffee_orders = [{'type': 'Latte', 'milk': 'Cow', 'sugar': 2}, \n",
    "                 {'type': 'Lungo', 'milk': 'None', 'sugar': 1}, \n",
    "                 {'type': 'Latte', 'milk': 'Oat', 'sugar': 3}]\n",
    "\n",
    "sugars_in_vegan_coffees = [ order['sugar']\n",
    "                            for order in coffee_orders \n",
    "                            if order['milk'] != 'Cow'\n",
    "                          ]\n",
    "\n",
    "print(\"Vegan coffees contained a total of\",sum(sugars_in_vegan_coffees), \"sugars\")"
   ]
  },
  {
   "cell_type": "markdown",
   "metadata": {},
   "source": [
    "### List Comprehensions: A special Python syntax to represent, 'comprehend', collections.\n",
    "\n",
    "LIST COMPREHENSION is a special, very useful syntax that makes it faster and cleaner to change or filter collections.\n",
    "Very frequently you have a collection of some objects - strings, numbers, or dictionaries and you want to...\n",
    "\n",
    "- **FILTER DATA**: Only keep some values in the collection. Just like you would filter coffee grains out from your coffee, using a paper filter that allows small particles through, and stops larger particles.\n",
    "\n",
    "- **MAP DATA**: Reduce complex data to simpler data or a different data format. Just like geographical map represents terrain in a simplified flat paper format.\n",
    "\n",
    "Basically, all the other programing languages envy that Python has list comprehensions. They are super cool. Lucky for us!"
   ]
  },
  {
   "cell_type": "markdown",
   "metadata": {},
   "source": [
    "Think about it like a conveyor belt - things go in on one side, and slightly changed things come out on the other side.\n",
    "\n",
    "**By the way, you sort of read list comprehensions from the end, or at least from the middle-end**\n",
    "\n",
    "One way to read list comprehention is: Input -> Output\n",
    "\n",
    "`\n",
    "[ \n",
    "    2. OUTPUT (some version of reach individual 'one_item')\n",
    "    1. INPUT  (where do we take items from? eg. FOR 'one_item' IN 'bunch_of_items')\n",
    "]\n",
    "`"
   ]
  },
  {
   "cell_type": "markdown",
   "metadata": {},
   "source": [
    "\n",
    "**INPUT**: A definition of where the data will come from.\n",
    "\n",
    "- **ITEMS**: A collection from which you will take the data.\n",
    "\n",
    "- **ITEM**: A temporary variable to hold each thing from 'items' in. It's like a tempooraty variable, call it what you'd like.\n",
    "\n",
    "**OUTPUT**: A definition that you want to turn each item into.\n",
    "\n",
    "- Format for the OUTPUT which is using the 'item' somehow. \n",
    "\n",
    "\n",
    "The syntax for this is:\n",
    "\n",
    "`result = [my_output for one_item in all_items]`\n",
    "\n",
    "For readability it's best to add an extra new line (Python basically ignores new lines) and write it like this:\n",
    "\n",
    "`result = [ \n",
    "            my_output\n",
    "            for one_item in all_items \n",
    "           ]`\n",
    "           \n",
    "Notice, you can call the 'item' variable whatever you want. Make it meaningful."
   ]
  },
  {
   "cell_type": "code",
   "execution_count": null,
   "metadata": {},
   "outputs": [],
   "source": [
    "# Note: 'some_word.lower()' turns that word into a lowercase.\n",
    "\n",
    "words = ['LoL', 'THIS','is', 'The','MOST','FUNNY','thing','I','have','ever','heard','I','Love','it','LOL']\n",
    "\n",
    "lower_case_words = [ \n",
    "  word.lower() \n",
    "  for word in words \n",
    "]\n",
    "\n",
    "print(lower_case_words)"
   ]
  },
  {
   "cell_type": "markdown",
   "metadata": {},
   "source": [
    "**What is Mapping?**\n",
    "\n",
    "Notice: We are currently not filtering any data out and we keep everything.\n",
    "\n",
    "If input is a list of somethings, then we are returning a list of ten something-else's.\n",
    "\n",
    "**Mapping**: A process of taking something, and representing it in a different, often simpler format. \n",
    "Like taking streets or countries, and representing them on a piece of paper, as in... a Map 🗺 ;)\n",
    "\n",
    "We are 'mapping' the data, leaving the amount of it unchanged. This detail will be important in a minute."
   ]
  },
  {
   "cell_type": "markdown",
   "metadata": {},
   "source": [
    "### Simplify a list of dictionaries, to a list of just one of its values.\n",
    "\n",
    "Example: Take a collection of coffee orders and represent it as just the amount of sugars. In this case, to check if we still have enough sugar."
   ]
  },
  {
   "cell_type": "code",
   "execution_count": null,
   "metadata": {},
   "outputs": [],
   "source": [
    "coffee_orders = [ {'type': 'Latte', 'milk': 'Cow', 'sugar': 4}, \n",
    "                 {'type': 'Lungo', 'milk': 'None', 'sugar': 1}, \n",
    "                 {'type': 'Latte', 'milk': 'Oat', 'sugar': 2} ]\n",
    "\n",
    "number_of_sugars = [ \n",
    "   order['sugar'] # Represent/simplify each order, to just the number of sugars.\n",
    "   for order in coffee_orders \n",
    "]\n",
    "\n",
    "print(number_of_sugars)"
   ]
  },
  {
   "cell_type": "markdown",
   "metadata": {},
   "source": [
    "### Represent a list of dictionaries as something else, e.g. a string.\n",
    "\n",
    "Example: Take a collection of coffee orders and represent them as a sentence, like \"Latte coffee, with Cow milk and 1 sugars\".\n",
    "\n",
    "In one of the next badges about working with strings we will learn how to do this in a much cleaner way."
   ]
  },
  {
   "cell_type": "code",
   "execution_count": null,
   "metadata": {},
   "outputs": [],
   "source": [
    "coffee_orders = [{'type': 'Latte', 'milk': 'Cow', 'sugar': 4}, \n",
    "                 {'type': 'Lungo', 'milk': 'None', 'sugar': 1}, \n",
    "                 {'type': 'Latte', 'milk': 'Oat', 'sugar': 2}]\n",
    "\n",
    "orders_as_sentences = [ \n",
    "    order['type'] + \" coffee, with \"+ order['milk']+\" milk and \"+ str( order['sugar'] )+\" sugars\"\n",
    "    for order in coffee_orders \n",
    "]\n",
    "\n",
    "pp.pprint(orders_as_sentences)"
   ]
  },
  {
   "cell_type": "markdown",
   "metadata": {},
   "source": [
    "### Represent all words starting with letter 't' as their lengths\n"
   ]
  },
  {
   "cell_type": "code",
   "execution_count": null,
   "metadata": {},
   "outputs": [],
   "source": [
    "words = ['LoL', 'THIS','is', 'The','MOST','FUNNY','thing','I','have','ever','heard','I','Love','it','LOL']\n",
    "\n",
    "lengths_of_t_words = [ len(word)\n",
    "                          for word in words\n",
    "                          if  word[0].lower() == 't' ]\n",
    "\n",
    "print(lengths_of_t_words)"
   ]
  },
  {
   "cell_type": "markdown",
   "metadata": {},
   "source": [
    "## Another Useful Took: Mathematical operators: 'max', 'min', 'len', 'sum'.\n",
    "\n",
    "You can use methematical operators:\n",
    "\n",
    "- **max( )** - Get the largest element in a group. For letters it will mean 'highest in the alphabet'.\n",
    "- **len( )** - Size of the collection, can be used on lists, dicts, but also on strings/\n",
    "- **sum( )** - Combine all elements. Just used for numbers. For now.\n",
    "\n",
    "Now let's use these on your lists to achieve some very useful results:"
   ]
  },
  {
   "cell_type": "code",
   "execution_count": null,
   "metadata": {},
   "outputs": [],
   "source": [
    "print( max([3,4,5]) )\n",
    "print( min([3,4,5]) )\n",
    "print( len([3,4,5]) )\n",
    "print( sum([3,4,5]) )"
   ]
  },
  {
   "cell_type": "code",
   "execution_count": null,
   "metadata": {},
   "outputs": [],
   "source": [
    "#  ok the code above should really look like this. So it's easier to change\n",
    "numbers = [3,4,5]\n",
    "print( max(numbers) )\n",
    "print( min(numbers) )\n",
    "print( len(numbers) )\n",
    "print( sum(numbers) )"
   ]
  },
  {
   "cell_type": "code",
   "execution_count": null,
   "metadata": {},
   "outputs": [],
   "source": [
    "# guess why these answers arr what they are. (hint: it's not word's length). Think: alphabet\n",
    "\n",
    "print( max([\"banana\", \"kiwi\", \"plum\"]) )\n",
    "print( min([\"banana\", \"kiwi\", \"plum\"]) )\n",
    "print( len([\"banana\", \"kiwi\", \"plum\"]) )\n",
    "print( sum( [\"banana\", \"kiwi\", \"plum\"]) ) # last one will error, yay! ;) Guess why!"
   ]
  },
  {
   "cell_type": "markdown",
   "metadata": {},
   "source": [
    "## Extra scenarios.\n",
    "\n",
    "### Compare two groups:\n",
    "\n",
    "- What percent of coffees are 'Latte'."
   ]
  },
  {
   "cell_type": "code",
   "execution_count": null,
   "metadata": {},
   "outputs": [],
   "source": [
    "coffee_orders = [ {'type': 'Latte', 'milk': 'Cow', 'sugar': 4}, \n",
    "                 {'type': 'Lungo', 'milk': 'None', 'sugar': 1}, \n",
    "                 {'type': 'Latte', 'milk': 'Oat', 'sugar': 2} ]\n",
    "\n",
    "# filter just the Latte coffees, no pun intended ;)\n",
    "all_lattes = [ \n",
    "    order\n",
    "    for order in coffee_orders \n",
    "    if order['type'] == 'Latte'\n",
    "]\n",
    "\n",
    "# get number of lattes and all coffees\n",
    "number_of_lattes = len( all_lattes )\n",
    "number_of_all_coffees = len( coffee_orders )\n",
    "\n",
    "# do the math\n",
    "print(\"number of lattes\", number_of_lattes)\n",
    "print(\"percent of lattes\", number_of_lattes / number_of_all_coffees,\"%\")\n",
    "# prettier %\n",
    "print(\"percent of lattes\",  round(100 * number_of_lattes / number_of_all_coffees),\"%\")"
   ]
  },
  {
   "cell_type": "markdown",
   "metadata": {},
   "source": [
    "### Compare two groups:\n",
    "\n",
    "- Who drinks more sugar - a) All Vegans OR b) Cow-based-Latte-drinkers?"
   ]
  },
  {
   "cell_type": "code",
   "execution_count": null,
   "metadata": {},
   "outputs": [],
   "source": [
    "coffee_orders = [ {'type': 'Latte', 'milk': 'Cow', 'sugar': 2},\n",
    "                 {'type': 'Latte', 'milk': 'Cow', 'sugar': 0},\n",
    "                 {'type': 'Lungo', 'milk': 'None', 'sugar': 1}, \n",
    "                 {'type': 'Latte', 'milk': 'Oat', 'sugar': 2} ]\n",
    "\n",
    "sugars_in_vegan_coffees = [ \n",
    "    order['sugar']\n",
    "    for order in coffee_orders \n",
    "    if order['milk'] != 'Cow'\n",
    "]\n",
    "\n",
    "sugars_in_all_cow_lattes = [ \n",
    "    order['sugar']\n",
    "    for order in coffee_orders \n",
    "    if order['type'] == 'Latte' and order['milk'] == 'Cow'\n",
    "]\n",
    "\n",
    "if sum(sugars_in_vegan_coffees) > sum(sugars_in_all_cow_lattes):\n",
    "    print(\"there's more total sugar used in vegan coffees, than in all cow-milk lattes\")\n",
    "else:\n",
    "    print(\"there's no more total sugar used in vegan coffees, than in all cow-milk lattes\")\n"
   ]
  },
  {
   "cell_type": "markdown",
   "metadata": {},
   "source": [
    "# ⛏ Minitask 1: Filter and modify/map some simple lists.\n",
    "\n",
    "Remember every now and then to save your progress (File > Save, or a keyboard shortcut, OR click the 'Disc icon at the top left of your Noteable toolbar). \n",
    "\n",
    "Given the below lists, write list comprehentions that will change them into different formats. \n",
    "\n",
    "Write 3-4 list comprehentions for each, and try to keep them nonidentical to the examples within this Notebook.\n",
    "\n",
    "Your datasets are: \n",
    "\n",
    "- Part of Romeo and Juliet by Shakespeare from http://www.gutenberg.org/files/1513/1513-0.txt (I already pasted it for you below, so don't worry about getting the text by yourself).\n",
    "- Random sample of currency exchange values from pound to euro.\n",
    "\n",
    "Some inspiration, but feel free to come up with your own scenarios:\n",
    "\n",
    "- Who's name is mentioned more? (Romeo or Juliet)? Remember that you can filter a list and then ask for `len( )` of the result.\n",
    "- What are the words longer than 5 characters starting with a letter 'M'?\n",
    "- How many days has seen the pound being worth more than 1.1 euro?\n",
    "- How much euro could you buy for 100 pounds on the days when pound was worth more than 1.1 euro?"
   ]
  },
  {
   "cell_type": "code",
   "execution_count": null,
   "metadata": {},
   "outputs": [],
   "source": [
    "shakespeare_words = ['JULIET', '.', '’', 'Tis', 'but', 'thy', 'name', 'that', 'is', 'my', 'enemy', ';',\n",
    "              'Thou', 'art', 'thyself', ',', 'though', 'not', 'a', 'Montague', '.', 'What', '’', 's',\n",
    "              'Montague', '?', 'It', 'is', 'nor', 'hand', 'nor', 'foot', ',', 'Nor', 'arm', ',', 'nor', \n",
    "              'face', ',', 'nor', 'any', 'other', 'part', 'Belonging', 'to', 'a', 'man', '.',\n",
    "              'O', 'be', 'some', 'other', 'name', '.', 'What', '’', 's', 'in', 'a', 'name', '?',\n",
    "              'That', 'which', 'we', 'call', 'a', 'rose', 'By', 'any', 'other', 'name', 'would', 'smell', \n",
    "              'as', 'sweet', ';', 'So', 'Romeo', 'would', ',', 'were', 'he', 'not', 'Romeo', 'call', '’',\n",
    "              'd', ',', 'Retain', 'that', 'dear', 'perfection', 'which', 'he', 'owes', 'Without', 'that', \n",
    "              'title', '.', 'Romeo', ',', 'doff', 'thy', 'name', ',', 'And', 'for', 'thy', 'name', ',',\n",
    "              'which', 'is', 'no', 'part', 'of', 'thee', ',', 'Take', 'all', 'myself', '.']\n",
    "\n",
    "pound_to_euro_daily_rate = [1.079974, 1.084409, 1.087774, 1.096891, 1.094839, 1.091664, 1.090948,\n",
    "                 1.090948, 1.089578, 1.086815, 1.092255, 1.093133, 1.0926, 1.095731, \n",
    "                 1.095731, 1.102182, 1.095389, 1.101342, 1.098181, 1.103804, 1.103819,\n",
    "                 1.103819, 1.101216, 1.099458, 1.097423, 1.10108, 1.101352, 1.102922, 1.102922, 1.106241]"
   ]
  },
  {
   "cell_type": "code",
   "execution_count": null,
   "metadata": {},
   "outputs": [],
   "source": [
    "# Here write your solution! E.g. for these questions:\n",
    "# - Who's name is mentioned more? (Romeo or Juliet)? Remember that you can filter a list and then ask for `len( )` of the result.\n",
    "# - What are the words longer than 5 characters starting with a letter 'M'?\n",
    "# - How many days has seen the pound being worth more than 1.1 euro?\n",
    "# - How much euro could one buy for 100 pounds on the days when pound was being worth more than 1.1 euro?"
   ]
  },
  {
   "cell_type": "code",
   "execution_count": null,
   "metadata": {},
   "outputs": [],
   "source": []
  },
  {
   "cell_type": "code",
   "execution_count": null,
   "metadata": {},
   "outputs": [],
   "source": []
  },
  {
   "cell_type": "code",
   "execution_count": null,
   "metadata": {},
   "outputs": [],
   "source": []
  },
  {
   "cell_type": "markdown",
   "metadata": {},
   "source": [
    " \n",
    "# ⛏ Minitask 2: Extract and filter some information from JSON information about cash machines.\n",
    "\n",
    "we've seen this dataset from another badge. Ask 2-3 business questions and answer them using a list comprehension.\n",
    "\n",
    "Some inspiration, but feel free to coma up with your own scenarios:\n",
    "\n",
    "- What are the city names where all these ATMs are based in?\n",
    "- What is the typical number of currencies supported by an ATM?\n",
    "- What are names of cities of ATMs that dispense 5 pound notes? (MinimumPossibleAmount is 5)"
   ]
  },
  {
   "cell_type": "code",
   "execution_count": null,
   "metadata": {},
   "outputs": [],
   "source": [
    "import pprint as pp\n",
    "\n",
    "bank_of_scotland_atms = [{'Identification': 'BFF7BC11',\n",
    "  'SupportedLanguages': ['eng', 'spa', 'ger', 'fre'],\n",
    "  'ATMServices': ['PINUnblock',\n",
    "   'Balance',\n",
    "   'BillPayments',\n",
    "   'CashWithdrawal',\n",
    "   'FastCash',\n",
    "   'MobilePhoneTopUp',\n",
    "   'PINChange',\n",
    "   'MiniStatement'],\n",
    "  'Accessibility': ['WheelchairAccess'],\n",
    "  'SupportedCurrencies': ['GBP'],\n",
    "  'MinimumPossibleAmount': '5',\n",
    "  'Branch': {'Identification': '80453100'},\n",
    "  'Location': {'LocationCategory': ['BranchExternal'],\n",
    "   'Site': {'Identification': '80453100'},\n",
    "   'PostalAddress': {'AddressLine': ['136 BUCHANAN STREET; BALFRON'],\n",
    "    'BuildingNumber': 'BOS BRANCH',\n",
    "    'StreetName': '136 BUCHANAN STREET',\n",
    "    'TownName': 'GLASGOW',\n",
    "    'CountrySubDivision': ['GLASGOW'],\n",
    "    'Country': 'GB',\n",
    "    'PostCode': 'G63 0TG',\n",
    "    'GeoLocation': {'GeographicCoordinates': {'Latitude': '56.071629',\n",
    "      'Longitude': '-4.336911'}}}}},\n",
    " {'Identification': 'BFA6HC11',\n",
    "  'SupportedLanguages': ['eng', 'spa', 'ger', 'fre'],\n",
    "  'ATMServices': ['PINUnblock',\n",
    "   'Balance',\n",
    "   'BillPayments',\n",
    "   'CashWithdrawal',\n",
    "   'FastCash',\n",
    "   'MobilePhoneTopUp',\n",
    "   'PINChange',\n",
    "   'MiniStatement'],\n",
    "  'Accessibility': ['AudioCashMachine', 'WheelchairAccess'],\n",
    "  'SupportedCurrencies': ['GBP'],\n",
    "  'MinimumPossibleAmount': '10',\n",
    "  'Branch': {'Identification': '80496000'},\n",
    "  'Location': {'LocationCategory': ['BranchInternal'],\n",
    "   'Site': {'Identification': '80496000'},\n",
    "   'PostalAddress': {'AddressLine': ['BRISTOL ROOM COPLEY DATA CENTRE; WAKEFIELD ROAD'],\n",
    "    'BuildingNumber': 'BOS BRANCH',\n",
    "    'StreetName': 'BRISTOL ROOM COPLEY DATA CENTRE',\n",
    "    'TownName': 'HALIFAX',\n",
    "    'CountrySubDivision': ['WEST YORKSHIRE'],\n",
    "    'Country': 'GB',\n",
    "    'PostCode': 'HX3 0TD',\n",
    "    'GeoLocation': {'GeographicCoordinates': {'Latitude': '51.454900',\n",
    "      'Longitude': '2.592000'}}}}},\n",
    " {'Identification': 'BF88GC11',\n",
    "  'SupportedLanguages': ['eng', 'spa', 'ger', 'fre'],\n",
    "  'ATMServices': ['PINUnblock',\n",
    "   'Balance',\n",
    "   'BillPayments',\n",
    "   'CashWithdrawal',\n",
    "   'FastCash',\n",
    "   'MobilePhoneTopUp',\n",
    "   'PINChange',\n",
    "   'MiniStatement'],\n",
    "  'Accessibility': ['AudioCashMachine', 'WheelchairAccess'],\n",
    "  'SupportedCurrencies': ['GBP'],\n",
    "  'MinimumPossibleAmount': '5',\n",
    "  'Branch': {'Identification': '80452300'},\n",
    "  'Location': {'LocationCategory': ['BranchInternal'],\n",
    "   'Site': {'Identification': '80452300'},\n",
    "   'PostalAddress': {'AddressLine': ['111 HIGH STREET;'],\n",
    "    'BuildingNumber': 'BOS BRANCH',\n",
    "    'StreetName': '111 HIGH STREET',\n",
    "    'TownName': 'ANNAN',\n",
    "    'CountrySubDivision': ['DUMFRIES AND GALLOWAY'],\n",
    "    'Country': 'GB',\n",
    "    'PostCode': 'DG12 6AB',\n",
    "    'GeoLocation': {'GeographicCoordinates': {'Latitude': '54.987176',\n",
    "      'Longitude': '-3.260075'}}}}}]\n",
    "\n",
    "pp.pprint(bank_of_scotland_atms)"
   ]
  },
  {
   "cell_type": "code",
   "execution_count": null,
   "metadata": {},
   "outputs": [],
   "source": [
    "# Here write your solutions. E.g. for these questions:\n",
    "# What are the city names where all these ATMs are based in?\n",
    "# What is the typical number of currencies supported by an ATM?\n",
    "# What are names of cities of ATMs that dispense 5 pound notes? (MinimumPossibleAmount is 5)\n",
    "\n"
   ]
  },
  {
   "cell_type": "code",
   "execution_count": null,
   "metadata": {},
   "outputs": [],
   "source": []
  }
 ],
 "metadata": {
  "kernelspec": {
   "display_name": "Python 3 (ipykernel)",
   "language": "python",
   "name": "python3"
  },
  "language_info": {
   "codemirror_mode": {
    "name": "ipython",
    "version": 3
   },
   "file_extension": ".py",
   "mimetype": "text/x-python",
   "name": "python",
   "nbconvert_exporter": "python",
   "pygments_lexer": "ipython3",
   "version": "3.9.7"
  }
 },
 "nbformat": 4,
 "nbformat_minor": 2
}
