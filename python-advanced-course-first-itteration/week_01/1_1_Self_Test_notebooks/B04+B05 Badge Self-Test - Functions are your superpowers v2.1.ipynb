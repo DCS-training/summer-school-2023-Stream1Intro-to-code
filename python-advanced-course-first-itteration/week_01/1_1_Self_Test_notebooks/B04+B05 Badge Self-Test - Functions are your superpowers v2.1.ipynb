{
 "cells": [
  {
   "cell_type": "markdown",
   "metadata": {},
   "source": [
    "# Badge 04 & Badge 05: Functions are your superpowers."
   ]
  },
  {
   "cell_type": "code",
   "execution_count": null,
   "metadata": {},
   "outputs": [],
   "source": [
    "# Function definitions:\n",
    "\n",
    "def are_any_of_these_names_the_same(name_1, name_2, name_3):\n",
    "    result = (name_1 == name_2) or (name_2 == name_3) or (name_3 == name_1)\n",
    "    return result # This is returned to whoever called this function.\n",
    "\n",
    "\n",
    "# Note: Whenever you run a cell with a function definition, you \"load\" that function into memory.\n",
    "# There's no need to run it a lot, just once is enough.\n",
    "# And if you change the function you will want to run it again to \"re-load\" it into the momory."
   ]
  },
  {
   "cell_type": "code",
   "execution_count": null,
   "metadata": {},
   "outputs": [],
   "source": [
    "# Calling functions - result will be displayed underneath the cell with ```Out[]``` next to it. \n",
    "# You can only return one thing from each cell. It will usually be the result of the last line of code.\n",
    "are_any_of_these_names_the_same(\"Billie\", \"fiona\", \"fiona\")"
   ]
  },
  {
   "cell_type": "code",
   "execution_count": null,
   "metadata": {},
   "outputs": [],
   "source": [
    "# You can call the funciton multiple times, giving it differrent input variables.\n",
    "\n",
    "are_any_of_these_names_the_same(\"Billie\", \"fiona\", \"Jin\")"
   ]
  },
  {
   "cell_type": "code",
   "execution_count": null,
   "metadata": {},
   "outputs": [],
   "source": [
    "# and again!\n",
    "are_any_of_these_names_the_same(\"Billie\", \"Billie\", \"Jin\")"
   ]
  },
  {
   "cell_type": "code",
   "execution_count": null,
   "metadata": {
    "scrolled": true
   },
   "outputs": [],
   "source": [
    "# Printing function results. \n",
    "# You can run a function, store what it returns in a variable. \n",
    "# And then print that variable\n",
    "\n",
    "are_they_simmilar = are_any_of_these_names_the_same(\"Max\", \"fiona\", \"Jin\")\n",
    "print(are_they_simmilar)\n",
    "\n",
    "# Or you can put the function call directly into the print, to have a shorter (folded, nested) version.\n",
    "\n",
    "print( are_any_of_these_names_the_same(\"Jin\", \"fiona\", \"Jin\") )\n",
    "\n",
    "# Both above solutions do the same thing and are just as goood."
   ]
  },
  {
   "cell_type": "code",
   "execution_count": null,
   "metadata": {},
   "outputs": [],
   "source": [
    "def combine_words(word_1, word_2, word_3):\n",
    "    return word_1 + word_2 + word_3\n",
    "\n",
    "print(combine_words(\"How \", \"are \", \"You?\") ) # I expect 'How are You?'.\n",
    "print(combine_words(\"Ba\",\"na\",\"na\"))          # I expect 'Banana'.\n",
    "print(combine_words(\"1\",\"2\",\"3\") )            # I expect '123'.\n",
    "print(combine_words(1,2,3) )                  # I expect ???? notice that this will work but makes no sense. "
   ]
  },
  {
   "cell_type": "code",
   "execution_count": null,
   "metadata": {},
   "outputs": [],
   "source": [
    "def are_words_identical_case_insensitive(word_1, word_2):\n",
    "    return word_1.lower() == word_2.lower()\n",
    "\n",
    "print(are_words_identical_case_insensitive(\"banana\", \"Banana\")) # I expect True.\n",
    "print(are_words_identical_case_insensitive(\"meh\", \"yup\")) # I expect False.\n",
    "print(are_words_identical_case_insensitive(\"onion\", \"onion\")) # I expect True."
   ]
  },
  {
   "cell_type": "code",
   "execution_count": null,
   "metadata": {},
   "outputs": [],
   "source": [
    "def is_larger_than_10(number):\n",
    "    if number > 10:\n",
    "        return True\n",
    "    else:\n",
    "        return False\n",
    "\n",
    "print(is_larger_than_10(3) )   # I expect False.\n",
    "print(is_larger_than_10(10) )  # I expect False.\n",
    "print(is_larger_than_10(11) )  # I expect True.\n",
    "print(is_larger_than_10(100) ) # I expect True."
   ]
  },
  {
   "cell_type": "code",
   "execution_count": null,
   "metadata": {
    "scrolled": true
   },
   "outputs": [],
   "source": [
    "# It is important to pay attention to indentation!\n",
    "\n",
    "def greet_based_on_time(feeling_good, hour, name):    \n",
    "    # First decide what is your mood.\n",
    "    if feeling_good == True:\n",
    "        mood_greeting =  \"Good\"\n",
    "    else:\n",
    "        mood_greeting =  \"Terrible\"\n",
    "    # Then decide what is the time of the day\n",
    "    if hour < 12:\n",
    "        time_of_the_day =  \"morning\"\n",
    "    elif hour < 17:\n",
    "        time_of_the_day =  \"afternoon\"\n",
    "    else:\n",
    "        time_of_the_day =  \"evening\"\n",
    "    \n",
    "    full_greeting = mood_greeting + \" \" + time_of_the_day + \", \" + name\n",
    "    return full_greeting\n",
    "    \n",
    "print( greet_based_on_time(False, 5, \"Mia\") )\n",
    "print( greet_based_on_time(True, 11, \"Cera\"))\n",
    "print( greet_based_on_time(False, 12, \"Sara\"))\n",
    "print( greet_based_on_time(True, 21, \"Minie\"))"
   ]
  },
  {
   "cell_type": "code",
   "execution_count": null,
   "metadata": {},
   "outputs": [],
   "source": [
    "def order_coffee(size = \"normal\", number_of_sugars = 0, type_of_milk = \"no\"): \n",
    "    return \"Here's a \"+size+\" coffee with \"+str(number_of_sugars)+\" sugars and \"+type_of_milk+\" milk\"\n",
    "\n",
    "# When no value is specified, Python will assume default values (\"normal\", 0, \"no\").\n",
    "\n",
    "print( order_coffee())                        #  Is like calling 'order_coffee(\"normal\", 0, \"no\")'.\n",
    "print( order_coffee(\"filter\"))                #  Is like calling 'order_coffee(\"filter\", 0, \"no\")'.\n",
    "print( order_coffee(\"filter\", 2))             #  Is like calling 'order_coffee(\"filter\", 2, \"no\")'.\n",
    "print( order_coffee(\"filter\", 2, \"skimmed\"))  #  Is like calling 'order_coffee(\"filter\", 2, \"skimmed\")'."
   ]
  },
  {
   "cell_type": "code",
   "execution_count": null,
   "metadata": {},
   "outputs": [],
   "source": [
    "# Our 'order_coffee' function from before can be called in new ways:\n",
    "\n",
    "def order_coffee(size = \"normal\", number_of_sugars = 0, type_of_milk = \"no\"): \n",
    "    return \"Here's a \"+size+\" coffee with \"+str(number_of_sugars)+\" sugars and \"+type_of_milk+\" milk\"\n",
    "\n",
    "# As before you could call the function with all arguments.\n",
    "\n",
    "print( order_coffee(size = \"large\", number_of_sugars = 2, type_of_milk = \"soy\") )"
   ]
  },
  {
   "cell_type": "code",
   "execution_count": null,
   "metadata": {},
   "outputs": [],
   "source": [
    "# Or you could specify just some arguments, other ones will use the default values (this is new).\n",
    "# Below is calling 'order_coffee(\"normal\", 0, \"soy\")' because 'size' and 'number_of_sugars' will take default values.\n",
    "\n",
    "print(order_coffee(type_of_milk = \"soy\"))"
   ]
  },
  {
   "cell_type": "code",
   "execution_count": null,
   "metadata": {},
   "outputs": [],
   "source": [
    "#  Below is calling 'order_coffee(\"normal\", 4, \"cow\")', because size will take the default value.\n",
    "\n",
    "print(order_coffee(number_of_sugars = 4, type_of_milk = \"cow\"))"
   ]
  },
  {
   "cell_type": "code",
   "execution_count": null,
   "metadata": {},
   "outputs": [],
   "source": [
    "#  Below is calling 'order_coffee(\"normal\", 0, \"no\")', all attributes will take default values.\n",
    "\n",
    "print(order_coffee())"
   ]
  },
  {
   "cell_type": "markdown",
   "metadata": {},
   "source": [
    "# Re-using functions.\n"
   ]
  },
  {
   "cell_type": "code",
   "execution_count": null,
   "metadata": {},
   "outputs": [],
   "source": [
    "# instead of\n",
    "\n",
    "def smaller_number_of_4(num1, num2, num3, num4):\n",
    "    if (num1 <=  num2 and num1 <=  num3 and num1 <=  num4):\n",
    "        return num1\n",
    "    elif (num2 <=  num1 and num2 <=  num3 and num2 <=  num4):\n",
    "        return num2\n",
    "    elif (num3 <=  num1 and num3 <=  num2 and num3 <=  num4):\n",
    "        return num3\n",
    "    else:\n",
    "        return num4\n",
    "     \n",
    "print(smaller_number_of_4(1,2,3,4))\n",
    "print(smaller_number_of_4(1,2,0,4))\n",
    "print(smaller_number_of_4(2,2,3,3))\n",
    "print(smaller_number_of_4(3,3,3,3))"
   ]
  },
  {
   "cell_type": "code",
   "execution_count": null,
   "metadata": {},
   "outputs": [],
   "source": [
    "# you could:\n",
    "\n",
    "def smaller_number(num1, num2):\n",
    "    if num1 <= num2:\n",
    "        return num1\n",
    "    else:\n",
    "        return num2\n",
    "    \n",
    "def smaller_number_of_3(num1, num2, num3):\n",
    "    return smaller_number(smaller_number(num1, num2),num3)\n",
    "\n",
    "def smaller_number_of_4(num1, num2, num3, num4):\n",
    "    return smaller_number( smaller_number(num1, num2), smaller_number(num3, num4) )\n",
    "     \n",
    "# Draw it on paper if it helps to visulise.\n",
    "\n",
    "print(smaller_number_of_3(1,2,3))\n",
    "print(smaller_number_of_4(1,2,0,4))\n"
   ]
  },
  {
   "cell_type": "markdown",
   "metadata": {},
   "source": [
    "# Separating functions.\n",
    "\n",
    "- Take the function below, seen earlier in this badge, and refactor it to better use the power of functions.\n",
    "- Break it down into simpler a greater number of functions. \n",
    "- You may allow them to have default and named arguments.\n",
    "- Add any more features or elements that you'd like.\n",
    "\n",
    "Remember to regularly save your progress (File > Save, OR a keyboard shortcut (ctr/cmd + S), OR click the 'Disc' icon in the top left corner of your Notebook toolbar). "
   ]
  },
  {
   "cell_type": "code",
   "execution_count": null,
   "metadata": {},
   "outputs": [],
   "source": [
    "# The function to break down into 2-3 smaller ones:\n",
    "\n",
    "def greet_based_on_time(feeling_good, hour, name):    \n",
    "    if feeling_good == True:\n",
    "        mood_greeting =  \"Good\"\n",
    "    else:\n",
    "        mood_greeting =  \"Terrible\"\n",
    "    \n",
    "    if hour < 12:\n",
    "        time_of_the_day =  \"morning\"\n",
    "    elif hour < 17:\n",
    "        time_of_the_day =  \"afternoon\"\n",
    "    else:\n",
    "        time_of_the_day =  \"evening\"\n",
    "    \n",
    "    full_greeting = mood_greeting + \" \" + time_of_the_day + \", \" + name\n",
    "    return full_greeting\n",
    "    \n",
    "print( greet_based_on_time(False, 5, \"Mia\") )\n",
    "print( greet_based_on_time(True, 11, \"Cera\"))\n",
    "print( greet_based_on_time(False, 12, \"Sara\"))\n",
    "print( greet_based_on_time(True, 21, \"Minie\"))"
   ]
  },
  {
   "cell_type": "markdown",
   "metadata": {},
   "source": [
    "Do you think you could create functions `mood_as_word`, `hour_into_time_of_the_day` and `words_into_sentence` (or whatever else you'd like to call them), that will perform individual parts of the above function `greet_based_on_time`.\n",
    "\n",
    "If you manage to complete this task, then the bellow code would work:"
   ]
  },
  {
   "cell_type": "code",
   "execution_count": null,
   "metadata": {},
   "outputs": [],
   "source": [
    "# Note that this will not work yet. You need to built the three helper functions first.\n",
    "# There are 3 Hints below that will guide you on this journey, but try to solve it by yourself first.\n",
    "# Uncover Hints one by one as you go, to challneg yourself (not all at once).\n",
    "\n",
    "def greet_based_on_time(feeling_good, hour, name):    \n",
    "    mood_greeting =  mood_as_word(feeling_good)\n",
    "    time_of_the_day =  hour_into_time_of_the_day(hour)\n",
    "    full_greeting =  words_into_sentence(mood_greeting, time_of_the_day, name)\n",
    "    return full_greeting\n",
    "\n",
    "print( greet_based_on_time(False, 5, \"Mia\") )  # Expected 'Terrible morning, Mia'.\n",
    "print( greet_based_on_time(True, 11, \"Cera\"))  # Expected 'Good morning, Cera'.\n",
    "print( greet_based_on_time(False, 12, \"Sara\")) # Expected 'Terrible afternoon, Sara'.\n",
    "print( greet_based_on_time(True, 21, \"Minie\")) # Expected 'Good evening, Minie'."
   ]
  },
  {
   "cell_type": "markdown",
   "metadata": {},
   "source": [
    "<details><summary style='color:blue'>HINT 1: How to start breaking it down? CLICK HERE TO SEE THE ANSWER. BUT REALLY TRY TO DO IT YOURSELF FIRST!</summary>\n",
    "\n",
    "    Here's some code to get you started, copy it into a code cell so that you can run and edit the code.\n",
    "    \n",
    "    ### BEGIN SOLUTION\n",
    "    \n",
    "    def mood_as_word(are_you_feeling_good):    \n",
    "        # ??? what will be here?\n",
    "\n",
    "    print( mood_as_word(True) ) # expected 'Good'\n",
    "    print( mood_as_word(False) ) # expected 'Terrible'\n",
    "    \n",
    "    \n",
    "    def hour_into_time_of_the_day(hour):    \n",
    "        # ??? what will be here?\n",
    "\n",
    "    print( hour_into_time_of_the_day(1) )  # expected 'morning'\n",
    "    print( hour_into_time_of_the_day(3) )  # expected 'morning'\n",
    "    print( hour_into_time_of_the_day(11) ) # expected 'morning'\n",
    "    print( hour_into_time_of_the_day(12) ) # expected 'afternoon'\n",
    "    print( hour_into_time_of_the_day(15) ) # expected 'afternoon'\n",
    "    print( hour_into_time_of_the_day(16) ) # expected 'afternoon'\n",
    "    print( hour_into_time_of_the_day(17) ) # expected 'evening'\n",
    "    print( hour_into_time_of_the_day(18) ) # expected 'evening'\n",
    "    print( hour_into_time_of_the_day(23) ) # expected 'evening'\n",
    "    \n",
    "    \n",
    "    def greeting_for(mood, time, name):\n",
    "        # ??? what will be here?\n",
    "    \n",
    "    print( greet_based_on_time(False, 5, \"Mia\") )  # expected 'Terrible morning, Mia'\n",
    "    print( greet_based_on_time(True, 11, \"Cera\"))  # expected 'Good morning, Cera'\n",
    "    print( greet_based_on_time(False, 12, \"Sara\")) # expected 'Terrible afternoon, Sara'\n",
    "    print( greet_based_on_time(True, 21, \"Minie\")) # expected 'Good evening, Minie'\n",
    "    \n",
    "    ### END SOLUTION\n",
    "    \n",
    "</details>"
   ]
  },
  {
   "cell_type": "markdown",
   "metadata": {},
   "source": [
    "<details><summary style='color:blue'>HINT 2: broken down functions? CLICK HERE TO SEE THE ANSWER. BUT REALLY TRY TO DO IT YOURSELF FIRST!</summary>\n",
    "\n",
    "    Here's some code to get you started, copy it into a code cell so that you can run and edit the code.\n",
    "    \n",
    "    ### BEGIN SOLUTION\n",
    "    \n",
    "    def mood_as_word(are_you_feeling_good):    \n",
    "        if are_you_feeling_good == True:\n",
    "            return \"Good\"\n",
    "        else:\n",
    "            return \"Terrible\"\n",
    "\n",
    "    print( mood_as_word(True) ) # expected 'Good'\n",
    "    print( mood_as_word(False) ) # expected 'Terrible'\n",
    "\n",
    "    ### \n",
    "\n",
    "    def hour_into_time_of_the_day(hour):    \n",
    "        if hour < 12:\n",
    "            return \"morning\"\n",
    "        elif hour < 17:\n",
    "            return \"afternoon\"\n",
    "        else:\n",
    "            return \"evening\"\n",
    "\n",
    "    print( hour_into_time_of_the_day(1) )  # expected 'morning'\n",
    "    print( hour_into_time_of_the_day(3) )  # expected 'morning'\n",
    "    print( hour_into_time_of_the_day(11) ) # expected 'morning'\n",
    "    print( hour_into_time_of_the_day(12) ) # expected 'afternoon'\n",
    "    print( hour_into_time_of_the_day(15) ) # expected 'afternoon'\n",
    "    print( hour_into_time_of_the_day(16) ) # expected 'afternoon'\n",
    "    print( hour_into_time_of_the_day(17) ) # expected 'evening'\n",
    "    print( hour_into_time_of_the_day(18) ) # expected 'evening'\n",
    "    print( hour_into_time_of_the_day(23) ) # expected 'evening'\n",
    "\n",
    "\n",
    "    # you could even do this:\n",
    "\n",
    "    def words_into_sentence(mood_word, time_word, name):\n",
    "        return mood_word + \" \" + time_word + \", \" + name\n",
    "\n",
    "    print( words_into_sentence('Terrible', 'morning', \"Mia\") )  # expected 'Terrible morning, Mia'\n",
    "    print( words_into_sentence('Good', 'morning', \"Cera\"))      # expected 'Good morning, Cera'\n",
    "    print( words_into_sentence('Terrible', 'afternoon', \"Sara\")) # expected 'Terrible afternoon, Sara'\n",
    "    print( words_into_sentence('Good', 'evening', \"Minie\")) # expected 'Good evening, Minie'\n",
    "\n",
    "    ### END SOLUTION\n",
    "    \n",
    "</details>"
   ]
  },
  {
   "cell_type": "markdown",
   "metadata": {},
   "source": [
    "<details><summary style='color:blue'>HINT 3: combining it together into greet_based_on_time CLICK HERE TO SEE THE ANSWER. BUT REALLY TRY TO DO IT YOURSELF FIRST!</summary>\n",
    "\n",
    "    Here's some code to get you started, copy it into a code cell so that you can run and edit the code.\n",
    "    \n",
    "    ### BEGIN SOLUTION\n",
    "    \n",
    "    def greet_based_on_time(feeling_good, hour, name):    \n",
    "        mood_greeting =  mood_as_word(feeling_good)\n",
    "        time_of_the_day =  hour_into_time_of_the_day(hour)\n",
    "        full_greeting =  words_into_sentence(mood_greeting, time_of_the_day, name)\n",
    "        return full_greeting\n",
    "\n",
    "    print( greet_based_on_time(False, 5, \"Mia\") )  # expected 'Terrible morning, Mia'\n",
    "    print( greet_based_on_time(True, 11, \"Cera\"))  # expected 'Good morning, Cera'\n",
    "    print( greet_based_on_time(False, 12, \"Sara\")) # expected 'Terrible afternoon, Sara'\n",
    "    print( greet_based_on_time(True, 21, \"Minie\")) # expected 'Good evening, Minie'\n",
    "\n",
    "    # This could also be, but it starts looking like spaghetti or tangled earphones 🤔\n",
    "\n",
    "    def greet_based_on_time(feeling_good, hour, name):    \n",
    "        return words_into_sentence(  mood_as_word(feeling_good), hour_into_time_of_the_day(hour), name)\n",
    "\n",
    "    print( greet_based_on_time(True, 11, \"Cera\"))  # expected 'Good morning, Cera'\n",
    "    \n",
    "  ### END SOLUTION\n",
    "    \n",
    "</details>"
   ]
  },
  {
   "cell_type": "code",
   "execution_count": null,
   "metadata": {},
   "outputs": [],
   "source": []
  }
 ],
 "metadata": {
  "kernelspec": {
   "display_name": "Python 3 (ipykernel)",
   "language": "python",
   "name": "python3"
  },
  "language_info": {
   "codemirror_mode": {
    "name": "ipython",
    "version": 3
   },
   "file_extension": ".py",
   "mimetype": "text/x-python",
   "name": "python",
   "nbconvert_exporter": "python",
   "pygments_lexer": "ipython3",
   "version": "3.9.7"
  }
 },
 "nbformat": 4,
 "nbformat_minor": 2
}
