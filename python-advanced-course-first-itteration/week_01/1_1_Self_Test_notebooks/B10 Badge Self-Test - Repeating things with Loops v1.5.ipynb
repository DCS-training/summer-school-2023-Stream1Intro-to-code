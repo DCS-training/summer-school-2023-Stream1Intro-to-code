{
 "cells": [
  {
   "cell_type": "markdown",
   "metadata": {},
   "source": [
    "# B10 Badge: Repeating things with Loops."
   ]
  },
  {
   "cell_type": "code",
   "execution_count": null,
   "metadata": {},
   "outputs": [],
   "source": [
    "for word in [\"pinapple\", \"apple\", \"kiwi\", \"pear\"]:\n",
    "    print(word)"
   ]
  },
  {
   "cell_type": "code",
   "execution_count": null,
   "metadata": {},
   "outputs": [],
   "source": [
    "words = [\"pinapple\", \"apple\", \"kiwi\", \"pear\"]\n",
    "for word in words:\n",
    "    print(word)"
   ]
  },
  {
   "cell_type": "code",
   "execution_count": null,
   "metadata": {},
   "outputs": [],
   "source": [
    "def does_list_contain_word_banana(words):\n",
    "    for word in words:\n",
    "        if word == \"banana\":\n",
    "            return True \n",
    "    # And if after checking every word with the loop you still found nothing, then...\n",
    "    return False\n",
    "\n",
    "print(does_list_contain_word_banana([\"pinapple\", \"apple\", \"kiwi\", \"pear\"]))"
   ]
  },
  {
   "cell_type": "code",
   "execution_count": null,
   "metadata": {},
   "outputs": [],
   "source": [
    "# Here we separate the action we want performed:\n",
    "\n",
    "def into_a_sentence(day): \n",
    "    return day + \" will be a lovely day\"\n",
    "\n",
    "# Here we separate the data we want it performed on:\n",
    "\n",
    "weekdays = [\"Monday\", \"Tuesday\", \"Wednesday\", \"Thursday\", \"Friday\", \"Saturday\", \"Sunday\"]\n",
    "\n",
    "# I will explain this syntax in more details below, but try to guess what it does:\n",
    "\n",
    "for weekday in weekdays:\n",
    "    print(into_a_sentence(weekday))\n",
    "    "
   ]
  },
  {
   "cell_type": "markdown",
   "metadata": {},
   "source": [
    "You could even simplify it further, but watch out - shorter code IS NOT always better."
   ]
  },
  {
   "cell_type": "code",
   "execution_count": null,
   "metadata": {},
   "outputs": [],
   "source": [
    "weekdays = [\"Monday\", \"Tuesday\", \"Wednesday\", \"Thursday\", \"Friday\", \"Saturday\", \"Sunday\"]\n",
    "\n",
    "for weekday in weekdays:\n",
    "    print(weekday + \" will be a lovely day\")"
   ]
  },
  {
   "cell_type": "code",
   "execution_count": null,
   "metadata": {},
   "outputs": [],
   "source": [
    "# Or even:\n",
    "\n",
    "for weekday in [\"Monday\", \"Tuesday\", \"Wednesday\", \"Thursday\", \"Friday\", \"Saturday\", \"Sunday\"]:\n",
    "    print(weekday + \" will be a lovely day\")"
   ]
  },
  {
   "cell_type": "markdown",
   "metadata": {},
   "source": [
    "## Some more examples of using LOOPS to do useful things:"
   ]
  },
  {
   "cell_type": "code",
   "execution_count": null,
   "metadata": {},
   "outputs": [],
   "source": [
    "# Print a square of each number between 1 and 6:\n",
    "\n",
    "numbers = [1,2,3,4,5,6] # COLLECTION.\n",
    "for number in numbers: # for ITEM in COLLECTION.\n",
    "    print(number * number) # ACTION."
   ]
  },
  {
   "cell_type": "markdown",
   "metadata": {},
   "source": [
    "**TEMPORARY VARIABLES FOR ITERATING THROUGH THE COLLECTION**: Notice that we are using a temporary variable ```item```, ```name```, ```day``` to point to the item in the list that we are currently looking at.\n",
    "\n",
    "That temporary variable will in turn take on the value of each item in the list. \n",
    "\n",
    "When the below code is run:\n",
    "\n",
    "```numbers = [1,2,3,4,5,6]\n",
    "for number in numbers:\n",
    "    print(number * number)\n",
    "```\n",
    "\n",
    "The line ```print(number * number)``` will be run 6 times.\n",
    "\n",
    "- The first time it is run, the value in variable number is 1, as if we run ```number = 1``` just before.\n",
    "- The second time it is run, the value in variable number is 2, as if we run ```number = 2``` just before.\n",
    "- The third time it is run, the value in variable number is 3, as if we run ```number = 3``` just before.\n",
    "- ... and so on.\n",
    "\n",
    "When the loop is finished the variable ```number``` becomes irrelevant. It technically still holds the last value that was in it, but it makes no much sense to use it for anything.\n",
    "\n",
    "**In some ways, you could imagine that the computer treats the folllowing three lines of code -**\n",
    "\n",
    "```\n",
    "# Pseudo code: repeat the line print(number * number) 6 times. Once for each number 1,2,3,4,5 and 6:\n",
    "\n",
    "numbers = [1,2,3,4,5,6] # COLLECTION\n",
    "for number in numbers: # for ITEM in COLLECTION\n",
    "    print(number * number) # ACTION\n",
    "```\n",
    "\n",
    "**As if they said:**"
   ]
  },
  {
   "cell_type": "code",
   "execution_count": null,
   "metadata": {
    "scrolled": false
   },
   "outputs": [],
   "source": [
    "number = 1\n",
    "print(number * number)\n",
    "\n",
    "number = 2\n",
    "print(number * number)\n",
    "\n",
    "number = 3\n",
    "print(number * number)\n",
    "\n",
    "number = 4\n",
    "print(number * number)\n",
    "\n",
    "number = 5\n",
    "print(number * number)\n",
    "\n",
    "number = 6\n",
    "print(number * number)"
   ]
  },
  {
   "cell_type": "markdown",
   "metadata": {},
   "source": [
    "**But luckily we can use loops instead of typing all of that!**"
   ]
  },
  {
   "cell_type": "markdown",
   "metadata": {},
   "source": [
    "### GETTING VALUES OUT OF A LOOP - THE BASICS: \n",
    "(We will work on this in greater detail during the Lab)."
   ]
  },
  {
   "cell_type": "markdown",
   "metadata": {},
   "source": [
    "**LOOK FOR SOMETHING AND STOP ONCE YOU FOUND IT.**"
   ]
  },
  {
   "cell_type": "markdown",
   "metadata": {},
   "source": [
    "**RETURN True / False**:"
   ]
  },
  {
   "cell_type": "code",
   "execution_count": null,
   "metadata": {},
   "outputs": [],
   "source": [
    "def does_list_contain_word_banana(words):\n",
    "    for word in words:\n",
    "        if word == \"banana\":\n",
    "            return True # If this line is reached, the function will terminate.\n",
    "    return False # This line will only be reached after the 'for loop' iterated over all words, and did not return."
   ]
  },
  {
   "cell_type": "code",
   "execution_count": null,
   "metadata": {},
   "outputs": [],
   "source": [
    "print(does_list_contain_word_banana([\"pinapple\", \"apple\", \"kiwi\", \"pear\"]))"
   ]
  },
  {
   "cell_type": "code",
   "execution_count": null,
   "metadata": {},
   "outputs": [],
   "source": [
    "print(does_list_contain_word_banana([\"pinapple\", \"apple\", \"banana\", \"kiwi\",  \"pear\"]))"
   ]
  },
  {
   "cell_type": "code",
   "execution_count": 5,
   "metadata": {},
   "outputs": [],
   "source": [
    "# Same code as above, but with one 'debugging print' - it let's us peek inside of the loop.\n",
    "\n",
    "def does_list_contain_word_banana(words):\n",
    "    for word in words:\n",
    "        print(\"for debugging: checking word\",word) # This is optional, to illustrate what's going on inside.\n",
    "        if word == \"banana\":\n",
    "            print(\"for debugging: found word\",word, \"stop looping\")\n",
    "            return True # If this line is reached, the function will terminate.\n",
    "    return False # This line will only be reached after the for loop iterated over all words, and did not return."
   ]
  },
  {
   "cell_type": "code",
   "execution_count": 10,
   "metadata": {},
   "outputs": [
    {
     "name": "stdout",
     "output_type": "stream",
     "text": [
      "for debugging: checking word pinapple\n",
      "for debugging: checking word apple\n",
      "for debugging: checking word plum\n",
      "for debugging: checking word kiwi\n",
      "for debugging: checking word pear\n",
      "False\n",
      "for debugging: checking word pinapple\n",
      "for debugging: checking word apple\n",
      "for debugging: checking word banana\n",
      "for debugging: found word banana\n",
      "True\n"
     ]
    }
   ],
   "source": [
    "print(does_list_contain_word_banana([\"pinapple\", \"apple\", \"plum\",   \"kiwi\", \"pear\"]))\n",
    "print(does_list_contain_word_banana([\"pinapple\", \"apple\", \"banana\", \"kiwi\",  \"pear\"]))"
   ]
  },
  {
   "cell_type": "markdown",
   "metadata": {},
   "source": [
    "You can add as many prints in there as you'd like, but watch out it stays readable. At some point you will have more prints than the actual code. It's best to delete (or at least comment out) the debugging prints once youre done debugging and your function works as intended. Just to stop littering the print output.\n",
    "\n",
    "Saying that... here's an example where absolutely everything is printed:"
   ]
  },
  {
   "cell_type": "code",
   "execution_count": 11,
   "metadata": {},
   "outputs": [],
   "source": [
    "# Same code as above, but with some more 'debugging prints':\n",
    "\n",
    "def does_list_contain_word_banana(words):\n",
    "    print(\"words to consider:\",words)\n",
    "    for word in words:\n",
    "        print(\"checking word\",word) # This is optional, to illustrate what's going on inside.\n",
    "        if word == \"banana\":\n",
    "            print(\":) about to terminate. Word found:\",word)\n",
    "            return True # If this line is reached, the function will terminate.\n",
    "        else:\n",
    "            print(\":(\", word, \"was not banana\")\n",
    "    \n",
    "    print(\"finished the loop and went through all of the words. None of them were banana\",words)\n",
    "    return False # This line will only be reached after the for loop iterated over all words, and did not return."
   ]
  },
  {
   "cell_type": "code",
   "execution_count": null,
   "metadata": {},
   "outputs": [],
   "source": [
    "print(does_list_contain_word_banana([\"pinapple\", \"apple\",  \"kiwi\",  \"pear\"]))"
   ]
  },
  {
   "cell_type": "code",
   "execution_count": 12,
   "metadata": {},
   "outputs": [
    {
     "name": "stdout",
     "output_type": "stream",
     "text": [
      "words to consider: ['pinapple', 'apple', 'kiwi', 'pear']\n",
      "checking word pinapple\n",
      ":( pinapple was not banana\n",
      "checking word apple\n",
      ":( apple was not banana\n",
      "checking word kiwi\n",
      ":( kiwi was not banana\n",
      "checking word pear\n",
      ":( pear was not banana\n",
      "finished the loop and went through all of the words. None of them were banana ['pinapple', 'apple', 'kiwi', 'pear']\n",
      "False\n"
     ]
    }
   ],
   "source": [
    "print(does_list_contain_word_banana([\"pinapple\", \"apple\", \"banana\", \"kiwi\",  \"pear\"]))"
   ]
  },
  {
   "cell_type": "code",
   "execution_count": 13,
   "metadata": {},
   "outputs": [],
   "source": [
    "# but once you're finished working on your code, normally you remove all prints:\n",
    "def does_list_contain_word_banana(words):\n",
    "    for word in words:\n",
    "        if word == \"banana\":\n",
    "            return True\n",
    "    return False #"
   ]
  },
  {
   "cell_type": "code",
   "execution_count": 15,
   "metadata": {},
   "outputs": [
    {
     "name": "stdout",
     "output_type": "stream",
     "text": [
      "False\n",
      "True\n"
     ]
    }
   ],
   "source": [
    "print(does_list_contain_word_banana([\"pinapple\", \"apple\",  \"kiwi\",  \"pear\"]))\n",
    "print(does_list_contain_word_banana([\"pinapple\", \"apple\", \"banana\", \"kiwi\",  \"pear\"]))"
   ]
  },
  {
   "cell_type": "markdown",
   "metadata": {},
   "source": [
    "**RETURN a value from the list you are looping**."
   ]
  },
  {
   "cell_type": "code",
   "execution_count": 16,
   "metadata": {},
   "outputs": [],
   "source": [
    "def find_first_word_longer_than_5_characters(words):\n",
    "    for word in words:\n",
    "        if len(word) > 5:\n",
    "            return word # If this line is reached, function will terminate i.e stop running, and return where it came from,\n",
    "    return \"\" # This line will only be reached after the 'for loop' iterated over all words, and did not return.\n",
    "\n",
    "# Note that it is often not obvious what to return if you don't find what you were looking for...\n",
    "# Usually you need to check what the tests tell you to do."
   ]
  },
  {
   "cell_type": "code",
   "execution_count": 17,
   "metadata": {},
   "outputs": [
    {
     "name": "stdout",
     "output_type": "stream",
     "text": [
      "pinapple\n"
     ]
    }
   ],
   "source": [
    "print(find_first_word_longer_than_5_characters([\"plum\", \"pear\", \"pinapple\", \"banana\"]))"
   ]
  },
  {
   "cell_type": "code",
   "execution_count": 18,
   "metadata": {},
   "outputs": [
    {
     "name": "stdout",
     "output_type": "stream",
     "text": [
      "\n"
     ]
    }
   ],
   "source": [
    "print(find_first_word_longer_than_5_characters([\"plum\", \"pear\", \"kiwi\"]))"
   ]
  },
  {
   "cell_type": "markdown",
   "metadata": {},
   "source": [
    "**RETURN a modified List - AGGREGATION**."
   ]
  },
  {
   "cell_type": "code",
   "execution_count": 19,
   "metadata": {},
   "outputs": [],
   "source": [
    "def keep_words_longer_than_5_characters(words):\n",
    "    words_to_keep = [] # Start with an empty List.\n",
    "    for word in words:\n",
    "        if len(word) > 5: # If word is longer than 5 characters...\n",
    "            words_to_keep.append(word) # Add it to the aggregated list.\n",
    "    return words_to_keep # Once the loop is finished, return the resulting list."
   ]
  },
  {
   "cell_type": "code",
   "execution_count": null,
   "metadata": {},
   "outputs": [],
   "source": [
    "fruits = [\"plum\", \"pear\", \"pinapple\", \"kiwi\", \"fig\",\"lime\", \"lemon\", \"banana\", \"beans\"]\n",
    "print(keep_words_longer_than_5_characters(fruits))"
   ]
  },
  {
   "cell_type": "code",
   "execution_count": null,
   "metadata": {},
   "outputs": [],
   "source": [
    "# Same code, but with some debugging prints:\n",
    "\n",
    "def keep_words_longer_than_5_characters(words):\n",
    "    words_to_keep = [] # Start with an empty list.\n",
    "    for word in words:\n",
    "        print(\"considering word\", word)\n",
    "        if len(word) > 5: # If word is longer than 5 characters...\n",
    "            print( word, \"is long enough\")\n",
    "            words_to_keep.append(word) # Add it to the aggregated list.\n",
    "    print(\"finished the loop. About to return:\", words_to_keep)\n",
    "    return words_to_keep # Once the loop is finished, return the resulting list."
   ]
  },
  {
   "cell_type": "code",
   "execution_count": null,
   "metadata": {},
   "outputs": [],
   "source": [
    "fruits = [\"plum\", \"pear\", \"pinapple\", \"kiwi\", \"fig\",\"lime\", \"lemon\", \"banana\", \"beans\"]\n",
    "print(keep_words_longer_than_5_characters(fruits))"
   ]
  },
  {
   "cell_type": "markdown",
   "metadata": {},
   "source": [
    "### WARNING: NEVER MODIFY THE LIST YOU ARE CURRENTLY LOOPING THROUGH!\n",
    "\n",
    "It's basically like cutting the branch of a tree that you are sitting on. As the loop is trying to go through all the items and items start vanishing, the loop will get VERY confused and it will cause all sorts of unexpected issues."
   ]
  },
  {
   "cell_type": "code",
   "execution_count": null,
   "metadata": {},
   "outputs": [],
   "source": [
    "# So this is a very bad idea:\n",
    "\n",
    "def keep_words_longer_than_5_characters_the_wrong_way(words):\n",
    "    for word in words:\n",
    "        print(\"considering word\", word)\n",
    "        if len(word) <= 5: \n",
    "            print( word, \"is too short\")\n",
    "            words.remove(word) # Remove that word, hence shortening the list, and potentially skipping next item.\n",
    "    return words # Once the loop is finished, return the resulting list."
   ]
  },
  {
   "cell_type": "code",
   "execution_count": null,
   "metadata": {},
   "outputs": [],
   "source": [
    "fruits = [\"plum\", \"pear\", \"pinapple\", \"kiwi\", \"fig\",\"lime\", \"lemon\", \"banana\", \"beans\"]\n",
    "print(keep_words_longer_than_5_characters_the_wrong_way(fruits))\n",
    "\n",
    "# Read the output and try to figure out what is going wrong."
   ]
  },
  {
   "cell_type": "markdown",
   "metadata": {},
   "source": [
    "Can you see a completely bizarre behaviour of the above function? How it skips some items and not others? You might want to spend some time trying to understand what is going on there, but it is quite complicated.\n",
    "\n",
    "**ONE IMPORTANT THING TO REMEMBER:** Do not change the list you are looping through. If you need to add to it, or remove from it, you should just create a new list and add/remove from there."
   ]
  },
  {
   "cell_type": "markdown",
   "metadata": {},
   "source": [
    "# ⛏ Optional Minitask: Try to predict what will the code below will do. Then run it and modify it to do something else.\n",
    "\n",
    "\n",
    "Before you run these cells, read the code examples and try to describe what they do. Once you know, run them and see if you were right. Then modify the functions to do something slightly different e.g. perform another math operation, or print another set of words.\n",
    "\n",
    "**Note: Usually our functions return stuff, but technically they are allowed to not do that. If we are doing something just for practice, it's okay to just print from the functions, and watch what is happening.**\n",
    "\n",
    "Task: modify all of the below 3 code samples to do something else, your choice what."
   ]
  },
  {
   "cell_type": "code",
   "execution_count": null,
   "metadata": {},
   "outputs": [],
   "source": [
    "def print_squares_of_numbers(numbers):\n",
    "    for number in numbers:\n",
    "        print(number * number)\n",
    "    \n",
    "all_numbers = [1,2,3,4,5]\n",
    "print_squares_of_numbers(all_numbers)"
   ]
  },
  {
   "cell_type": "code",
   "execution_count": null,
   "metadata": {},
   "outputs": [],
   "source": [
    "def print_each_word_with_ending(list_of_words, words_to_put_the_end):\n",
    "    for word in list_of_words:\n",
    "        print(word, words_to_put_the_end)\n",
    "    \n",
    "words = [\"Nicky\",\"Jill\",\"Xi\",\"Vanya\"]\n",
    "ending = \"is in the room\"\n",
    "\n",
    "print_each_word_with_ending(words, ending )"
   ]
  },
  {
   "cell_type": "code",
   "execution_count": null,
   "metadata": {},
   "outputs": [],
   "source": [
    "def print_numbers_larger_than(numbers, larger_than_this):\n",
    "    for number in numbers:\n",
    "        if number > larger_than_this:\n",
    "            print(number)\n",
    "    \n",
    "all_numbers = [1,2,3,4,5,6,7,8]\n",
    "print_numbers_larger_than(all_numbers, 4)"
   ]
  },
  {
   "cell_type": "markdown",
   "metadata": {},
   "source": [
    "Note: it is very rare for functions to print things, rather than returning them. How would you change above functions so that they return their result instead of printing it?\n",
    "\n",
    "It's sometimes not obvious because you can return only one thing. So you might need to 'assemble a list' and then return that. You'll learn about this in the next badge."
   ]
  },
  {
   "cell_type": "code",
   "execution_count": null,
   "metadata": {},
   "outputs": [],
   "source": [
    "# example: first function returning rather than printing:\n",
    "def squares_of_numbers(numbers):\n",
    "    squares = []\n",
    "    for number in numbers:\n",
    "        squares.append(number * number)\n",
    "    return squares # don't forget this line! Otherwise your function will just return 'None' \n",
    "    \n",
    "all_numbers = [1,2,3,4,5]\n",
    "squared_numbers = squares_of_numbers(all_numbers)\n",
    "print(squared_numbers)"
   ]
  }
 ],
 "metadata": {
  "kernelspec": {
   "display_name": "Python 3 (ipykernel)",
   "language": "python",
   "name": "python3"
  },
  "language_info": {
   "codemirror_mode": {
    "name": "ipython",
    "version": 3
   },
   "file_extension": ".py",
   "mimetype": "text/x-python",
   "name": "python",
   "nbconvert_exporter": "python",
   "pygments_lexer": "ipython3",
   "version": "3.9.7"
  }
 },
 "nbformat": 4,
 "nbformat_minor": 2
}
