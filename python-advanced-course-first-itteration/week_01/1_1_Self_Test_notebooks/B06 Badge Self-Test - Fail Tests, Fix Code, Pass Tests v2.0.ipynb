{
 "cells": [
  {
   "cell_type": "markdown",
   "metadata": {},
   "source": [
    "# Badge 06: Test Driven Development.\n",
    "\n",
    "## See tests Fail, fix the code, then see tests Pass."
   ]
  },
  {
   "cell_type": "code",
   "execution_count": null,
   "metadata": {},
   "outputs": [],
   "source": [
    "#example, failing test throws an AssertionError\n",
    "number = 7\n",
    "assert number == 12"
   ]
  },
  {
   "cell_type": "code",
   "execution_count": null,
   "metadata": {},
   "outputs": [],
   "source": [
    "#example: passing test will not return or throw anything\n",
    "number = 7\n",
    "assert number == 7"
   ]
  },
  {
   "cell_type": "code",
   "execution_count": null,
   "metadata": {},
   "outputs": [],
   "source": [
    "#example: that's why sometimes it's a good idea to put a print(\"tests passed\") at the end,\n",
    "# just so you know you've actually run a cell with tests. (if one of the tests failed, you'd see it)\n",
    "\n",
    "number = 7\n",
    "assert number == 7\n",
    "print(\"tests passed\")"
   ]
  },
  {
   "cell_type": "code",
   "execution_count": null,
   "metadata": {},
   "outputs": [],
   "source": [
    "# you would often start with this\n",
    "\n",
    "def are_both_of_the_same_sign(number_1, number_2):\n",
    "    \"\"\"\n",
    "    This is a block comment. They sometimes explain what a function would do. saves you writing a lot of # \n",
    "    (btw. ctrl+? or cmd+? is a shortcut to # comment all selected lines. So select many lines then use it)\n",
    "    \n",
    "    Return True if both numbers are positive, or if both numbers are negative.\n",
    "    Return False if one number is positive and another negative\n",
    "    Return False if one or both of the numbers is zero\n",
    "    \"\"\"\n",
    "    return \"Banana\""
   ]
  },
  {
   "cell_type": "code",
   "execution_count": null,
   "metadata": {},
   "outputs": [],
   "source": [
    "# see it work\n",
    "print(are_both_of_the_same_sign(4,-2))"
   ]
  },
  {
   "cell_type": "code",
   "execution_count": null,
   "metadata": {},
   "outputs": [],
   "source": [
    "# then write tests. What do expect to happen for what imput?\n",
    "assert are_both_of_the_same_sign( 3, 8) == True\n",
    "assert are_both_of_the_same_sign(-1, 7) == False\n",
    "assert are_both_of_the_same_sign(-4,-3) == True\n",
    "assert are_both_of_the_same_sign( 3,-8) == False\n",
    "assert are_both_of_the_same_sign( 3,-8) == False \n",
    "# you decide, after consilting with your client what happens in unobvious/edhe situations. eg with 0\n",
    "# eg you could decide that 0 is both positive and negative\n",
    "assert are_both_of_the_same_sign( 3, 0) == True\n",
    "assert are_both_of_the_same_sign(-3, 0) == True\n",
    "assert are_both_of_the_same_sign( 0, 6) == True\n",
    "assert are_both_of_the_same_sign( 0,-6) == True\n",
    "assert are_both_of_the_same_sign( 0, 0) == True\n",
    "print(\"tests passed\")"
   ]
  },
  {
   "cell_type": "code",
   "execution_count": null,
   "metadata": {},
   "outputs": [],
   "source": [
    "# then you write the solution, after which you run tests again, to see if it all passed\n",
    "\n",
    "def are_both_of_the_same_sign(number_1, number_2):\n",
    "    if number_1 >= 0 and number_2 >= 0:\n",
    "        return True\n",
    "    elif number_1 <= 0 and number_2 <= 0:\n",
    "        return True\n",
    "    else:\n",
    "        return False\n",
    "    \n",
    "# note, there are probably more succinct ways to solve this, but this one is very human-readable\n",
    "# and human-readable is ALWAYS better than short, or fancy code."
   ]
  },
  {
   "cell_type": "markdown",
   "metadata": {},
   "source": [
    "# ⛏ Bonus Minitask: Write challanges and solve them using Test Driven Development.\n",
    "\n",
    "- Come up with some function ideas. Describe in a sentence what they will do.\n",
    "- Write tests that will test if they do what you expected (minimum 4 tests each).\n",
    "- Write an empty function, returning something silly, like False or \"Banana\".\n",
    "- **See your tests fail**\n",
    "- Fix the function so that it passes the tests.\n",
    "\n",
    "Here are some ideas, but it's up to you what you want to experiment with:\n",
    "\n",
    "- Function that takes 2 numbers and returns result of multiplying them.\n",
    "- Function that takes a number and returns the absolute value of it (ignoring the sign, e.g. -3 becomes 3, but 3 stays 3).\n",
    "- Function that takes 3 numbers and returns middle largest one.\n",
    "\n",
    "Always start with: **a nonsense function that returns banana**\n",
    "Then write tests: **Tests allow you to figure out what you're working on, before you start workin on it**\n",
    "Then solve the function: **And re-run tests frequently to see if it is correct**\n",
    "\n",
    "\n",
    "Come up with a few challenges on your own. Good luck."
   ]
  },
  {
   "cell_type": "code",
   "execution_count": null,
   "metadata": {},
   "outputs": [],
   "source": []
  }
 ],
 "metadata": {
  "celltoolbar": "Create Assignment",
  "kernelspec": {
   "display_name": "Python 3 (ipykernel)",
   "language": "python",
   "name": "python3"
  },
  "language_info": {
   "codemirror_mode": {
    "name": "ipython",
    "version": 3
   },
   "file_extension": ".py",
   "mimetype": "text/x-python",
   "name": "python",
   "nbconvert_exporter": "python",
   "pygments_lexer": "ipython3",
   "version": "3.9.7"
  }
 },
 "nbformat": 4,
 "nbformat_minor": 2
}
