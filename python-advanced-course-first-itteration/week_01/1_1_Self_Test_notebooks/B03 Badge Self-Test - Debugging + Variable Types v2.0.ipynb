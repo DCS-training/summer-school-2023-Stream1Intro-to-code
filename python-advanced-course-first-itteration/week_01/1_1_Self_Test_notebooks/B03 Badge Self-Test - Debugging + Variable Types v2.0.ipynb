{
 "cells": [
  {
   "cell_type": "markdown",
   "metadata": {},
   "source": [
    "# Badge 03: Debugging."
   ]
  },
  {
   "cell_type": "markdown",
   "metadata": {},
   "source": [
    "# Concepts:\n",
    "\n",
    "- What are some basic types of errors.\n",
    "- ALWAYS READ THE ERRORS FROM THE BOTTOM! ----> the arrow will point you to the exact line of code where something is wrong\n",
    "- enable line-numbers (in the top jupyter menu 'View > Toggle Line Numbers') to make error even more meaningful\n",
    "- How to refactor your code so that it is easier to debug."
   ]
  },
  {
   "cell_type": "code",
   "execution_count": 1,
   "metadata": {},
   "outputs": [
    {
     "ename": "TypeError",
     "evalue": "can only concatenate str (not \"int\") to str",
     "output_type": "error",
     "traceback": [
      "\u001b[0;31m---------------------------------------------------------------------------\u001b[0m",
      "\u001b[0;31mTypeError\u001b[0m                                 Traceback (most recent call last)",
      "\u001b[0;32m/var/folders/3h/g_yzkj190_36rwj922rrn1nm0000gn/T/ipykernel_14262/439000624.py\u001b[0m in \u001b[0;36m<module>\u001b[0;34m\u001b[0m\n\u001b[1;32m      1\u001b[0m \u001b[0;31m# what do those errors mean?\u001b[0m\u001b[0;34m\u001b[0m\u001b[0;34m\u001b[0m\u001b[0m\n\u001b[0;32m----> 2\u001b[0;31m \u001b[0mprint\u001b[0m\u001b[0;34m(\u001b[0m \u001b[0;34m\"My age is \"\u001b[0m \u001b[0;34m+\u001b[0m \u001b[0;36m23\u001b[0m\u001b[0;34m)\u001b[0m\u001b[0;34m\u001b[0m\u001b[0;34m\u001b[0m\u001b[0m\n\u001b[0m",
      "\u001b[0;31mTypeError\u001b[0m: can only concatenate str (not \"int\") to str"
     ]
    }
   ],
   "source": [
    "# what do those errors mean?\n",
    "print( \"My age is \" + 23)"
   ]
  },
  {
   "cell_type": "code",
   "execution_count": 2,
   "metadata": {},
   "outputs": [
    {
     "ename": "TypeError",
     "evalue": "unsupported operand type(s) for +: 'int' and 'str'",
     "output_type": "error",
     "traceback": [
      "\u001b[0;31m---------------------------------------------------------------------------\u001b[0m",
      "\u001b[0;31mTypeError\u001b[0m                                 Traceback (most recent call last)",
      "\u001b[0;32m/var/folders/3h/g_yzkj190_36rwj922rrn1nm0000gn/T/ipykernel_14262/3828317546.py\u001b[0m in \u001b[0;36m<module>\u001b[0;34m\u001b[0m\n\u001b[0;32m----> 1\u001b[0;31m \u001b[0mprint\u001b[0m\u001b[0;34m(\u001b[0m  \u001b[0;36m23\u001b[0m \u001b[0;34m+\u001b[0m \u001b[0;34m\"is my age\"\u001b[0m\u001b[0;34m)\u001b[0m\u001b[0;34m\u001b[0m\u001b[0;34m\u001b[0m\u001b[0m\n\u001b[0m",
      "\u001b[0;31mTypeError\u001b[0m: unsupported operand type(s) for +: 'int' and 'str'"
     ]
    }
   ],
   "source": [
    "print(  23 + \"is my age\")"
   ]
  },
  {
   "cell_type": "code",
   "execution_count": 3,
   "metadata": {},
   "outputs": [
    {
     "name": "stdout",
     "output_type": "stream",
     "text": [
      "13\n"
     ]
    },
    {
     "ename": "TypeError",
     "evalue": "unsupported operand type(s) for -: 'str' and 'str'",
     "output_type": "error",
     "traceback": [
      "\u001b[0;31m---------------------------------------------------------------------------\u001b[0m",
      "\u001b[0;31mTypeError\u001b[0m                                 Traceback (most recent call last)",
      "\u001b[0;32m/var/folders/3h/g_yzkj190_36rwj922rrn1nm0000gn/T/ipykernel_95135/739447271.py\u001b[0m in \u001b[0;36m<module>\u001b[0;34m\u001b[0m\n\u001b[1;32m      1\u001b[0m \u001b[0mprint\u001b[0m\u001b[0;34m(\u001b[0m\u001b[0;36m23\u001b[0m \u001b[0;34m-\u001b[0m \u001b[0;36m10\u001b[0m\u001b[0;34m)\u001b[0m \u001b[0;31m# This will work.\u001b[0m\u001b[0;34m\u001b[0m\u001b[0;34m\u001b[0m\u001b[0m\n\u001b[0;32m----> 2\u001b[0;31m \u001b[0mprint\u001b[0m\u001b[0;34m(\u001b[0m\u001b[0;34m\"banana\"\u001b[0m \u001b[0;34m-\u001b[0m \u001b[0;34m\"na\"\u001b[0m\u001b[0;34m)\u001b[0m \u001b[0;31m# But this will fail.\u001b[0m\u001b[0;34m\u001b[0m\u001b[0;34m\u001b[0m\u001b[0m\n\u001b[0m",
      "\u001b[0;31mTypeError\u001b[0m: unsupported operand type(s) for -: 'str' and 'str'"
     ]
    }
   ],
   "source": [
    "print(23 - 10) # This will work.  \n",
    "print(\"banana\" - \"na\") # But this will fail."
   ]
  },
  {
   "cell_type": "code",
   "execution_count": 4,
   "metadata": {},
   "outputs": [
    {
     "ename": "ZeroDivisionError",
     "evalue": "division by zero",
     "output_type": "error",
     "traceback": [
      "\u001b[0;31m---------------------------------------------------------------------------\u001b[0m",
      "\u001b[0;31mZeroDivisionError\u001b[0m                         Traceback (most recent call last)",
      "\u001b[0;32m/var/folders/3h/g_yzkj190_36rwj922rrn1nm0000gn/T/ipykernel_95135/1262963199.py\u001b[0m in \u001b[0;36m<module>\u001b[0;34m\u001b[0m\n\u001b[1;32m      1\u001b[0m \u001b[0;31m# Before you run the code, try to think of what is wrong in the below lines:\u001b[0m\u001b[0;34m\u001b[0m\u001b[0;34m\u001b[0m\u001b[0m\n\u001b[0;32m----> 2\u001b[0;31m \u001b[0mprint\u001b[0m\u001b[0;34m(\u001b[0m\u001b[0;36m23\u001b[0m \u001b[0;34m/\u001b[0m \u001b[0;36m0\u001b[0m\u001b[0;34m)\u001b[0m\u001b[0;34m\u001b[0m\u001b[0;34m\u001b[0m\u001b[0m\n\u001b[0m",
      "\u001b[0;31mZeroDivisionError\u001b[0m: division by zero"
     ]
    }
   ],
   "source": [
    "# Before you run the code, try to think of what is wrong in the below lines:\n",
    "print(23 / 0)"
   ]
  },
  {
   "cell_type": "code",
   "execution_count": 5,
   "metadata": {},
   "outputs": [
    {
     "ename": "NameError",
     "evalue": "name 'the_tasty_fruit' is not defined",
     "output_type": "error",
     "traceback": [
      "\u001b[0;31m---------------------------------------------------------------------------\u001b[0m",
      "\u001b[0;31mNameError\u001b[0m                                 Traceback (most recent call last)",
      "\u001b[0;32m/var/folders/3h/g_yzkj190_36rwj922rrn1nm0000gn/T/ipykernel_95135/936310161.py\u001b[0m in \u001b[0;36m<module>\u001b[0;34m\u001b[0m\n\u001b[1;32m      1\u001b[0m \u001b[0;31m# Before you run the code, try to think of what is wrong in the below lines:\u001b[0m\u001b[0;34m\u001b[0m\u001b[0;34m\u001b[0m\u001b[0m\n\u001b[0;32m----> 2\u001b[0;31m \u001b[0mprint\u001b[0m\u001b[0;34m(\u001b[0m\u001b[0mthe_tasty_fruit\u001b[0m\u001b[0;34m)\u001b[0m\u001b[0;34m\u001b[0m\u001b[0;34m\u001b[0m\u001b[0m\n\u001b[0m",
      "\u001b[0;31mNameError\u001b[0m: name 'the_tasty_fruit' is not defined"
     ]
    }
   ],
   "source": [
    "# Before you run the code, try to think of what is wrong in the below lines:\n",
    "print(the_tasty_fruit)"
   ]
  },
  {
   "cell_type": "code",
   "execution_count": 6,
   "metadata": {},
   "outputs": [
    {
     "name": "stdout",
     "output_type": "stream",
     "text": [
      "False\n"
     ]
    }
   ],
   "source": [
    "# Before you run the code, try to think of what is wrong in the below lines:\n",
    "# Would this be an error?\n",
    "print( 3 == \"Pinapple\")"
   ]
  },
  {
   "cell_type": "code",
   "execution_count": 7,
   "metadata": {},
   "outputs": [
    {
     "ename": "SyntaxError",
     "evalue": "Missing parentheses in call to 'print'. Did you mean print(\"Pinapple\")? (677350984.py, line 1)",
     "output_type": "error",
     "traceback": [
      "\u001b[0;36m  File \u001b[0;32m\"/var/folders/3h/g_yzkj190_36rwj922rrn1nm0000gn/T/ipykernel_95135/677350984.py\"\u001b[0;36m, line \u001b[0;32m1\u001b[0m\n\u001b[0;31m    print \"Pinapple\"\u001b[0m\n\u001b[0m          ^\u001b[0m\n\u001b[0;31mSyntaxError\u001b[0m\u001b[0;31m:\u001b[0m Missing parentheses in call to 'print'. Did you mean print(\"Pinapple\")?\n"
     ]
    }
   ],
   "source": [
    "print \"Pinapple\""
   ]
  },
  {
   "cell_type": "markdown",
   "metadata": {},
   "source": [
    "🚀 Consider below evolution of code that does something very simmilar.\n",
    "\n",
    "Do you see weaknesses of the snippets of code and do you see how each next version improves something?"
   ]
  },
  {
   "cell_type": "code",
   "execution_count": 5,
   "metadata": {},
   "outputs": [
    {
     "name": "stdout",
     "output_type": "stream",
     "text": [
      "Results of operations on 9 and 3 are 12 6 27 3.0\n"
     ]
    }
   ],
   "source": [
    "# V1. The worst: Short, but confusing code and result.\n",
    "print(\"Results of operations on\",9, \"and\",3, \"are\", 9+3, 9-3, 9*3, 9/3)"
   ]
  },
  {
   "cell_type": "code",
   "execution_count": 6,
   "metadata": {},
   "outputs": [
    {
     "name": "stdout",
     "output_type": "stream",
     "text": [
      "Results of operations on 9 and 3 are 12 6 27 3.0\n"
     ]
    }
   ],
   "source": [
    "# V2. Still Bad, but already more universal: Extract all changeable things into variables:\n",
    "\n",
    "number_1 = 9\n",
    "number_2 = 3\n",
    "print(\"Results of operations on\",number_1, \"and\",number_2, \"are\", number_1+number_2,\n",
    "      number_1-number_2, number_1*number_2, number_1/number_2)"
   ]
  },
  {
   "cell_type": "code",
   "execution_count": 7,
   "metadata": {},
   "outputs": [
    {
     "name": "stdout",
     "output_type": "stream",
     "text": [
      "Results of operations on 9 and 3 are 12 6 27 3.0\n"
     ]
    }
   ],
   "source": [
    "# V3. Better: broken down, clearer code, but still leads to a confusing output.\n",
    "\n",
    "number_1 = 9\n",
    "number_2 = 3\n",
    "\n",
    "added = number_1 + number_2\n",
    "subtracted = number_1 - number_2\n",
    "multiplied = number_1 * number_2\n",
    "divided = number_1 / number_2\n",
    "\n",
    "print(\"Results of operations on\",number_1, \"and\",number_2, \"are\", added, subtracted, multiplied, divided)"
   ]
  },
  {
   "cell_type": "code",
   "execution_count": null,
   "metadata": {},
   "outputs": [],
   "source": [
    "# V4. Even better: separation of values, operations and presentation.\n",
    "\n",
    "number_1 = 9\n",
    "number_2 = 3\n",
    "\n",
    "added = number_1 + number_2\n",
    "subtracted = number_1 - number_2\n",
    "multiplied = number_1 * number_2\n",
    "divided = number_1 / number_2\n",
    "\n",
    "print() # Note: optional empty print() will add a new empty line.\n",
    "print(\"Operations on\",number_1, \"and\",number_2)\n",
    "print(\"Added:\", added)\n",
    "print(\"Subtracted:\", subtracted)\n",
    "print(\"Multiplied:\", multiplied)\n",
    "print(\"Divided:\", divided)"
   ]
  },
  {
   "cell_type": "code",
   "execution_count": 9,
   "metadata": {},
   "outputs": [
    {
     "name": "stdout",
     "output_type": "stream",
     "text": [
      "10.81\n",
      "\n",
      "divide: 7.666666666666667\n",
      "whole divide: 7\n",
      "round: 8\n",
      "crop to whole numbers: 7\n",
      "remainder: 2\n"
     ]
    }
   ],
   "source": [
    "# also: extra treatment of numeric data:\n",
    "\n",
    "print(round(10.8123124, 2))\n",
    "\n",
    "print()\n",
    "print(\"divide:\", 23 / 3) # Division.\n",
    "print(\"whole divide:\", 23 // 3) # Whole amount of times one fits in the other.\n",
    "print(\"round:\", round(23 / 3)) # Round to nearest whole number.\n",
    "print(\"crop to whole numbers:\", int(23 / 3)) # Just take the whole numbers (no rounding).\n",
    "print(\"remainder:\", 23 % 3) # Remainder of the division."
   ]
  },
  {
   "cell_type": "code",
   "execution_count": null,
   "metadata": {},
   "outputs": [],
   "source": []
  }
 ],
 "metadata": {
  "kernelspec": {
   "display_name": "Python 3 (ipykernel)",
   "language": "python",
   "name": "python3"
  },
  "language_info": {
   "codemirror_mode": {
    "name": "ipython",
    "version": 3
   },
   "file_extension": ".py",
   "mimetype": "text/x-python",
   "name": "python",
   "nbconvert_exporter": "python",
   "pygments_lexer": "ipython3",
   "version": "3.9.7"
  }
 },
 "nbformat": 4,
 "nbformat_minor": 2
}
