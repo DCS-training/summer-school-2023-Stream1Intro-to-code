{
 "cells": [
  {
   "cell_type": "markdown",
   "metadata": {},
   "source": [
    "## What is Pair Programming? \n",
    "\n",
    "Hello, during the labs I would like you all to work in pairs, using the **'Pair Programming'** method. It's a collaboration technique very popular in programming and part of **'Agile Programming'** manifesto. Basically almost everything good in programming came out of Agile manifesto :)\n",
    "\n",
    "In Pair Programming there are two roles: 'Driver' and 'Navigator'. You and your partner will take turns driving, and will change every 10-15 minutes.\n",
    "\n",
    "- **Driver: 'Person who types on the keyboard and uses the mouse. You read and write in the notebook.'**  You will have the code opened in front of you and will be sharing your screen. Your job is to think out loud as you read the notes and solve the exercises. Your job is to talk the navigator through solving the puzzles. As you describe things, to them you will both find out if you understand it all correctly.\n",
    "- **Navigator: 'Person who asks questions, points out improvements and helps the driver'**. You are viewing the driver's screen and asking questions, making sure that you both understand what the notes are saying. \n",
    "\n",
    "\n",
    "This method feels a bit weird at first, but you will quickly get used to it. It has been used in programming, but also editing text, drawing and other types of pair work. The basic principle is: One person 'holds the pen' and the other person 'asks questions', and then you swap.\n",
    "\n",
    "In this notebook I would like you to try the very basic scenario of driving and navigating."
   ]
  },
  {
   "cell_type": "code",
   "execution_count": null,
   "metadata": {},
   "outputs": [],
   "source": [
    "# Fill in your names below.\n",
    "\n",
    "# First just to check in, one of you is the Driver (you see this on your own screen, and you are screen-sharing).\n",
    "\n",
    "driver_name = \"\"\n",
    "\n",
    "# And one of you is the Navigator, you are seeing this, but cannot type. Driver will need to type your name.\n",
    "\n",
    "navigator_name = \"\"\n",
    "\n",
    "# Now run this cell (Shift + Enter).\n",
    "\n",
    "print(\"Driver is \" + driver_name + \"and Navigator is\" + navigator_name)\n",
    "\n",
    "# When you're done typing Save this notebook with Fine > Save and Checkpoint (Ctrl + S or Cmd + S)."
   ]
  },
  {
   "cell_type": "markdown",
   "metadata": {},
   "source": [
    "### Pair Programming Remotely.\n",
    "\n",
    "If we were sitting side by side in a computer lab, you would:\n",
    "\n",
    "- Work on one computer, sitting side-by-side, looking at one screen.\n",
    "- Driver would use the keyboard and mouse.\n",
    "- Navigator would ask questions, maybe look at notes.\n",
    "- Pass the keyboard and mouse to each other, every 15 minutes.\n",
    "\n",
    "However, because recent circumstances mean this course is primarily delivered online, you will use a slightly adapted version of the above technique for **remote programming via video conference**. As follows:\n",
    "\n",
    "- Use Learn Collaborate virtual breakout room. You will both enable your microphones and video (if possible).\n",
    "- Driver will edit a Jupyter Notebook on their screen and share their screen. You'll talk and think out loud.\n",
    "- Navigator will be viewing the Driver's shared screen, aim to follow their reasoning, and ask questions.\n",
    "- When it's time to switch, you will swap ownership of the notebook **(described below)**, and Navigator will share their screen and become the new Driver.\n",
    "\n",
    "Most of the time one of you may read or type much faster than the other. Or maybe you already grasped a concept that your partner is still digesting. Working together like this is your opportunity to help each other, but also to **understand things better, because you had to explain them to someone**. This is called \"Rubber Ducking\" and we'll talk about it more soon.\n",
    "\n",
    "In this Lab we will try to switch at least once, so you know what we are talking about:"
   ]
  },
  {
   "cell_type": "markdown",
   "metadata": {},
   "source": [
    "## In this short lab:\n",
    "\n",
    "1. Decide who is the first Driver, it's the person who'se screen you are viewing right now.\n",
    "2. It probably took you 10 minutes to read the above section, so it is time to switch. (I will describe below exactly how to switch using Noteable notebooks).\n",
    "3. Continue going through this notebook with the other person being the new Driver.\n",
    "    * It is customary to have a short debrief as you switch, and ask questions like: \"Was I going too quickly?\", \"Did you feel okay when I asked questions?\", \"Could you see my screen properly?\", \"Did I scroll too much\", etc.\n",
    "4. If you completed this notebook and still have time, open one of the other code notebooks for this course, and start going through it with your partner."
   ]
  },
  {
   "cell_type": "markdown",
   "metadata": {},
   "source": [
    "### How to share access to your Noteable with another person:\n",
    "\n",
    "In Noteable, where you see a list with all your files, there is a button on top right called **New**\n",
    "\n",
    "- Select New > Terminal\n",
    "\n",
    "This will open a Matrix-like black screen called terminal. This is where you can talk to your server directly with code. \n",
    "\n",
    "\n",
    "To share your 'session', in effect allowing them to 'become you' in Noteable, run this in the terminal. \n",
    "This is the equivalent of passing over the keyboard. \n",
    "They only have access to your Noteable files (no others from the Uni system), and only for as long as you let them.\n",
    "\n",
    "Paste this in the terminal, press enter and share the link with them in your breakout room chat. \n",
    "When they click it, they will be logged in as you.\n",
    "```\n",
    "echo \"https://noteable.edina.ac.uk/user/$(jupyter notebook list | grep -oP '(?<=user\\/).*(?=\\/\\?)' )/tree?token=$( jupyter notebook list | grep -oP '(?<=token=).*(?= ::)' )\"\n",
    "```\n",
    "\n",
    "The link you need to share will look something like this: https://noteable.edina.ac.uk/user/qwertyui/tree?token=123456789098\n",
    "\n",
    "\n",
    "\n",
    "Later on, to close the session and remove any access to any other people (this will also log you out) use the below command in the terminal. Typically you would do this at the end of the Lab session.\n",
    "\n",
    "```\n",
    "jupyter notebook stop\n",
    "```\n",
    "\n",
    "**TOP TIP:** You do not need to copy-paste these lines all the time. Once you use them, terminal remembers history of what you typed so just use UP & DOWN ARROW KEYS to scroll through your history of commands and quickly 'share again' or 'logout again'."
   ]
  },
  {
   "cell_type": "markdown",
   "metadata": {},
   "source": [
    "### What I would like you to do in a minute to finish this lab (first read it).\n",
    "    \n",
    "- Person 1 (First Driver): Save your Notebook, then use terminal and above commands to get sharing link.\n",
    "- Person 1: Send that link to the Navigator in the breakout room chat.\n",
    "- Person 1: Stop sharing your screen. It's best if you close the browser tab where you had that Notebook opened.\n",
    "- Person 2 (You were the Navigator, but you are now becoming second Driver): click that link, open the Notebook you were working on and share your screen.\n",
    "- Person 2: While sharing your screen, edit your names above to add also your Surnames.\n",
    "- Person 2: Save the Notebook. Stop sharing your screen.\n",
    "- Person 1 (Becoming the Driver again): Open the Notebook again and confirm that it now contains your Surname(s) too.\n",
    "- Person 1: Use logout terminal command ('jupyter notebook stop') to invalidate other person's access to your Notebooks.\n",
    "\n",
    "Okay, now go and try. Good luck."
   ]
  },
  {
   "cell_type": "markdown",
   "metadata": {},
   "source": [
    "## Extra tip: To download and upload files.\n",
    "\n",
    "Later, we'll actually need to share the file, not just access to it: \n",
    "Download it File > Download > As Notebook, and Upload it in the Noteable file list.\n",
    "(You'll need to click **upload**, and click the dark-blue **upload button** again.)"
   ]
  },
  {
   "cell_type": "code",
   "execution_count": null,
   "metadata": {},
   "outputs": [],
   "source": []
  },
  {
   "cell_type": "code",
   "execution_count": null,
   "metadata": {},
   "outputs": [],
   "source": []
  }
 ],
 "metadata": {
  "kernelspec": {
   "display_name": "Python 3",
   "language": "python",
   "name": "python3"
  },
  "language_info": {
   "codemirror_mode": {
    "name": "ipython",
    "version": 3
   },
   "file_extension": ".py",
   "mimetype": "text/x-python",
   "name": "python",
   "nbconvert_exporter": "python",
   "pygments_lexer": "ipython3",
   "version": "3.9.6"
  }
 },
 "nbformat": 4,
 "nbformat_minor": 4
}
