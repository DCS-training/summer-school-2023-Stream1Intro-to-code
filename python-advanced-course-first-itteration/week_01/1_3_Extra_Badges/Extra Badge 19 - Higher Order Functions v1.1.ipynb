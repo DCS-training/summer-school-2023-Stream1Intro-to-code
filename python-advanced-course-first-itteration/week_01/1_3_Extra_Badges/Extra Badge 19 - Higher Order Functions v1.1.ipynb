{
 "cells": [
  {
   "cell_type": "markdown",
   "metadata": {
    "slideshow": {
     "slide_type": "subslide"
    }
   },
   "source": [
    "# Badge 16: Higher order functions: functions that use other functions. \n",
    "\n",
    "# This is an Advanced and Optional topic!"
   ]
  },
  {
   "cell_type": "markdown",
   "metadata": {},
   "source": [
    "### Learning objectives: At the end of this notebook, this code will make sense to you. \n",
    "\n",
    "Skim through it now, without fully understanding it. And then keep reading all explanations. At the end of the notebook, come back to this code, and see if you get it all then."
   ]
  },
  {
   "cell_type": "code",
   "execution_count": null,
   "metadata": {},
   "outputs": [],
   "source": [
    "# default sort (by alphabeth or numbers)\n",
    "\n",
    "print( sorted(['plum', 'banana', 'pineapple', 'apple']) )\n",
    "print( sorted([4,2,3,1]) )\n"
   ]
  },
  {
   "cell_type": "code",
   "execution_count": null,
   "metadata": {},
   "outputs": [],
   "source": [
    "# Sort using a build-in function that returns a number, like len()\n",
    "words = ['plum', 'banana', 'pineapple', 'apple']\n",
    "\n",
    "print( sorted(words, key=len ) )"
   ]
  },
  {
   "cell_type": "code",
   "execution_count": null,
   "metadata": {},
   "outputs": [],
   "source": [
    "# Sort using your own function that returns a number\n",
    "\n",
    "def count_of_letter_e_in_word(word):\n",
    "    return word.count('e')\n",
    "\n",
    "print( sorted(words, key=count_of_letter_e_in_word ) )"
   ]
  },
  {
   "cell_type": "code",
   "execution_count": null,
   "metadata": {},
   "outputs": [],
   "source": [
    "# map using string comprehension\n",
    "\n",
    "words = ['banana', 'pineapple', 'plum', 'kiwi']\n",
    "lengths = [len(word) \n",
    "           for word in words] \n",
    "print(lengths)"
   ]
  },
  {
   "cell_type": "code",
   "execution_count": null,
   "metadata": {},
   "outputs": [],
   "source": [
    "# map - first argument is the functiom, second is the list. result needs to be turned/casted back into a list\n",
    "# you can use python's functions like len() - notice we do not call the function, so skip the ()\n",
    "\n",
    "words = ['banana', 'pineapple', 'plum', 'kiwi']\n",
    "lengths = list( map(len, words) )\n",
    "print(lengths)"
   ]
  },
  {
   "cell_type": "code",
   "execution_count": null,
   "metadata": {},
   "outputs": [],
   "source": [
    "# or you can build your own function:\n",
    "\n",
    "def to_upper(word):\n",
    "    return word.upper()\n",
    "\n",
    "print(  list( map(to_upper, words) ) )  # again, here you do not write to_upper()\n"
   ]
  },
  {
   "cell_type": "code",
   "execution_count": 1,
   "metadata": {},
   "outputs": [
    {
     "name": "stdout",
     "output_type": "stream",
     "text": [
      "['banana', 'pineapple']\n"
     ]
    }
   ],
   "source": [
    "# filter\n",
    "words = ['banana', 'pineapple', 'plum', 'kiwi']\n",
    "words_longer_than_5 = [ word \n",
    "                       for word in words \n",
    "                       if len(word) > 5]\n",
    "print(words_longer_than_5)"
   ]
  },
  {
   "cell_type": "code",
   "execution_count": 2,
   "metadata": {},
   "outputs": [
    {
     "name": "stdout",
     "output_type": "stream",
     "text": [
      "['banana', 'pineapple']\n"
     ]
    }
   ],
   "source": [
    "words = ['banana', 'pineapple', 'plum', 'kiwi']\n",
    "\n",
    "def longer_than_5(word):\n",
    "    return len(word) > 5\n",
    "\n",
    "words_longer_than_5 = list( filter(longer_than_5, words) )\n",
    "print(words_longer_than_5)"
   ]
  },
  {
   "cell_type": "code",
   "execution_count": 3,
   "metadata": {},
   "outputs": [
    {
     "name": "stdout",
     "output_type": "stream",
     "text": [
      "connected_words: bananapineappleplumkiwi\n"
     ]
    }
   ],
   "source": [
    "# reduce\n",
    "from functools import reduce\n",
    "words = ['banana', 'pineapple', 'plum', 'kiwi']\n",
    "\n",
    "def add_words_after_each_other(total_so_far, next_item):\n",
    "    return total_so_far + next_item\n",
    "\n",
    "connected_words = reduce(add_words_after_each_other, words) \n",
    "print(\"connected_words:\", connected_words)"
   ]
  },
  {
   "cell_type": "code",
   "execution_count": 4,
   "metadata": {},
   "outputs": [
    {
     "name": "stdout",
     "output_type": "stream",
     "text": [
      "number_of_ps: 4\n"
     ]
    }
   ],
   "source": [
    "# another reduce\n",
    "words = ['banana', 'pineapple', 'plum', 'kiwi']\n",
    "\n",
    "def count_letter_p(total_so_far, next_item):\n",
    "    return total_so_far + next_item.count('p')\n",
    "\n",
    "number_of_ps = reduce(count_letter_p, words, 0)    # here notice 0 is specified as initial value, because first item is a str, but result will be an int\n",
    "print(\"number_of_ps:\", number_of_ps)"
   ]
  },
  {
   "cell_type": "code",
   "execution_count": 6,
   "metadata": {},
   "outputs": [
    {
     "name": "stdout",
     "output_type": "stream",
     "text": [
      "7\n"
     ]
    }
   ],
   "source": [
    "# the normal way to write functions (without lambda)\n",
    "def add_function(num_1, num_2):\n",
    "    return num_1 + num_2 \n",
    "\n",
    "print( add_function(3,4) )"
   ]
  },
  {
   "cell_type": "code",
   "execution_count": null,
   "metadata": {},
   "outputs": [],
   "source": [
    "# lambda - shorter way to write functions (inputs: output)\n",
    "\n",
    "add_function = (lambda num_1, num_2: num_1 + num_2)\n",
    "print( add_function(3,4) )"
   ]
  },
  {
   "cell_type": "code",
   "execution_count": 7,
   "metadata": {},
   "outputs": [
    {
     "name": "stdout",
     "output_type": "stream",
     "text": [
      "False\n"
     ]
    }
   ],
   "source": [
    "# another example\n",
    "def are_the_same(num_1, num_2, num_3):\n",
    "    return num_1==num_2 and num_2==num_3 \n",
    "\n",
    "print( are_the_same(3, 4, 3) )"
   ]
  },
  {
   "cell_type": "code",
   "execution_count": 8,
   "metadata": {},
   "outputs": [
    {
     "name": "stdout",
     "output_type": "stream",
     "text": [
      "False\n"
     ]
    }
   ],
   "source": [
    "# lambda - shorter way to write functions\n",
    "\n",
    "are_the_same = (lambda num_1, num_2, num_3: num_1==num_2 and num_2==num_3)\n",
    "print( are_the_same(3, 4, 3) )"
   ]
  },
  {
   "cell_type": "code",
   "execution_count": 9,
   "metadata": {},
   "outputs": [
    {
     "name": "stdout",
     "output_type": "stream",
     "text": [
      "5\n"
     ]
    }
   ],
   "source": [
    "# iffy lamdas - immediately evaluated. (Immediately Invoked Function Expression (IIFE))\n",
    "# this is quite rare, but really sussinct: notice the lambda function is defined, and immediately used!\n",
    "print( (lambda n1, n2: n1 + n2)(2, 3) )"
   ]
  },
  {
   "cell_type": "code",
   "execution_count": 10,
   "metadata": {},
   "outputs": [
    {
     "name": "stdout",
     "output_type": "stream",
     "text": [
      "['banana', 'pineapple']\n"
     ]
    }
   ],
   "source": [
    "# Finally: how to use lambdas in order, map, filter, reduce? \n",
    "# Don't even put them in a variable (like in are_the_same above). \n",
    "# Just write lambda inside of higher-order-function\n",
    "\n",
    "# NOTE: THIS IS THE MOST FREQUENT AND USEFUL WAY TO USE LAMBDAS\n",
    "words = ['banana', 'pineapple', 'plum', 'kiwi']\n",
    "\n",
    "words_longer_than_5 = list( filter( lambda word: len(word) > 5, words) )\n",
    "print(words_longer_than_5)"
   ]
  },
  {
   "cell_type": "markdown",
   "metadata": {},
   "source": [
    "### End of the learning objectives\n",
    "\n",
    "# Higher Degree Functions - Functions Taking Functions as arguments"
   ]
  },
  {
   "cell_type": "markdown",
   "metadata": {},
   "source": [
    "## Sort items in a list using ```sorted( list, key=function )```"
   ]
  },
  {
   "cell_type": "markdown",
   "metadata": {},
   "source": [
    "### Sorting by using a specific sorting strategy (other than just alphabet or math)"
   ]
  },
  {
   "cell_type": "markdown",
   "metadata": {},
   "source": [
    "We have already sorted items using alphabet, or mathemarical lowest-to-highest order:"
   ]
  },
  {
   "cell_type": "code",
   "execution_count": null,
   "metadata": {},
   "outputs": [],
   "source": [
    "words = ['banana', 'pineapple', 'plum']\n",
    "print( sorted(words) ) # by alphabet\n",
    "print( sorted(words, reverse=True) ) # by alphabet reversed\n",
    "\n",
    "numbers = [4,2,7,1,9,-3]\n",
    "print( sorted(numbers) ) # by math\n",
    "print( sorted(numbers, reverse=True) ) # by math reversed"
   ]
  },
  {
   "cell_type": "markdown",
   "metadata": {},
   "source": [
    "But what if we want to sort items following another criteria. For example:\n",
    "\n",
    "- sorting strings from the longest to shortest,\n",
    "- sorting lists by their smallest, or largest number"
   ]
  },
  {
   "cell_type": "markdown",
   "metadata": {},
   "source": [
    "But before we go any further, think about **WHAT IS SORTING?**.\n",
    "\n",
    "- Ordering of a set of items, following some criteria\n",
    "\n",
    "To sort any set of items we need to first agree on the criteria by which we will sort them. For example a set of books could be sorted by\n",
    "\n",
    "- Title (alphabetically)\n",
    "- Author (alphabetically)\n",
    "- Creation date (chronologically)\n",
    "- By Colour (following the specrum of rainbow)\n",
    "- By how much you like the Colour\n",
    "- Shade (from brightest to darkest)\n",
    "- Thickness (by number of pages)\n",
    "- By how good they are (using GoodReads ratings)\n",
    "- By how much you like them\n",
    "- By which ones are you most likely to recommend to a friend\n",
    "- By which ones would be a best present\n",
    "\n",
    "Some of these are objective, and some are subjective, but In the simplest terms:\n",
    "\n",
    "**to sort a set of objects YOU NEED TO BE ABLE TO COMPARE TWO OBJECTS WITH EACH OTHER AND SAY WHICH ONE SHOULD GO FIRST, AND WHICH SECOND**\n",
    "\n",
    "If given any two books you can say which one you liked more, it will be easy to sort ANY amount of books into order of how much you liked them. Two books, or 100 books.\n",
    "\n",
    "If given two numbers you have a way to say which one should be earlier in sorting order, then you can keep applying that rule to order 10 numbers or a million.\n",
    "\n",
    "There are many specific algorhitms of exactly what is the most efficient way to sort a set of items, but at their core they need one thing: **A WAY TO SAY WHICH OF ANY TWO ITEMS SHOULD GO FIRST**.\n",
    "\n",
    "FOR EXAMPLE:\n",
    "\n",
    "To sort numbers 14,1,27,5 I need to be able to compare any two numbers. I will use the matematical < to decide if a number is smaller than another number, like ```14 < 1 is False```, ```1 < 14 is True```\n",
    "\n",
    "So the list [14,1,27,5] can be considered sorted if 14 < 1 < 27 < 5. Which it is not, so these numbers are not yet sorted. But once the list is rearanged into [1,5,14,27] where 1 < 5 < 14 < 27 then we would say they are matematically sorted.\n",
    "\n",
    "But imagine if we treated these numbers as strings [\"14\",\"1\",\"27\",\"5\"] and wanted to sort them by alphabet? they would take order \"1\" , \"14\", \"27\", \"5\". That's because words starting with \"1\" go before words starting with \"2\" or \"5\". In our comparison we would not use math, but alphabet.\n",
    "\n",
    "Note: if two items are NOT OBVIOUSLY HIGHER OR LOWER FROM EACH OTHER they will stay in their original order."
   ]
  },
  {
   "cell_type": "markdown",
   "metadata": {},
   "source": [
    "In Python when we want to sort a set of items, we can specify what attribute/quality of the item we want to consider meaningful for sorting.\n",
    "\n",
    "When we use Python's build in ```sorted(your_items)``` function, we can specify optional argument ```key```, \n",
    "\n",
    "Key will **SPECIFY WHAT WE WANT TO DO TO EACH ELEMENT, BEFORE WE SORT THE LIST**"
   ]
  },
  {
   "cell_type": "code",
   "execution_count": null,
   "metadata": {},
   "outputs": [],
   "source": [
    "words = ['banana', 'pineapple', 'plum', 'kiwi']\n",
    "\n",
    "# by default, sort by alphabet\n",
    "print( sorted(words) )\n",
    "\n",
    "# for sorting, use the length of each item\n",
    "print( sorted(words, key=len) )\n",
    "\n",
    "# for sorting, use the highest/max letter or each item (a,b,c...z)\n",
    "print( sorted(words, key=max) )"
   ]
  },
  {
   "cell_type": "code",
   "execution_count": null,
   "metadata": {},
   "outputs": [],
   "source": [
    "# sorting a list of lists\n",
    "lists = [[1,2,3],[1,1,1,1], [1,8], [0]]\n",
    "\n",
    "# by default: by highest item, but that's a bit confusing\n",
    "print('normal sort  ', sorted(lists) ) \n",
    "\n",
    "print('max num sort ', sorted(lists, key=max) ) # by highest item in each sub-list\n",
    "print('min num sort ', sorted(lists, key=min) ) # by lowest item in each sub-list\n",
    "print('list len sort', sorted(lists, key=len) ) # by length  in each sub-list\n",
    "print('list sum sort', sorted(lists, key=sum) ) # by sum of items in each sub-list"
   ]
  },
  {
   "cell_type": "markdown",
   "metadata": {},
   "source": [
    "What is actually happening, is that we are **USING A NAME OF A FUNCTION (len, sum, max, min) AS A VALUE OF key ARGUMENT**.\n",
    "\n",
    "These functions (max, min, len, sum) all have one thing in common: **all these functions take one item and return one value. And it's that return value that is used for sorting**.\n",
    "\n",
    "So for example when we are sorting \n",
    "\n",
    "```lists = [[1,2,3],[1,1,1,1], [1,8], [0]]```\n",
    "\n",
    "using\n",
    "\n",
    "```sorted(lists, key=sum)```\n",
    "\n",
    "To decide on the sorted order of items we'll be using **EACH VALUE AFTER IT IS PASSED THROUGH THE SUM()**\n",
    "\n",
    "```[ sum([1,2,3]), sum([1,1,1,1]), sum([1,8]), sum([0])]```\n",
    "\n",
    "which is:\n",
    "\n",
    "```[6, 4, 9, 0]```\n",
    "\n",
    "so the order or elements will be ```[0, 4, 6, 9]``` which when looking at the original indexes of each item would be: ```last, second, first, third```. Hence the result of this SUM sorting will be \n",
    "\n",
    "```[[0], [1, 1, 1, 1], [1, 2, 3], [1, 8]]```\n",
    "\n",
    "\n",
    "Have a close look at the above examples again, and make sure you understand what is happening there."
   ]
  },
  {
   "cell_type": "markdown",
   "metadata": {},
   "source": [
    "Another way to look at it is, by thinking about that ability to compare two items.\n",
    "\n",
    "For example when given ```[1,1,1,1,1]``` and ```[1, 2, 3]``` which should go first if we're using SUM for sorting?"
   ]
  },
  {
   "cell_type": "code",
   "execution_count": null,
   "metadata": {},
   "outputs": [],
   "source": [
    "print(  sum([1,1,1,1,1]) <   sum([1, 2, 3]) ) # if True, they are well sorted\n",
    "print(  sum([1, 2, 3]) < sum([1,1,1,1,1]) ) # if False, they are not well sorted\n",
    "\n",
    "# this is exactly what is happening when we run\n",
    "print( sorted([[1,1,1,1,1],[1, 2, 3]], key=sum) )\n",
    "\n",
    "# and if there arer more items, (to simplify it) imagine each item is compared with each other:\n",
    "print( sorted([[1,1,1,1,1],[0],[4,4],[1, 2, 3]], key=sum ) )\n"
   ]
  },
  {
   "cell_type": "code",
   "execution_count": null,
   "metadata": {},
   "outputs": [],
   "source": [
    "# but if we use LEN as the sorting criteria, the order should be the opposite\n",
    "\n",
    "print(  len([1,1,1,1,1]) <   len([1, 2, 3]) ) # if True, they are well sorted\n",
    "print(  len([1, 2, 3]) < len([1,1,1,1,1]) ) # if True, they are well sorted\n",
    "\n",
    "# so when the sorting algorhitm uses 'len' it will put the second item before the first one\n",
    "print( sorted([[1,1,1,1,1],[1, 2, 3]], key=len) )\n",
    "print( sorted([[1,1,1,1,1],[0],[4,4],[1, 2, 3]], key=len )"
   ]
  },
  {
   "cell_type": "markdown",
   "metadata": {},
   "source": [
    "Basically, as long as we have a **strategy to compare two items**, we can sort a set of items of every length! The worse that will happen, we will have to compare every single one of them with every single other one of them and put the smaller ones to the left (however we define being 'smaller' for our sorting).\n",
    "\n",
    "Sorting criteria does not change that, but they change **how we see each item, before we sort the list**."
   ]
  },
  {
   "cell_type": "markdown",
   "metadata": {},
   "source": [
    "## Creating your own SORTING CRITERIA - use your own functions instead of len, sum..."
   ]
  },
  {
   "cell_type": "markdown",
   "metadata": {},
   "source": [
    "We are not only limited to the functions defined in Python (sum, len, max, min, ...) as our sorting criteria. We can define our own functions as long as:\n",
    "\n",
    "- they can take one argument\n",
    "- return a value that can be compared with other values"
   ]
  },
  {
   "cell_type": "code",
   "execution_count": null,
   "metadata": {},
   "outputs": [],
   "source": [
    "# sort words by amount of letter e\n",
    "def count_of_letter_e_in_word(word):\n",
    "    return word.count('e')\n",
    "\n",
    "words = ['ripe pomegranade', 'banana', 'pineapple', 'apple']\n",
    "print( sorted(words, key=count_of_letter_e_in_word) )    # pass NAME OF THE FUNCTION as the argument, with no ()\n",
    "\n",
    "# note that we are NOT CALLING THE FUNCTION as there are no (), \n",
    "# we are just saying what is the name of the function to use for sorting "
   ]
  },
  {
   "cell_type": "code",
   "execution_count": null,
   "metadata": {},
   "outputs": [],
   "source": [
    "def absolute_distance_from_10(number):\n",
    "    return abs(10 - number)\n",
    "\n",
    "numbers = [4, 7,9,13,17,30]\n",
    "print( sorted(numbers, key=absolute_distance_from_10  ) )  "
   ]
  },
  {
   "cell_type": "markdown",
   "metadata": {},
   "source": [
    "This can become increadibly powerful when sorting lists of objects:"
   ]
  },
  {
   "cell_type": "code",
   "execution_count": null,
   "metadata": {},
   "outputs": [],
   "source": [
    "cities = [  {\"name\":\"Edinburgh\",  \"population\":500000, \"area\":264},\n",
    "            {\"name\":\"Glasgow\",  \"population\":600000, \"area\":175},\n",
    "            {\"name\":\"Inverness\", \"population\":50000, \"area\":20}\n",
    "         ]\n",
    "\n",
    "def get_name(city):\n",
    "    return city['name']\n",
    "\n",
    "def get_population(city):\n",
    "    return city['population']\n",
    "\n",
    "def get_density(city):\n",
    "    return city['population'] / city['area']\n",
    "\n",
    "print(\"sorted by name:\", sorted(cities, key= get_name))\n",
    "print()\n",
    "\n",
    "print(\"sorted by population:\", sorted(cities, key= get_population))\n",
    "print()\n",
    "\n",
    "print(\"sorted by density:\", sorted(cities, key= get_density))"
   ]
  },
  {
   "cell_type": "markdown",
   "metadata": {},
   "source": [
    "### How would we sort a set of card objects? It uses many criteria (suit and rank) to decide which one is higher"
   ]
  },
  {
   "cell_type": "markdown",
   "metadata": {},
   "source": [
    "There are some limits to how complex your comparison key functions can be. For one, the function can only take each item separately, so we cannot directly take the function from a few lessons ago ```def which_card_is_higher(card1, card2):``` and use that for sorting, because it takes two items and finds the higher one.\n",
    "\n",
    "Instead we need to re-design our criteria for elderhood of cards, for example:\n",
    "\n",
    "- each rank is worth 4 x its index in the ranks list, so 2 is worth 0 points, 3 is worth 4 points, K is worth 44 points, etc\n",
    "- each suit is worth 1 x its index in the suits list, so Diamond is worth 0 points, Club is worth 1 points, etc\n",
    "\n",
    "```\n",
    "    suits = [\"Diamond\", \"Club\", \"Heart\", \"Spade\"]\n",
    "    ranks  = [\"2\",\"3\",\"4\",\"5\",\"6\",\"7\",\"8\",\"9\",\"10\",\"J\",\"Q\",\"K\",\"A\"]\n",
    "```"
   ]
  },
  {
   "cell_type": "code",
   "execution_count": 12,
   "metadata": {},
   "outputs": [
    {
     "name": "stdout",
     "output_type": "stream",
     "text": [
      "[2 of Diamonds, 2 of Clubs, A of Diamonds, A of Clubs]\n"
     ]
    }
   ],
   "source": [
    "class Card:\n",
    "    def __init__(self, rank, suit):\n",
    "        self.suit = suit\n",
    "        self.rank = rank\n",
    "        \n",
    "    def __repr__(self):\n",
    "        return f\"{self.rank} of {self.suit}s\"\n",
    "    \n",
    "def card_score(a_card):\n",
    "    suits = [\"Diamond\", \"Club\", \"Heart\", \"Spade\"]\n",
    "    ranks  = [\"2\",\"3\",\"4\",\"5\",\"6\",\"7\",\"8\",\"9\",\"10\",\"J\",\"Q\",\"K\",\"A\"]\n",
    "    index_of_rank = ranks.index(a_card.rank)\n",
    "    index_of_suit = suits.index(a_card.suit)\n",
    "    return 4 * index_of_suit + index_of_rank\n",
    "    #  so 2 of Diamond has value 0, so 3 of Diamond has value 1, 4 of Diamond has value 2,\n",
    "    #     ... K of spades has value 50, A of spades has value 51,    \n",
    "\n",
    "cards = [Card(\"2\", \"Club\"), Card(\"A\", \"Club\"), Card(\"A\", \"Diamond\"), Card(\"2\", \"Diamond\")]\n",
    "print(sorted(cards, key = card_score))"
   ]
  },
  {
   "cell_type": "markdown",
   "metadata": {},
   "source": [
    "While it might feel a bit wasteful to have to declare a pre-comparison function on purpose, it is actually very powerful. Indeed in the next section you will see more compact way to write these, with a new syntax called ```lambda functions``` "
   ]
  },
  {
   "cell_type": "markdown",
   "metadata": {},
   "source": [
    "## Map with ```map( function_that_changes_items , some_list )``` \n",
    "\n",
    "function `function_that_changes_items` will be applied to each object in a list `some_list` in turn - it takes one item and returns its new version (often simpler, or more complex version) - items are left  in their original same order"
   ]
  },
  {
   "cell_type": "code",
   "execution_count": 1,
   "metadata": {},
   "outputs": [
    {
     "name": "stdout",
     "output_type": "stream",
     "text": [
      "['BANANA', 'PINEAPPLE', 'PLUM', 'KIWI']\n"
     ]
    }
   ],
   "source": [
    "# Previously we mapped mainly by using string comprehensions\n",
    "# here are three examples of mapping:\n",
    "\n",
    "words = ['banana', 'pineapple', 'plum', 'kiwi']\n",
    "\n",
    "capital_words = [word.upper() \n",
    "                 for word in words]\n",
    "print(capital_words)"
   ]
  },
  {
   "cell_type": "code",
   "execution_count": 2,
   "metadata": {},
   "outputs": [
    {
     "name": "stdout",
     "output_type": "stream",
     "text": [
      "[6, 9, 4, 4]\n"
     ]
    }
   ],
   "source": [
    "sizes_of_words = [len(word) \n",
    "                  for word in words]\n",
    "print(sizes_of_words)"
   ]
  },
  {
   "cell_type": "code",
   "execution_count": 3,
   "metadata": {},
   "outputs": [
    {
     "name": "stdout",
     "output_type": "stream",
     "text": [
      "['b-a-n-a-n-a', 'p-i-n-e-a-p-p-l-e', 'p-l-u-m', 'k-i-w-i']\n"
     ]
    }
   ],
   "source": [
    "skewered_words = [ \"-\".join(list(word)) \n",
    "                  for word in words]\n",
    "print(skewered_words)"
   ]
  },
  {
   "cell_type": "markdown",
   "metadata": {},
   "source": [
    "Mapping is about performing an operation/function on each item in a list.\n",
    "\n",
    "The mapping function takes the original version of each item and return its new version.\n",
    "\n",
    "In python there is a new method called ```map(function, list)``` that like ```sorted``` takes two arguments: the function to perform on each item, and a list with items. **NOTICE ARGUMENTS ARE IN DIFFERENT ORDER THAN IN SORTED**\n",
    "\n",
    "Note: ```map``` returns a map object ```<map object at 0x108f49b50>```, not a list, so **you'll have to turn map result back into a list with list()**. See examples below\""
   ]
  },
  {
   "cell_type": "code",
   "execution_count": null,
   "metadata": {},
   "outputs": [],
   "source": [
    "words = ['banana', 'pineapple', 'plum', 'kiwi']\n",
    "print( map(len, words) )\n",
    "print( list(map(len, words) ) )"
   ]
  },
  {
   "cell_type": "code",
   "execution_count": null,
   "metadata": {},
   "outputs": [],
   "source": [
    "# with map we can specify just the transformative function:\n",
    "\n",
    "words = ['banana', 'pineapple', 'plum', 'kiwi']\n",
    "\n",
    "lengths = list( map(len, words) )\n",
    "print(\"lengths:\", lengths)\n",
    "\n",
    "highest = list( map(max, words) )\n",
    "print(\"highest letter:\", highest)\n",
    "\n",
    "lowest = list( map(min, words) )\n",
    "print(\"lowest letter:\", lowest)"
   ]
  },
  {
   "cell_type": "code",
   "execution_count": null,
   "metadata": {},
   "outputs": [],
   "source": [
    "# like with sort, it can be used for list of lists\n",
    "\n",
    "lists = [[1,2,3],[1,1,1,1], [1,8], [0]]\n",
    "\n",
    "lengths = list( map(len, lists) )\n",
    "print(\"lengths:\", lengths)\n",
    "\n",
    "highest = list( map(max, lists) )\n",
    "print(\"highest item:\", highest)\n",
    "\n",
    "lowest = list( map(min, lists) )\n",
    "print(\"lowest item:\", lowest)"
   ]
  },
  {
   "cell_type": "markdown",
   "metadata": {},
   "source": [
    "### Map using your own functions"
   ]
  },
  {
   "cell_type": "code",
   "execution_count": null,
   "metadata": {},
   "outputs": [],
   "source": [
    "# Previously we mapped mainly by using string comprehensions\n",
    "words = ['banana', 'pineapple', 'plum', 'kiwi']\n",
    "\n",
    "def to_upper(word):\n",
    "    return word.upper()\n",
    "\n",
    "capital_words =  list( map(to_upper, words) )\n",
    "print(capital_words)"
   ]
  },
  {
   "cell_type": "code",
   "execution_count": null,
   "metadata": {},
   "outputs": [],
   "source": [
    "def skewered(word):\n",
    "    return  \"-\".join(list(word))\n",
    "\n",
    "skewered_words = list( map(skewered, words) )\n",
    "print(skewered_words)"
   ]
  },
  {
   "cell_type": "code",
   "execution_count": null,
   "metadata": {},
   "outputs": [],
   "source": [
    "cities = [  {\"name\":\"Edinburgh\",  \"population\":500000, \"area\":264},\n",
    "            {\"name\":\"Glasgow\",  \"population\":600000, \"area\":175},\n",
    "            {\"name\":\"Inverness\", \"population\":50000, \"area\":20}\n",
    "         ]\n",
    "\n",
    "def keep_just_the_name(city):\n",
    "    return city['name']\n",
    "\n",
    "names = list( map(keep_just_the_name, cities) )\n",
    "print(\"names:\", names)\n",
    "print()"
   ]
  },
  {
   "cell_type": "code",
   "execution_count": null,
   "metadata": {},
   "outputs": [],
   "source": [
    "def description_of_city(city):\n",
    "    return f\"There are {city['population']} people living in {city['name']} in {city['area']} square km\"\n",
    "\n",
    "descriptions = list( map(description_of_city, cities) )\n",
    "print(\"descriptions:\", descriptions)"
   ]
  },
  {
   "cell_type": "code",
   "execution_count": null,
   "metadata": {},
   "outputs": [],
   "source": [
    "# we can also use it for objects\n",
    "\n",
    "class Card:\n",
    "    def __init__(self, rank, suit):\n",
    "        self.suit = suit\n",
    "        self.rank = rank\n",
    "\n",
    "# notice this is not a class function. It lives outside.\n",
    "def object_into_short_description(a_card):\n",
    "    return f\"{a_card.rank}{a_card.suit[0]}\"\n",
    "\n",
    "cards = [Card(\"2\", \"Club\"), Card(\"A\", \"Club\"), Card(\"A\", \"Diamond\"), Card(\"2\", \"Diamond\")]\n",
    "\n",
    "descriptions = list( map(object_into_short_description, cards) )\n",
    "print(\"descriptions:\", descriptions)"
   ]
  },
  {
   "cell_type": "markdown",
   "metadata": {},
   "source": [
    "## Filter with ```filter( should_i_keep_it_function, list )``` \n",
    "\n",
    "### should_i_keep_it_function takes one item and returns True if it is to be kept and False if it is to be discarded\n",
    "\n",
    "To use filter, you need to design and use a function that for each item will decide if it should be kept (if it returns True) or discarded (if it returns False)\n",
    "\n",
    "But first let's look at how we did filtering up until now. Imagine you have a list of words `['banana', 'pineapple', 'plum', 'kiwi']` and want to keep just the ones longer than 4 letters. "
   ]
  },
  {
   "cell_type": "code",
   "execution_count": null,
   "metadata": {},
   "outputs": [],
   "source": [
    "words = ['banana', 'pineapple', 'plum', 'kiwi']\n",
    "words_longer_than_4 = [word\n",
    "                       for word in words\n",
    "                      if len(word) > 4]\n",
    "print(\"words_longer_than_4:\", words_longer_than_4)"
   ]
  },
  {
   "cell_type": "markdown",
   "metadata": {},
   "source": [
    "But what is happening behind the scenes? You could imagine that list comprehension first translates our input list into a 'what_to_keep' list with values of Trues or Falses for each item. It will be used to decide what is to be kept, (True) and what discarded (False). In our example `[True, True, False, False]`."
   ]
  },
  {
   "cell_type": "code",
   "execution_count": null,
   "metadata": {},
   "outputs": [],
   "source": [
    "# this is just a made up example, but illustrates the principle. \n",
    "# You'll be glad to know that you'll never have to this type of thing. \n",
    "\n",
    "words = ['banana', 'pineapple', 'plum', 'kiwi']\n",
    "print(\"words:\", words)\n",
    "\n",
    "# turn list into Trues and Falses:\n",
    "should_be_kept = []\n",
    "for word in words:\n",
    "    is_longer_than_4 = len(word) > 4 #this is True, or False\n",
    "    should_be_kept.append(is_longer_than_4)\n",
    "\n",
    "print(\"should_be_kept:\", should_be_kept)\n",
    "\n",
    "print()\n",
    "# now only keep words at indexes, which hold True in should_be_kept\n",
    "words_longer_than_4 = []\n",
    "for which_word in range(len(words)):\n",
    "    print(f\"should we keep {words[which_word]}? {should_be_kept[which_word]}\")\n",
    "    if should_be_kept[which_word] == True:\n",
    "        words_longer_than_4.append(words[which_word])\n",
    "\n",
    "        \n",
    "print()\n",
    "print(\"words_longer_than_4:\", words_longer_than_4)"
   ]
  },
  {
   "cell_type": "markdown",
   "metadata": {},
   "source": [
    "### Wasn't that unneceserily complicated? Let's look at a simpler syntax for the same thing:"
   ]
  },
  {
   "cell_type": "code",
   "execution_count": null,
   "metadata": {},
   "outputs": [],
   "source": [
    "words = ['banana', 'pineapple', 'plum', 'kiwi']\n",
    "\n",
    "# function that takes each item, and returns True, or False:\n",
    "def is_longer_than_4(word):\n",
    "    return len(word) > 4\n",
    "\n",
    "words_longer_than_4 = list( filter(is_longer_than_4, words) )\n",
    "\n",
    "print(\"words_longer_than_4:\", words_longer_than_4)"
   ]
  },
  {
   "cell_type": "markdown",
   "metadata": {},
   "source": [
    "### NOTE: we are not calling that function, like `is_longer_than_4()` or `is_longer_than_4(\"Banana\")`. Instead we are telling filter to call if for each item, like `is_longer_than_4`. It will do the job for us."
   ]
  },
  {
   "cell_type": "code",
   "execution_count": null,
   "metadata": {},
   "outputs": [],
   "source": [
    "words = ['banana', 'pineapple', 'plum', 'kiwi']\n",
    "\n",
    "def starts_with_letter_p(word):\n",
    "    return word[0] == \"p\" # word[0] means: first item in the word. So the first letter.\n",
    "\n",
    "words_starting_with_p = list( filter(starts_with_letter_p, words) )\n",
    "print(\"words_starting_with_p:\", words_starting_with_p)"
   ]
  },
  {
   "cell_type": "code",
   "execution_count": null,
   "metadata": {},
   "outputs": [],
   "source": [
    "words = ['BANANA', 'Pineapple', 'plum', 'kiwi']\n",
    "\n",
    "def is_lower_case(word):\n",
    "    return word == word.lower() # if word is identical with its lowercase version... it was lovercase already\n",
    "\n",
    "just_words_that_were_lowercase_already = list( filter(is_lower_case, words) )\n",
    "print(\"just_words_that_were_lowercase_already:\", just_words_that_were_lowercase_already)"
   ]
  },
  {
   "cell_type": "code",
   "execution_count": null,
   "metadata": {},
   "outputs": [],
   "source": [
    "lists = [[1,2,3], [1,1,1,1], [1,8],[8,1], [0]]\n",
    "\n",
    "def first_item_smaller_than_last(a_list):\n",
    "    return a_list[0] < a_list[-1]\n",
    "\n",
    "lists_where_first_item_smaller_than_last = list( filter(first_item_smaller_than_last, lists) )\n",
    "print(\"lists_where_first_item_smaller_than_last:\", lists_where_first_item_smaller_than_last)"
   ]
  },
  {
   "cell_type": "code",
   "execution_count": null,
   "metadata": {},
   "outputs": [],
   "source": [
    "lists = [[1,2,3], [1,1,1,1], [1,8],[8,1], [0]]\n",
    "\n",
    "def all_items_the_same(a_list):\n",
    "    count_items_itendical_with_first_item = a_list.count(a_list[0])\n",
    "    count_all_items = len(a_list)\n",
    "    return count_items_itendical_with_first_item == count_all_items\n",
    "\n",
    "lists_where_all_items_the_same = list( filter(all_items_the_same, lists) )\n",
    "print(\"lists_where_all_items_the_same:\", lists_where_all_items_the_same)"
   ]
  },
  {
   "cell_type": "code",
   "execution_count": null,
   "metadata": {},
   "outputs": [],
   "source": [
    "cities = [  {\"name\":\"Edinburgh\",  \"population\":500000, \"area\":264},\n",
    "            {\"name\":\"Glasgow\",  \"population\":600000, \"area\":175},\n",
    "            {\"name\":\"Inverness\", \"population\":50000, \"area\":20}\n",
    "         ]\n",
    "\n",
    "def population_over_100000(city):\n",
    "    return city['population'] > 100000\n",
    "\n",
    "large_cities = list( filter(population_over_100000, cities) )\n",
    "print(\"large_cities:\", large_cities)"
   ]
  },
  {
   "cell_type": "code",
   "execution_count": null,
   "metadata": {},
   "outputs": [],
   "source": [
    "# we can also use it for objects\n",
    "\n",
    "class Card:\n",
    "    def __init__(self, rank, suit):\n",
    "        self.suit = suit\n",
    "        self.rank = rank\n",
    "    \n",
    "    def __repr__(self):\n",
    "        return f\"{self.rank} of {self.suit}s\"\n",
    "    \n",
    "def is_card_red(a_card):\n",
    "    return a_card.suit == \"Heart\" or a_card.suit == \"Diamond\"\n",
    "\n",
    "cards = [Card(\"2\", \"Club\"), Card(\"A\", \"Club\"), Card(\"A\", \"Diamond\"), Card(\"2\", \"Diamond\")]\n",
    "\n",
    "red_cards = list( filter(is_card_red, cards) )\n",
    "print(\"red_cards:\", red_cards)"
   ]
  },
  {
   "cell_type": "markdown",
   "metadata": {},
   "source": [
    "# Reduce a list to just one item with ```reduce( accumulator__function, list, optional_start_value)``` \n",
    "\n",
    "### accumulator__function takes two arguments, total_so_far and next_item, and its return is the new value of the accumulator"
   ]
  },
  {
   "cell_type": "markdown",
   "metadata": {},
   "source": [
    "Reduce is not the part of core Python, so you need to import it from functools library with ```from functools import reduce```\n",
    "\n",
    "Function that you pass into reduce, has to take two arguments - total so far and the next item. **It will be called on each item in turn** and simplify the whole list to one item.\n",
    "\n",
    "Examples of reducing are: total of items, combined items, first item fulfilling a condition, ...  \n",
    "\n",
    "When you start going through all items, attempting to reduce them, by default you will start with the answer_so_far being the first value. Why? Because if you are adding a set of numbers, you would start with the first one, if you are combining words, you would start with the first one, etc.\n",
    "\n",
    "But **it is possible to (optionally) specify the starting value** and indeed it is **neccessery if answer_so_far is of a different type than your items**. Eg. you are combining a list of strings into their total length, then it makes no sense for the first word to be the initial count of letters. See examples below.\n",
    "\n",
    "**REDUCE returns one item, for a change, so there is no need to cast it into List()**"
   ]
  },
  {
   "cell_type": "code",
   "execution_count": null,
   "metadata": {},
   "outputs": [],
   "source": [
    "# add_words_after_each_other\n",
    "# first with a loop\n",
    "\n",
    "words = ['banana', 'pineapple', 'plum', 'kiwi']\n",
    "accumulated = \"\"\n",
    "\n",
    "for word in words:\n",
    "    accumulated = accumulated + word\n",
    "\n",
    "print(accumulated)"
   ]
  },
  {
   "cell_type": "code",
   "execution_count": null,
   "metadata": {},
   "outputs": [],
   "source": [
    "# length\n",
    "\n",
    "words = ['banana', 'pineapple', 'plum', 'kiwi']\n",
    "accumulated = 0\n",
    "\n",
    "for word in words:\n",
    "    accumulated = accumulated + len(word)\n",
    "\n",
    "print(accumulated)"
   ]
  },
  {
   "cell_type": "code",
   "execution_count": null,
   "metadata": {},
   "outputs": [],
   "source": [
    "# we could also use a function. Such function would take count so far and the new number:\n",
    "\n",
    "words = ['banana', 'pineapple', 'plum', 'kiwi']\n",
    "\n",
    "def accumulator(sum_so_far, new_item):\n",
    "    return sum_so_far + new_item\n",
    "\n",
    "so_far = \"\"\n",
    "for word in words:\n",
    "    so_far = accumulator(so_far, word)\n",
    "\n",
    "print(so_far)"
   ]
  },
  {
   "cell_type": "code",
   "execution_count": null,
   "metadata": {},
   "outputs": [],
   "source": [
    "# we could also use a function. Such function would take count so far and the new number:\n",
    "\n",
    "words = ['banana', 'pineapple', 'plum', 'kiwi']\n",
    "\n",
    "def accumulator(sum_so_far, new_item):\n",
    "    return sum_so_far + len(new_item)\n",
    "\n",
    "so_far = 0\n",
    "for word in words:\n",
    "    so_far = accumulator(so_far, word)\n",
    "\n",
    "print(so_far)"
   ]
  },
  {
   "cell_type": "markdown",
   "metadata": {},
   "source": [
    "Note: in both above examples we had to start with a different starting value. `\"\"` or `0` depending on what we will be adding.\n",
    "\n",
    "Python provides us with a very convenienet method to do this quickly: `reduce( accumulator_function, a_list)`\n",
    "\n",
    "It also gives you an option to specify baginning amount, but if you do not, it will just use the first item in the original list as the starting element.  `reduce( accumulator_function, a_list, begin_with )`"
   ]
  },
  {
   "cell_type": "code",
   "execution_count": null,
   "metadata": {},
   "outputs": [],
   "source": [
    "from functools import reduce\n",
    "words = ['banana', 'pineapple', 'plum', 'kiwi']\n",
    "\n",
    "def add_words_after_each_other(total_so_far, next_item):\n",
    "    return total_so_far + next_item\n",
    "\n",
    "connected_words = reduce(add_words_after_each_other, words) \n",
    "print(\"connected_words:\", connected_words)"
   ]
  },
  {
   "cell_type": "code",
   "execution_count": null,
   "metadata": {},
   "outputs": [],
   "source": [
    "def add_length(total_so_far, next_item):\n",
    "    return total_so_far + len(next_item)\n",
    "\n",
    "length_of_words = reduce(add_length, words, 0)    \n",
    "print(\"length_of_words:\", length_of_words)\n",
    "\n",
    "# here notice 0 is specified as initial value, because first item is a str, but result will be an int\n",
    "# try to remove the ,0 and see what happens"
   ]
  },
  {
   "cell_type": "code",
   "execution_count": null,
   "metadata": {},
   "outputs": [],
   "source": [
    "def count_letter_p(total_so_far, next_item):\n",
    "    return total_so_far + next_item.count('p')\n",
    "\n",
    "number_of_ps = reduce(count_letter_p, words, 0)    # here notice 0 is specified as initial value, because first item is a str, but result will be an int\n",
    "print(\"number_of_ps:\", number_of_ps)"
   ]
  },
  {
   "cell_type": "code",
   "execution_count": null,
   "metadata": {},
   "outputs": [],
   "source": [
    "# this example is complex\n",
    "words = ['banana', 'pineapple', 'plum', 'kiwi']\n",
    "\n",
    "# total_so_far can be something much more complicated than 0 or \"\"\n",
    "def counts_of_all_letters(total_so_far, next_item):\n",
    "    for letter in next_item:\n",
    "        count_so_far = total_so_far.get(letter, 0)\n",
    "        total_so_far[letter] = count_so_far + 1\n",
    "        \n",
    "    return total_so_far\n",
    "\n",
    "counts_of_all_letters_dict = reduce(counts_of_all_letters, words, {})    # here notice {} is specified as initial value, because first item is a str, but result will be a Dict \n",
    "print(\"counts_of_all_letters_dict:\", counts_of_all_letters_dict)"
   ]
  },
  {
   "cell_type": "code",
   "execution_count": null,
   "metadata": {},
   "outputs": [],
   "source": [
    "lists = [[1,2,3], [1,1,1,1], [1,8], [0]]\n",
    "\n",
    "def add_totals(total_so_far, next_item):\n",
    "    return total_so_far + sum(next_item)\n",
    "\n",
    "sum_of_totals = reduce(add_totals, lists, 0) # here notice 0 is specified as initial value, because first item is a [], but result will be an int\n",
    "print(\"sum_of_totals:\", sum_of_totals)"
   ]
  },
  {
   "cell_type": "code",
   "execution_count": null,
   "metadata": {},
   "outputs": [],
   "source": [
    "def add_odd_numbers(total_so_far, next_item):\n",
    "    for i in next_item:\n",
    "        if i % 2 == 1:\n",
    "            total_so_far += i\n",
    "            \n",
    "    return total_so_far\n",
    "\n",
    "sum_of_odds = reduce(add_odd_numbers, lists, 0) # here notice 0 is specified as initial value, because first item is a [], but result will be an int\n",
    "print(\"sum_of_odds:\", sum_of_odds)"
   ]
  },
  {
   "cell_type": "code",
   "execution_count": null,
   "metadata": {},
   "outputs": [],
   "source": [
    "lists = [[1,2,3], [1,1,1,1], [1,8], [0]]\n",
    "\n",
    "def keep_highest_sub_item(total_so_far, next_item):\n",
    "    if max(next_item) > total_so_far:\n",
    "        return max(next_item)\n",
    "    else:\n",
    "        return total_so_far \n",
    "\n",
    "highest_sub_item = reduce(keep_highest_sub_item, lists, 0) # here notice 0 is specified as initial value, because first item is a [], but result will be an int\n",
    "print(\"highest_sub_item:\", highest_sub_item)"
   ]
  },
  {
   "cell_type": "code",
   "execution_count": null,
   "metadata": {},
   "outputs": [],
   "source": [
    "cities = [  {\"name\":\"Edinburgh\",  \"population\":500000, \"area\":264},\n",
    "            {\"name\":\"Glasgow\",  \"population\":600000, \"area\":175},\n",
    "            {\"name\":\"Inverness\", \"population\":50000, \"area\":20}\n",
    "         ]\n",
    "\n",
    "def add_populations(total_so_far, next_item):\n",
    "    return total_so_far + next_item['population']\n",
    "    \n",
    "sum_populations = reduce(add_populations, cities, 0) # here notice 0 is specified as initial value, because first item is a {}, but result will be an int\n",
    "print(\"sum_populations:\", sum_populations)\n"
   ]
  },
  {
   "cell_type": "markdown",
   "metadata": {},
   "source": [
    "# Recap: Shorter one-line ways to write code you already know:"
   ]
  },
  {
   "cell_type": "markdown",
   "metadata": {},
   "source": [
    "## Ternary operator - a simplified one-liner if-else statement"
   ]
  },
  {
   "cell_type": "markdown",
   "metadata": {},
   "source": [
    "Syntax is: \n",
    "\n",
    "```value_if_true if condition else value_if_false```\n",
    "\n",
    "Use it only if your code is still readable."
   ]
  },
  {
   "cell_type": "code",
   "execution_count": null,
   "metadata": {},
   "outputs": [],
   "source": [
    "print( 'even' if 7 % 2 == 0 else 'odd')\n",
    "print( 'even' if 8 % 2 == 0 else 'odd')"
   ]
  },
  {
   "cell_type": "markdown",
   "metadata": {},
   "source": [
    "# Lambdas (or lambda functions) - a short syntax for defining functions, really common for Sort, Map, Filter, Reduce\n",
    "\n",
    "### Lambdas are to functions, what ternary is to if-else: a short, one-line version of the same thing"
   ]
  },
  {
   "cell_type": "markdown",
   "metadata": {},
   "source": [
    "The way we will learn Lambda Functions (and the way they are used in Python) they will be primarilly a syntactic sugar. But in reality Lambda functions are a whole new philosophy of programming, substantial to Functional Programming, Cloud Architecture and Serverless Infrastructure.\n",
    "\n",
    "You can read up on it a bit more but when used to their full potential Lambda functions are a way to program without Variables or Loops. Which is completely wild and revolutionally, and indeed has changed the way we build software in the last 10 years. Even thou the science foundations for it were layed down in early XX century alongside Turing machine, but in some ways in opposition to it.\n",
    "\n",
    "...but in this course, we'll only learn Lambdas as syntactic sugar - a nicer and simpler way to build something we already know."
   ]
  },
  {
   "cell_type": "markdown",
   "metadata": {},
   "source": [
    "**Lambda functions are simplified functions that each do one very small thing**. Many functions we wrote so far can be simplified as lambdas. Lambdas take a number of arguments, perform a calculation and immediately return a value. Lambda functions can only have one line of code and there are no statements in there - just one calculation, result of which is immediately returned. \n",
    "\n",
    "Lambda functions are either used once and discarded, or kept in variables (like you would hold a string or a List)\n",
    "\n",
    "```variable_holding_function =     ( lambda inputs: output  )```\n",
    "\n",
    "```add_nums =     ( lambda a,b,c : a+b+c  )```\n",
    "\n",
    "```are_the_same = ( lambda a,b,c : a==b and b==c  )```\n",
    "\n",
    "And the you can call the function in a typical way:\n",
    "\n",
    "```variable_holding_function( some_input )```\n",
    "\n",
    "```add_nums(3,4,7)```\n",
    "\n",
    "```are_the_same(\"plum\",\"plum\",\"plum\")```"
   ]
  },
  {
   "cell_type": "code",
   "execution_count": null,
   "metadata": {},
   "outputs": [],
   "source": [
    "# normal function definition:\n",
    "def add_numbers(num_1, num_2):\n",
    "    return num_1 + num_2\n",
    "\n",
    "print( add_numbers(3,4) )"
   ]
  },
  {
   "cell_type": "code",
   "execution_count": null,
   "metadata": {},
   "outputs": [],
   "source": [
    "# when I define a lambda funtion, I specify its inputs and output\n",
    "add_lambda = (lambda num_1, num_2: num_1 + num_2)\n",
    "print( add_lambda(3,4) )"
   ]
  },
  {
   "cell_type": "code",
   "execution_count": null,
   "metadata": {},
   "outputs": [],
   "source": [
    "# when I define an add_numbers function, it's almost as if I've put its behaviour in an add_numbers variable\n",
    "def are_the_same(num_1, num_2, num_3):\n",
    "    return num_1==num_2 and num_2==num_3 \n",
    "\n",
    "print( are_the_same(3, 4, 3) )"
   ]
  },
  {
   "cell_type": "code",
   "execution_count": null,
   "metadata": {},
   "outputs": [],
   "source": [
    "# when I define a lambda funtion, I specify its inputs and output\n",
    "are_the_same_lambda =  ( lambda num_1, num_2, num_3 : num_1==num_2 and num_2==num_3   )\n",
    "print( are_the_same_lambda(3, 4, 3) )"
   ]
  },
  {
   "cell_type": "code",
   "execution_count": null,
   "metadata": {},
   "outputs": [],
   "source": [
    "def add_one(x):\n",
    "    return x + 1\n",
    "\n",
    "print( add_one(7))"
   ]
  },
  {
   "cell_type": "code",
   "execution_count": null,
   "metadata": {},
   "outputs": [],
   "source": [
    "add_one_another = (lambda x: x + 1)\n",
    "print( add_one_another(7))"
   ]
  },
  {
   "cell_type": "markdown",
   "metadata": {},
   "source": [
    "Brackets around a lambda are optional:"
   ]
  },
  {
   "cell_type": "code",
   "execution_count": null,
   "metadata": {},
   "outputs": [],
   "source": [
    "full_name = lambda first, last: f'{first.title()} {last.title()}'\n",
    "full_name('Sue', 'Copolla')"
   ]
  },
  {
   "cell_type": "markdown",
   "metadata": {},
   "source": [
    "### 'iffy' lambdas - Immediately Invoked Function Expression (IIFE)\n"
   ]
  },
  {
   "cell_type": "markdown",
   "metadata": {},
   "source": [
    "Indeed Lambdas are so simple, that often they are immiediately used once and then discarded"
   ]
  },
  {
   "cell_type": "code",
   "execution_count": null,
   "metadata": {},
   "outputs": [],
   "source": [
    "# instead of holding lambda in a vatriable like this\n",
    "add = (lambda x, y: x + y)\n",
    "add(2, 3)"
   ]
  },
  {
   "cell_type": "code",
   "execution_count": null,
   "metadata": {},
   "outputs": [],
   "source": [
    "# you can immediately use the lambda (useful if you only do it once!)\n",
    "(lambda x, y: x + y)(2, 3)"
   ]
  },
  {
   "cell_type": "code",
   "execution_count": null,
   "metadata": {},
   "outputs": [],
   "source": [
    "# instead of\n",
    "sum_of_list = (lambda a_list: sum(a_list))\n",
    "print( sum_of_list([1,2,3,4,5]) )"
   ]
  },
  {
   "cell_type": "code",
   "execution_count": null,
   "metadata": {},
   "outputs": [],
   "source": [
    "# you could immediately use it:\n",
    "print( (lambda a_list: sum(a_list))([1,2,3,4,5]) )"
   ]
  },
  {
   "cell_type": "markdown",
   "metadata": {},
   "source": [
    "As you noticed **Lambda functions can very quickly become completely unreadable** and hence should be used with caution and only if it is clear what they do."
   ]
  },
  {
   "cell_type": "code",
   "execution_count": null,
   "metadata": {},
   "outputs": [],
   "source": [
    "# Single Expression, but can be split into two lines for readability:\n",
    "\n",
    "is_odd = (lambda x: \n",
    "          'even' if x % 2 == 0 else 'odd')\n",
    "\n",
    "print(is_odd(3))\n",
    "print(is_odd(4))"
   ]
  },
  {
   "cell_type": "code",
   "execution_count": null,
   "metadata": {},
   "outputs": [],
   "source": [
    "# like other functions, lambdas can have named arguments and default values\n",
    "\n",
    "(lambda a,b,c: a+b+c)(1, 2, 3)"
   ]
  },
  {
   "cell_type": "code",
   "execution_count": null,
   "metadata": {},
   "outputs": [],
   "source": [
    "(lambda a,b,c=7: a+b+c)(1, 2)"
   ]
  },
  {
   "cell_type": "code",
   "execution_count": null,
   "metadata": {},
   "outputs": [],
   "source": [
    "(lambda a,b,c=7: a+b+c)(1, b=2)"
   ]
  },
  {
   "cell_type": "code",
   "execution_count": null,
   "metadata": {},
   "outputs": [],
   "source": [
    "# next three examples are very advanced (they use *  and **) feel free to skip them\n",
    "\n",
    "# you can also use the * and ** explode operators, these are very advanced. \n",
    "(lambda *args: sum(args))(1,2,3)"
   ]
  },
  {
   "cell_type": "code",
   "execution_count": null,
   "metadata": {},
   "outputs": [],
   "source": [
    "(lambda **kwargs: sum(kwargs.values()))(one=1, two=2, three=3)"
   ]
  },
  {
   "cell_type": "code",
   "execution_count": null,
   "metadata": {},
   "outputs": [],
   "source": [
    "# and the very advanced and new * syntax that forces all arguments after it to be named:  \n",
    "(lambda x, *, y=0, z=0: x + y + z)(1, y=2, z=3)"
   ]
  },
  {
   "cell_type": "markdown",
   "metadata": {},
   "source": [
    "## Using Lambdas for Sorted, Map, Filter and Reduce "
   ]
  },
  {
   "cell_type": "markdown",
   "metadata": {},
   "source": [
    "Works just the same as we practiced before, but instead of defining a function separately and then passing its name into the function, we define and pass lambda in one go:"
   ]
  },
  {
   "cell_type": "code",
   "execution_count": 4,
   "metadata": {},
   "outputs": [
    {
     "name": "stdout",
     "output_type": "stream",
     "text": [
      "[{'name': 'Inverness', 'population': 50000, 'area': 20}, {'name': 'Edinburgh', 'population': 500000, 'area': 264}, {'name': 'Glasgow', 'population': 600000, 'area': 175}]\n"
     ]
    }
   ],
   "source": [
    "cities = [  {\"name\":\"Edinburgh\",  \"population\":500000, \"area\":264},\n",
    "            {\"name\":\"Glasgow\",  \"population\":600000, \"area\":175},\n",
    "            {\"name\":\"Inverness\", \"population\":50000, \"area\":20}\n",
    "         ]\n",
    "\n",
    "# SORT\n",
    "sorted_by_population = sorted(cities, key= (lambda city: city['population']) )\n",
    "print(sorted_by_population)\n"
   ]
  },
  {
   "cell_type": "code",
   "execution_count": 5,
   "metadata": {},
   "outputs": [
    {
     "name": "stdout",
     "output_type": "stream",
     "text": [
      "[264, 175, 20]\n"
     ]
    }
   ],
   "source": [
    "# MAP\n",
    "just_areas = list( map((lambda city: city['area']), cities))\n",
    "print(just_areas)"
   ]
  },
  {
   "cell_type": "code",
   "execution_count": 6,
   "metadata": {},
   "outputs": [
    {
     "name": "stdout",
     "output_type": "stream",
     "text": [
      "[{'name': 'Inverness', 'population': 50000, 'area': 20}]\n"
     ]
    }
   ],
   "source": [
    "# FILTER\n",
    "under_100_area = list( filter((lambda city: city['area'] < 100), cities))\n",
    "print(under_100_area)"
   ]
  },
  {
   "cell_type": "code",
   "execution_count": 8,
   "metadata": {},
   "outputs": [
    {
     "name": "stdout",
     "output_type": "stream",
     "text": [
      "459\n"
     ]
    }
   ],
   "source": [
    "# REDUCE\n",
    "from functools import reduce\n",
    "\n",
    "total_areas = reduce((lambda total, item: total + item['area']), cities, 0)\n",
    "print(total_areas)"
   ]
  },
  {
   "cell_type": "markdown",
   "metadata": {},
   "source": [
    "We will not go into any more details about lambdas, but they provide us with a very quick and short way to define functions on the fly and use them.\n",
    "\n",
    "That's useful when you are doing something just once, for example, in the higher order functions."
   ]
  },
  {
   "cell_type": "markdown",
   "metadata": {},
   "source": [
    "## ⭐️⭐️⭐️💥 What you learned in this session: Three stars and a wish \n",
    "**In yoru own words** write in your Learn diary:\n",
    "\n",
    "- 3 things you yould like to remember from this badge\n",
    "- 1 thing you wish to understand better in the future or a question you'd like to ask\n"
   ]
  },
  {
   "cell_type": "markdown",
   "metadata": {},
   "source": [
    "# ⛏  Minitasks: For below tasks solve them usign three methods each: for loop, list comprehension, higher order function\n",
    "\n",
    "# Task 1: represent a list of words as a list of their first characters,  if words are longer than 11 characters (solved)"
   ]
  },
  {
   "cell_type": "code",
   "execution_count": 14,
   "metadata": {},
   "outputs": [
    {
     "name": "stdout",
     "output_type": "stream",
     "text": [
      "['B', 'B', 'C', 'C', 'E', 'G', 'H', 'J', 'P', 'P', 'P', 'P', 'S', 'S']\n"
     ]
    }
   ],
   "source": [
    "# Represent a list of words as a list of their first characters, if words are longer than 11 characters\n",
    "\n",
    "fruits = [\"Apple\", \"Apricots\", \"Avocado\", \"Banana\", \"Blackberries\", \"Blackcurrant\", \"Blueberries\", \"Breadfruit\", \"Cantaloupe\", \"Carambola\", \"Cherimoya\", \"Cherries\", \"Clementine\", \"Coconut Meat\", \"Cranberries\", \"Custard-Apple\", \"Date Fruit\", \"Durian\", \"Elderberries\", \"Feijoa\", \"Figs\", \"Gooseberries\", \"Grapefruit\", \"Grapes\", \"Guava\", \"Honeydew Melon\", \"Jackfruit\", \"Java-Plum\", \"Jujube Fruit\", \"Kiwifruit\", \"Kumquat\", \"Lemon\", \"Lime\", \"Longan\", \"Loquat\", \"Lychee\", \"Mandarin\", \"Mango\", \"Mangosteen\", \"Mulberries\", \"Nectarine\", \"Olives\", \"Orange\", \"Papaya\", \"Passion Fruit\", \"Peaches\", \"Pear\", \"Persimmon – Japanese\", \"Pitaya (Dragonfruit)\", \"Pineapple\", \"Pitanga\", \"Plantain\", \"Plums\", \"Pomegranate\", \"Prickly Pear\", \"Prunes\", \"Pummelo\", \"Quince\", \"Raspberries\", \"Rhubarb\", \"Rose-Apple\", \"Sapodilla\", \"Sapote, Mamey\", \"Soursop\", \"Strawberries\", \"Sugar-Apple\", \"Tamarind\", \"Tangerine\", \"Watermelon\"]\n",
    "\n",
    "# with a loop\n",
    "\n",
    "def just_first_letters(words):\n",
    "    first_chars = []\n",
    "    for word in words:\n",
    "        if len(word) > 11:\n",
    "            first_chars.append(word[0])\n",
    "    return first_chars\n",
    "\n",
    "print(just_first_letters(fruits)) # so that you see what you have made\n",
    "assert just_first_letters(fruits) == ['B', 'B', 'C', 'C', 'E', 'G', 'H', 'J', 'P', 'P', 'P', 'P', 'S', 'S']\n",
    "print(\"tests passed\")"
   ]
  },
  {
   "cell_type": "code",
   "execution_count": 15,
   "metadata": {},
   "outputs": [
    {
     "name": "stdout",
     "output_type": "stream",
     "text": [
      "['B', 'B', 'C', 'C', 'E', 'G', 'H', 'J', 'P', 'P', 'P', 'P', 'S', 'S']\n"
     ]
    }
   ],
   "source": [
    "# with a list comprehension\n",
    "\n",
    "def just_first_letters(words):\n",
    "    return [ word[0]\n",
    "             for word in words\n",
    "             if len(word) > 11]\n",
    "\n",
    "print(just_first_letters(fruits)) # so that you see what you have made\n",
    "assert just_first_letters(fruits) == ['B', 'B', 'C', 'C', 'E', 'G', 'H', 'J', 'P', 'P', 'P', 'P', 'S', 'S']\n",
    "print(\"tests passed\")"
   ]
  },
  {
   "cell_type": "code",
   "execution_count": null,
   "metadata": {},
   "outputs": [],
   "source": [
    "# with a higher order function\n",
    "\n",
    "def just_first_letters(words):\n",
    "    just_long_words = list(filter( lambda word: len(word) > 11 , words))\n",
    "    return list(map(  lambda word: word[0] , just_long_words ))\n",
    "\n",
    "#   OR THE TERRIFYING AND UNREADABLE NESTED VERSION (don't do this at home) \n",
    "#     def just_first_letters(words):\n",
    "#          return list(map(  lambda w: w[0] , list(filter( lambda w: len(w) > 10 , words)) ))\n",
    "\n",
    "print(just_first_letters(fruits)) # so that you see what you have made\n",
    "assert just_first_letters(fruits) == ['B', 'B', 'C', 'C', 'E', 'G', 'H', 'J', 'P', 'P', 'P', 'P', 'S', 'S']\n",
    "print(\"tests passed\")"
   ]
  },
  {
   "cell_type": "markdown",
   "metadata": {},
   "source": [
    "Out of the three solutions above, which one did you find:\n",
    "\n",
    "- easiest to read (and possibly write)\n",
    "- simplest to understand and explain"
   ]
  },
  {
   "cell_type": "markdown",
   "metadata": {},
   "source": [
    "\n",
    "# Task 2: Represent a list words as a list of their lengths"
   ]
  },
  {
   "cell_type": "code",
   "execution_count": 17,
   "metadata": {},
   "outputs": [
    {
     "ename": "IndentationError",
     "evalue": "expected an indented block (534173463.py, line 8)",
     "output_type": "error",
     "traceback": [
      "\u001b[0;36m  File \u001b[0;32m\"/var/folders/3h/g_yzkj190_36rwj922rrn1nm0000gn/T/ipykernel_75421/534173463.py\"\u001b[0;36m, line \u001b[0;32m8\u001b[0m\n\u001b[0;31m    assert words_as_lengths(fruits) == [5, 8, 7, 6, 12, 12]\u001b[0m\n\u001b[0m    ^\u001b[0m\n\u001b[0;31mIndentationError\u001b[0m\u001b[0;31m:\u001b[0m expected an indented block\n"
     ]
    }
   ],
   "source": [
    "# Represent a list words as a list of their lengths\n",
    "fruits = [\"Apple\", \"Apricots\", \"Avocado\", \"Banana\", \"Blackberries\", \"Blackcurrant\"]\n",
    "\n",
    "\n",
    "def words_as_lengths(words):\n",
    "    # with a loop\n",
    "\n",
    "print(words_as_lengths(fruits)) # so that you see what you have made\n",
    "assert words_as_lengths(fruits) == [5, 8, 7, 6, 12, 12]\n",
    "print(\"tests passed\")"
   ]
  },
  {
   "cell_type": "code",
   "execution_count": null,
   "metadata": {},
   "outputs": [],
   "source": [
    "def words_as_lengths(words):\n",
    "    # with a list comp\n",
    "\n",
    "print(words_as_lengths(fruits)) # so that you see what you have made\n",
    "assert words_as_lengths(fruits) == [5, 8, 7, 6, 12, 12]\n",
    "print(\"tests passed\")"
   ]
  },
  {
   "cell_type": "code",
   "execution_count": null,
   "metadata": {},
   "outputs": [],
   "source": [
    "def words_as_lengths(words):\n",
    "    # with a higher order function\n",
    "\n",
    "print(words_as_lengths(fruits)) # so that you see what you have made\n",
    "assert words_as_lengths(fruits) == [5, 8, 7, 6, 12, 12]\n",
    "print(\"tests passed\")"
   ]
  },
  {
   "cell_type": "markdown",
   "metadata": {},
   "source": [
    "# Task 3: Create a smaller set of words only with words which have a letter 'a' and letter 'e'. Remember to ignore case."
   ]
  },
  {
   "cell_type": "code",
   "execution_count": null,
   "metadata": {},
   "outputs": [],
   "source": [
    "# create a smaller set of words only with words have a letter 'a' and letter 'e'. Remember to ignore case.\n",
    "fruits = [\"Apple\", \"Apricots\", \"Avocado\", \"Banana\", \"Blackberries\", \"Blackcurrant\", \"Blueberries\", \"Breadfruit\"]\n",
    "\n",
    "def words_with_a_and_e(words):\n",
    "    # with a loop\n",
    "\n",
    "assert words_with_a_and_e(fruits) == ['Apple', 'Blackberries', 'Breadfruit']"
   ]
  },
  {
   "cell_type": "code",
   "execution_count": null,
   "metadata": {},
   "outputs": [],
   "source": [
    "def words_with_a_and_e(words):\n",
    "    # with a list comp\n",
    "\n",
    "assert words_with_a_and_e(fruits) == ['Apple', 'Blackberries', 'Breadfruit']"
   ]
  },
  {
   "cell_type": "code",
   "execution_count": null,
   "metadata": {},
   "outputs": [],
   "source": [
    "def words_with_a_and_e(words):\n",
    "    # with a higher order function\n",
    "\n",
    "assert words_with_a_and_e(fruits) == ['Apple', 'Blackberries', 'Breadfruit']"
   ]
  },
  {
   "cell_type": "markdown",
   "metadata": {},
   "source": [
    "# Task 4: Create a function that returns a number of VOWELS in a word  (letters 'a','e','i','o','u','y') \n",
    "\n",
    "- please always consider y a vowel (technically in English y is not a vowel at the beginings of words, like 'yellow', but that would unneceserily complicate things). \n",
    "\n",
    "Remember about capital letters!\n",
    "\n",
    "eg. banana has 3 vovels.\n",
    "eg. plum has 1 vovel"
   ]
  },
  {
   "cell_type": "code",
   "execution_count": null,
   "metadata": {},
   "outputs": [],
   "source": [
    "# here's a handy method you could use, but you can also change it or make your own\n",
    "def is_a_vowel(letter):\n",
    "    return letter.lower() in ['a','e','i','o','u','y']\n",
    "\n",
    "assert is_a_vowel('o') == True\n",
    "assert is_a_vowel('A') == True\n",
    "assert is_a_vowel('g') == False"
   ]
  },
  {
   "cell_type": "code",
   "execution_count": null,
   "metadata": {},
   "outputs": [],
   "source": [
    "\n",
    "\n",
    "def number_of_vowels(word):\n",
    "    # with a loop\n",
    "\n",
    "print(number_of_vowels('Orange'))\n",
    "assert number_of_vowels('Orange') == 3"
   ]
  },
  {
   "cell_type": "code",
   "execution_count": null,
   "metadata": {},
   "outputs": [],
   "source": [
    "def number_of_vowels(word):\n",
    "    # with a list comprehension\n",
    "\n",
    "\n",
    "print(number_of_vowels('Orange'))              \n",
    "assert number_of_vowels('Orange') == 3"
   ]
  },
  {
   "cell_type": "code",
   "execution_count": null,
   "metadata": {},
   "outputs": [],
   "source": [
    "from functools import reduce\n",
    "\n",
    "def number_of_vowels(word):\n",
    "    # with a higher order function\n",
    "\n",
    "print(number_of_vowels('Orange'))\n",
    "assert number_of_vowels('Orange') == 3"
   ]
  },
  {
   "cell_type": "markdown",
   "metadata": {},
   "source": [
    "# Task 5+  Take on some extra challanges and try to complete them by yourself:\n",
    "\n",
    "- Write a few functions which take a set of words and sort them in a number of ways. eg. by length, alphabetocally, but their last letter alphabetically, by number of vovels (maybe somehow by calling your above function?)\n",
    "- Take a set of objects, maybe the cards given before and try to filter, map and sort them in different ways. eg. only keep cards higher than 7, only keep red cards (Heart and Diamond), keep odd numbered cards (3,5,7,9), and try sorting them in a number of ways.\n",
    "- anything else that comes to your mind\n",
    "\n",
    "Consider writing prints and tests before solving the puzzles!"
   ]
  },
  {
   "cell_type": "code",
   "execution_count": null,
   "metadata": {},
   "outputs": [],
   "source": []
  },
  {
   "cell_type": "code",
   "execution_count": null,
   "metadata": {},
   "outputs": [],
   "source": []
  },
  {
   "cell_type": "code",
   "execution_count": null,
   "metadata": {},
   "outputs": [],
   "source": []
  },
  {
   "cell_type": "code",
   "execution_count": null,
   "metadata": {},
   "outputs": [],
   "source": []
  },
  {
   "cell_type": "code",
   "execution_count": null,
   "metadata": {},
   "outputs": [],
   "source": []
  }
 ],
 "metadata": {
  "kernelspec": {
   "display_name": "Python 3 (ipykernel)",
   "language": "python",
   "name": "python3"
  },
  "language_info": {
   "codemirror_mode": {
    "name": "ipython",
    "version": 3
   },
   "file_extension": ".py",
   "mimetype": "text/x-python",
   "name": "python",
   "nbconvert_exporter": "python",
   "pygments_lexer": "ipython3",
   "version": "3.9.7"
  }
 },
 "nbformat": 4,
 "nbformat_minor": 2
}
